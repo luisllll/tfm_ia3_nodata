{
  "cells": [
    {
      "cell_type": "markdown",
      "metadata": {
        "id": "lHecaO_7JG6L"
      },
      "source": [
        "# F. Analyse sentiment by sentence\n",
        "## Import necessary libraries"
      ]
    },
    {
      "cell_type": "code",
      "execution_count": 40,
      "metadata": {
        "colab": {
          "base_uri": "https://localhost:8080/"
        },
        "id": "pYiY1suXzjKg",
        "outputId": "8568bd49-c8ab-4d9c-8733-c046c54963ef"
      },
      "outputs": [
        {
          "name": "stderr",
          "output_type": "stream",
          "text": [
            "[nltk_data] Downloading package stopwords to\n",
            "[nltk_data]     C:\\Users\\Luis\\AppData\\Roaming\\nltk_data...\n",
            "[nltk_data]   Package stopwords is already up-to-date!\n",
            "[nltk_data] Downloading package punkt to\n",
            "[nltk_data]     C:\\Users\\Luis\\AppData\\Roaming\\nltk_data...\n",
            "[nltk_data]   Package punkt is already up-to-date!\n",
            "[nltk_data] Downloading package wordnet to\n",
            "[nltk_data]     C:\\Users\\Luis\\AppData\\Roaming\\nltk_data...\n",
            "[nltk_data]   Package wordnet is already up-to-date!\n"
          ]
        }
      ],
      "source": [
        "# Python libraries\n",
        "import datetime as dt\n",
        "import re\n",
        "import pickle\n",
        "from tqdm.notebook import tqdm\n",
        "import os\n",
        "import sys\n",
        "import time\n",
        "import logging\n",
        "import random\n",
        "from collections import defaultdict, Counter\n",
        "\n",
        "# Data Science modules\n",
        "import numpy as np\n",
        "import pandas as pd\n",
        "import matplotlib.pyplot as plt\n",
        "import seaborn as sns; sns.set()\n",
        "plt.style.use('ggplot')\n",
        "\n",
        "\n",
        "# Import nltk modules and download dataset\n",
        "import nltk\n",
        "from nltk.corpus import stopwords\n",
        "from nltk.util import ngrams\n",
        "from nltk.tokenize import word_tokenize, sent_tokenize\n",
        "\n",
        "nltk.download('stopwords')\n",
        "nltk.download('punkt')\n",
        "nltk.download('wordnet')\n",
        "\n",
        "stop = set(stopwords.words('english'))\n",
        "\n",
        "# Import Pytorch modules\n",
        "import torch\n",
        "from torch import nn, optim\n",
        "import torch.nn.functional as F\n",
        "from torch.utils.data import (DataLoader, RandomSampler, SequentialSampler, TensorDataset)\n",
        "from torch.autograd import Variable\n",
        "from torch.optim import Adam, AdamW"
      ]
    },
    {
      "cell_type": "code",
      "execution_count": 41,
      "metadata": {
        "id": "C-37Bpnkw5pT"
      },
      "outputs": [],
      "source": [
        "# Set logger\n",
        "logger = logging.getLogger('mylogger')\n",
        "logger.setLevel(logging.INFO)\n",
        "\n",
        "timestamp = time.strftime(\"%Y.%m.%d_%H.%M.%S\", time.localtime())\n",
        "formatter = logging.Formatter('[%(asctime)s][%(levelname)s] ## %(message)s')\n",
        "\n",
        "fh = logging.FileHandler('log_model.txt')\n",
        "fh.setLevel(logging.DEBUG)\n",
        "fh.setFormatter(formatter)\n",
        "logger.addHandler(fh)\n",
        "\n",
        "ch = logging.StreamHandler()\n",
        "ch.setLevel(logging.INFO)\n",
        "ch.setFormatter(formatter)\n",
        "logger.addHandler(ch)"
      ]
    },
    {
      "cell_type": "code",
      "execution_count": 42,
      "metadata": {
        "id": "PYf9oi6fw5pV"
      },
      "outputs": [],
      "source": [
        "# Set Random Seed\n",
        "random.seed(42)\n",
        "np.random.seed(42)\n",
        "torch.manual_seed(42)\n",
        "torch.cuda.manual_seed(42)\n",
        "rand_seed = 42"
      ]
    },
    {
      "cell_type": "code",
      "execution_count": 43,
      "metadata": {
        "id": "Cb55v8tkw5pX"
      },
      "outputs": [],
      "source": [
        "# Set Seaborn Style\n",
        "sns.set(style='white', context='notebook', palette='deep')"
      ]
    },
    {
      "cell_type": "markdown",
      "metadata": {
        "id": "uSVVc9rew5pd"
      },
      "source": [
        "## Load and process input data"
      ]
    },
    {
      "cell_type": "markdown",
      "metadata": {
        "id": "HoINpzkh_i_K"
      },
      "source": [
        "Check the texts which is filtered by keyword as well"
      ]
    },
    {
      "cell_type": "code",
      "execution_count": 44,
      "metadata": {
        "id": "8UgJAxAcw5pk"
      },
      "outputs": [],
      "source": [
        "# Load text data\n",
        "file = open('C:/Users/Luis/Desktop/personal/tfm_ia3_nodata/data/preprocessed/text_no_split.pickle', 'rb') # Original text\n",
        "text_no_split = pickle.load(file)\n",
        "file.close()\n",
        "\n",
        "file = open('C:/Users/Luis/Desktop/personal/tfm_ia3_nodata/data/preprocessed/text_keyword.pickle', 'rb') # Paragraphs filtered for those having keywords\n",
        "text_keyword = pickle.load(file)\n",
        "file.close()"
      ]
    },
    {
      "cell_type": "code",
      "execution_count": 45,
      "metadata": {
        "colab": {
          "base_uri": "https://localhost:8080/",
          "height": 708
        },
        "id": "Vw7FJtqEw5pm",
        "outputId": "3f9be6ef-cd76-4d7c-87e5-ce934c943037"
      },
      "outputs": [
        {
          "data": {
            "text/html": [
              "<div>\n",
              "<style scoped>\n",
              "    .dataframe tbody tr th:only-of-type {\n",
              "        vertical-align: middle;\n",
              "    }\n",
              "\n",
              "    .dataframe tbody tr th {\n",
              "        vertical-align: top;\n",
              "    }\n",
              "\n",
              "    .dataframe thead th {\n",
              "        text-align: right;\n",
              "    }\n",
              "</style>\n",
              "<table border=\"1\" class=\"dataframe\">\n",
              "  <thead>\n",
              "    <tr style=\"text-align: right;\">\n",
              "      <th></th>\n",
              "      <th>type</th>\n",
              "      <th>date</th>\n",
              "      <th>title</th>\n",
              "      <th>speaker</th>\n",
              "      <th>word_count</th>\n",
              "      <th>decision</th>\n",
              "      <th>rate</th>\n",
              "      <th>next_meeting</th>\n",
              "      <th>next_decision</th>\n",
              "      <th>next_rate</th>\n",
              "      <th>text</th>\n",
              "    </tr>\n",
              "  </thead>\n",
              "  <tbody>\n",
              "    <tr>\n",
              "      <th>0</th>\n",
              "      <td>statement</td>\n",
              "      <td>1994-02-04</td>\n",
              "      <td>FOMC Statement</td>\n",
              "      <td>Alan Greenspan</td>\n",
              "      <td>99</td>\n",
              "      <td>1</td>\n",
              "      <td>3.25</td>\n",
              "      <td>1994-02-28</td>\n",
              "      <td>0</td>\n",
              "      <td>3.25</td>\n",
              "      <td>Chairman Alan Greenspan announced today that t...</td>\n",
              "    </tr>\n",
              "    <tr>\n",
              "      <th>1</th>\n",
              "      <td>statement</td>\n",
              "      <td>1994-03-22</td>\n",
              "      <td>FOMC Statement</td>\n",
              "      <td>Alan Greenspan</td>\n",
              "      <td>40</td>\n",
              "      <td>1</td>\n",
              "      <td>3.50</td>\n",
              "      <td>1994-04-18</td>\n",
              "      <td>1</td>\n",
              "      <td>3.75</td>\n",
              "      <td>Chairman Alan Greenspan announced today that t...</td>\n",
              "    </tr>\n",
              "    <tr>\n",
              "      <th>2</th>\n",
              "      <td>statement</td>\n",
              "      <td>1994-04-18</td>\n",
              "      <td>FOMC Statement</td>\n",
              "      <td>Alan Greenspan</td>\n",
              "      <td>37</td>\n",
              "      <td>1</td>\n",
              "      <td>3.75</td>\n",
              "      <td>1994-05-17</td>\n",
              "      <td>1</td>\n",
              "      <td>4.25</td>\n",
              "      <td>Chairman Alan Greenspan announced today that t...</td>\n",
              "    </tr>\n",
              "    <tr>\n",
              "      <th>3</th>\n",
              "      <td>statement</td>\n",
              "      <td>1994-05-17</td>\n",
              "      <td>FOMC Statement</td>\n",
              "      <td>Alan Greenspan</td>\n",
              "      <td>57</td>\n",
              "      <td>1</td>\n",
              "      <td>4.25</td>\n",
              "      <td>1994-07-06</td>\n",
              "      <td>0</td>\n",
              "      <td>4.25</td>\n",
              "      <td>In taking the discount action, the Board appro...</td>\n",
              "    </tr>\n",
              "    <tr>\n",
              "      <th>4</th>\n",
              "      <td>statement</td>\n",
              "      <td>1994-08-16</td>\n",
              "      <td>FOMC Statement</td>\n",
              "      <td>Alan Greenspan</td>\n",
              "      <td>51</td>\n",
              "      <td>1</td>\n",
              "      <td>4.75</td>\n",
              "      <td>1994-09-27</td>\n",
              "      <td>0</td>\n",
              "      <td>4.75</td>\n",
              "      <td>In taking the discount rate action, the Board ...</td>\n",
              "    </tr>\n",
              "  </tbody>\n",
              "</table>\n",
              "</div>"
            ],
            "text/plain": [
              "        type       date           title         speaker  word_count  decision  \\\n",
              "0  statement 1994-02-04  FOMC Statement  Alan Greenspan          99         1   \n",
              "1  statement 1994-03-22  FOMC Statement  Alan Greenspan          40         1   \n",
              "2  statement 1994-04-18  FOMC Statement  Alan Greenspan          37         1   \n",
              "3  statement 1994-05-17  FOMC Statement  Alan Greenspan          57         1   \n",
              "4  statement 1994-08-16  FOMC Statement  Alan Greenspan          51         1   \n",
              "\n",
              "   rate next_meeting next_decision  next_rate  \\\n",
              "0  3.25   1994-02-28             0       3.25   \n",
              "1  3.50   1994-04-18             1       3.75   \n",
              "2  3.75   1994-05-17             1       4.25   \n",
              "3  4.25   1994-07-06             0       4.25   \n",
              "4  4.75   1994-09-27             0       4.75   \n",
              "\n",
              "                                                text  \n",
              "0  Chairman Alan Greenspan announced today that t...  \n",
              "1  Chairman Alan Greenspan announced today that t...  \n",
              "2  Chairman Alan Greenspan announced today that t...  \n",
              "3  In taking the discount action, the Board appro...  \n",
              "4  In taking the discount rate action, the Board ...  "
            ]
          },
          "execution_count": 45,
          "metadata": {},
          "output_type": "execute_result"
        },
        {
          "data": {
            "image/png": "[encoded data removed]",
            "text/plain": [
              "<Figure size 1700x500 with 2 Axes>"
            ]
          },
          "metadata": {},
          "output_type": "display_data"
        }
      ],
      "source": [
        "# Check the number of records per document type\n",
        "def plot_num_rec_word(df):\n",
        "    fig, (ax1, ax2) = plt.subplots(1, 2, figsize=(17,5))\n",
        "    sns.countplot(x='type', data=df, ax=ax1)\n",
        "    ax1.set_title('The number of records (original)', fontsize=16)\n",
        "    ax1.tick_params('x', labelrotation=10)\n",
        "    sns.barplot(data=df, x='type', y='word_count', ax=ax2)\n",
        "    ax2.set_title('The number of words (original)', fontsize=16)\n",
        "    ax2.tick_params('x', labelrotation=10)\n",
        "\n",
        "# All texts\n",
        "plot_num_rec_word(text_no_split)\n",
        "text_no_split.head()"
      ]
    },
    {
      "cell_type": "code",
      "execution_count": 46,
      "metadata": {
        "colab": {
          "base_uri": "https://localhost:8080/",
          "height": 708
        },
        "id": "R8HWvS0q8vp5",
        "outputId": "1d278278-dd5c-4984-c206-28fd8f6c7a1f"
      },
      "outputs": [
        {
          "data": {
            "text/html": [
              "<div>\n",
              "<style scoped>\n",
              "    .dataframe tbody tr th:only-of-type {\n",
              "        vertical-align: middle;\n",
              "    }\n",
              "\n",
              "    .dataframe tbody tr th {\n",
              "        vertical-align: top;\n",
              "    }\n",
              "\n",
              "    .dataframe thead th {\n",
              "        text-align: right;\n",
              "    }\n",
              "</style>\n",
              "<table border=\"1\" class=\"dataframe\">\n",
              "  <thead>\n",
              "    <tr style=\"text-align: right;\">\n",
              "      <th></th>\n",
              "      <th>type</th>\n",
              "      <th>date</th>\n",
              "      <th>title</th>\n",
              "      <th>speaker</th>\n",
              "      <th>word_count</th>\n",
              "      <th>decision</th>\n",
              "      <th>rate</th>\n",
              "      <th>next_meeting</th>\n",
              "      <th>next_decision</th>\n",
              "      <th>next_rate</th>\n",
              "      <th>text</th>\n",
              "    </tr>\n",
              "  </thead>\n",
              "  <tbody>\n",
              "    <tr>\n",
              "      <th>0</th>\n",
              "      <td>statement</td>\n",
              "      <td>1994-05-17</td>\n",
              "      <td>FOMC Statement</td>\n",
              "      <td>Alan Greenspan</td>\n",
              "      <td>38</td>\n",
              "      <td>1</td>\n",
              "      <td>4.25</td>\n",
              "      <td>1994-07-06</td>\n",
              "      <td>0</td>\n",
              "      <td>4.25</td>\n",
              "      <td>The Board approved an increase in the discount...</td>\n",
              "    </tr>\n",
              "    <tr>\n",
              "      <th>1</th>\n",
              "      <td>statement</td>\n",
              "      <td>1994-11-15</td>\n",
              "      <td>FOMC Statement</td>\n",
              "      <td>Alan Greenspan</td>\n",
              "      <td>27</td>\n",
              "      <td>1</td>\n",
              "      <td>5.50</td>\n",
              "      <td>1994-12-20</td>\n",
              "      <td>0</td>\n",
              "      <td>5.50</td>\n",
              "      <td>In a related move, the Federal Open Market Com...</td>\n",
              "    </tr>\n",
              "    <tr>\n",
              "      <th>2</th>\n",
              "      <td>statement</td>\n",
              "      <td>1996-01-31</td>\n",
              "      <td>FOMC Statement</td>\n",
              "      <td>Alan Greenspan</td>\n",
              "      <td>403</td>\n",
              "      <td>-1</td>\n",
              "      <td>5.25</td>\n",
              "      <td>1996-03-26</td>\n",
              "      <td>0</td>\n",
              "      <td>5.25</td>\n",
              "      <td>For immediate releaseThe Federal Reserve today...</td>\n",
              "    </tr>\n",
              "    <tr>\n",
              "      <th>3</th>\n",
              "      <td>statement</td>\n",
              "      <td>1997-03-25</td>\n",
              "      <td>FOMC Statement</td>\n",
              "      <td>Alan Greenspan</td>\n",
              "      <td>432</td>\n",
              "      <td>1</td>\n",
              "      <td>5.50</td>\n",
              "      <td>1997-05-20</td>\n",
              "      <td>0</td>\n",
              "      <td>5.50</td>\n",
              "      <td>For immediate release\\tThe Federal Open Market...</td>\n",
              "    </tr>\n",
              "    <tr>\n",
              "      <th>4</th>\n",
              "      <td>statement</td>\n",
              "      <td>1998-09-29</td>\n",
              "      <td>FOMC Statement</td>\n",
              "      <td>Alan Greenspan</td>\n",
              "      <td>400</td>\n",
              "      <td>-1</td>\n",
              "      <td>5.25</td>\n",
              "      <td>1998-10-15</td>\n",
              "      <td>-1</td>\n",
              "      <td>5.00</td>\n",
              "      <td>For immediate releaseThe Federal Open Market C...</td>\n",
              "    </tr>\n",
              "  </tbody>\n",
              "</table>\n",
              "</div>"
            ],
            "text/plain": [
              "        type       date           title         speaker  word_count  decision  \\\n",
              "0  statement 1994-05-17  FOMC Statement  Alan Greenspan          38         1   \n",
              "1  statement 1994-11-15  FOMC Statement  Alan Greenspan          27         1   \n",
              "2  statement 1996-01-31  FOMC Statement  Alan Greenspan         403        -1   \n",
              "3  statement 1997-03-25  FOMC Statement  Alan Greenspan         432         1   \n",
              "4  statement 1998-09-29  FOMC Statement  Alan Greenspan         400        -1   \n",
              "\n",
              "   rate next_meeting next_decision  next_rate  \\\n",
              "0  4.25   1994-07-06             0       4.25   \n",
              "1  5.50   1994-12-20             0       5.50   \n",
              "2  5.25   1996-03-26             0       5.25   \n",
              "3  5.50   1997-05-20             0       5.50   \n",
              "4  5.25   1998-10-15            -1       5.00   \n",
              "\n",
              "                                                text  \n",
              "0  The Board approved an increase in the discount...  \n",
              "1  In a related move, the Federal Open Market Com...  \n",
              "2  For immediate releaseThe Federal Reserve today...  \n",
              "3  For immediate release\\tThe Federal Open Market...  \n",
              "4  For immediate releaseThe Federal Open Market C...  "
            ]
          },
          "execution_count": 46,
          "metadata": {},
          "output_type": "execute_result"
        },
        {
          "data": {
            "image/png": "[encoded data removed]",
            "text/plain": [
              "<Figure size 1700x500 with 2 Axes>"
            ]
          },
          "metadata": {},
          "output_type": "display_data"
        }
      ],
      "source": [
        "# Filtered by keywords\n",
        "plot_num_rec_word(text_keyword)\n",
        "text_keyword.head()"
      ]
    },
    {
      "cell_type": "code",
      "execution_count": 47,
      "metadata": {
        "id": "MyOa-NLLw5pr"
      },
      "outputs": [],
      "source": [
        "# # Drop meeting script data\n",
        "# text_no_split = text_no_split.loc[text_no_split['type'] != 'meeting_script']\n",
        "# text_split_200 = text_split_200.loc[text_split_200['type'] != 'meeting_script']\n",
        "# text_keyword = text_keyword.loc[text_keyword['type'] != 'meeting_script']"
      ]
    },
    {
      "cell_type": "markdown",
      "metadata": {
        "id": "4lNeHd26w5pw"
      },
      "source": [
        "### Select text dataframe\n",
        "Here, use all the texts but keywords filtere one would give better performance - to be checked."
      ]
    },
    {
      "cell_type": "code",
      "execution_count": 48,
      "metadata": {
        "colab": {
          "base_uri": "https://localhost:8080/",
          "height": 792,
          "referenced_widgets": [
            "ff2232e03db44ed0ad0bf0f2e630f335",
            "082f645b31bc40d0a3dcf67b61059fb0",
            "208d968a213e4e829cec9a2a0e469ee6",
            "c2a8e44bba374532a37f9c69f523cf22",
            "fe85484b95604f2291543aec427a3eac",
            "b5f3eda2ecaf46e9ac55abbc2bbc14fe",
            "7cbf4b07bf8b41e19fba653180871723",
            "3c9e21a611e24375a68a0c60a337e2ab",
            "4094de9e516b4598b70d0ac0f4285b6d",
            "4295b9b0b5f74359b34998ec4a354330",
            "6f3b2e7fc4aa4ddba98279aad4c8ea12"
          ]
        },
        "id": "ttLahD1n8vqA",
        "outputId": "de818839-199a-49d4-ef77-a463726203dc",
        "scrolled": false
      },
      "outputs": [
        {
          "name": "stdout",
          "output_type": "stream",
          "text": [
            "(4339, 11)\n"
          ]
        },
        {
          "data": {
            "application/vnd.jupyter.widget-view+json": {
              "model_id": "c1fe5fd71881416d8ffd8b9d983dbaca",
              "version_major": 2,
              "version_minor": 0
            },
            "text/plain": [
              "  0%|          | 0/9852 [00:00<?, ?it/s]"
            ]
          },
          "metadata": {},
          "output_type": "display_data"
        },
        {
          "name": "stdout",
          "output_type": "stream",
          "text": [
            "(4597, 11)\n"
          ]
        },
        {
          "data": {
            "text/html": [
              "<div>\n",
              "<style scoped>\n",
              "    .dataframe tbody tr th:only-of-type {\n",
              "        vertical-align: middle;\n",
              "    }\n",
              "\n",
              "    .dataframe tbody tr th {\n",
              "        vertical-align: top;\n",
              "    }\n",
              "\n",
              "    .dataframe thead th {\n",
              "        text-align: right;\n",
              "    }\n",
              "</style>\n",
              "<table border=\"1\" class=\"dataframe\">\n",
              "  <thead>\n",
              "    <tr style=\"text-align: right;\">\n",
              "      <th></th>\n",
              "      <th>type</th>\n",
              "      <th>date</th>\n",
              "      <th>title</th>\n",
              "      <th>speaker</th>\n",
              "      <th>word_count</th>\n",
              "      <th>decision</th>\n",
              "      <th>rate</th>\n",
              "      <th>next_meeting</th>\n",
              "      <th>next_decision</th>\n",
              "      <th>next_rate</th>\n",
              "      <th>text</th>\n",
              "    </tr>\n",
              "  </thead>\n",
              "  <tbody>\n",
              "    <tr>\n",
              "      <th>0</th>\n",
              "      <td>statement</td>\n",
              "      <td>1994-02-04</td>\n",
              "      <td>FOMC Statement</td>\n",
              "      <td>Alan Greenspan</td>\n",
              "      <td>99</td>\n",
              "      <td>1</td>\n",
              "      <td>3.25</td>\n",
              "      <td>1994-02-28</td>\n",
              "      <td>0</td>\n",
              "      <td>3.25</td>\n",
              "      <td>Chairman Alan Greenspan announced today that t...</td>\n",
              "    </tr>\n",
              "    <tr>\n",
              "      <th>1</th>\n",
              "      <td>statement</td>\n",
              "      <td>1994-03-22</td>\n",
              "      <td>FOMC Statement</td>\n",
              "      <td>Alan Greenspan</td>\n",
              "      <td>40</td>\n",
              "      <td>1</td>\n",
              "      <td>3.50</td>\n",
              "      <td>1994-04-18</td>\n",
              "      <td>1</td>\n",
              "      <td>3.75</td>\n",
              "      <td>Chairman Alan Greenspan announced today that t...</td>\n",
              "    </tr>\n",
              "    <tr>\n",
              "      <th>2</th>\n",
              "      <td>statement</td>\n",
              "      <td>1994-04-18</td>\n",
              "      <td>FOMC Statement</td>\n",
              "      <td>Alan Greenspan</td>\n",
              "      <td>37</td>\n",
              "      <td>1</td>\n",
              "      <td>3.75</td>\n",
              "      <td>1994-05-17</td>\n",
              "      <td>1</td>\n",
              "      <td>4.25</td>\n",
              "      <td>Chairman Alan Greenspan announced today that t...</td>\n",
              "    </tr>\n",
              "    <tr>\n",
              "      <th>3</th>\n",
              "      <td>statement</td>\n",
              "      <td>1994-05-17</td>\n",
              "      <td>FOMC Statement</td>\n",
              "      <td>Alan Greenspan</td>\n",
              "      <td>57</td>\n",
              "      <td>1</td>\n",
              "      <td>4.25</td>\n",
              "      <td>1994-07-06</td>\n",
              "      <td>0</td>\n",
              "      <td>4.25</td>\n",
              "      <td>In taking the discount action, the Board appro...</td>\n",
              "    </tr>\n",
              "    <tr>\n",
              "      <th>4</th>\n",
              "      <td>statement</td>\n",
              "      <td>1994-08-16</td>\n",
              "      <td>FOMC Statement</td>\n",
              "      <td>Alan Greenspan</td>\n",
              "      <td>51</td>\n",
              "      <td>1</td>\n",
              "      <td>4.75</td>\n",
              "      <td>1994-09-27</td>\n",
              "      <td>0</td>\n",
              "      <td>4.75</td>\n",
              "      <td>In taking the discount rate action, the Board ...</td>\n",
              "    </tr>\n",
              "  </tbody>\n",
              "</table>\n",
              "</div>"
            ],
            "text/plain": [
              "        type       date           title         speaker  word_count  decision  \\\n",
              "0  statement 1994-02-04  FOMC Statement  Alan Greenspan          99         1   \n",
              "1  statement 1994-03-22  FOMC Statement  Alan Greenspan          40         1   \n",
              "2  statement 1994-04-18  FOMC Statement  Alan Greenspan          37         1   \n",
              "3  statement 1994-05-17  FOMC Statement  Alan Greenspan          57         1   \n",
              "4  statement 1994-08-16  FOMC Statement  Alan Greenspan          51         1   \n",
              "\n",
              "   rate next_meeting next_decision  next_rate  \\\n",
              "0  3.25   1994-02-28             0       3.25   \n",
              "1  3.50   1994-04-18             1       3.75   \n",
              "2  3.75   1994-05-17             1       4.25   \n",
              "3  4.25   1994-07-06             0       4.25   \n",
              "4  4.75   1994-09-27             0       4.75   \n",
              "\n",
              "                                                text  \n",
              "0  Chairman Alan Greenspan announced today that t...  \n",
              "1  Chairman Alan Greenspan announced today that t...  \n",
              "2  Chairman Alan Greenspan announced today that t...  \n",
              "3  In taking the discount action, the Board appro...  \n",
              "4  In taking the discount rate action, the Board ...  "
            ]
          },
          "execution_count": 48,
          "metadata": {},
          "output_type": "execute_result"
        },
        {
          "data": {
            "image/png": "[encoded data removed]",
            "text/plain": [
              "<Figure size 1700x500 with 2 Axes>"
            ]
          },
          "metadata": {},
          "output_type": "display_data"
        }
      ],
      "source": [
        "def combine_meeting_script(df):\n",
        "    new_df = df.loc[df['type'] != 'meeting_script']\n",
        "    print(new_df.shape)\n",
        "    meeting_script_df = df.loc[df['type'] == 'meeting_script'].reset_index(drop=True)\n",
        "    data_list = []\n",
        "    for i, row in tqdm(meeting_script_df.iterrows(), total=meeting_script_df.shape[0]):\n",
        "        if i == 0:\n",
        "            prev_row = row\n",
        "            continue\n",
        "        if prev_row['date'].strftime('%Y-%m-%d') == row['date'].strftime('%Y-%m-%d'):\n",
        "            prev_row['text'] = prev_row['text'] + row['text']\n",
        "        else:\n",
        "            prev_row['speaker'] = \"\"\n",
        "            prev_row['word_count'] = len(re.findall(r'\\b([a-zA-Z]+n\\'t|[a-zA-Z]+\\'s|[a-zA-Z]+)\\b', prev_row['text']))\n",
        "            data_list.append(list(prev_row))\n",
        "            prev_row = row\n",
        "\n",
        "    prev_row['speaker'] = \"\"\n",
        "    prev_row['word_count'] = len(re.findall(r'\\b([a-zA-Z]+n\\'t|[a-zA-Z]+\\'s|[a-zA-Z]+)\\b', prev_row['text']))\n",
        "    data_list.append(list(prev_row))\n",
        "    new_meeting_script_df = pd.DataFrame(data_list, columns=df.columns)\n",
        "    new_df = pd.concat([new_df, new_meeting_script_df], axis=0)\n",
        "    print(new_df.shape)\n",
        "    return new_df\n",
        "\n",
        "train_df = combine_meeting_script(text_no_split)\n",
        "plot_num_rec_word(train_df)\n",
        "train_df.head()"
      ]
    },
    {
      "cell_type": "code",
      "execution_count": 49,
      "metadata": {
        "colab": {
          "base_uri": "https://localhost:8080/",
          "height": 206
        },
        "id": "sOJgGbwLiMs0",
        "outputId": "b203849e-31fb-4886-ba6c-47f827e42e28"
      },
      "outputs": [
        {
          "data": {
            "text/html": [
              "<div>\n",
              "<style scoped>\n",
              "    .dataframe tbody tr th:only-of-type {\n",
              "        vertical-align: middle;\n",
              "    }\n",
              "\n",
              "    .dataframe tbody tr th {\n",
              "        vertical-align: top;\n",
              "    }\n",
              "\n",
              "    .dataframe thead th {\n",
              "        text-align: right;\n",
              "    }\n",
              "</style>\n",
              "<table border=\"1\" class=\"dataframe\">\n",
              "  <thead>\n",
              "    <tr style=\"text-align: right;\">\n",
              "      <th></th>\n",
              "      <th>type</th>\n",
              "      <th>date</th>\n",
              "      <th>title</th>\n",
              "      <th>speaker</th>\n",
              "      <th>word_count</th>\n",
              "      <th>decision</th>\n",
              "      <th>rate</th>\n",
              "      <th>next_meeting</th>\n",
              "      <th>next_decision</th>\n",
              "      <th>next_rate</th>\n",
              "      <th>text</th>\n",
              "    </tr>\n",
              "  </thead>\n",
              "  <tbody>\n",
              "    <tr>\n",
              "      <th>0</th>\n",
              "      <td>statement</td>\n",
              "      <td>1994-02-04</td>\n",
              "      <td>FOMC Statement</td>\n",
              "      <td>Alan Greenspan</td>\n",
              "      <td>99</td>\n",
              "      <td>1</td>\n",
              "      <td>3.25</td>\n",
              "      <td>1994-02-28</td>\n",
              "      <td>0</td>\n",
              "      <td>3.25</td>\n",
              "      <td>Chairman Alan Greenspan announced today that t...</td>\n",
              "    </tr>\n",
              "    <tr>\n",
              "      <th>1</th>\n",
              "      <td>statement</td>\n",
              "      <td>1994-03-22</td>\n",
              "      <td>FOMC Statement</td>\n",
              "      <td>Alan Greenspan</td>\n",
              "      <td>40</td>\n",
              "      <td>1</td>\n",
              "      <td>3.50</td>\n",
              "      <td>1994-04-18</td>\n",
              "      <td>1</td>\n",
              "      <td>3.75</td>\n",
              "      <td>Chairman Alan Greenspan announced today that t...</td>\n",
              "    </tr>\n",
              "    <tr>\n",
              "      <th>2</th>\n",
              "      <td>statement</td>\n",
              "      <td>1994-04-18</td>\n",
              "      <td>FOMC Statement</td>\n",
              "      <td>Alan Greenspan</td>\n",
              "      <td>37</td>\n",
              "      <td>1</td>\n",
              "      <td>3.75</td>\n",
              "      <td>1994-05-17</td>\n",
              "      <td>1</td>\n",
              "      <td>4.25</td>\n",
              "      <td>Chairman Alan Greenspan announced today that t...</td>\n",
              "    </tr>\n",
              "    <tr>\n",
              "      <th>3</th>\n",
              "      <td>statement</td>\n",
              "      <td>1994-05-17</td>\n",
              "      <td>FOMC Statement</td>\n",
              "      <td>Alan Greenspan</td>\n",
              "      <td>57</td>\n",
              "      <td>1</td>\n",
              "      <td>4.25</td>\n",
              "      <td>1994-07-06</td>\n",
              "      <td>0</td>\n",
              "      <td>4.25</td>\n",
              "      <td>In taking the discount action, the Board appro...</td>\n",
              "    </tr>\n",
              "    <tr>\n",
              "      <th>4</th>\n",
              "      <td>statement</td>\n",
              "      <td>1994-08-16</td>\n",
              "      <td>FOMC Statement</td>\n",
              "      <td>Alan Greenspan</td>\n",
              "      <td>51</td>\n",
              "      <td>1</td>\n",
              "      <td>4.75</td>\n",
              "      <td>1994-09-27</td>\n",
              "      <td>0</td>\n",
              "      <td>4.75</td>\n",
              "      <td>In taking the discount rate action, the Board ...</td>\n",
              "    </tr>\n",
              "  </tbody>\n",
              "</table>\n",
              "</div>"
            ],
            "text/plain": [
              "        type       date           title         speaker  word_count  decision  \\\n",
              "0  statement 1994-02-04  FOMC Statement  Alan Greenspan          99         1   \n",
              "1  statement 1994-03-22  FOMC Statement  Alan Greenspan          40         1   \n",
              "2  statement 1994-04-18  FOMC Statement  Alan Greenspan          37         1   \n",
              "3  statement 1994-05-17  FOMC Statement  Alan Greenspan          57         1   \n",
              "4  statement 1994-08-16  FOMC Statement  Alan Greenspan          51         1   \n",
              "\n",
              "   rate next_meeting next_decision  next_rate  \\\n",
              "0  3.25   1994-02-28             0       3.25   \n",
              "1  3.50   1994-04-18             1       3.75   \n",
              "2  3.75   1994-05-17             1       4.25   \n",
              "3  4.25   1994-07-06             0       4.25   \n",
              "4  4.75   1994-09-27             0       4.75   \n",
              "\n",
              "                                                text  \n",
              "0  Chairman Alan Greenspan announced today that t...  \n",
              "1  Chairman Alan Greenspan announced today that t...  \n",
              "2  Chairman Alan Greenspan announced today that t...  \n",
              "3  In taking the discount action, the Board appro...  \n",
              "4  In taking the discount rate action, the Board ...  "
            ]
          },
          "execution_count": 49,
          "metadata": {},
          "output_type": "execute_result"
        }
      ],
      "source": [
        "train_df.head()"
      ]
    },
    {
      "cell_type": "code",
      "execution_count": 50,
      "metadata": {
        "colab": {
          "base_uri": "https://localhost:8080/"
        },
        "id": "Rf8GMxZljnIs",
        "outputId": "966e3062-9c34-44d0-cd24-b0248d826707"
      },
      "outputs": [
        {
          "name": "stdout",
          "output_type": "stream",
          "text": [
            "Número total de filas en el DataFrame: 4597\n"
          ]
        }
      ],
      "source": [
        "# Calcular el número total de filas en el DataFrame\n",
        "num_total_filas = train_df.shape[0]\n",
        "\n",
        "print(\"Número total de filas en el DataFrame:\", num_total_filas)"
      ]
    },
    {
      "cell_type": "code",
      "execution_count": 51,
      "metadata": {
        "colab": {
          "base_uri": "https://localhost:8080/"
        },
        "id": "GSOXWE2qja-1",
        "outputId": "4c6fb265-3575-46df-dbae-53412d60d61f"
      },
      "outputs": [
        {
          "name": "stdout",
          "output_type": "stream",
          "text": [
            "Número de filas con NaN en la variable 'next_decision': 31\n"
          ]
        }
      ],
      "source": [
        "# Supongamos que tienes un DataFrame llamado df y una variable específica llamada 'variable_especifica'\n",
        "variable_especifica = 'next_decision'\n",
        "\n",
        "# Contar el número de filas con valores NaN en la variable especificada\n",
        "num_filas_nan = train_df[variable_especifica].isnull().sum()\n",
        "\n",
        "print(\"Número de filas con NaN en la variable '{}': {}\".format(variable_especifica, num_filas_nan))\n"
      ]
    },
    {
      "cell_type": "code",
      "execution_count": 52,
      "metadata": {
        "colab": {
          "base_uri": "https://localhost:8080/"
        },
        "id": "k6PNNuemj4s2",
        "outputId": "fc28a8ab-e0c8-40e6-c888-b71d4d3fce66"
      },
      "outputs": [
        {
          "name": "stdout",
          "output_type": "stream",
          "text": [
            "Valores de 'date' correspondientes a filas con NaN en la variable 'next_decision':\n",
            "201    2023-12-13\n",
            "2151   2023-12-13\n",
            "2152   2023-12-13\n",
            "2153   2023-12-13\n",
            "2154   2023-12-13\n",
            "2155   2023-12-13\n",
            "2156   2023-12-13\n",
            "2157   2023-12-13\n",
            "2158   2023-12-13\n",
            "2159   2023-12-13\n",
            "2160   2023-12-13\n",
            "2161   2023-12-13\n",
            "2162   2023-12-13\n",
            "2163   2023-12-13\n",
            "2164   2023-12-13\n",
            "2165   2023-12-13\n",
            "2166   2023-12-13\n",
            "2167   2023-12-13\n",
            "2168   2023-12-13\n",
            "2169   2023-12-13\n",
            "2170   2023-12-13\n",
            "2171   2023-12-13\n",
            "2172   2023-12-13\n",
            "2173   2023-12-13\n",
            "2174   2023-12-13\n",
            "2175   2023-12-13\n",
            "2176   2023-12-13\n",
            "2177   2023-12-13\n",
            "2178   2023-12-13\n",
            "2179   2023-12-13\n",
            "2180   2023-12-13\n",
            "Name: date, dtype: datetime64[ns]\n"
          ]
        }
      ],
      "source": [
        "# Filtrar el DataFrame para seleccionar solo las filas con valores NaN en la variable especificada\n",
        "filas_nan = train_df[train_df[variable_especifica].isnull()]\n",
        "\n",
        "# Obtener los valores de la columna \"date\" correspondientes a las filas con valores NaN\n",
        "fechas_nan = filas_nan['date']\n",
        "\n",
        "print(\"Valores de 'date' correspondientes a filas con NaN en la variable '{}':\".format(variable_especifica))\n",
        "print(fechas_nan)"
      ]
    },
    {
      "cell_type": "code",
      "execution_count": 53,
      "metadata": {
        "colab": {
          "base_uri": "https://localhost:8080/",
          "height": 601
        },
        "id": "OdXYX5KbjM_J",
        "outputId": "c7b089c4-d3df-431f-e3a9-94934167e939"
      },
      "outputs": [
        {
          "data": {
            "image/png": "[encoded data removed]",
            "text/plain": [
              "<Figure size 1000x600 with 1 Axes>"
            ]
          },
          "metadata": {},
          "output_type": "display_data"
        }
      ],
      "source": [
        "import seaborn as sns\n",
        "import matplotlib.pyplot as plt\n",
        "train_df['next_decision'] = train_df['next_decision'].fillna('Missing')\n",
        "# Crear el gráfico de conteo\n",
        "plt.figure(figsize=(10, 6))\n",
        "sns.countplot(data=train_df, x='next_decision')\n",
        "\n",
        "# Añadir etiquetas y título\n",
        "plt.xlabel('Next Decision')\n",
        "plt.ylabel('Count')\n",
        "plt.title('Distribucion de decisiones')\n",
        "\n",
        "# Mostrar el gráfico\n",
        "plt.xticks(rotation=45)  # Rotar las etiquetas del eje x para mayor claridad\n",
        "plt.tight_layout()  # Ajustar el diseño para evitar solapamientos\n",
        "plt.show()"
      ]
    },
    {
      "cell_type": "code",
      "execution_count": 54,
      "metadata": {
        "colab": {
          "base_uri": "https://localhost:8080/",
          "height": 540
        },
        "id": "_AeyWwu_w5p0",
        "outputId": "973a243c-21e0-4db7-a8a0-ab24842279e7"
      },
      "outputs": [
        {
          "data": {
            "image/png": "[encoded data removed]",
            "text/plain": [
              "<Figure size 1800x600 with 6 Axes>"
            ]
          },
          "metadata": {},
          "output_type": "display_data"
        }
      ],
      "source": [
        "# Check balance of Rate Decision\n",
        "train_df['next_decision'] = train_df['next_decision'].fillna('Missing')\n",
        "g = sns.FacetGrid(train_df, col='type', height=6, aspect=0.5)\n",
        "g.map(sns.countplot, 'next_decision')\n",
        "plt.show()\n"
      ]
    },
    {
      "cell_type": "code",
      "execution_count": 55,
      "metadata": {
        "colab": {
          "base_uri": "https://localhost:8080/",
          "height": 1000
        },
        "id": "o3MOs7yZKdFz",
        "outputId": "e2d6f581-cf2a-46c3-8b63-3e7d85759bdc",
        "scrolled": false
      },
      "outputs": [
        {
          "data": {
            "image/png": "[encoded data removed]",
            "text/plain": [
              "<Figure size 1500x1000 with 6 Axes>"
            ]
          },
          "metadata": {},
          "output_type": "display_data"
        },
        {
          "data": {
            "text/html": [
              "<div>\n",
              "<style scoped>\n",
              "    .dataframe tbody tr th:only-of-type {\n",
              "        vertical-align: middle;\n",
              "    }\n",
              "\n",
              "    .dataframe tbody tr th {\n",
              "        vertical-align: top;\n",
              "    }\n",
              "\n",
              "    .dataframe thead th {\n",
              "        text-align: right;\n",
              "    }\n",
              "</style>\n",
              "<table border=\"1\" class=\"dataframe\">\n",
              "  <thead>\n",
              "    <tr style=\"text-align: right;\">\n",
              "      <th></th>\n",
              "      <th>type</th>\n",
              "      <th>date</th>\n",
              "      <th>title</th>\n",
              "      <th>speaker</th>\n",
              "      <th>word_count</th>\n",
              "      <th>decision</th>\n",
              "      <th>rate</th>\n",
              "      <th>next_meeting</th>\n",
              "      <th>next_decision</th>\n",
              "      <th>next_rate</th>\n",
              "      <th>text</th>\n",
              "    </tr>\n",
              "  </thead>\n",
              "  <tbody>\n",
              "    <tr>\n",
              "      <th>253</th>\n",
              "      <td>meeting_script</td>\n",
              "      <td>2014-04-30</td>\n",
              "      <td>FOMC Meeting Transcript</td>\n",
              "      <td></td>\n",
              "      <td>78299</td>\n",
              "      <td>0</td>\n",
              "      <td>0.0</td>\n",
              "      <td>2014-06-18</td>\n",
              "      <td>0</td>\n",
              "      <td>0.0</td>\n",
              "      <td>Good morning, everybody. Unfortunately, this i...</td>\n",
              "    </tr>\n",
              "    <tr>\n",
              "      <th>254</th>\n",
              "      <td>meeting_script</td>\n",
              "      <td>2014-06-18</td>\n",
              "      <td>FOMC Meeting Transcript</td>\n",
              "      <td></td>\n",
              "      <td>87191</td>\n",
              "      <td>0</td>\n",
              "      <td>0.0</td>\n",
              "      <td>2014-07-30</td>\n",
              "      <td>0</td>\n",
              "      <td>0.0</td>\n",
              "      <td>I'd like to begin by welcoming three people to...</td>\n",
              "    </tr>\n",
              "    <tr>\n",
              "      <th>255</th>\n",
              "      <td>meeting_script</td>\n",
              "      <td>2014-07-30</td>\n",
              "      <td>FOMC Meeting Transcript</td>\n",
              "      <td></td>\n",
              "      <td>89115</td>\n",
              "      <td>0</td>\n",
              "      <td>0.0</td>\n",
              "      <td>2014-09-17</td>\n",
              "      <td>0</td>\n",
              "      <td>0.0</td>\n",
              "      <td>Good morning, everybody. I would like to begin...</td>\n",
              "    </tr>\n",
              "    <tr>\n",
              "      <th>256</th>\n",
              "      <td>meeting_script</td>\n",
              "      <td>2014-09-17</td>\n",
              "      <td>FOMC Meeting Transcript</td>\n",
              "      <td></td>\n",
              "      <td>61267</td>\n",
              "      <td>0</td>\n",
              "      <td>0.0</td>\n",
              "      <td>2014-10-29</td>\n",
              "      <td>1</td>\n",
              "      <td>0.0</td>\n",
              "      <td>Good morning, everybody.Our first two items th...</td>\n",
              "    </tr>\n",
              "    <tr>\n",
              "      <th>257</th>\n",
              "      <td>meeting_script</td>\n",
              "      <td>2014-10-29</td>\n",
              "      <td>FOMC Meeting Transcript</td>\n",
              "      <td></td>\n",
              "      <td>72330</td>\n",
              "      <td>1</td>\n",
              "      <td>0.0</td>\n",
              "      <td>2014-12-17</td>\n",
              "      <td>0</td>\n",
              "      <td>0.0</td>\n",
              "      <td>I'd like to call this meeting to order. Before...</td>\n",
              "    </tr>\n",
              "  </tbody>\n",
              "</table>\n",
              "</div>"
            ],
            "text/plain": [
              "               type       date                    title speaker  word_count  \\\n",
              "253  meeting_script 2014-04-30  FOMC Meeting Transcript               78299   \n",
              "254  meeting_script 2014-06-18  FOMC Meeting Transcript               87191   \n",
              "255  meeting_script 2014-07-30  FOMC Meeting Transcript               89115   \n",
              "256  meeting_script 2014-09-17  FOMC Meeting Transcript               61267   \n",
              "257  meeting_script 2014-10-29  FOMC Meeting Transcript               72330   \n",
              "\n",
              "     decision  rate next_meeting next_decision  next_rate  \\\n",
              "253         0   0.0   2014-06-18             0        0.0   \n",
              "254         0   0.0   2014-07-30             0        0.0   \n",
              "255         0   0.0   2014-09-17             0        0.0   \n",
              "256         0   0.0   2014-10-29             1        0.0   \n",
              "257         1   0.0   2014-12-17             0        0.0   \n",
              "\n",
              "                                                  text  \n",
              "253  Good morning, everybody. Unfortunately, this i...  \n",
              "254  I'd like to begin by welcoming three people to...  \n",
              "255  Good morning, everybody. I would like to begin...  \n",
              "256  Good morning, everybody.Our first two items th...  \n",
              "257  I'd like to call this meeting to order. Before...  "
            ]
          },
          "execution_count": 55,
          "metadata": {},
          "output_type": "execute_result"
        }
      ],
      "source": [
        "# Check distribution\n",
        "def plot_distribution(df, kde):\n",
        "    fig, ((ax1, ax2), (ax3, ax4), (ax5, ax6)) = plt.subplots(3, 2, figsize=(15,10))\n",
        "    doc_type = 'statement'\n",
        "    sns.distplot(df.loc[df['type'] == doc_type]['word_count'], bins=20, ax=ax1, kde=kde, color='r')\n",
        "    ax1.set_title(doc_type)\n",
        "    doc_type = 'minutes'\n",
        "    sns.distplot(df.loc[df['type'] == doc_type]['word_count'], bins=20, ax=ax2, kde=kde, color='y')\n",
        "    ax2.set_title(doc_type)\n",
        "    doc_type = 'presconf_script'\n",
        "    sns.distplot(df.loc[df['type'] == doc_type]['word_count'], bins=20, ax=ax3, kde=kde, color='g')\n",
        "    ax3.set_title(doc_type)\n",
        "    doc_type = 'meeting_script'\n",
        "    sns.distplot(df.loc[df['type'] == doc_type]['word_count'], bins=20, ax=ax4, kde=kde, color='b')\n",
        "    ax4.set_title(doc_type)\n",
        "    doc_type = 'speech'\n",
        "    sns.distplot(df.loc[df['type'] == doc_type]['word_count'], bins=20, ax=ax5, kde=kde, color='purple')\n",
        "    ax5.set_title(doc_type)\n",
        "    doc_type = 'testimony'\n",
        "    sns.distplot(df.loc[df['type'] == doc_type]['word_count'], bins=20, ax=ax6, kde=kde, color='orange')\n",
        "    ax6.set_title(doc_type)\n",
        "\n",
        "    fig.tight_layout(pad=1.0)\n",
        "    plt.show()\n",
        "\n",
        "plot_distribution(train_df, False)\n",
        "train_df.tail()\n"
      ]
    },
    {
      "cell_type": "markdown",
      "metadata": {
        "id": "aLh3wiDv8vqI"
      },
      "source": [
        "## Split each text by sentence"
      ]
    },
    {
      "cell_type": "code",
      "execution_count": 56,
      "metadata": {
        "colab": {
          "base_uri": "https://localhost:8080/",
          "height": 84,
          "referenced_widgets": [
            "f6f4f3d029f44b2da6dbfe2873cbfe97",
            "d659d45184ac4d75b238bae9b1259d3f",
            "07128ab681ce4623a913cd4f4c725303",
            "2ccefff2aa6b4b968f5da5cff83e7a42",
            "68518afc617c4c4081abb1529df7e68d",
            "fa8c197179c14d6782ac92180b0dbb8e",
            "e5bfaa76612649e29d54c74749d85e70",
            "25114fd15eb04827865bf9c71aa6ac4a",
            "52d3bfdc6c9e48be8e215d44a7de8a90",
            "2525339dd7d34bf782e63f38fb30f973",
            "0e4ff8c74082429ab44559bdc85657ab"
          ]
        },
        "id": "Pb_rbabB8vqI",
        "outputId": "9dadf3b6-aa36-4198-b486-f6a14811fddb"
      },
      "outputs": [
        {
          "data": {
            "application/vnd.jupyter.widget-view+json": {
              "model_id": "d5e3366604fb4318b5e05f557e370c43",
              "version_major": 2,
              "version_minor": 0
            },
            "text/plain": [
              "  0%|          | 0/4597 [00:00<?, ?it/s]"
            ]
          },
          "metadata": {},
          "output_type": "display_data"
        },
        {
          "name": "stdout",
          "output_type": "stream",
          "text": [
            "(707555, 12)\n"
          ]
        }
      ],
      "source": [
        "\n",
        "# Add a key for aggregation\n",
        "train_df['key'] = train_df.index.get_level_values(0)\n",
        "train_df.head()\n",
        "\n",
        "# Split the data by sentence\n",
        "def split_df(df, text_column='text'):\n",
        "    split_data_list = []\n",
        "\n",
        "    for i, row in tqdm(df.iterrows(), total=df.shape[0]):\n",
        "        text_list = sent_tokenize(row[text_column])\n",
        "        for text in text_list:\n",
        "            new_row = row.copy()\n",
        "            new_row[text_column] = text\n",
        "            new_row['word_count'] = len(re.findall(r'\\b([a-zA-Z]+n\\'t|[a-zA-Z]+\\'s|[a-zA-Z]+)\\b', text))\n",
        "            split_data_list.append(list(new_row))\n",
        "\n",
        "    split_df = pd.DataFrame(split_data_list, columns=df.columns)\n",
        "\n",
        "    # Convertir valores 'Missing' o similares a NaN, y después a tipo numérico\n",
        "    for column in ['decision', 'next_decision']:\n",
        "        split_df[column] = pd.to_numeric(split_df[column], errors='coerce')\n",
        "\n",
        "    # Opcional: Eliminar filas donde 'next_decision' es NaN\n",
        "    #split_df = split_df.dropna(subset=['next_decision'])\n",
        "\n",
        "    # La conversión a 'Int8' ahora debería ser segura dado que hemos manejado valores no numéricos\n",
        "    split_df['decision'] = split_df['decision'].astype('Int8')\n",
        "    split_df['next_decision'] = split_df['next_decision'].astype('Int8')\n",
        "\n",
        "    return split_df\n",
        "\n",
        "    return split_df\n",
        "train_sent_df = split_df(train_df)\n",
        "print(train_sent_df.shape)"
      ]
    },
    {
      "cell_type": "code",
      "execution_count": null,
      "metadata": {
        "id": "2QNNJaIieE2f"
      },
      "outputs": [],
      "source": []
    },
    {
      "cell_type": "code",
      "execution_count": 57,
      "metadata": {
        "colab": {
          "base_uri": "https://localhost:8080/",
          "height": 1000
        },
        "id": "9jzpMmVd8vqK",
        "outputId": "64e11913-4ab5-41fb-bbda-695f84bca0ae"
      },
      "outputs": [
        {
          "data": {
            "image/png": "[encoded data removed]",
            "text/plain": [
              "<Figure size 1500x1000 with 6 Axes>"
            ]
          },
          "metadata": {},
          "output_type": "display_data"
        },
        {
          "data": {
            "text/html": [
              "<div>\n",
              "<style scoped>\n",
              "    .dataframe tbody tr th:only-of-type {\n",
              "        vertical-align: middle;\n",
              "    }\n",
              "\n",
              "    .dataframe tbody tr th {\n",
              "        vertical-align: top;\n",
              "    }\n",
              "\n",
              "    .dataframe thead th {\n",
              "        text-align: right;\n",
              "    }\n",
              "</style>\n",
              "<table border=\"1\" class=\"dataframe\">\n",
              "  <thead>\n",
              "    <tr style=\"text-align: right;\">\n",
              "      <th></th>\n",
              "      <th>type</th>\n",
              "      <th>date</th>\n",
              "      <th>title</th>\n",
              "      <th>speaker</th>\n",
              "      <th>word_count</th>\n",
              "      <th>decision</th>\n",
              "      <th>rate</th>\n",
              "      <th>next_meeting</th>\n",
              "      <th>next_decision</th>\n",
              "      <th>next_rate</th>\n",
              "      <th>text</th>\n",
              "      <th>key</th>\n",
              "    </tr>\n",
              "  </thead>\n",
              "  <tbody>\n",
              "    <tr>\n",
              "      <th>707550</th>\n",
              "      <td>meeting_script</td>\n",
              "      <td>2014-10-29</td>\n",
              "      <td>FOMC Meeting Transcript</td>\n",
              "      <td></td>\n",
              "      <td>4</td>\n",
              "      <td>1</td>\n",
              "      <td>0.0</td>\n",
              "      <td>2014-12-17</td>\n",
              "      <td>0</td>\n",
              "      <td>0.0</td>\n",
              "      <td>I'm just downplaying.</td>\n",
              "      <td>257</td>\n",
              "    </tr>\n",
              "    <tr>\n",
              "      <th>707551</th>\n",
              "      <td>meeting_script</td>\n",
              "      <td>2014-10-29</td>\n",
              "      <td>FOMC Meeting Transcript</td>\n",
              "      <td></td>\n",
              "      <td>3</td>\n",
              "      <td>1</td>\n",
              "      <td>0.0</td>\n",
              "      <td>2014-12-17</td>\n",
              "      <td>0</td>\n",
              "      <td>0.0</td>\n",
              "      <td>VICE CHAIRMAN DUDLEY.</td>\n",
              "      <td>257</td>\n",
              "    </tr>\n",
              "    <tr>\n",
              "      <th>707552</th>\n",
              "      <td>meeting_script</td>\n",
              "      <td>2014-10-29</td>\n",
              "      <td>FOMC Meeting Transcript</td>\n",
              "      <td></td>\n",
              "      <td>16</td>\n",
              "      <td>1</td>\n",
              "      <td>0.0</td>\n",
              "      <td>2014-12-17</td>\n",
              "      <td>0</td>\n",
              "      <td>0.0</td>\n",
              "      <td>They don't know what the answers of other peop...</td>\n",
              "      <td>257</td>\n",
              "    </tr>\n",
              "    <tr>\n",
              "      <th>707553</th>\n",
              "      <td>meeting_script</td>\n",
              "      <td>2014-10-29</td>\n",
              "      <td>FOMC Meeting Transcript</td>\n",
              "      <td></td>\n",
              "      <td>30</td>\n",
              "      <td>1</td>\n",
              "      <td>0.0</td>\n",
              "      <td>2014-12-17</td>\n",
              "      <td>0</td>\n",
              "      <td>0.0</td>\n",
              "      <td>And so they see this market price moving and s...</td>\n",
              "      <td>257</td>\n",
              "    </tr>\n",
              "    <tr>\n",
              "      <th>707554</th>\n",
              "      <td>meeting_script</td>\n",
              "      <td>2014-10-29</td>\n",
              "      <td>FOMC Meeting Transcript</td>\n",
              "      <td></td>\n",
              "      <td>6</td>\n",
              "      <td>1</td>\n",
              "      <td>0.0</td>\n",
              "      <td>2014-12-17</td>\n",
              "      <td>0</td>\n",
              "      <td>0.0</td>\n",
              "      <td>That's how I would parse this.</td>\n",
              "      <td>257</td>\n",
              "    </tr>\n",
              "  </tbody>\n",
              "</table>\n",
              "</div>"
            ],
            "text/plain": [
              "                  type       date                    title speaker  \\\n",
              "707550  meeting_script 2014-10-29  FOMC Meeting Transcript           \n",
              "707551  meeting_script 2014-10-29  FOMC Meeting Transcript           \n",
              "707552  meeting_script 2014-10-29  FOMC Meeting Transcript           \n",
              "707553  meeting_script 2014-10-29  FOMC Meeting Transcript           \n",
              "707554  meeting_script 2014-10-29  FOMC Meeting Transcript           \n",
              "\n",
              "        word_count  decision  rate next_meeting  next_decision  next_rate  \\\n",
              "707550           4         1   0.0   2014-12-17              0        0.0   \n",
              "707551           3         1   0.0   2014-12-17              0        0.0   \n",
              "707552          16         1   0.0   2014-12-17              0        0.0   \n",
              "707553          30         1   0.0   2014-12-17              0        0.0   \n",
              "707554           6         1   0.0   2014-12-17              0        0.0   \n",
              "\n",
              "                                                     text  key  \n",
              "707550                              I'm just downplaying.  257  \n",
              "707551                              VICE CHAIRMAN DUDLEY.  257  \n",
              "707552  They don't know what the answers of other peop...  257  \n",
              "707553  And so they see this market price moving and s...  257  \n",
              "707554                     That's how I would parse this.  257  "
            ]
          },
          "execution_count": 57,
          "metadata": {},
          "output_type": "execute_result"
        }
      ],
      "source": [
        "# Check distribution\n",
        "plot_distribution(train_sent_df, False)\n",
        "train_sent_df.tail()"
      ]
    },
    {
      "cell_type": "markdown",
      "metadata": {
        "id": "pNzwixEO8vqM"
      },
      "source": [
        "## Load a trained model"
      ]
    },
    {
      "cell_type": "code",
      "execution_count": 58,
      "metadata": {
        "id": "2z68sIGsd22v"
      },
      "outputs": [],
      "source": [
        "\n",
        "train_sent_df = train_sent_df[train_sent_df['type'] != 'meeting_script']"
      ]
    },
    {
      "cell_type": "code",
      "execution_count": 59,
      "metadata": {
        "colab": {
          "base_uri": "https://localhost:8080/",
          "height": 206
        },
        "id": "OTSRPnV6eOlK",
        "outputId": "3573ba16-a16a-4562-a8af-1fbdfd7dd22c"
      },
      "outputs": [
        {
          "data": {
            "text/html": [
              "<div>\n",
              "<style scoped>\n",
              "    .dataframe tbody tr th:only-of-type {\n",
              "        vertical-align: middle;\n",
              "    }\n",
              "\n",
              "    .dataframe tbody tr th {\n",
              "        vertical-align: top;\n",
              "    }\n",
              "\n",
              "    .dataframe thead th {\n",
              "        text-align: right;\n",
              "    }\n",
              "</style>\n",
              "<table border=\"1\" class=\"dataframe\">\n",
              "  <thead>\n",
              "    <tr style=\"text-align: right;\">\n",
              "      <th></th>\n",
              "      <th>type</th>\n",
              "      <th>date</th>\n",
              "      <th>title</th>\n",
              "      <th>speaker</th>\n",
              "      <th>word_count</th>\n",
              "      <th>decision</th>\n",
              "      <th>rate</th>\n",
              "      <th>next_meeting</th>\n",
              "      <th>next_decision</th>\n",
              "      <th>next_rate</th>\n",
              "      <th>text</th>\n",
              "      <th>key</th>\n",
              "    </tr>\n",
              "  </thead>\n",
              "  <tbody>\n",
              "    <tr>\n",
              "      <th>0</th>\n",
              "      <td>statement</td>\n",
              "      <td>1994-02-04</td>\n",
              "      <td>FOMC Statement</td>\n",
              "      <td>Alan Greenspan</td>\n",
              "      <td>22</td>\n",
              "      <td>1</td>\n",
              "      <td>3.25</td>\n",
              "      <td>1994-02-28</td>\n",
              "      <td>0</td>\n",
              "      <td>3.25</td>\n",
              "      <td>Chairman Alan Greenspan announced today that t...</td>\n",
              "      <td>0</td>\n",
              "    </tr>\n",
              "    <tr>\n",
              "      <th>1</th>\n",
              "      <td>statement</td>\n",
              "      <td>1994-02-04</td>\n",
              "      <td>FOMC Statement</td>\n",
              "      <td>Alan Greenspan</td>\n",
              "      <td>18</td>\n",
              "      <td>1</td>\n",
              "      <td>3.25</td>\n",
              "      <td>1994-02-28</td>\n",
              "      <td>0</td>\n",
              "      <td>3.25</td>\n",
              "      <td>The action is expected to be associated with a...</td>\n",
              "      <td>0</td>\n",
              "    </tr>\n",
              "    <tr>\n",
              "      <th>2</th>\n",
              "      <td>statement</td>\n",
              "      <td>1994-02-04</td>\n",
              "      <td>FOMC Statement</td>\n",
              "      <td>Alan Greenspan</td>\n",
              "      <td>23</td>\n",
              "      <td>1</td>\n",
              "      <td>3.25</td>\n",
              "      <td>1994-02-28</td>\n",
              "      <td>0</td>\n",
              "      <td>3.25</td>\n",
              "      <td>The decision was taken to move toward a less a...</td>\n",
              "      <td>0</td>\n",
              "    </tr>\n",
              "    <tr>\n",
              "      <th>3</th>\n",
              "      <td>statement</td>\n",
              "      <td>1994-02-04</td>\n",
              "      <td>FOMC Statement</td>\n",
              "      <td>Alan Greenspan</td>\n",
              "      <td>36</td>\n",
              "      <td>1</td>\n",
              "      <td>3.25</td>\n",
              "      <td>1994-02-28</td>\n",
              "      <td>0</td>\n",
              "      <td>3.25</td>\n",
              "      <td>Chairman Greenspan decided to announce this ac...</td>\n",
              "      <td>0</td>\n",
              "    </tr>\n",
              "    <tr>\n",
              "      <th>4</th>\n",
              "      <td>statement</td>\n",
              "      <td>1994-03-22</td>\n",
              "      <td>FOMC Statement</td>\n",
              "      <td>Alan Greenspan</td>\n",
              "      <td>22</td>\n",
              "      <td>1</td>\n",
              "      <td>3.50</td>\n",
              "      <td>1994-04-18</td>\n",
              "      <td>1</td>\n",
              "      <td>3.75</td>\n",
              "      <td>Chairman Alan Greenspan announced today that t...</td>\n",
              "      <td>1</td>\n",
              "    </tr>\n",
              "  </tbody>\n",
              "</table>\n",
              "</div>"
            ],
            "text/plain": [
              "        type       date           title         speaker  word_count  decision  \\\n",
              "0  statement 1994-02-04  FOMC Statement  Alan Greenspan          22         1   \n",
              "1  statement 1994-02-04  FOMC Statement  Alan Greenspan          18         1   \n",
              "2  statement 1994-02-04  FOMC Statement  Alan Greenspan          23         1   \n",
              "3  statement 1994-02-04  FOMC Statement  Alan Greenspan          36         1   \n",
              "4  statement 1994-03-22  FOMC Statement  Alan Greenspan          22         1   \n",
              "\n",
              "   rate next_meeting  next_decision  next_rate  \\\n",
              "0  3.25   1994-02-28              0       3.25   \n",
              "1  3.25   1994-02-28              0       3.25   \n",
              "2  3.25   1994-02-28              0       3.25   \n",
              "3  3.25   1994-02-28              0       3.25   \n",
              "4  3.50   1994-04-18              1       3.75   \n",
              "\n",
              "                                                text  key  \n",
              "0  Chairman Alan Greenspan announced today that t...    0  \n",
              "1  The action is expected to be associated with a...    0  \n",
              "2  The decision was taken to move toward a less a...    0  \n",
              "3  Chairman Greenspan decided to announce this ac...    0  \n",
              "4  Chairman Alan Greenspan announced today that t...    1  "
            ]
          },
          "execution_count": 59,
          "metadata": {},
          "output_type": "execute_result"
        }
      ],
      "source": [
        "train_sent_df.head()"
      ]
    },
    {
      "cell_type": "code",
      "execution_count": 60,
      "metadata": {},
      "outputs": [
        {
          "data": {
            "text/plain": [
              "(284216, 12)"
            ]
          },
          "execution_count": 60,
          "metadata": {},
          "output_type": "execute_result"
        }
      ],
      "source": [
        "train_sent_df.shape"
      ]
    },
    {
      "cell_type": "code",
      "execution_count": 61,
      "metadata": {
        "id": "_iyKXjSnTl8f"
      },
      "outputs": [],
      "source": [
        "import pandas as pd\n",
        "import numpy as np\n",
        "import matplotlib.pyplot as plt\n",
        "import seaborn as sns\n",
        "from wordcloud import WordCloud, STOPWORDS\n",
        "import scipy\n",
        "import nltk\n",
        "from nltk.sentiment import SentimentIntensityAnalyzer\n",
        "from tqdm.notebook import tqdm\n",
        "from sklearn.metrics import accuracy_score, classification_report, confusion_matrix, roc_auc_score\n",
        "import torch\n",
        "from transformers import pipeline, AutoTokenizer, AutoModelForSequenceClassification, BertTokenizer, BertForSequenceClassification\n",
        "import warnings\n",
        "warnings.filterwarnings(\"ignore\")"
      ]
    },
    {
      "cell_type": "code",
      "execution_count": null,
      "metadata": {},
      "outputs": [],
      "source": []
    },
    {
      "cell_type": "code",
      "execution_count": 62,
      "metadata": {},
      "outputs": [],
      "source": [
        "X = train_sent_df['text'].to_list()\n"
      ]
    },
    {
      "cell_type": "code",
      "execution_count": 85,
      "metadata": {},
      "outputs": [],
      "source": [
        "import pandas as pd\n",
        "\n",
        "# Porcentaje deseado de las filas (e.g., 10%)\n",
        "porcentaje = 10\n",
        "\n",
        "# Calcula el número de filas a seleccionar basado en el porcentaje\n",
        "num_filas = int(len(train_sent_df) * (porcentaje / 100))\n",
        "\n",
        "# Selecciona aleatoriamente el porcentaje deseado de filas del DataFrame\n",
        "submuestra_df = train_sent_df.sample(n=num_filas)\n",
        "\n",
        "submuestra_df = submuestra_df.dropna(subset=['next_decision'])\n",
        "\n",
        "# Convierte la columna deseada a una lista\n",
        "X_submuestra = submuestra_df['text'].to_list()\n",
        "\n",
        "\n"
      ]
    },
    {
      "cell_type": "code",
      "execution_count": 84,
      "metadata": {},
      "outputs": [
        {
          "data": {
            "text/plain": [
              "0"
            ]
          },
          "execution_count": 84,
          "metadata": {},
          "output_type": "execute_result"
        }
      ],
      "source": [
        "nan_count = submuestra_df['next_decision'].isnull().sum()\n",
        "nan_count"
      ]
    },
    {
      "cell_type": "markdown",
      "metadata": {
        "id": "3Ro9gXJxU5ok"
      },
      "source": [
        "twitter-roberta-base-sentiment Model¶\n"
      ]
    },
    {
      "cell_type": "code",
      "execution_count": 87,
      "metadata": {
        "id": "mXt5i_f7U7uK"
      },
      "outputs": [],
      "source": [
        "tokenizer = AutoTokenizer.from_pretrained('cardiffnlp/twitter-roberta-base-sentiment')\n",
        "model_roberta = AutoModelForSequenceClassification.from_pretrained('cardiffnlp/twitter-roberta-base-sentiment')"
      ]
    },
    {
      "cell_type": "code",
      "execution_count": 88,
      "metadata": {
        "id": "068ghX04VFTE"
      },
      "outputs": [
        {
          "data": {
            "application/vnd.jupyter.widget-view+json": {
              "model_id": "53b4007ab05d44798a48bc33172a2c2e",
              "version_major": 2,
              "version_minor": 0
            },
            "text/plain": [
              "Procesando predicciones:   0%|          | 0/28397 [00:00<?, ?it/s]"
            ]
          },
          "metadata": {},
          "output_type": "display_data"
        }
      ],
      "source": [
        "preds_roberta = []\n",
        "preds_proba_roberta = []\n",
        "tokenizer_kwargs = {\"padding\": True, \"truncation\": True, \"max_length\": 512}\n",
        "\n",
        "# Envuelve X con tqdm para visualizar la barra de progreso\n",
        "for x in tqdm(X_submuestra, desc=\"Procesando predicciones\"):\n",
        "    with torch.no_grad():\n",
        "        input_sequence = tokenizer(x, return_tensors=\"pt\", **tokenizer_kwargs)\n",
        "        logits = model_roberta(**input_sequence).logits\n",
        "        scores = scipy.special.softmax(logits.numpy().squeeze())\n",
        "        labels = ['negative', 'neutral', 'positive']\n",
        "        scores_dict = {label: score for label, score in zip(labels, scores)}\n",
        "        sentimentRoberta = max(scores_dict, key=scores_dict.get)\n",
        "        probabilityRoberta = max(scores_dict.values())\n",
        "        preds_roberta.append(sentimentRoberta)\n",
        "        preds_proba_roberta.append(probabilityRoberta)"
      ]
    },
    {
      "cell_type": "code",
      "execution_count": 89,
      "metadata": {
        "id": "HHV0Y3DbVHoe"
      },
      "outputs": [
        {
          "data": {
            "text/html": [
              "<div>\n",
              "<style scoped>\n",
              "    .dataframe tbody tr th:only-of-type {\n",
              "        vertical-align: middle;\n",
              "    }\n",
              "\n",
              "    .dataframe tbody tr th {\n",
              "        vertical-align: top;\n",
              "    }\n",
              "\n",
              "    .dataframe thead th {\n",
              "        text-align: right;\n",
              "    }\n",
              "</style>\n",
              "<table border=\"1\" class=\"dataframe\">\n",
              "  <thead>\n",
              "    <tr style=\"text-align: right;\">\n",
              "      <th></th>\n",
              "      <th>type</th>\n",
              "      <th>date</th>\n",
              "      <th>title</th>\n",
              "      <th>speaker</th>\n",
              "      <th>word_count</th>\n",
              "      <th>decision</th>\n",
              "      <th>rate</th>\n",
              "      <th>next_meeting</th>\n",
              "      <th>next_decision</th>\n",
              "      <th>next_rate</th>\n",
              "      <th>text</th>\n",
              "      <th>key</th>\n",
              "      <th>predicted_roberta</th>\n",
              "    </tr>\n",
              "  </thead>\n",
              "  <tbody>\n",
              "    <tr>\n",
              "      <th>73949</th>\n",
              "      <td>speech</td>\n",
              "      <td>1996-10-11</td>\n",
              "      <td>How to grow faster</td>\n",
              "      <td>Governor Lawrence B. Lindsey</td>\n",
              "      <td>5</td>\n",
              "      <td>&lt;NA&gt;</td>\n",
              "      <td>NaN</td>\n",
              "      <td>1996-11-13</td>\n",
              "      <td>0</td>\n",
              "      <td>5.25</td>\n",
              "      <td>True, the deficit was lower.</td>\n",
              "      <td>12041</td>\n",
              "      <td>neutral</td>\n",
              "    </tr>\n",
              "    <tr>\n",
              "      <th>247592</th>\n",
              "      <td>testimony</td>\n",
              "      <td>1998-06-11</td>\n",
              "      <td>Anti-money-laundering efforts and related prop...</td>\n",
              "      <td>Herbert A. Biern, Associate Director, Division...</td>\n",
              "      <td>24</td>\n",
              "      <td>&lt;NA&gt;</td>\n",
              "      <td>NaN</td>\n",
              "      <td>1998-07-01</td>\n",
              "      <td>0</td>\n",
              "      <td>5.50</td>\n",
              "      <td>Federal Reserve Role\\t\\tBanking organizations ...</td>\n",
              "      <td>13781</td>\n",
              "      <td>neutral</td>\n",
              "    </tr>\n",
              "    <tr>\n",
              "      <th>226870</th>\n",
              "      <td>speech</td>\n",
              "      <td>2021-02-24</td>\n",
              "      <td>U.S. Economic Outlook and Monetary Policy</td>\n",
              "      <td>Vice Chair Richard H. Clarida</td>\n",
              "      <td>33</td>\n",
              "      <td>&lt;NA&gt;</td>\n",
              "      <td>NaN</td>\n",
              "      <td>2021-03-17</td>\n",
              "      <td>0</td>\n",
              "      <td>0.00</td>\n",
              "      <td>We are committed to using our full range of to...</td>\n",
              "      <td>13522</td>\n",
              "      <td>positive</td>\n",
              "    </tr>\n",
              "    <tr>\n",
              "      <th>174042</th>\n",
              "      <td>speech</td>\n",
              "      <td>2009-11-09</td>\n",
              "      <td>Financial Regulation: Past and Future</td>\n",
              "      <td>Governor Daniel K. Tarullo</td>\n",
              "      <td>23</td>\n",
              "      <td>&lt;NA&gt;</td>\n",
              "      <td>NaN</td>\n",
              "      <td>2009-12-16</td>\n",
              "      <td>0</td>\n",
              "      <td>0.00</td>\n",
              "      <td>A good number were loosened through administra...</td>\n",
              "      <td>12928</td>\n",
              "      <td>positive</td>\n",
              "    </tr>\n",
              "    <tr>\n",
              "      <th>137697</th>\n",
              "      <td>speech</td>\n",
              "      <td>2005-03-10</td>\n",
              "      <td>The Global Saving Glut and the U.S. Current Ac...</td>\n",
              "      <td>Governor Ben S. Bernanke</td>\n",
              "      <td>71</td>\n",
              "      <td>&lt;NA&gt;</td>\n",
              "      <td>NaN</td>\n",
              "      <td>2005-03-22</td>\n",
              "      <td>1</td>\n",
              "      <td>2.75</td>\n",
              "      <td>As a consequence of high desired saving and th...</td>\n",
              "      <td>12591</td>\n",
              "      <td>neutral</td>\n",
              "    </tr>\n",
              "    <tr>\n",
              "      <th>...</th>\n",
              "      <td>...</td>\n",
              "      <td>...</td>\n",
              "      <td>...</td>\n",
              "      <td>...</td>\n",
              "      <td>...</td>\n",
              "      <td>...</td>\n",
              "      <td>...</td>\n",
              "      <td>...</td>\n",
              "      <td>...</td>\n",
              "      <td>...</td>\n",
              "      <td>...</td>\n",
              "      <td>...</td>\n",
              "      <td>...</td>\n",
              "    </tr>\n",
              "    <tr>\n",
              "      <th>281606</th>\n",
              "      <td>testimony</td>\n",
              "      <td>2017-07-12</td>\n",
              "      <td>Semiannual Monetary Policy Report to the Congress</td>\n",
              "      <td>Janet Yellen</td>\n",
              "      <td>16</td>\n",
              "      <td>&lt;NA&gt;</td>\n",
              "      <td>NaN</td>\n",
              "      <td>2017-09-20</td>\n",
              "      <td>1</td>\n",
              "      <td>NaN</td>\n",
              "      <td>Specifically, such payments will be reinvested...</td>\n",
              "      <td>14140</td>\n",
              "      <td>neutral</td>\n",
              "    </tr>\n",
              "    <tr>\n",
              "      <th>36349</th>\n",
              "      <td>minutes</td>\n",
              "      <td>2018-05-02</td>\n",
              "      <td>FOMC Meeting Minutes</td>\n",
              "      <td>Jerome Powell</td>\n",
              "      <td>25</td>\n",
              "      <td>0</td>\n",
              "      <td>1.5</td>\n",
              "      <td>2018-06-13</td>\n",
              "      <td>1</td>\n",
              "      <td>1.75</td>\n",
              "      <td>On the upside, recent fiscal policy changes co...</td>\n",
              "      <td>387</td>\n",
              "      <td>positive</td>\n",
              "    </tr>\n",
              "    <tr>\n",
              "      <th>204692</th>\n",
              "      <td>speech</td>\n",
              "      <td>2015-12-03</td>\n",
              "      <td>Financial Stability and Shadow Banks: What We ...</td>\n",
              "      <td>Vice Chairman Stanley Fischer</td>\n",
              "      <td>39</td>\n",
              "      <td>&lt;NA&gt;</td>\n",
              "      <td>NaN</td>\n",
              "      <td>2017-06-14</td>\n",
              "      <td>1</td>\n",
              "      <td>NaN</td>\n",
              "      <td>Improved data collection, such as mentioned ea...</td>\n",
              "      <td>13231</td>\n",
              "      <td>neutral</td>\n",
              "    </tr>\n",
              "    <tr>\n",
              "      <th>232001</th>\n",
              "      <td>speech</td>\n",
              "      <td>2022-05-30</td>\n",
              "      <td>Responding to High Inflation, with Some Though...</td>\n",
              "      <td>Governor Christopher J. Waller</td>\n",
              "      <td>38</td>\n",
              "      <td>&lt;NA&gt;</td>\n",
              "      <td>NaN</td>\n",
              "      <td>2022-06-15</td>\n",
              "      <td>1</td>\n",
              "      <td>1.50</td>\n",
              "      <td>In recent months, as shown in slide 3, the Ban...</td>\n",
              "      <td>13594</td>\n",
              "      <td>neutral</td>\n",
              "    </tr>\n",
              "    <tr>\n",
              "      <th>259311</th>\n",
              "      <td>testimony</td>\n",
              "      <td>2004-09-08</td>\n",
              "      <td>Protecting the financial infrastructure</td>\n",
              "      <td>Governor Mark W. Olson</td>\n",
              "      <td>27</td>\n",
              "      <td>&lt;NA&gt;</td>\n",
              "      <td>NaN</td>\n",
              "      <td>2004-09-21</td>\n",
              "      <td>1</td>\n",
              "      <td>1.75</td>\n",
              "      <td>During that week, the disruption in air traffi...</td>\n",
              "      <td>13904</td>\n",
              "      <td>neutral</td>\n",
              "    </tr>\n",
              "  </tbody>\n",
              "</table>\n",
              "<p>28397 rows × 13 columns</p>\n",
              "</div>"
            ],
            "text/plain": [
              "             type       date  \\\n",
              "73949      speech 1996-10-11   \n",
              "247592  testimony 1998-06-11   \n",
              "226870     speech 2021-02-24   \n",
              "174042     speech 2009-11-09   \n",
              "137697     speech 2005-03-10   \n",
              "...           ...        ...   \n",
              "281606  testimony 2017-07-12   \n",
              "36349     minutes 2018-05-02   \n",
              "204692     speech 2015-12-03   \n",
              "232001     speech 2022-05-30   \n",
              "259311  testimony 2004-09-08   \n",
              "\n",
              "                                                    title  \\\n",
              "73949                                  How to grow faster   \n",
              "247592  Anti-money-laundering efforts and related prop...   \n",
              "226870          U.S. Economic Outlook and Monetary Policy   \n",
              "174042              Financial Regulation: Past and Future   \n",
              "137697  The Global Saving Glut and the U.S. Current Ac...   \n",
              "...                                                   ...   \n",
              "281606  Semiannual Monetary Policy Report to the Congress   \n",
              "36349                                FOMC Meeting Minutes   \n",
              "204692  Financial Stability and Shadow Banks: What We ...   \n",
              "232001  Responding to High Inflation, with Some Though...   \n",
              "259311            Protecting the financial infrastructure   \n",
              "\n",
              "                                                  speaker  word_count  \\\n",
              "73949                        Governor Lawrence B. Lindsey           5   \n",
              "247592  Herbert A. Biern, Associate Director, Division...          24   \n",
              "226870                      Vice Chair Richard H. Clarida          33   \n",
              "174042                         Governor Daniel K. Tarullo          23   \n",
              "137697                           Governor Ben S. Bernanke          71   \n",
              "...                                                   ...         ...   \n",
              "281606                                       Janet Yellen          16   \n",
              "36349                                       Jerome Powell          25   \n",
              "204692                      Vice Chairman Stanley Fischer          39   \n",
              "232001                     Governor Christopher J. Waller          38   \n",
              "259311                             Governor Mark W. Olson          27   \n",
              "\n",
              "        decision  rate next_meeting  next_decision  next_rate  \\\n",
              "73949       <NA>   NaN   1996-11-13              0       5.25   \n",
              "247592      <NA>   NaN   1998-07-01              0       5.50   \n",
              "226870      <NA>   NaN   2021-03-17              0       0.00   \n",
              "174042      <NA>   NaN   2009-12-16              0       0.00   \n",
              "137697      <NA>   NaN   2005-03-22              1       2.75   \n",
              "...          ...   ...          ...            ...        ...   \n",
              "281606      <NA>   NaN   2017-09-20              1        NaN   \n",
              "36349          0   1.5   2018-06-13              1       1.75   \n",
              "204692      <NA>   NaN   2017-06-14              1        NaN   \n",
              "232001      <NA>   NaN   2022-06-15              1       1.50   \n",
              "259311      <NA>   NaN   2004-09-21              1       1.75   \n",
              "\n",
              "                                                     text    key  \\\n",
              "73949                        True, the deficit was lower.  12041   \n",
              "247592  Federal Reserve Role\\t\\tBanking organizations ...  13781   \n",
              "226870  We are committed to using our full range of to...  13522   \n",
              "174042  A good number were loosened through administra...  12928   \n",
              "137697  As a consequence of high desired saving and th...  12591   \n",
              "...                                                   ...    ...   \n",
              "281606  Specifically, such payments will be reinvested...  14140   \n",
              "36349   On the upside, recent fiscal policy changes co...    387   \n",
              "204692  Improved data collection, such as mentioned ea...  13231   \n",
              "232001  In recent months, as shown in slide 3, the Ban...  13594   \n",
              "259311  During that week, the disruption in air traffi...  13904   \n",
              "\n",
              "       predicted_roberta  \n",
              "73949            neutral  \n",
              "247592           neutral  \n",
              "226870          positive  \n",
              "174042          positive  \n",
              "137697           neutral  \n",
              "...                  ...  \n",
              "281606           neutral  \n",
              "36349           positive  \n",
              "204692           neutral  \n",
              "232001           neutral  \n",
              "259311           neutral  \n",
              "\n",
              "[28397 rows x 13 columns]"
            ]
          },
          "execution_count": 89,
          "metadata": {},
          "output_type": "execute_result"
        }
      ],
      "source": [
        "submuestra_df['predicted_roberta'] = preds_roberta; submuestra_df"
      ]
    },
    {
      "cell_type": "markdown",
      "metadata": {
        "id": "30xEr5eEWSMU"
      },
      "source": [
        "yiyanghkust/finbert-tone Model"
      ]
    },
    {
      "cell_type": "code",
      "execution_count": 90,
      "metadata": {
        "id": "gRxUnjEZWR3H"
      },
      "outputs": [
        {
          "data": {
            "application/vnd.jupyter.widget-view+json": {
              "model_id": "23340ce3125b4b0babba2b4205502a41",
              "version_major": 2,
              "version_minor": 0
            },
            "text/plain": [
              "Analizando sentimientos:   0%|          | 0/28397 [00:00<?, ?it/s]"
            ]
          },
          "metadata": {},
          "output_type": "display_data"
        }
      ],
      "source": [
        "finbert = BertForSequenceClassification.from_pretrained('yiyanghkust/finbert-tone',num_labels=3)\n",
        "tokenizer = BertTokenizer.from_pretrained('yiyanghkust/finbert-tone')\n",
        "\n",
        "from tqdm.auto import tqdm  # Importa la versión de tqdm adecuada para notebooks si es necesario\n",
        "tqdm.pandas(desc=\"Analizando sentimientos\")  # Prepara tqdm para trabajar con pandas\n",
        "\n",
        "# Define la pipeline de NLP\n",
        "nlp = pipeline(\"sentiment-analysis\", model=finbert, tokenizer=tokenizer)\n",
        "\n",
        "# Aplica la función de análisis de sentimiento y muestra la barra de progreso\n",
        "results = submuestra_df['text'].progress_apply(lambda x: nlp(x)[0])\n",
        "\n",
        "# Extrae el tono predicho y lo almacena en una nueva columna\n",
        "submuestra_df['predicted_finbertTone'] = results.apply(lambda x: x['label'].lower())"
      ]
    },
    {
      "cell_type": "markdown",
      "metadata": {},
      "source": [
        "ProsusAI/finbert Model\n"
      ]
    },
    {
      "cell_type": "code",
      "execution_count": 91,
      "metadata": {},
      "outputs": [],
      "source": [
        "tokenizer = AutoTokenizer.from_pretrained(\"ProsusAI/finbert\")\n",
        "model_finbert = AutoModelForSequenceClassification.from_pretrained(\"ProsusAI/finbert\")"
      ]
    },
    {
      "cell_type": "code",
      "execution_count": 92,
      "metadata": {},
      "outputs": [
        {
          "data": {
            "application/vnd.jupyter.widget-view+json": {
              "model_id": "c4ec4d540a714e218af2977db5cf10ac",
              "version_major": 2,
              "version_minor": 0
            },
            "text/plain": [
              "Procesando predicciones FinBERT:   0%|          | 0/28397 [00:00<?, ?it/s]"
            ]
          },
          "metadata": {},
          "output_type": "display_data"
        }
      ],
      "source": [
        "preds = []\n",
        "preds_proba = []\n",
        "tokenizer_kwargs = {\"padding\": True, \"truncation\": True, \"max_length\": 512}\n",
        "# Envuelve X con tqdm para visualizar la barra de progreso\n",
        "for x in tqdm(X_submuestra, desc=\"Procesando predicciones FinBERT\"):\n",
        "    with torch.no_grad():\n",
        "        input_sequence = tokenizer(x, return_tensors=\"pt\", **tokenizer_kwargs)\n",
        "        logits = model_finbert(**input_sequence).logits\n",
        "        scores = {\n",
        "            k: v\n",
        "            for k, v in zip(\n",
        "                model_finbert.config.id2label.values(),\n",
        "                scipy.special.softmax(logits.numpy().squeeze()),\n",
        "            )\n",
        "        }\n",
        "        sentimentFinbert = max(scores, key=scores.get)\n",
        "        probabilityFinbert = max(scores.values())\n",
        "        preds.append(sentimentFinbert)\n",
        "        preds_proba.append(probabilityFinbert)"
      ]
    },
    {
      "cell_type": "code",
      "execution_count": 93,
      "metadata": {},
      "outputs": [],
      "source": [
        "submuestra_df['predicted_finbert'] =preds"
      ]
    },
    {
      "cell_type": "markdown",
      "metadata": {},
      "source": [
        "hacer la columna sentiment en el dataset de entrenamiento teniendo en cuenta las agregaciones de key y cambiar de 1 a positive etc"
      ]
    },
    {
      "cell_type": "code",
      "execution_count": 94,
      "metadata": {},
      "outputs": [],
      "source": [
        "\n",
        "y = submuestra_df['next_decision'].to_list()\n",
        "y = [ 'neutral' if value == 0 else 'positive' if value == 1 else 'negative' for value in y ]\n"
      ]
    },
    {
      "cell_type": "markdown",
      "metadata": {
        "id": "vWVLyYeRWklM"
      },
      "source": [
        "## Model evaluation"
      ]
    },
    {
      "cell_type": "code",
      "execution_count": 95,
      "metadata": {
        "id": "Yu7olktNWoK3"
      },
      "outputs": [],
      "source": [
        "def evaluate_model_accuracy(model_name, y_pred):\n",
        "    accuracy = accuracy_score(y, y_pred)\n",
        "    print(f'Model: {model_name} - Accuracy-Score: {accuracy:.4f}')"
      ]
    },
    {
      "cell_type": "code",
      "execution_count": 96,
      "metadata": {
        "id": "RzJkRYlOWp_B"
      },
      "outputs": [
        {
          "name": "stdout",
          "output_type": "stream",
          "text": [
            "Model: ProsusAI/finbert - Accuracy-Score: 0.4265\n",
            "Model: cardiffnlp/twitter-roberta-base-sentiment - Accuracy-Score: 0.4856\n",
            "Model: yiyanghkust/finbert-tone - Accuracy-Score: 0.4360\n"
          ]
        }
      ],
      "source": [
        "evaluate_model_accuracy('ProsusAI/finbert', preds)\n",
        "evaluate_model_accuracy('cardiffnlp/twitter-roberta-base-sentiment', preds_roberta)\n",
        "evaluate_model_accuracy('yiyanghkust/finbert-tone', submuestra_df.predicted_finbertTone)"
      ]
    },
    {
      "cell_type": "code",
      "execution_count": 97,
      "metadata": {
        "id": "2I0vireUWve4"
      },
      "outputs": [
        {
          "name": "stdout",
          "output_type": "stream",
          "text": [
            "              precision    recall  f1-score   support\n",
            "\n",
            "    negative       0.13      0.25      0.17      3261\n",
            "     neutral       0.63      0.53      0.58     17906\n",
            "    positive       0.26      0.24      0.25      7230\n",
            "\n",
            "    accuracy                           0.43     28397\n",
            "   macro avg       0.34      0.34      0.33     28397\n",
            "weighted avg       0.48      0.43      0.45     28397\n",
            "\n",
            "              precision    recall  f1-score   support\n",
            "\n",
            "    negative       0.13      0.15      0.14      3261\n",
            "     neutral       0.62      0.66      0.64     17906\n",
            "    positive       0.25      0.20      0.22      7230\n",
            "\n",
            "    accuracy                           0.49     28397\n",
            "   macro avg       0.34      0.34      0.34     28397\n",
            "weighted avg       0.47      0.49      0.48     28397\n",
            "\n",
            "              precision    recall  f1-score   support\n",
            "\n",
            "    negative       0.13      0.28      0.18      3261\n",
            "     neutral       0.63      0.56      0.59     17906\n",
            "    positive       0.27      0.21      0.24      7230\n",
            "\n",
            "    accuracy                           0.44     28397\n",
            "   macro avg       0.34      0.35      0.33     28397\n",
            "weighted avg       0.48      0.44      0.45     28397\n",
            "\n"
          ]
        }
      ],
      "source": [
        "print(classification_report(y,preds))\n",
        "print(classification_report(y,preds_roberta))\n",
        "print(classification_report(y,submuestra_df.predicted_finbertTone))"
      ]
    },
    {
      "cell_type": "code",
      "execution_count": 98,
      "metadata": {
        "id": "NRg07ZAqWxmk"
      },
      "outputs": [
        {
          "data": {
            "image/png": "[encoded data removed]",
            "text/plain": [
              "<Figure size 1000x700 with 2 Axes>"
            ]
          },
          "metadata": {},
          "output_type": "display_data"
        }
      ],
      "source": [
        "cm = confusion_matrix(y, preds_roberta)\n",
        "\n",
        "plt.figure(figsize=(10, 7))\n",
        "sns.heatmap(cm, annot=True, fmt='g')\n",
        "plt.title('Confusion Matrix')\n",
        "plt.xlabel('Predicted labels')\n",
        "plt.ylabel('True labels')\n",
        "plt.show()"
      ]
    },
    {
      "cell_type": "code",
      "execution_count": 99,
      "metadata": {},
      "outputs": [
        {
          "data": {
            "image/png": "[encoded data removed]",
            "text/plain": [
              "<Figure size 1000x700 with 2 Axes>"
            ]
          },
          "metadata": {},
          "output_type": "display_data"
        }
      ],
      "source": [
        "cm = confusion_matrix(y, preds)\n",
        "\n",
        "plt.figure(figsize=(10, 7))\n",
        "sns.heatmap(cm, annot=True, fmt='g')\n",
        "plt.title('Confusion Matrix')\n",
        "plt.xlabel('Predicted labels')\n",
        "plt.ylabel('True labels')\n",
        "plt.show()"
      ]
    },
    {
      "cell_type": "code",
      "execution_count": 100,
      "metadata": {},
      "outputs": [
        {
          "data": {
            "image/png": "[encoded data removed]",
            "text/plain": [
              "<Figure size 1000x700 with 2 Axes>"
            ]
          },
          "metadata": {},
          "output_type": "display_data"
        }
      ],
      "source": [
        "cm = confusion_matrix(y, submuestra_df.predicted_finbertTone)\n",
        "\n",
        "plt.figure(figsize=(10, 7))\n",
        "sns.heatmap(cm, annot=True, fmt='g')\n",
        "plt.title('Confusion Matrix')\n",
        "plt.xlabel('Predicted labels')\n",
        "plt.ylabel('True labels')\n",
        "plt.show()"
      ]
    },
    {
      "cell_type": "markdown",
      "metadata": {
        "id": "FY9AV8pi8vqP"
      },
      "source": [
        "## Predict sentiment for every sentence\n",
        "### Define Encoder, Model and Prediction functions"
      ]
    },
    {
      "cell_type": "code",
      "execution_count": null,
      "metadata": {
        "colab": {
          "base_uri": "https://localhost:8080/",
          "height": 67,
          "referenced_widgets": [
            "83d5f1de19524738880b8b324342703e",
            "f2376456e5ca4950a9c85aac3b184e10",
            "f026b03cda8d44a082035f54c836a733",
            "1978891bb41c4e0c895c74601e4fbce4",
            "782072b0ffb343b2b50d850f0e295ca1",
            "d3a1b44212734d9ba87720e92191c312",
            "690f9a34fbb64ad483fd0a4f1af3513e",
            "04d6c00bd1604ab7bfd75786e80cf732",
            "2224d9302e35462baa4aa73afa5c8067",
            "01b07f4f6cd448a3b671154b698255a4",
            "7678d12f4fb54862a88be3d166fc13f1"
          ]
        },
        "id": "-945bIDC8vqP",
        "outputId": "14cf698a-ae20-41eb-d9cb-d9739b3e1cea"
      },
      "outputs": [
        {
          "data": {
            "application/vnd.jupyter.widget-view+json": {
              "model_id": "83d5f1de19524738880b8b324342703e",
              "version_major": 2,
              "version_minor": 0
            },
            "text/plain": [
              "HBox(children=(HTML(value='Downloading'), FloatProgress(value=0.0, max=231508.0), HTML(value='')))"
            ]
          },
          "metadata": {
            "tags": []
          },
          "output_type": "display_data"
        },
        {
          "name": "stdout",
          "output_type": "stream",
          "text": [
            "\n"
          ]
        }
      ],
      "source": [
        "tokenizer = BertTokenizer.from_pretrained('bert-base-uncased', do_lower_case=True)\n",
        "\n",
        "def bert_encoder(text, max_len=48):\n",
        "    \"\"\" Return embedded text vector as a list in max_len with a mask list\"\"\"\n",
        "    text_token = tokenizer.tokenize(text)\n",
        "    text_token = text_token[:max_len-2]\n",
        "    text_token = [\"[CLS]\"] + text_token + [\"[SEP]\"]\n",
        "    text_ids = tokenizer.convert_tokens_to_ids(text_token)\n",
        "    text_ids += [0] * (max_len - len(text_token))\n",
        "    pad_masks = [1] * len(text_token) + [0] * (max_len - len(text_token))\n",
        "    segment_ids = [0] * len(text_token) + [0] * (max_len - len(text_token))\n",
        "\n",
        "    return text_ids, pad_masks, segment_ids"
      ]
    },
    {
      "cell_type": "code",
      "execution_count": null,
      "metadata": {
        "id": "IFZ6c-lB8vqR"
      },
      "outputs": [],
      "source": [
        "def predict(text, model):\n",
        "    \"\"\"\n",
        "    Make a prediction on a single sentence.\n",
        "    Parameters\n",
        "    ----------\n",
        "        text : The string to make a prediction on.\n",
        "        model : The model to use for making the prediction.\n",
        "    Returns\n",
        "    -------\n",
        "        pred : Prediction vector\n",
        "    \"\"\"\n",
        "    text_ids, pad_masks, segment_ids = bert_encoder(text)\n",
        "\n",
        "    text_ids = torch.tensor(text_ids).unsqueeze(0)\n",
        "    pad_masks = torch.tensor(pad_masks).unsqueeze(0)\n",
        "    segment_ids = torch.tensor(segment_ids).unsqueeze(0)\n",
        "\n",
        "    outputs = model(text_ids, pad_masks, segment_ids)[0].detach()\n",
        "    pred = F.softmax(outputs, dim=1).cpu().numpy()\n",
        "\n",
        "    return pred"
      ]
    },
    {
      "cell_type": "code",
      "execution_count": null,
      "metadata": {
        "colab": {
          "base_uri": "https://localhost:8080/"
        },
        "id": "aTLjJJTq8vqT",
        "outputId": "90fd23a5-19b2-4eec-c390-340ff41cdac1"
      },
      "outputs": [
        {
          "data": {
            "text/plain": [
              "array([[0.16328089, 0.81788   , 0.01883917]], dtype=float32)"
            ]
          },
          "execution_count": 43,
          "metadata": {
            "tags": []
          },
          "output_type": "execute_result"
        }
      ],
      "source": [
        "# Check\n",
        "text = \"Google is working on self driving cars, I'm bullish on $goog\"\n",
        "predict(text, model)"
      ]
    },
    {
      "cell_type": "code",
      "execution_count": null,
      "metadata": {
        "id": "W5fFTqcT8vqW"
      },
      "outputs": [],
      "source": [
        "def score_text(df, text_column, model):\n",
        "    class_names = ['Negative', 'Neutral', 'Positive']\n",
        "    scores = []\n",
        "    predicts = []\n",
        "\n",
        "    for i, row in tqdm(df.iterrows(), total=df.shape[0]):\n",
        "        score = predict(row[text_column], model)\n",
        "        scores.append((score[0]))\n",
        "        predicts.append(class_names[int(np.argmax(score))])\n",
        "\n",
        "    df['score'] = scores\n",
        "    df['prediction'] = predicts\n",
        "\n",
        "    return df"
      ]
    },
    {
      "cell_type": "markdown",
      "metadata": {
        "id": "6RMKdbH7w5rH"
      },
      "source": [
        "### Run Prediction"
      ]
    },
    {
      "cell_type": "code",
      "execution_count": null,
      "metadata": {
        "colab": {
          "base_uri": "https://localhost:8080/"
        },
        "id": "Gs54C50k8vqY",
        "outputId": "30505b04-349c-4f35-f8d5-ba88491aebcf"
      },
      "outputs": [
        {
          "data": {
            "text/plain": [
              "['statement',\n",
              " 'minutes',\n",
              " 'presconf_script',\n",
              " 'speech',\n",
              " 'testimony',\n",
              " 'meeting_script']"
            ]
          },
          "execution_count": 45,
          "metadata": {
            "tags": []
          },
          "output_type": "execute_result"
        }
      ],
      "source": [
        "doc_types = train_sent_df['type'].unique().tolist()\n",
        "doc_types"
      ]
    },
    {
      "cell_type": "code",
      "execution_count": null,
      "metadata": {
        "colab": {
          "base_uri": "https://localhost:8080/",
          "height": 643,
          "referenced_widgets": [
            "97a3e97803f64adeb09d183d43d36389",
            "a02190d34c9f41a09d112a600a9af2fa",
            "001e32f39f6349809cdcd082e0de3c72",
            "993b328c14e443329b5b51681bc58320",
            "2bbbda77522b4e78afaca9d7e44b7045",
            "dab2758399d64eaab41f9df1cb5972bd",
            "cce91debbb87418995bdfa8d943d99f0",
            "ccdc9f8b4d6549afb00d3a91fc561c24",
            "ada7a908725d4820899fdc44a5ca86f3",
            "45163e3552cd4e3b8b322573f349bc50",
            "d7f9191794ba405bb6715c881f974be2",
            "7982c5a92ef14c27a3c2e91c084c73c3",
            "873d9b00e3234aba9bb822cb41e6ad8e",
            "35016596ecbc4fd8b27140e438cef894",
            "fc0e29aaa69343ceb27567be88979ed2",
            "299907ea7b5d4d078fe71c29f36c5524",
            "a9a9dc9070714190aebf0d9b4e42e84b",
            "d0c58aeff6ad4c4f91460646c2d260b5",
            "2acb969c41c84a209b0194f9eaf57ac1",
            "8c8a73e943ed4b7191726c5b8b1e173a",
            "41ddbf4f8c8046d5b51fed8264f535a4",
            "d79e99795f5d4ae18834a58b38e03a77",
            "a8610c1fcda746858e3eafaad775055c",
            "77688f2728f74aa78526a75546a8bd66",
            "2d2f91a380624742af8c6820ef0358e0",
            "1def12a914a9409f88076965bb87c4a0",
            "b170767164914f85ac9b36603110873d",
            "ad43c4e866744c4b8a93fdd3dbd7c8a8",
            "08c7350eba0b48ba8cb74fe78a0f6645",
            "479691ec7926436da0e3a8b7f8d98ac5",
            "a1749a66ce4d4800927241d1f0563ed4",
            "e3a0a5f1fa6e4a3fadbf92d336bc719d",
            "390a76bb59ef49788c84187f6047c1c3",
            "e7d38052fe494c219d598dfeefe2156f",
            "2c7aae901f5049c88201c15a8bb70e81",
            "8375c493577c49f0888670fd37a8694f",
            "bea58d7d8a8e4272bc51b1ea87342dc4",
            "a00d31e755774dbd8910157eb00e5f7b",
            "2cf3ec46de31438db99e6d3988e7ef76",
            "4b196c0a7e2f4deabea0761ead11ddf6",
            "d1db361a945140989b411e83cde02315",
            "11f1e03ebcc14cb994542f84d477ebb3",
            "378f42571b7b47be807cde7a9cb83d2b",
            "4047a09295ca46d5807b42642b0a5267",
            "6fe43eb8efc749deae67b59417d8b8f5",
            "2af64e5ce1e44575b7128de5df65ebe4",
            "56d76c6dabd84aa1adc7db5f22d03e41",
            "f9ad3ae607f949ea9ff107c283aed8ed",
            "0c3a2760fcdd4655a1565992b8158613",
            "131ad472eea0443c900a1371e7674398",
            "c58c932570b64929bce827e5eb64402e",
            "7e44c8c151c6447fa7d0632364a2a72e",
            "36c0a21a46b243d4ac8af1aabc1e9c79",
            "2d2a2191a97b41daba7555a529dacda3",
            "8f6d53168d6a41418f6a7568d2c09d7c",
            "b2fd2fdd2c884f32afc53df2d82c514e",
            "1e870fe3fe4e48b9918465a4dcf87be2",
            "79e886601b8c4287a23aad05c045742e",
            "25e95d4ad6424e238224fc7301c545ec",
            "42670a4957ae4ad38cc93d9076d85f3e",
            "6b204590e3844b54b1f405f7d79b0f65",
            "eeef0ac01a4d42839270152dd85c84f5",
            "c9f1d9a84b0f4743bc1ebc7fb66d3b8b",
            "4b95fdddf8c04bb3a0bc4a3eb35e8a25",
            "6891584e543748db8dc17ce7be5dc5c1",
            "3ff69a13cf254d96a3fa5767be82e73d"
          ]
        },
        "id": "0ToBof3M8vqa",
        "outputId": "0ab50b6f-1b66-4066-b71c-e72b30d78348",
        "scrolled": false
      },
      "outputs": [
        {
          "name": "stdout",
          "output_type": "stream",
          "text": [
            "Processing statement...\n"
          ]
        },
        {
          "data": {
            "application/vnd.jupyter.widget-view+json": {
              "model_id": "97a3e97803f64adeb09d183d43d36389",
              "version_major": 2,
              "version_minor": 0
            },
            "text/plain": [
              "HBox(children=(HTML(value=''), FloatProgress(value=0.0, max=3956.0), HTML(value='')))"
            ]
          },
          "metadata": {
            "tags": []
          },
          "output_type": "display_data"
        },
        {
          "name": "stdout",
          "output_type": "stream",
          "text": [
            "\n",
            "Processing minutes...\n"
          ]
        },
        {
          "name": "stderr",
          "output_type": "stream",
          "text": [
            "/usr/local/lib/python3.6/dist-packages/ipykernel_launcher.py:11: SettingWithCopyWarning: \n",
            "A value is trying to be set on a copy of a slice from a DataFrame.\n",
            "Try using .loc[row_indexer,col_indexer] = value instead\n",
            "\n",
            "See the caveats in the documentation: https://pandas.pydata.org/pandas-docs/stable/user_guide/indexing.html#returning-a-view-versus-a-copy\n",
            "  # This is added back by InteractiveShellApp.init_path()\n",
            "/usr/local/lib/python3.6/dist-packages/ipykernel_launcher.py:12: SettingWithCopyWarning: \n",
            "A value is trying to be set on a copy of a slice from a DataFrame.\n",
            "Try using .loc[row_indexer,col_indexer] = value instead\n",
            "\n",
            "See the caveats in the documentation: https://pandas.pydata.org/pandas-docs/stable/user_guide/indexing.html#returning-a-view-versus-a-copy\n",
            "  if sys.path[0] == '':\n"
          ]
        },
        {
          "data": {
            "application/vnd.jupyter.widget-view+json": {
              "model_id": "7982c5a92ef14c27a3c2e91c084c73c3",
              "version_major": 2,
              "version_minor": 0
            },
            "text/plain": [
              "HBox(children=(HTML(value=''), FloatProgress(value=0.0, max=44236.0), HTML(value='')))"
            ]
          },
          "metadata": {
            "tags": []
          },
          "output_type": "display_data"
        },
        {
          "name": "stdout",
          "output_type": "stream",
          "text": [
            "\n",
            "Processing presconf_script...\n"
          ]
        },
        {
          "data": {
            "application/vnd.jupyter.widget-view+json": {
              "model_id": "a8610c1fcda746858e3eafaad775055c",
              "version_major": 2,
              "version_minor": 0
            },
            "text/plain": [
              "HBox(children=(HTML(value=''), FloatProgress(value=0.0, max=12835.0), HTML(value='')))"
            ]
          },
          "metadata": {
            "tags": []
          },
          "output_type": "display_data"
        },
        {
          "name": "stdout",
          "output_type": "stream",
          "text": [
            "\n",
            "Processing speech...\n"
          ]
        },
        {
          "data": {
            "application/vnd.jupyter.widget-view+json": {
              "model_id": "e7d38052fe494c219d598dfeefe2156f",
              "version_major": 2,
              "version_minor": 0
            },
            "text/plain": [
              "HBox(children=(HTML(value=''), FloatProgress(value=0.0, max=38461.0), HTML(value='')))"
            ]
          },
          "metadata": {
            "tags": []
          },
          "output_type": "display_data"
        },
        {
          "name": "stdout",
          "output_type": "stream",
          "text": [
            "\n",
            "Processing testimony...\n"
          ]
        },
        {
          "data": {
            "application/vnd.jupyter.widget-view+json": {
              "model_id": "6fe43eb8efc749deae67b59417d8b8f5",
              "version_major": 2,
              "version_minor": 0
            },
            "text/plain": [
              "HBox(children=(HTML(value=''), FloatProgress(value=0.0, max=15598.0), HTML(value='')))"
            ]
          },
          "metadata": {
            "tags": []
          },
          "output_type": "display_data"
        },
        {
          "name": "stdout",
          "output_type": "stream",
          "text": [
            "\n",
            "Processing meeting_script...\n"
          ]
        },
        {
          "data": {
            "application/vnd.jupyter.widget-view+json": {
              "model_id": "b2fd2fdd2c884f32afc53df2d82c514e",
              "version_major": 2,
              "version_minor": 0
            },
            "text/plain": [
              "HBox(children=(HTML(value=''), FloatProgress(value=0.0, max=369718.0), HTML(value='')))"
            ]
          },
          "metadata": {
            "tags": []
          },
          "output_type": "display_data"
        }
      ],
      "source": [
        "result_df = pd.DataFrame([], columns=train_df.columns)\n",
        "for doc_type in doc_types:\n",
        "    print('Processing {}...'.format(doc_type))\n",
        "    train_sample = train_sent_df.loc[(train_sent_df['type']==doc_type)]\n",
        "    res = score_text(train_sample, 'text', model)\n",
        "    result_df = pd.concat([result_df, res], axis=0)\n",
        "\n",
        "result_df.head()"
      ]
    },
    {
      "cell_type": "code",
      "execution_count": null,
      "metadata": {
        "id": "Dz5jGZQy8vqc"
      },
      "outputs": [],
      "source": [
        "result_df = pd.concat([result_df, pd.get_dummies(result_df['prediction'])], axis=1)\n",
        "result_df.head()"
      ]
    },
    {
      "cell_type": "code",
      "execution_count": null,
      "metadata": {
        "id": "LIR6a24O8vqf",
        "scrolled": true
      },
      "outputs": [],
      "source": [
        "result_df"
      ]
    },
    {
      "cell_type": "code",
      "execution_count": null,
      "metadata": {
        "id": "xq4jnaR-8vqg"
      },
      "outputs": [],
      "source": [
        "train_result = train_df.copy()\n",
        "train_result['key2'] = train_result['type'] + \"_\" + train_result['key'].map(str)\n",
        "result_df['key2'] = result_df['type'] + \"_\" + result_df['key'].map(str)\n",
        "\n",
        "neg = result_df.groupby(by=['key2'])['Negative'].sum()\n",
        "neu = result_df.groupby(by=['key2'])['Neutral'].sum()\n",
        "pos = result_df.groupby(by=['key2'])['Positive'].sum()\n",
        "\n",
        "train_result = train_result.merge(neg, on='key2', how='left')\n",
        "train_result = train_result.merge(neu, on='key2', how='left')\n",
        "train_result = train_result.merge(pos, on='key2', how='left')\n",
        "\n",
        "train_result['sentiment'] = (train_result['Positive'] - train_result['Negative'])\n",
        "train_result.sort_values(['type', 'next_meeting'], inplace=True)\n",
        "\n",
        "print(\"The number of records: \", train_result.shape[0])\n",
        "print(\"Sentiment is null: \", train_result['sentiment'].isnull().sum())\n",
        "train_result.tail()"
      ]
    },
    {
      "cell_type": "code",
      "execution_count": null,
      "metadata": {
        "id": "39A_Gesi8vqi"
      },
      "outputs": [],
      "source": [
        "def get_doctype_df(df, doc_type):\n",
        "    if doc_type == 'all':\n",
        "        new_df = df\n",
        "    else:\n",
        "        new_df = df.loc[df['type']==doc_type]\n",
        "    new_df = new_df.groupby(by=['next_meeting', 'next_decision', 'next_rate'])['Negative', 'Neutral', 'Positive', 'sentiment'].sum()\n",
        "    new_df.reset_index(level=[1,2], inplace=True)\n",
        "    new_df.sort_index(inplace=True)\n",
        "    new_df['next_rate_change'] = new_df['next_rate'] - new_df['next_rate'].shift(1)\n",
        "    new_df['sentiment_pct'] = new_df['sentiment'] / (new_df['Positive'] + new_df['Negative'])\n",
        "    new_df['sentiment_chg'] = new_df['sentiment'] - new_df['sentiment'].shift(1)\n",
        "    return new_df"
      ]
    },
    {
      "cell_type": "code",
      "execution_count": null,
      "metadata": {
        "id": "CyixQVeg8vqk",
        "scrolled": true
      },
      "outputs": [],
      "source": [
        "stmt_df = get_doctype_df(train_result, 'statement')\n",
        "minutes_df = get_doctype_df(train_result, 'minutes')\n",
        "presconf_df = get_doctype_df(train_result, 'presconf_script')\n",
        "m_script_df = get_doctype_df(train_result, 'meeting_script')\n",
        "speech_df = get_doctype_df(train_result, 'speech')\n",
        "testimony_df = get_doctype_df(train_result, 'testimony')\n",
        "all_df = get_doctype_df(pd.concat([stmt_df, minutes_df, presconf_df, m_script_df, speech_df, testimony_df], axis=0), 'all')\n",
        "all_df"
      ]
    },
    {
      "cell_type": "code",
      "execution_count": null,
      "metadata": {
        "id": "JDfHPBw08vqm"
      },
      "outputs": [],
      "source": [
        "# Show corelations to target\n",
        "def align_yaxis(ax1, v1, ax2, v2):\n",
        "    \"\"\"adjust ax2 ylimit so that v2 in ax2 is aligned to v1 in ax1\"\"\"\n",
        "    _, y1 = ax1.transData.transform((0, v1))\n",
        "    _, y2 = ax2.transData.transform((0, v2))\n",
        "    inv = ax2.transData.inverted()\n",
        "    _, dy = inv.transform((0, 0)) - inv.transform((0, y1-y2))\n",
        "    miny, maxy = ax2.get_ylim()\n",
        "    ax2.set_ylim(miny+dy, maxy+dy)\n",
        "\n",
        "def plot_sentiment(df, doc_type, sent_column):\n",
        "    fig, (ax1, ax2)  = plt.subplots(2, 1, figsize=(15,10), gridspec_kw={'height_ratios': [3, 1]})\n",
        "    sns.lineplot(y=df[sent_column], x=df.index.get_level_values(0), ax=ax1)\n",
        "    ax1.set_xlim('1992-01-01', '2020-06-01')\n",
        "    ax1.set_ylabel('Sentiment: {}'.format(sent_column))\n",
        "    ax1.set_xlabel('Year')\n",
        "    ax1.fill_between(df.index.get_level_values(0), 0, df[sent_column], where=df[sent_column] > 0, facecolor='blue', alpha=0.2)\n",
        "    ax1.fill_between(df.index.get_level_values(0), 0, df[sent_column], where=df[sent_column] < 0, facecolor='red', alpha=0.2)\n",
        "    ax12 = ax1.twinx()\n",
        "    sns.lineplot(y=df['next_rate'].fillna(0), x=df.index.get_level_values(0), ax=ax12, color='green')\n",
        "    #ax12.yaxis.grid(True, which='major')\n",
        "    ax12.set_ylim(-4,8)\n",
        "    ax12.legend(\"Rate\", loc='upper right')\n",
        "    align_yaxis(ax1, 0, ax12, 0)\n",
        "    arrow_style = dict(facecolor='black', shrink=0.05)\n",
        "    ax12.annotate('QE1', xy=('2008-11-25', -2.5), xytext=('2008-11-25', -3.5), size=12, ha='right', arrowprops=arrow_style)\n",
        "    ax12.annotate('QE1+', xy=('2009-03-18', -2), xytext=('2009-03-18', -3), size=12, ha='center', arrowprops=arrow_style)\n",
        "    ax12.annotate('QE2', xy=('2010-11-03', 0), xytext=('2010-11-03', -1), size=12, ha='center', arrowprops=arrow_style)\n",
        "    ax12.annotate('QE2+', xy=('2011-09-21', -2), xytext=('2011-09-21', -3), size=12, ha='center', arrowprops=arrow_style)\n",
        "    ax12.annotate('QE3', xy=('2012-09-13', -2), xytext=('2012-09-13', -3), size=12, ha='center', arrowprops=arrow_style)\n",
        "    ax12.annotate('Tapering', xy=('2013-12-18', 0), xytext=('2013-12-18', -2), size=12, ha='center', arrowprops=arrow_style)\n",
        "\n",
        "\n",
        "    plt.title('Net sentiment over years with the next FED target rate', fontsize=16)\n",
        "\n",
        "    corr_columns = ['sentiment', 'sentiment_pct', 'sentiment_chg', 'next_decision', 'next_rate_change', 'next_rate']\n",
        "    sns.heatmap(df[corr_columns].astype(float).corr().iloc[:3], annot=True, fmt=\".2f\", ax=ax2, cmap= 'coolwarm', center=0, vmin=-1, vmax=1)\n",
        "    ax2.set_title(\"Correlation\", fontsize=16)\n",
        "\n",
        "    plt.suptitle(\"Doc Type: {}\".format(doc_type), fontsize=16)\n",
        "    plt.show()"
      ]
    },
    {
      "cell_type": "code",
      "execution_count": null,
      "metadata": {
        "id": "FMlXM5478vqn"
      },
      "outputs": [],
      "source": [
        "plot_sentiment(all_df, 'All', 'sentiment')"
      ]
    },
    {
      "cell_type": "code",
      "execution_count": null,
      "metadata": {
        "id": "zPFe6k908vqp"
      },
      "outputs": [],
      "source": [
        "plot_sentiment(stmt_df, 'Statement', 'sentiment')"
      ]
    },
    {
      "cell_type": "code",
      "execution_count": null,
      "metadata": {
        "id": "WuVAEtaQ8vqr"
      },
      "outputs": [],
      "source": [
        "plot_sentiment(minutes_df, 'Minutes', 'sentiment')"
      ]
    },
    {
      "cell_type": "code",
      "execution_count": null,
      "metadata": {
        "id": "IXdl9is68vqt"
      },
      "outputs": [],
      "source": [
        "plot_sentiment(presconf_df, 'Press Conference Script', 'sentiment')"
      ]
    },
    {
      "cell_type": "code",
      "execution_count": null,
      "metadata": {
        "id": "z8whxuqU8vqu"
      },
      "outputs": [],
      "source": [
        "plot_sentiment(m_script_df, 'Meeting Script', 'sentiment')"
      ]
    },
    {
      "cell_type": "code",
      "execution_count": null,
      "metadata": {
        "id": "T-B8O7Aq8vqw"
      },
      "outputs": [],
      "source": [
        "plot_sentiment(speech_df, 'Speech', 'sentiment')"
      ]
    },
    {
      "cell_type": "code",
      "execution_count": null,
      "metadata": {
        "id": "AXSyl84C8vqz"
      },
      "outputs": [],
      "source": [
        "plot_sentiment(testimony_df, 'Testimony', 'sentiment')"
      ]
    },
    {
      "cell_type": "markdown",
      "metadata": {
        "id": "Xv9qZz9kEByv"
      },
      "source": [
        "Looking at the result, it seems Sentiment and Minutes have a certain correlation with FED Rate up and down, whereas Speech has little to do with it."
      ]
    },
    {
      "cell_type": "markdown",
      "metadata": {
        "id": "EdEn3xMNw5sI"
      },
      "source": [
        "## Save Data"
      ]
    },
    {
      "cell_type": "code",
      "execution_count": null,
      "metadata": {
        "id": "mqwUOnPtw5sJ"
      },
      "outputs": [],
      "source": [
        "def save_data(df, file_name, dir_name=train_dir):\n",
        "    if not os.path.exists(dir_name):\n",
        "        os.mkdir(dir_name)\n",
        "\n",
        "    # Save results to a picke file\n",
        "    file = open(dir_name + file_name + '.pickle', 'wb')\n",
        "    pickle.dump(df, file)\n",
        "    file.close()\n",
        "\n",
        "    # Save results to a csv file\n",
        "    df.to_csv(dir_name + file_name + '.csv', index=True)"
      ]
    },
    {
      "cell_type": "code",
      "execution_count": null,
      "metadata": {
        "id": "lynjDKNCw5sJ"
      },
      "outputs": [],
      "source": [
        "# Save text data\n",
        "save_data(result_df, 'sentiment_bert_result')\n",
        "save_data(all_df, 'sentiment_bert_all')\n",
        "save_data(stmt_df, 'sentiment_bert_stmt')\n",
        "save_data(minutes_df, 'sentiment_bert_minutes')\n",
        "save_data(presconf_df, 'sentiment_bert_presconf')\n",
        "save_data(m_script_df, 'sentiment_bert_m_script')\n",
        "save_data(speech_df, 'sentiment_bert_speech')\n",
        "save_data(testimony_df, 'sentiment_bert_testimony')"
      ]
    },
    {
      "cell_type": "markdown",
      "metadata": {
        "id": "qQhWMwpr8vq5"
      },
      "source": [
        "## Model and Train"
      ]
    },
    {
      "cell_type": "code",
      "execution_count": null,
      "metadata": {
        "id": "nEPesyzF8vq5"
      },
      "outputs": [],
      "source": [
        "# Load data\n",
        "file = open(train_dir + 'train_df.pickle', 'rb')\n",
        "train_df = pickle.load(file)\n",
        "file.close()\n",
        "print(train_df.shape)"
      ]
    },
    {
      "cell_type": "code",
      "execution_count": null,
      "metadata": {
        "id": "uLXTU7G28vq7"
      },
      "outputs": [],
      "source": [
        "train_df.drop(columns=['statement', 'minutes', 'presconf_script', 'speech', 'testimony', 'text',\n",
        "                      'tokenized', 'token_ids', 'tokenized_text', 'tfidf_Negative',\n",
        "                       'tfidf_Positive', 'tfidf_Uncertainty', 'tfidf_Litigious',\n",
        "                       'tfidf_StrongModal', 'tfidf_Constraining'], inplace=True)\n",
        "\n",
        "#train_df.drop(columns=['tone','cos_sim_Negative',\n",
        "#       'cos_sim_Positive', 'cos_sim_Uncertainty', 'cos_sim_Litigious',\n",
        "#       'cos_sim_StrongModal', 'cos_sim_Constraining'], inplace=True)"
      ]
    },
    {
      "cell_type": "code",
      "execution_count": null,
      "metadata": {
        "id": "o2pVY9Ki8vq9"
      },
      "outputs": [],
      "source": [
        "# Use Statement Score and Minutes Score (Sentiment count, net score and change from the previous meeting) as inputs\n",
        "train_df = train_df.merge(stmt_df[['Negative', 'Neutral', 'Positive', 'sentiment', 'sentiment_chg']], left_index=True, right_index=True, how='left')\n",
        "train_df = train_df.merge(minutes_df[['Negative', 'Neutral', 'Positive', 'sentiment', 'sentiment_chg']], left_index=True, right_index=True, how='left', suffixes=('_stmt', '_minutes'))\n",
        "train_df"
      ]
    },
    {
      "cell_type": "code",
      "execution_count": null,
      "metadata": {
        "id": "sNRKFsa-8vq-"
      },
      "outputs": [],
      "source": [
        "from sklearn.metrics import accuracy_score, f1_score, plot_confusion_matrix\n",
        "from sklearn.pipeline import Pipeline\n",
        "\n",
        "from sklearn.ensemble import RandomForestClassifier, AdaBoostClassifier, GradientBoostingClassifier, ExtraTreesClassifier, VotingClassifier\n",
        "from sklearn.discriminant_analysis import LinearDiscriminantAnalysis\n",
        "from sklearn.linear_model import LogisticRegression, Perceptron, SGDClassifier\n",
        "from sklearn.neighbors import KNeighborsClassifier\n",
        "from sklearn.naive_bayes import GaussianNB\n",
        "from sklearn.tree import DecisionTreeClassifier\n",
        "from sklearn.neural_network import MLPClassifier\n",
        "from sklearn.svm import SVC, LinearSVC\n",
        "from sklearn.model_selection import GridSearchCV, cross_val_score, cross_validate, StratifiedKFold, learning_curve, RandomizedSearchCV, RepeatedStratifiedKFold\n",
        "from sklearn.impute import SimpleImputer\n",
        "\n",
        "import scikitplot as skplt"
      ]
    },
    {
      "cell_type": "code",
      "execution_count": null,
      "metadata": {
        "id": "Ihz5e5AE8vrA"
      },
      "outputs": [],
      "source": [
        "# Check the imputation\n",
        "data = train_df.values\n",
        "Xtmp, y1 = np.array(data[:, 1:], dtype=np.float64), np.array(data[:, 0], dtype=np.int64)+1\n",
        "print('The number of training data: %d' % len(Xtmp))\n",
        "print('Missing: %d' % sum(np.isnan(Xtmp).flatten()))\n",
        "imputer = SimpleImputer(strategy='mean')\n",
        "imputer.fit(Xtmp)\n",
        "X1 = imputer.transform(Xtmp)\n",
        "print('\\nImputed:')\n",
        "print('The number of training data: %d' % len(X1))\n",
        "print('Missing: %d' % sum(np.isnan(X1).flatten()))\n",
        "\n",
        "data2 = train_df.dropna().values\n",
        "X2, y2 = np.array(data2[:, 1:], dtype=np.float64), np.array(data2[:, 0], dtype=np.int64)+1\n",
        "print('\\nDropped:')\n",
        "print('The number of training data: %d' % len(X2))\n",
        "print('Missing: %d' % sum(np.isnan(X2).flatten()))"
      ]
    },
    {
      "cell_type": "code",
      "execution_count": null,
      "metadata": {
        "id": "NXRLGMOz8vrB"
      },
      "outputs": [],
      "source": [
        "# Check the pipeline with imputation\n",
        "model = RandomForestClassifier()\n",
        "imputer = SimpleImputer(strategy='mean')\n",
        "pipeline = Pipeline(steps=[('i', imputer), ('m', model)])\n",
        "cv = RepeatedStratifiedKFold(n_splits=10, n_repeats=3, random_state=42)\n",
        "\n",
        "# Random Forest\n",
        "scores = cross_val_score(pipeline, Xtmp, y1, scoring='accuracy', cv=cv, n_jobs=-1)\n",
        "print('Mean Accuracy: %.3f (%.3f)' % (np.mean(scores), np.std(scores)))\n",
        "scores = cross_val_score(pipeline, Xtmp, y1, scoring='f1_macro', cv=cv, n_jobs=-1)\n",
        "print('Mean Accuracy: %.3f (%.3f)' % (np.mean(scores), np.std(scores)))"
      ]
    },
    {
      "cell_type": "code",
      "execution_count": null,
      "metadata": {
        "id": "tJU19O248vrE"
      },
      "outputs": [],
      "source": [
        "random_state = 42\n",
        "#kfold = StratifiedKFold(n_splits=10, random_state=random_state)\n",
        "kfold = RepeatedStratifiedKFold(n_splits=10, n_repeats=3, random_state=42)\n",
        "imputer = SimpleImputer(strategy='mean')\n",
        "classifiers = []\n",
        "classifiers.append((\"SVC\", SVC(random_state=random_state)))\n",
        "classifiers.append((\"DecisionTree\", DecisionTreeClassifier(random_state=random_state)))\n",
        "classifiers.append((\"AdaBoost\", AdaBoostClassifier(DecisionTreeClassifier(random_state=random_state),random_state=random_state,learning_rate=0.1)))\n",
        "classifiers.append((\"RandomForest\", RandomForestClassifier(random_state=random_state)))\n",
        "classifiers.append((\"ExtraTrees\", ExtraTreesClassifier(random_state=random_state)))\n",
        "classifiers.append((\"GradientBoosting\", GradientBoostingClassifier(random_state=random_state)))\n",
        "classifiers.append((\"MultipleLayerPerceptron\", MLPClassifier(random_state=random_state)))\n",
        "classifiers.append((\"KNeighboors\", KNeighborsClassifier(n_neighbors=3)))\n",
        "classifiers.append((\"LogisticRegression\", LogisticRegression(random_state = random_state)))\n",
        "classifiers.append((\"LinearDiscriminantAnalysis\", LinearDiscriminantAnalysis()))\n",
        "classifiers.append((\"GaussianNB\", GaussianNB()))\n",
        "classifiers.append((\"Perceptron\", Perceptron()))\n",
        "classifiers.append((\"LinearSVC\", LinearSVC()))\n",
        "classifiers.append((\"SGD\", SGDClassifier()))\n",
        "\n",
        "cv_results = []\n",
        "classifier_name = []\n",
        "for classifier in classifiers :\n",
        "    cv_results.append(cross_validate(classifier[1], X1, y1, scoring=[\"accuracy\", \"f1_macro\"], cv=kfold, n_jobs=-1))\n",
        "    classifier_name.append(classifier[0])\n",
        "\n",
        "cv_acc_means = []\n",
        "cv_acc_std = []\n",
        "cv_f1_means = []\n",
        "cv_f1_std = []\n",
        "for cv_result in cv_results:\n",
        "    cv_acc_means.append(cv_result['test_accuracy'].mean())\n",
        "    cv_acc_std.append(cv_result['test_accuracy'].std())\n",
        "    cv_f1_means.append(cv_result['test_f1_macro'].mean())\n",
        "    cv_f1_std.append(cv_result['test_f1_macro'].std())\n",
        "\n",
        "cv_res = pd.DataFrame({\"Algorithm\": classifier_name,\n",
        "                       \"CVAccMeans\":cv_acc_means,\n",
        "                       \"CVAccErrors\": cv_acc_std,\n",
        "                       \"CVf1Means\":cv_f1_means,\n",
        "                       \"CVf1Errors\": cv_f1_std}).sort_values(by='CVAccMeans', ascending=False)\n",
        "\n",
        "cv_res"
      ]
    },
    {
      "cell_type": "code",
      "execution_count": null,
      "metadata": {
        "id": "47OQkEzM8vrK"
      },
      "outputs": [],
      "source": [
        "fig, ax = plt.subplots(figsize=(17,10))\n",
        "tidy = cv_res[['Algorithm', 'CVAccMeans', 'CVf1Means']].melt(id_vars='Algorithm').rename(columns=str.title)\n",
        "sns.barplot(x='Algorithm', y='Value', hue='Variable', data=tidy, ax=ax, **{'yerr':[cv_acc_std, cv_f1_std]})\n",
        "sns.despine(fig)\n",
        "ax.set_xlabel(\"Algorithm\", size=14)\n",
        "ax.set_ylabel(\"Score\", size=14)\n",
        "#ax.legend(['Accuracy', 'F1 Score'])\n",
        "ax.set_title(\"Cross validation scores\", size=16)\n",
        "for item in ax.get_xticklabels():\n",
        "    item.set_rotation(25)"
      ]
    },
    {
      "cell_type": "code",
      "execution_count": null,
      "metadata": {
        "id": "OBssGVRR8vrL"
      },
      "outputs": [],
      "source": [
        "def train_grid_search(estimator, param_grid, scoring, refit, cv=5, verbose=1, plot=True):\n",
        "    model = GridSearchCV(estimator, param_grid=param_grid, cv=cv, scoring=scoring, verbose=verbose,\n",
        "                         refit=refit, n_jobs=-1, return_train_score=True)\n",
        "    model.fit(X_train, Y_train)\n",
        "\n",
        "    results = model.cv_results_\n",
        "    best_estimator = model.best_estimator_\n",
        "    train_scores = results['mean_train_' + refit]\n",
        "    test_scores = results['mean_test_' + refit]\n",
        "    train_time = results['mean_fit_time']\n",
        "\n",
        "    print(\"Best Score: \", model.best_score_)\n",
        "    print(\"Best Param: \", model.best_params_)\n",
        "\n",
        "    pred_train = best_estimator.predict(X_train)\n",
        "    pred_test = best_estimator.predict(X_test)\n",
        "\n",
        "    acc, f1 = metric(Y_train, pred_train)\n",
        "    logger.info('Training - acc: %.8f, f1: %.8f' % (acc, f1))\n",
        "    acc, f1 = metric(Y_test, pred_test)\n",
        "    logger.info('Test - acc: %.8f, f1: %.8f' % (acc, f1))\n",
        "\n",
        "    if plot:\n",
        "        fig, (ax1, ax2, ax3) = plt.subplots(1, 3, figsize=(15, 5))\n",
        "        fig.suptitle(\"GridSearchCV Result\", fontsize=20)\n",
        "\n",
        "        ### First plot ###\n",
        "        ax1.plot(train_scores, test_scores, 'bo')\n",
        "        ax1.set_title(\"Train Score v.s. Test Score\", fontsize=16)\n",
        "        ax1.set_xlabel(\"Train Score\")\n",
        "        ax1.set_ylabel(\"Test Score\")\n",
        "        ax1.set_xlim(0, 1)\n",
        "        ax1.set_ylim(0, 1)\n",
        "        ax1.grid(True)\n",
        "\n",
        "        ### Second plot ###\n",
        "        x_param = list(param_grid.keys())[0]\n",
        "        x_param_min = np.min(list(param_grid.values())[0])\n",
        "        x_param_max = np.max(list(param_grid.values())[0])\n",
        "\n",
        "        ax2.set_title(\"Score over the first param\", fontsize=16)\n",
        "        ax2.set_xlabel(x_param)\n",
        "        ax2.set_ylabel(\"Score\")\n",
        "        ax2.set_xlim(x_param_min, x_param_max)\n",
        "        ax2.set_ylim(0, 1)\n",
        "\n",
        "        # Get the regular numpy array from the MaskedArray\n",
        "        X_axis = np.array(results['param_' + x_param].data, dtype=float)\n",
        "\n",
        "        for scorer, color in zip(sorted(scoring), ['r', 'g']):\n",
        "            for sample, style in (('train', '--'), ('test', '-')):\n",
        "                sample_score_mean = results['mean_%s_%s' % (sample, scorer)]\n",
        "                sample_score_std = results['std_%s_%s' % (sample, scorer)]\n",
        "                ax2.fill_between(X_axis, sample_score_mean - sample_score_std,\n",
        "                                sample_score_mean + sample_score_std,\n",
        "                                alpha=0.1 if sample == 'test' else 0, color=color)\n",
        "                ax2.plot(X_axis, sample_score_mean, style, color=color,\n",
        "                        alpha=1 if sample == 'test' else 0.7,\n",
        "                        label=\"%s (%s)\" % (scorer, sample.capitalize()))\n",
        "\n",
        "            best_index = np.nonzero(results['rank_test_%s' % scorer] == 1)[0][0]\n",
        "            best_score = results['mean_test_%s' % scorer][best_index]\n",
        "\n",
        "            # Plot a dotted vertical line at the best score for that scorer marked by x\n",
        "            ax2.plot([X_axis[best_index], ] * 2, [0, best_score],\n",
        "                    linestyle='-.', color=color, marker='x', markeredgewidth=3, ms=8)\n",
        "\n",
        "            # Annotate the best score for that scorer\n",
        "            ax2.annotate(\"%0.2f\" % best_score,\n",
        "                        (X_axis[best_index], best_score + 0.005))\n",
        "\n",
        "        ax2.legend(loc=\"best\")\n",
        "        ax2.grid(False)\n",
        "\n",
        "        ### Third plot (Learning Curve) ###\n",
        "        # Calculate learning curve (Accuracy)\n",
        "        lc_acc_train_sizes, lc_acc_train_scores, lc_acc_test_scores = learning_curve(\n",
        "            best_estimator, X_train, Y_train, cv=kfold, n_jobs=-1, scoring=scoring['Accuracy'],\n",
        "            train_sizes=np.linspace(.1, 1.0, 5))\n",
        "        lc_acc_train_mean = np.mean(lc_acc_train_scores, axis=1)\n",
        "        lc_acc_train_std = np.std(lc_acc_train_scores, axis=1)\n",
        "        lc_acc_test_mean = np.mean(lc_acc_test_scores, axis=1)\n",
        "        lc_acc_test_std = np.std(lc_acc_test_scores, axis=1)\n",
        "\n",
        "        # Calculate learning curve (F1 Score)\n",
        "        lc_f1_train_sizes, lc_f1_train_scores, lc_f1_test_scores = learning_curve(\n",
        "            best_estimator, X_train, Y_train, cv=kfold, n_jobs=-1, scoring=scoring['F1'],\n",
        "            train_sizes=np.linspace(.1, 1.0, 5))\n",
        "        lc_f1_train_mean = np.mean(lc_f1_train_scores, axis=1)\n",
        "        lc_f1_train_std = np.std(lc_f1_train_scores, axis=1)\n",
        "        lc_f1_test_mean = np.mean(lc_f1_test_scores, axis=1)\n",
        "        lc_f1_test_std = np.std(lc_f1_test_scores, axis=1)\n",
        "\n",
        "        ax3.set_title(\"Learning Curve\", fontsize=16)\n",
        "        ax3.set_xlabel(\"Training examples\")\n",
        "        ax3.set_ylabel(\"Score\")\n",
        "\n",
        "        # Plot learning curve (Accuracy)\n",
        "        ax3.fill_between(lc_acc_train_sizes,\n",
        "                         lc_acc_train_mean - lc_acc_train_std,\n",
        "                         lc_acc_train_mean + lc_acc_train_std, alpha=0.1, color=\"r\")\n",
        "        ax3.fill_between(lc_acc_train_sizes,\n",
        "                         lc_acc_test_mean - lc_acc_test_std,\n",
        "                         lc_acc_test_mean + lc_acc_test_std, alpha=0.1, color=\"r\")\n",
        "        ax3.plot(lc_acc_train_sizes, lc_acc_train_mean, 'o--', color=\"r\",\n",
        "                 label=\"Accuracy (Train)\")\n",
        "        ax3.plot(lc_acc_train_sizes, lc_acc_test_mean, 'o-', color=\"r\",\n",
        "                 label=\"Accuracy (Test)\")\n",
        "\n",
        "        # Plot learning curve (F1 Score)\n",
        "        ax3.fill_between(lc_f1_train_sizes,\n",
        "                         lc_f1_train_mean - lc_f1_train_std,\n",
        "                         lc_f1_train_mean + lc_f1_train_std, alpha=0.1, color=\"g\")\n",
        "        ax3.fill_between(lc_f1_train_sizes,\n",
        "                         lc_f1_test_mean - lc_f1_test_std,\n",
        "                         lc_f1_test_mean + lc_f1_test_std, alpha=0.1, color=\"g\")\n",
        "        ax3.plot(lc_f1_train_sizes, lc_f1_train_mean, 'o--', color=\"g\",\n",
        "                 label=\"F1 (Train)\")\n",
        "        ax3.plot(lc_f1_train_sizes, lc_f1_test_mean, 'o-', color=\"g\",\n",
        "                 label=\"F1 (Test)\")\n",
        "\n",
        "        ax3.legend(loc=\"best\")\n",
        "        ax3.grid(True)\n",
        "\n",
        "        plt.tight_layout(pad=3.0)\n",
        "        plt.show()\n",
        "\n",
        "        ### Confusion Matrix ###\n",
        "        class_names = ['Lower', 'Hold', 'Raise']\n",
        "        fig, ((ax1, ax2), (ax3, ax4)) = plt.subplots(2, 2, figsize=(15, 10))\n",
        "        fig.suptitle(\"Confusion Matrix\", fontsize=20)\n",
        "\n",
        "        plot_confusion_matrix(best_estimator, X_train, Y_train, display_labels=class_names,\n",
        "                              cmap=plt.cm.Blues, normalize=None, ax=ax1)\n",
        "        ax1.set_title(\"Train Data: Actual Count\")\n",
        "        ax1.grid(False)\n",
        "\n",
        "        plot_confusion_matrix(best_estimator, X_train, Y_train, display_labels=class_names,\n",
        "                              cmap=plt.cm.Blues, normalize='all', ax=ax2)\n",
        "        ax2.set_title=(\"Train Data: Normalized\")\n",
        "        ax2.grid(False)\n",
        "\n",
        "        plot_confusion_matrix(best_estimator, X_test, Y_test, display_labels=class_names,\n",
        "                              cmap=plt.cm.Blues, normalize=None, ax=ax3)\n",
        "        ax3.set_title=(\"Test Data: Actual Count\")\n",
        "        ax3.grid(False)\n",
        "\n",
        "        plot_confusion_matrix(best_estimator, X_test, Y_test, display_labels=class_names,\n",
        "                              cmap=plt.cm.Blues, normalize='all', ax=ax4)\n",
        "        ax4.set_title(\"Test Data: Normalized\")\n",
        "        ax4.grid(False)\n",
        "\n",
        "        plt.tight_layout(pad=3.0)\n",
        "        plt.show()\n",
        "\n",
        "    return model\n"
      ]
    },
    {
      "cell_type": "code",
      "execution_count": null,
      "metadata": {
        "id": "53PGU1qn8vrM"
      },
      "outputs": [],
      "source": [
        "# Define metrics\n",
        "# Here, use F1 Macro to evaluate the model.\n",
        "def metric(y_true, y_pred):\n",
        "    acc = accuracy_score(y_true, y_pred)\n",
        "    f1 = f1_score(y_true, y_pred, average='macro')\n",
        "    return acc, f1\n",
        "\n",
        "scoring = {'Accuracy': 'accuracy', 'F1': 'f1_macro'}\n",
        "refit = 'F1'"
      ]
    },
    {
      "cell_type": "code",
      "execution_count": null,
      "metadata": {
        "id": "1Q6V9VgH8vrP"
      },
      "outputs": [],
      "source": [
        "X_train, X_test, Y_train, Y_test = \\\n",
        "model_selection.train_test_split(X1, y1, test_size=0.2, shuffle=True)"
      ]
    },
    {
      "cell_type": "code",
      "execution_count": null,
      "metadata": {
        "id": "A84UVpnB8vrQ"
      },
      "outputs": [],
      "source": [
        "# Define Classifier\n",
        "DTC = DecisionTreeClassifier()\n",
        "ada_clf = AdaBoostClassifier(DTC, random_state=rand_seed)\n",
        "\n",
        "#Perform Grid Search\n",
        "param_grid = {'n_estimators': np.linspace(1, 100, 20, dtype=int),\n",
        "              'base_estimator__criterion': ['gini'],\n",
        "              'base_estimator__splitter': ['random'],\n",
        "              'algorithm': ['SAMME'],\n",
        "              'learning_rate': [0.0001]}\n",
        "\n",
        "ada_model = train_grid_search(ada_clf, param_grid, scoring, refit, cv=kfold, verbose=1, plot=True)\n",
        "ada_best = ada_model.best_estimator_"
      ]
    },
    {
      "cell_type": "code",
      "execution_count": null,
      "metadata": {
        "id": "AUrpQ_i18vrT"
      },
      "outputs": [],
      "source": [
        "# Define Classifier\n",
        "DTC = DecisionTreeClassifier()\n",
        "ada_clf = AdaBoostClassifier(DTC, random_state=rand_seed)\n",
        "#ExtraTrees\n",
        "ext_clf = ExtraTreesClassifier()\n",
        "# Perform Grid Search\n",
        "param_grid = {'n_estimators': np.linspace(1, 200, 10, dtype=int),\n",
        "              'min_samples_split': [4],\n",
        "              'min_samples_leaf': [8],\n",
        "              'max_features': [8],\n",
        "              'max_depth': [None],\n",
        "              'criterion': ['gini'],\n",
        "              'bootstrap': [False]}\n",
        "\n",
        "ext_model = train_grid_search(ext_clf, param_grid, scoring, refit, cv=kfold, verbose=1, plot=True)\n",
        "ext_best = ext_model.best_estimator_"
      ]
    },
    {
      "cell_type": "code",
      "execution_count": null,
      "metadata": {
        "id": "JlbJ4U5h8vrU"
      },
      "outputs": [],
      "source": [
        "# Random Forest\n",
        "rf_clf = RandomForestClassifier()\n",
        "\n",
        "# Perform Grid Search\n",
        "param_grid = {'n_estimators': np.linspace(1, 500, 10, dtype=int),\n",
        "              'min_samples_split': [8],\n",
        "              'min_samples_leaf': [8],\n",
        "              'max_features': [8],\n",
        "              'max_depth': [None],\n",
        "              'criterion': ['gini'],\n",
        "              'bootstrap': [False]}\n",
        "\n",
        "rf_model = train_grid_search(rf_clf, param_grid, scoring, refit, cv=kfold, verbose=1, plot=True)\n",
        "rf_best = rf_model.best_estimator_"
      ]
    },
    {
      "cell_type": "code",
      "execution_count": null,
      "metadata": {
        "id": "1EC_Y4jD8vrX"
      },
      "outputs": [],
      "source": [
        "# Gradient boosting\n",
        "gb_clf = GradientBoostingClassifier(random_state=2)\n",
        "\n",
        "# Perform Grid Search\n",
        "param_grid = {'n_estimators': [1, 20, 50, 80, 130, 200, 300, 400],\n",
        "              'min_samples_leaf': [16],\n",
        "              'max_features': [0.8],\n",
        "              'max_depth': [4],\n",
        "              'loss': ['deviance'],\n",
        "              'learning_rate': [0.05]}\n",
        "\n",
        "gb_model = train_grid_search(gb_clf, param_grid, scoring, refit, cv=kfold, verbose=1, plot=True)\n",
        "gb_best = gb_model.best_estimator_"
      ]
    },
    {
      "cell_type": "code",
      "execution_count": null,
      "metadata": {
        "id": "FCj2_5JP8vrZ"
      },
      "outputs": [],
      "source": [
        "nrows = ncols = 2\n",
        "fig, axes = plt.subplots(nrows = nrows, ncols = ncols, sharex=\"all\", figsize=(15,15))\n",
        "\n",
        "names_classifiers = [(\"AdaBoosting\", ada_best),\n",
        "                     (\"ExtraTrees\", ext_best),\n",
        "                     (\"RandomForest\", rf_best),\n",
        "                     (\"GradientBoosting\",gb_best)]\n",
        "\n",
        "nclassifier = 0\n",
        "for row in range(nrows):\n",
        "    for col in range(ncols):\n",
        "        name = names_classifiers[nclassifier][0]\n",
        "        classifier = names_classifiers[nclassifier][1]\n",
        "        indices = np.argsort(classifier.feature_importances_)[::-1][:40]\n",
        "        g = sns.barplot(y=train_df.columns[indices][:40], x=classifier.feature_importances_[indices][:40] , orient='h',ax=axes[row][col])\n",
        "        g.set_xlabel(\"Relative importance\",fontsize=12)\n",
        "        g.set_ylabel(\"Features\",fontsize=12)\n",
        "        g.tick_params(labelsize=9)\n",
        "        g.set_title(name + \" feature importance\")\n",
        "        nclassifier += 1"
      ]
    },
    {
      "cell_type": "code",
      "execution_count": null,
      "metadata": {
        "id": "ilIa-_zY8vra"
      },
      "outputs": [],
      "source": [
        "nrows = ncols = 2\n",
        "fig, axes = plt.subplots(nrows = nrows, ncols = ncols, sharex=\"all\", figsize=(15,15))\n",
        "\n",
        "names_classifiers = [(\"AdaBoosting\", ada_best),\n",
        "                     (\"ExtraTrees\", ext_best),\n",
        "                     (\"RandomForest\", rf_best),\n",
        "                     (\"GradientBoosting\",gb_best)]\n",
        "\n",
        "nclassifier = 0\n",
        "for row in range(nrows):\n",
        "    for col in range(ncols):\n",
        "        name = names_classifiers[nclassifier][0]\n",
        "        classifier = names_classifiers[nclassifier][1]\n",
        "        indices = np.argsort(classifier.feature_importances_)[::-1][:40]\n",
        "        g = sns.barplot(y=train_df.columns[indices][:40], x=classifier.feature_importances_[indices][:40] , orient='h',ax=axes[row][col])\n",
        "        g.set_xlabel(\"Relative importance\",fontsize=12)\n",
        "        g.set_ylabel(\"Features\",fontsize=12)\n",
        "        g.tick_params(labelsize=9)\n",
        "        g.set_title(name + \" feature importance\")\n",
        "        nclassifier += 1"
      ]
    },
    {
      "cell_type": "code",
      "execution_count": null,
      "metadata": {
        "id": "8G1k7jQX8vrb"
      },
      "outputs": [],
      "source": [
        "test_ada = pd.Series(ada_best.predict(X_test), name=\"Ada\")\n",
        "test_ext = pd.Series(ext_best.predict(X_test), name=\"ExtC\")\n",
        "test_rf = pd.Series(rf_best.predict(X_test), name=\"RFC\")\n",
        "test_gb = pd.Series(gb_best.predict(X_test), name=\"GBC\")\n",
        "\n",
        "# Concatenate all classifier results\n",
        "ensemble_results = pd.concat([test_ada, test_ext, test_rf, test_gb],axis=1)\n",
        "\n",
        "g = sns.heatmap(ensemble_results.corr(),annot=True, cmap=\"coolwarm\", center=0.7)"
      ]
    },
    {
      "cell_type": "code",
      "execution_count": null,
      "metadata": {
        "id": "tBitZlQ68vrd"
      },
      "outputs": [],
      "source": [
        "# The same including all the other classifiers\n",
        "test_resuts = []\n",
        "\n",
        "for classifier in classifiers:\n",
        "    estimator = classifier[1].fit(X_train, Y_train)\n",
        "    test_resuts.append(pd.Series(estimator.predict(X_test), name=classifier[0]))\n",
        "\n",
        "base_results = pd.concat(test_resuts, axis=1)\n",
        "\n",
        "plt.figure(figsize=(20,10))\n",
        "g = sns.heatmap(base_results.corr(),annot=True, cmap=\"coolwarm\", center=0.7)"
      ]
    },
    {
      "cell_type": "code",
      "execution_count": null,
      "metadata": {
        "id": "JhmsCHaj8vrf"
      },
      "outputs": [],
      "source": [
        "# Voting Classifier with \"soft\" to take all the probability into account\n",
        "voting_best = VotingClassifier(estimators=[('adac', ada_best),\n",
        "                                           ('extc', ext_best),\n",
        "                                           ('rfc', rf_best),\n",
        "                                           ('gbc', gb_best)], voting='soft', n_jobs=-1)\n",
        "\n",
        "# # Voting Classifier with \"soft\" to take all the probability into account\n",
        "# voting_base = VotingClassifier(estimators=classifiers, voting='soft', n_jobs=4)\n",
        "\n",
        "voting_best.fit(X_train, Y_train)"
      ]
    },
    {
      "cell_type": "code",
      "execution_count": null,
      "metadata": {
        "id": "Tmnn3ynV8vrh"
      },
      "outputs": [],
      "source": [
        "# Predict\n",
        "voting_pred_train = voting_best.predict(X_train)\n",
        "voting_pred_test = voting_best.predict(X_test)\n",
        "\n",
        "acc, f1 = metric(Y_train, voting_pred_train)\n",
        "logger.info('Train - acc: %.8f, f1: %.8f' % (acc, f1))\n",
        "\n",
        "acc, f1 = metric(Y_test, voting_pred_test)\n",
        "logger.info('Test - acc: %.8f, f1: %.8f' % (acc, f1))"
      ]
    },
    {
      "cell_type": "code",
      "execution_count": null,
      "metadata": {
        "id": "nto2wXuK8vri"
      },
      "outputs": [],
      "source": []
    },
    {
      "cell_type": "code",
      "execution_count": null,
      "metadata": {
        "id": "TqwPs6D78vrk"
      },
      "outputs": [],
      "source": []
    }
  ],
  "metadata": {
    "accelerator": "GPU",
    "colab": {
      "provenance": []
    },
    "kernelspec": {
      "display_name": "Python 3",
      "language": "python",
      "name": "python3"
    },
    "language_info": {
      "codemirror_mode": {
        "name": "ipython",
        "version": 3
      },
      "file_extension": ".py",
      "mimetype": "text/x-python",
      "name": "python",
      "nbconvert_exporter": "python",
      "pygments_lexer": "ipython3",
      "version": "3.10.11"
    },
    "widgets": {
      "application/vnd.jupyter.widget-state+json": {
        "001e32f39f6349809cdcd082e0de3c72": {
          "model_module": "@jupyter-widgets/controls",
          "model_module_version": "1.5.0",
          "model_name": "HTMLModel",
          "state": {
            "_dom_classes": [],
            "_model_module": "@jupyter-widgets/controls",
            "_model_module_version": "1.5.0",
            "_model_name": "HTMLModel",
            "_view_count": null,
            "_view_module": "@jupyter-widgets/controls",
            "_view_module_version": "1.5.0",
            "_view_name": "HTMLView",
            "description": "",
            "description_tooltip": null,
            "layout": "IPY_MODEL_cce91debbb87418995bdfa8d943d99f0",
            "placeholder": "​",
            "style": "IPY_MODEL_dab2758399d64eaab41f9df1cb5972bd",
            "value": "100%"
          }
        },
        "01b07f4f6cd448a3b671154b698255a4": {
          "model_module": "@jupyter-widgets/controls",
          "model_module_version": "1.5.0",
          "model_name": "DescriptionStyleModel",
          "state": {
            "_model_module": "@jupyter-widgets/controls",
            "_model_module_version": "1.5.0",
            "_model_name": "DescriptionStyleModel",
            "_view_count": null,
            "_view_module": "@jupyter-widgets/base",
            "_view_module_version": "1.2.0",
            "_view_name": "StyleView",
            "description_width": ""
          }
        },
        "04d6c00bd1604ab7bfd75786e80cf732": {
          "model_module": "@jupyter-widgets/controls",
          "model_module_version": "1.5.0",
          "model_name": "ProgressStyleModel",
          "state": {
            "_model_module": "@jupyter-widgets/controls",
            "_model_module_version": "1.5.0",
            "_model_name": "ProgressStyleModel",
            "_view_count": null,
            "_view_module": "@jupyter-widgets/base",
            "_view_module_version": "1.2.0",
            "_view_name": "StyleView",
            "bar_color": null,
            "description_width": ""
          }
        },
        "07128ab681ce4623a913cd4f4c725303": {
          "model_module": "@jupyter-widgets/controls",
          "model_module_version": "1.5.0",
          "model_name": "FloatProgressModel",
          "state": {
            "_dom_classes": [],
            "_model_module": "@jupyter-widgets/controls",
            "_model_module_version": "1.5.0",
            "_model_name": "FloatProgressModel",
            "_view_count": null,
            "_view_module": "@jupyter-widgets/controls",
            "_view_module_version": "1.5.0",
            "_view_name": "ProgressView",
            "bar_style": "success",
            "description": "",
            "description_tooltip": null,
            "layout": "IPY_MODEL_25114fd15eb04827865bf9c71aa6ac4a",
            "max": 4597,
            "min": 0,
            "orientation": "horizontal",
            "style": "IPY_MODEL_52d3bfdc6c9e48be8e215d44a7de8a90",
            "value": 4597
          }
        },
        "082f645b31bc40d0a3dcf67b61059fb0": {
          "model_module": "@jupyter-widgets/controls",
          "model_module_version": "1.5.0",
          "model_name": "HTMLModel",
          "state": {
            "_dom_classes": [],
            "_model_module": "@jupyter-widgets/controls",
            "_model_module_version": "1.5.0",
            "_model_name": "HTMLModel",
            "_view_count": null,
            "_view_module": "@jupyter-widgets/controls",
            "_view_module_version": "1.5.0",
            "_view_name": "HTMLView",
            "description": "",
            "description_tooltip": null,
            "layout": "IPY_MODEL_b5f3eda2ecaf46e9ac55abbc2bbc14fe",
            "placeholder": "​",
            "style": "IPY_MODEL_7cbf4b07bf8b41e19fba653180871723",
            "value": "100%"
          }
        },
        "08c7350eba0b48ba8cb74fe78a0f6645": {
          "model_module": "@jupyter-widgets/base",
          "model_module_version": "1.2.0",
          "model_name": "LayoutModel",
          "state": {
            "_model_module": "@jupyter-widgets/base",
            "_model_module_version": "1.2.0",
            "_model_name": "LayoutModel",
            "_view_count": null,
            "_view_module": "@jupyter-widgets/base",
            "_view_module_version": "1.2.0",
            "_view_name": "LayoutView",
            "align_content": null,
            "align_items": null,
            "align_self": null,
            "border": null,
            "bottom": null,
            "display": null,
            "flex": null,
            "flex_flow": null,
            "grid_area": null,
            "grid_auto_columns": null,
            "grid_auto_flow": null,
            "grid_auto_rows": null,
            "grid_column": null,
            "grid_gap": null,
            "grid_row": null,
            "grid_template_areas": null,
            "grid_template_columns": null,
            "grid_template_rows": null,
            "height": null,
            "justify_content": null,
            "justify_items": null,
            "left": null,
            "margin": null,
            "max_height": null,
            "max_width": null,
            "min_height": null,
            "min_width": null,
            "object_fit": null,
            "object_position": null,
            "order": null,
            "overflow": null,
            "overflow_x": null,
            "overflow_y": null,
            "padding": null,
            "right": null,
            "top": null,
            "visibility": null,
            "width": null
          }
        },
        "0c3a2760fcdd4655a1565992b8158613": {
          "model_module": "@jupyter-widgets/controls",
          "model_module_version": "1.5.0",
          "model_name": "HTMLModel",
          "state": {
            "_dom_classes": [],
            "_model_module": "@jupyter-widgets/controls",
            "_model_module_version": "1.5.0",
            "_model_name": "HTMLModel",
            "_view_count": null,
            "_view_module": "@jupyter-widgets/controls",
            "_view_module_version": "1.5.0",
            "_view_name": "HTMLView",
            "description": "",
            "description_tooltip": null,
            "layout": "IPY_MODEL_8f6d53168d6a41418f6a7568d2c09d7c",
            "placeholder": "​",
            "style": "IPY_MODEL_2d2a2191a97b41daba7555a529dacda3",
            "value": " 15598/15598 [45:43&lt;00:00,  5.68it/s]"
          }
        },
        "0e4ff8c74082429ab44559bdc85657ab": {
          "model_module": "@jupyter-widgets/controls",
          "model_module_version": "1.5.0",
          "model_name": "DescriptionStyleModel",
          "state": {
            "_model_module": "@jupyter-widgets/controls",
            "_model_module_version": "1.5.0",
            "_model_name": "DescriptionStyleModel",
            "_view_count": null,
            "_view_module": "@jupyter-widgets/base",
            "_view_module_version": "1.2.0",
            "_view_name": "StyleView",
            "description_width": ""
          }
        },
        "11f1e03ebcc14cb994542f84d477ebb3": {
          "model_module": "@jupyter-widgets/base",
          "model_module_version": "1.2.0",
          "model_name": "LayoutModel",
          "state": {
            "_model_module": "@jupyter-widgets/base",
            "_model_module_version": "1.2.0",
            "_model_name": "LayoutModel",
            "_view_count": null,
            "_view_module": "@jupyter-widgets/base",
            "_view_module_version": "1.2.0",
            "_view_name": "LayoutView",
            "align_content": null,
            "align_items": null,
            "align_self": null,
            "border": null,
            "bottom": null,
            "display": null,
            "flex": null,
            "flex_flow": null,
            "grid_area": null,
            "grid_auto_columns": null,
            "grid_auto_flow": null,
            "grid_auto_rows": null,
            "grid_column": null,
            "grid_gap": null,
            "grid_row": null,
            "grid_template_areas": null,
            "grid_template_columns": null,
            "grid_template_rows": null,
            "height": null,
            "justify_content": null,
            "justify_items": null,
            "left": null,
            "margin": null,
            "max_height": null,
            "max_width": null,
            "min_height": null,
            "min_width": null,
            "object_fit": null,
            "object_position": null,
            "order": null,
            "overflow": null,
            "overflow_x": null,
            "overflow_y": null,
            "padding": null,
            "right": null,
            "top": null,
            "visibility": null,
            "width": null
          }
        },
        "131ad472eea0443c900a1371e7674398": {
          "model_module": "@jupyter-widgets/controls",
          "model_module_version": "1.5.0",
          "model_name": "DescriptionStyleModel",
          "state": {
            "_model_module": "@jupyter-widgets/controls",
            "_model_module_version": "1.5.0",
            "_model_name": "DescriptionStyleModel",
            "_view_count": null,
            "_view_module": "@jupyter-widgets/base",
            "_view_module_version": "1.2.0",
            "_view_name": "StyleView",
            "description_width": ""
          }
        },
        "1978891bb41c4e0c895c74601e4fbce4": {
          "model_module": "@jupyter-widgets/controls",
          "model_module_version": "1.5.0",
          "model_name": "FloatProgressModel",
          "state": {
            "_dom_classes": [],
            "_model_module": "@jupyter-widgets/controls",
            "_model_module_version": "1.5.0",
            "_model_name": "FloatProgressModel",
            "_view_count": null,
            "_view_module": "@jupyter-widgets/controls",
            "_view_module_version": "1.5.0",
            "_view_name": "ProgressView",
            "bar_style": "success",
            "description": "",
            "description_tooltip": null,
            "layout": "IPY_MODEL_2224d9302e35462baa4aa73afa5c8067",
            "max": 231508,
            "min": 0,
            "orientation": "horizontal",
            "style": "IPY_MODEL_04d6c00bd1604ab7bfd75786e80cf732",
            "value": 231508
          }
        },
        "1def12a914a9409f88076965bb87c4a0": {
          "model_module": "@jupyter-widgets/controls",
          "model_module_version": "1.5.0",
          "model_name": "FloatProgressModel",
          "state": {
            "_dom_classes": [],
            "_model_module": "@jupyter-widgets/controls",
            "_model_module_version": "1.5.0",
            "_model_name": "FloatProgressModel",
            "_view_count": null,
            "_view_module": "@jupyter-widgets/controls",
            "_view_module_version": "1.5.0",
            "_view_name": "ProgressView",
            "bar_style": "success",
            "description": "",
            "description_tooltip": null,
            "layout": "IPY_MODEL_a1749a66ce4d4800927241d1f0563ed4",
            "max": 12835,
            "min": 0,
            "orientation": "horizontal",
            "style": "IPY_MODEL_479691ec7926436da0e3a8b7f8d98ac5",
            "value": 12835
          }
        },
        "1e870fe3fe4e48b9918465a4dcf87be2": {
          "model_module": "@jupyter-widgets/base",
          "model_module_version": "1.2.0",
          "model_name": "LayoutModel",
          "state": {
            "_model_module": "@jupyter-widgets/base",
            "_model_module_version": "1.2.0",
            "_model_name": "LayoutModel",
            "_view_count": null,
            "_view_module": "@jupyter-widgets/base",
            "_view_module_version": "1.2.0",
            "_view_name": "LayoutView",
            "align_content": null,
            "align_items": null,
            "align_self": null,
            "border": null,
            "bottom": null,
            "display": null,
            "flex": null,
            "flex_flow": null,
            "grid_area": null,
            "grid_auto_columns": null,
            "grid_auto_flow": null,
            "grid_auto_rows": null,
            "grid_column": null,
            "grid_gap": null,
            "grid_row": null,
            "grid_template_areas": null,
            "grid_template_columns": null,
            "grid_template_rows": null,
            "height": null,
            "justify_content": null,
            "justify_items": null,
            "left": null,
            "margin": null,
            "max_height": null,
            "max_width": null,
            "min_height": null,
            "min_width": null,
            "object_fit": null,
            "object_position": null,
            "order": null,
            "overflow": null,
            "overflow_x": null,
            "overflow_y": null,
            "padding": null,
            "right": null,
            "top": null,
            "visibility": null,
            "width": null
          }
        },
        "208d968a213e4e829cec9a2a0e469ee6": {
          "model_module": "@jupyter-widgets/controls",
          "model_module_version": "1.5.0",
          "model_name": "FloatProgressModel",
          "state": {
            "_dom_classes": [],
            "_model_module": "@jupyter-widgets/controls",
            "_model_module_version": "1.5.0",
            "_model_name": "FloatProgressModel",
            "_view_count": null,
            "_view_module": "@jupyter-widgets/controls",
            "_view_module_version": "1.5.0",
            "_view_name": "ProgressView",
            "bar_style": "success",
            "description": "",
            "description_tooltip": null,
            "layout": "IPY_MODEL_3c9e21a611e24375a68a0c60a337e2ab",
            "max": 9852,
            "min": 0,
            "orientation": "horizontal",
            "style": "IPY_MODEL_4094de9e516b4598b70d0ac0f4285b6d",
            "value": 9852
          }
        },
        "2224d9302e35462baa4aa73afa5c8067": {
          "model_module": "@jupyter-widgets/base",
          "model_module_version": "1.2.0",
          "model_name": "LayoutModel",
          "state": {
            "_model_module": "@jupyter-widgets/base",
            "_model_module_version": "1.2.0",
            "_model_name": "LayoutModel",
            "_view_count": null,
            "_view_module": "@jupyter-widgets/base",
            "_view_module_version": "1.2.0",
            "_view_name": "LayoutView",
            "align_content": null,
            "align_items": null,
            "align_self": null,
            "border": null,
            "bottom": null,
            "display": null,
            "flex": null,
            "flex_flow": null,
            "grid_area": null,
            "grid_auto_columns": null,
            "grid_auto_flow": null,
            "grid_auto_rows": null,
            "grid_column": null,
            "grid_gap": null,
            "grid_row": null,
            "grid_template_areas": null,
            "grid_template_columns": null,
            "grid_template_rows": null,
            "height": null,
            "justify_content": null,
            "justify_items": null,
            "left": null,
            "margin": null,
            "max_height": null,
            "max_width": null,
            "min_height": null,
            "min_width": null,
            "object_fit": null,
            "object_position": null,
            "order": null,
            "overflow": null,
            "overflow_x": null,
            "overflow_y": null,
            "padding": null,
            "right": null,
            "top": null,
            "visibility": null,
            "width": null
          }
        },
        "25114fd15eb04827865bf9c71aa6ac4a": {
          "model_module": "@jupyter-widgets/base",
          "model_module_version": "1.2.0",
          "model_name": "LayoutModel",
          "state": {
            "_model_module": "@jupyter-widgets/base",
            "_model_module_version": "1.2.0",
            "_model_name": "LayoutModel",
            "_view_count": null,
            "_view_module": "@jupyter-widgets/base",
            "_view_module_version": "1.2.0",
            "_view_name": "LayoutView",
            "align_content": null,
            "align_items": null,
            "align_self": null,
            "border": null,
            "bottom": null,
            "display": null,
            "flex": null,
            "flex_flow": null,
            "grid_area": null,
            "grid_auto_columns": null,
            "grid_auto_flow": null,
            "grid_auto_rows": null,
            "grid_column": null,
            "grid_gap": null,
            "grid_row": null,
            "grid_template_areas": null,
            "grid_template_columns": null,
            "grid_template_rows": null,
            "height": null,
            "justify_content": null,
            "justify_items": null,
            "left": null,
            "margin": null,
            "max_height": null,
            "max_width": null,
            "min_height": null,
            "min_width": null,
            "object_fit": null,
            "object_position": null,
            "order": null,
            "overflow": null,
            "overflow_x": null,
            "overflow_y": null,
            "padding": null,
            "right": null,
            "top": null,
            "visibility": null,
            "width": null
          }
        },
        "2525339dd7d34bf782e63f38fb30f973": {
          "model_module": "@jupyter-widgets/base",
          "model_module_version": "1.2.0",
          "model_name": "LayoutModel",
          "state": {
            "_model_module": "@jupyter-widgets/base",
            "_model_module_version": "1.2.0",
            "_model_name": "LayoutModel",
            "_view_count": null,
            "_view_module": "@jupyter-widgets/base",
            "_view_module_version": "1.2.0",
            "_view_name": "LayoutView",
            "align_content": null,
            "align_items": null,
            "align_self": null,
            "border": null,
            "bottom": null,
            "display": null,
            "flex": null,
            "flex_flow": null,
            "grid_area": null,
            "grid_auto_columns": null,
            "grid_auto_flow": null,
            "grid_auto_rows": null,
            "grid_column": null,
            "grid_gap": null,
            "grid_row": null,
            "grid_template_areas": null,
            "grid_template_columns": null,
            "grid_template_rows": null,
            "height": null,
            "justify_content": null,
            "justify_items": null,
            "left": null,
            "margin": null,
            "max_height": null,
            "max_width": null,
            "min_height": null,
            "min_width": null,
            "object_fit": null,
            "object_position": null,
            "order": null,
            "overflow": null,
            "overflow_x": null,
            "overflow_y": null,
            "padding": null,
            "right": null,
            "top": null,
            "visibility": null,
            "width": null
          }
        },
        "25e95d4ad6424e238224fc7301c545ec": {
          "model_module": "@jupyter-widgets/controls",
          "model_module_version": "1.5.0",
          "model_name": "FloatProgressModel",
          "state": {
            "_dom_classes": [],
            "_model_module": "@jupyter-widgets/controls",
            "_model_module_version": "1.5.0",
            "_model_name": "FloatProgressModel",
            "_view_count": null,
            "_view_module": "@jupyter-widgets/controls",
            "_view_module_version": "1.5.0",
            "_view_name": "ProgressView",
            "bar_style": "",
            "description": "",
            "description_tooltip": null,
            "layout": "IPY_MODEL_4b95fdddf8c04bb3a0bc4a3eb35e8a25",
            "max": 369718,
            "min": 0,
            "orientation": "horizontal",
            "style": "IPY_MODEL_c9f1d9a84b0f4743bc1ebc7fb66d3b8b",
            "value": 41880
          }
        },
        "299907ea7b5d4d078fe71c29f36c5524": {
          "model_module": "@jupyter-widgets/controls",
          "model_module_version": "1.5.0",
          "model_name": "HTMLModel",
          "state": {
            "_dom_classes": [],
            "_model_module": "@jupyter-widgets/controls",
            "_model_module_version": "1.5.0",
            "_model_name": "HTMLModel",
            "_view_count": null,
            "_view_module": "@jupyter-widgets/controls",
            "_view_module_version": "1.5.0",
            "_view_name": "HTMLView",
            "description": "",
            "description_tooltip": null,
            "layout": "IPY_MODEL_d79e99795f5d4ae18834a58b38e03a77",
            "placeholder": "​",
            "style": "IPY_MODEL_41ddbf4f8c8046d5b51fed8264f535a4",
            "value": " 44236/44236 [3:03:01&lt;00:00,  4.03it/s]"
          }
        },
        "2acb969c41c84a209b0194f9eaf57ac1": {
          "model_module": "@jupyter-widgets/controls",
          "model_module_version": "1.5.0",
          "model_name": "ProgressStyleModel",
          "state": {
            "_model_module": "@jupyter-widgets/controls",
            "_model_module_version": "1.5.0",
            "_model_name": "ProgressStyleModel",
            "_view_count": null,
            "_view_module": "@jupyter-widgets/base",
            "_view_module_version": "1.2.0",
            "_view_name": "StyleView",
            "bar_color": null,
            "description_width": ""
          }
        },
        "2af64e5ce1e44575b7128de5df65ebe4": {
          "model_module": "@jupyter-widgets/base",
          "model_module_version": "1.2.0",
          "model_name": "LayoutModel",
          "state": {
            "_model_module": "@jupyter-widgets/base",
            "_model_module_version": "1.2.0",
            "_model_name": "LayoutModel",
            "_view_count": null,
            "_view_module": "@jupyter-widgets/base",
            "_view_module_version": "1.2.0",
            "_view_name": "LayoutView",
            "align_content": null,
            "align_items": null,
            "align_self": null,
            "border": null,
            "bottom": null,
            "display": null,
            "flex": null,
            "flex_flow": null,
            "grid_area": null,
            "grid_auto_columns": null,
            "grid_auto_flow": null,
            "grid_auto_rows": null,
            "grid_column": null,
            "grid_gap": null,
            "grid_row": null,
            "grid_template_areas": null,
            "grid_template_columns": null,
            "grid_template_rows": null,
            "height": null,
            "justify_content": null,
            "justify_items": null,
            "left": null,
            "margin": null,
            "max_height": null,
            "max_width": null,
            "min_height": null,
            "min_width": null,
            "object_fit": null,
            "object_position": null,
            "order": null,
            "overflow": null,
            "overflow_x": null,
            "overflow_y": null,
            "padding": null,
            "right": null,
            "top": null,
            "visibility": null,
            "width": null
          }
        },
        "2bbbda77522b4e78afaca9d7e44b7045": {
          "model_module": "@jupyter-widgets/controls",
          "model_module_version": "1.5.0",
          "model_name": "HTMLModel",
          "state": {
            "_dom_classes": [],
            "_model_module": "@jupyter-widgets/controls",
            "_model_module_version": "1.5.0",
            "_model_name": "HTMLModel",
            "_view_count": null,
            "_view_module": "@jupyter-widgets/controls",
            "_view_module_version": "1.5.0",
            "_view_name": "HTMLView",
            "description": "",
            "description_tooltip": null,
            "layout": "IPY_MODEL_d7f9191794ba405bb6715c881f974be2",
            "placeholder": "​",
            "style": "IPY_MODEL_45163e3552cd4e3b8b322573f349bc50",
            "value": " 3956/3956 [12:50&lt;00:00,  5.13it/s]"
          }
        },
        "2c7aae901f5049c88201c15a8bb70e81": {
          "model_module": "@jupyter-widgets/base",
          "model_module_version": "1.2.0",
          "model_name": "LayoutModel",
          "state": {
            "_model_module": "@jupyter-widgets/base",
            "_model_module_version": "1.2.0",
            "_model_name": "LayoutModel",
            "_view_count": null,
            "_view_module": "@jupyter-widgets/base",
            "_view_module_version": "1.2.0",
            "_view_name": "LayoutView",
            "align_content": null,
            "align_items": null,
            "align_self": null,
            "border": null,
            "bottom": null,
            "display": null,
            "flex": null,
            "flex_flow": null,
            "grid_area": null,
            "grid_auto_columns": null,
            "grid_auto_flow": null,
            "grid_auto_rows": null,
            "grid_column": null,
            "grid_gap": null,
            "grid_row": null,
            "grid_template_areas": null,
            "grid_template_columns": null,
            "grid_template_rows": null,
            "height": null,
            "justify_content": null,
            "justify_items": null,
            "left": null,
            "margin": null,
            "max_height": null,
            "max_width": null,
            "min_height": null,
            "min_width": null,
            "object_fit": null,
            "object_position": null,
            "order": null,
            "overflow": null,
            "overflow_x": null,
            "overflow_y": null,
            "padding": null,
            "right": null,
            "top": null,
            "visibility": null,
            "width": null
          }
        },
        "2ccefff2aa6b4b968f5da5cff83e7a42": {
          "model_module": "@jupyter-widgets/controls",
          "model_module_version": "1.5.0",
          "model_name": "HTMLModel",
          "state": {
            "_dom_classes": [],
            "_model_module": "@jupyter-widgets/controls",
            "_model_module_version": "1.5.0",
            "_model_name": "HTMLModel",
            "_view_count": null,
            "_view_module": "@jupyter-widgets/controls",
            "_view_module_version": "1.5.0",
            "_view_name": "HTMLView",
            "description": "",
            "description_tooltip": null,
            "layout": "IPY_MODEL_2525339dd7d34bf782e63f38fb30f973",
            "placeholder": "​",
            "style": "IPY_MODEL_0e4ff8c74082429ab44559bdc85657ab",
            "value": " 4597/4597 [01:11&lt;00:00, 64.51it/s]"
          }
        },
        "2cf3ec46de31438db99e6d3988e7ef76": {
          "model_module": "@jupyter-widgets/controls",
          "model_module_version": "1.5.0",
          "model_name": "DescriptionStyleModel",
          "state": {
            "_model_module": "@jupyter-widgets/controls",
            "_model_module_version": "1.5.0",
            "_model_name": "DescriptionStyleModel",
            "_view_count": null,
            "_view_module": "@jupyter-widgets/base",
            "_view_module_version": "1.2.0",
            "_view_name": "StyleView",
            "description_width": ""
          }
        },
        "2d2a2191a97b41daba7555a529dacda3": {
          "model_module": "@jupyter-widgets/controls",
          "model_module_version": "1.5.0",
          "model_name": "DescriptionStyleModel",
          "state": {
            "_model_module": "@jupyter-widgets/controls",
            "_model_module_version": "1.5.0",
            "_model_name": "DescriptionStyleModel",
            "_view_count": null,
            "_view_module": "@jupyter-widgets/base",
            "_view_module_version": "1.2.0",
            "_view_name": "StyleView",
            "description_width": ""
          }
        },
        "2d2f91a380624742af8c6820ef0358e0": {
          "model_module": "@jupyter-widgets/controls",
          "model_module_version": "1.5.0",
          "model_name": "HTMLModel",
          "state": {
            "_dom_classes": [],
            "_model_module": "@jupyter-widgets/controls",
            "_model_module_version": "1.5.0",
            "_model_name": "HTMLModel",
            "_view_count": null,
            "_view_module": "@jupyter-widgets/controls",
            "_view_module_version": "1.5.0",
            "_view_name": "HTMLView",
            "description": "",
            "description_tooltip": null,
            "layout": "IPY_MODEL_08c7350eba0b48ba8cb74fe78a0f6645",
            "placeholder": "​",
            "style": "IPY_MODEL_ad43c4e866744c4b8a93fdd3dbd7c8a8",
            "value": "100%"
          }
        },
        "35016596ecbc4fd8b27140e438cef894": {
          "model_module": "@jupyter-widgets/controls",
          "model_module_version": "1.5.0",
          "model_name": "HTMLModel",
          "state": {
            "_dom_classes": [],
            "_model_module": "@jupyter-widgets/controls",
            "_model_module_version": "1.5.0",
            "_model_name": "HTMLModel",
            "_view_count": null,
            "_view_module": "@jupyter-widgets/controls",
            "_view_module_version": "1.5.0",
            "_view_name": "HTMLView",
            "description": "",
            "description_tooltip": null,
            "layout": "IPY_MODEL_d0c58aeff6ad4c4f91460646c2d260b5",
            "placeholder": "​",
            "style": "IPY_MODEL_a9a9dc9070714190aebf0d9b4e42e84b",
            "value": "100%"
          }
        },
        "36c0a21a46b243d4ac8af1aabc1e9c79": {
          "model_module": "@jupyter-widgets/base",
          "model_module_version": "1.2.0",
          "model_name": "LayoutModel",
          "state": {
            "_model_module": "@jupyter-widgets/base",
            "_model_module_version": "1.2.0",
            "_model_name": "LayoutModel",
            "_view_count": null,
            "_view_module": "@jupyter-widgets/base",
            "_view_module_version": "1.2.0",
            "_view_name": "LayoutView",
            "align_content": null,
            "align_items": null,
            "align_self": null,
            "border": null,
            "bottom": null,
            "display": null,
            "flex": null,
            "flex_flow": null,
            "grid_area": null,
            "grid_auto_columns": null,
            "grid_auto_flow": null,
            "grid_auto_rows": null,
            "grid_column": null,
            "grid_gap": null,
            "grid_row": null,
            "grid_template_areas": null,
            "grid_template_columns": null,
            "grid_template_rows": null,
            "height": null,
            "justify_content": null,
            "justify_items": null,
            "left": null,
            "margin": null,
            "max_height": null,
            "max_width": null,
            "min_height": null,
            "min_width": null,
            "object_fit": null,
            "object_position": null,
            "order": null,
            "overflow": null,
            "overflow_x": null,
            "overflow_y": null,
            "padding": null,
            "right": null,
            "top": null,
            "visibility": null,
            "width": null
          }
        },
        "378f42571b7b47be807cde7a9cb83d2b": {
          "model_module": "@jupyter-widgets/controls",
          "model_module_version": "1.5.0",
          "model_name": "DescriptionStyleModel",
          "state": {
            "_model_module": "@jupyter-widgets/controls",
            "_model_module_version": "1.5.0",
            "_model_name": "DescriptionStyleModel",
            "_view_count": null,
            "_view_module": "@jupyter-widgets/base",
            "_view_module_version": "1.2.0",
            "_view_name": "StyleView",
            "description_width": ""
          }
        },
        "390a76bb59ef49788c84187f6047c1c3": {
          "model_module": "@jupyter-widgets/base",
          "model_module_version": "1.2.0",
          "model_name": "LayoutModel",
          "state": {
            "_model_module": "@jupyter-widgets/base",
            "_model_module_version": "1.2.0",
            "_model_name": "LayoutModel",
            "_view_count": null,
            "_view_module": "@jupyter-widgets/base",
            "_view_module_version": "1.2.0",
            "_view_name": "LayoutView",
            "align_content": null,
            "align_items": null,
            "align_self": null,
            "border": null,
            "bottom": null,
            "display": null,
            "flex": null,
            "flex_flow": null,
            "grid_area": null,
            "grid_auto_columns": null,
            "grid_auto_flow": null,
            "grid_auto_rows": null,
            "grid_column": null,
            "grid_gap": null,
            "grid_row": null,
            "grid_template_areas": null,
            "grid_template_columns": null,
            "grid_template_rows": null,
            "height": null,
            "justify_content": null,
            "justify_items": null,
            "left": null,
            "margin": null,
            "max_height": null,
            "max_width": null,
            "min_height": null,
            "min_width": null,
            "object_fit": null,
            "object_position": null,
            "order": null,
            "overflow": null,
            "overflow_x": null,
            "overflow_y": null,
            "padding": null,
            "right": null,
            "top": null,
            "visibility": null,
            "width": null
          }
        },
        "3c9e21a611e24375a68a0c60a337e2ab": {
          "model_module": "@jupyter-widgets/base",
          "model_module_version": "1.2.0",
          "model_name": "LayoutModel",
          "state": {
            "_model_module": "@jupyter-widgets/base",
            "_model_module_version": "1.2.0",
            "_model_name": "LayoutModel",
            "_view_count": null,
            "_view_module": "@jupyter-widgets/base",
            "_view_module_version": "1.2.0",
            "_view_name": "LayoutView",
            "align_content": null,
            "align_items": null,
            "align_self": null,
            "border": null,
            "bottom": null,
            "display": null,
            "flex": null,
            "flex_flow": null,
            "grid_area": null,
            "grid_auto_columns": null,
            "grid_auto_flow": null,
            "grid_auto_rows": null,
            "grid_column": null,
            "grid_gap": null,
            "grid_row": null,
            "grid_template_areas": null,
            "grid_template_columns": null,
            "grid_template_rows": null,
            "height": null,
            "justify_content": null,
            "justify_items": null,
            "left": null,
            "margin": null,
            "max_height": null,
            "max_width": null,
            "min_height": null,
            "min_width": null,
            "object_fit": null,
            "object_position": null,
            "order": null,
            "overflow": null,
            "overflow_x": null,
            "overflow_y": null,
            "padding": null,
            "right": null,
            "top": null,
            "visibility": null,
            "width": null
          }
        },
        "3ff69a13cf254d96a3fa5767be82e73d": {
          "model_module": "@jupyter-widgets/base",
          "model_module_version": "1.2.0",
          "model_name": "LayoutModel",
          "state": {
            "_model_module": "@jupyter-widgets/base",
            "_model_module_version": "1.2.0",
            "_model_name": "LayoutModel",
            "_view_count": null,
            "_view_module": "@jupyter-widgets/base",
            "_view_module_version": "1.2.0",
            "_view_name": "LayoutView",
            "align_content": null,
            "align_items": null,
            "align_self": null,
            "border": null,
            "bottom": null,
            "display": null,
            "flex": null,
            "flex_flow": null,
            "grid_area": null,
            "grid_auto_columns": null,
            "grid_auto_flow": null,
            "grid_auto_rows": null,
            "grid_column": null,
            "grid_gap": null,
            "grid_row": null,
            "grid_template_areas": null,
            "grid_template_columns": null,
            "grid_template_rows": null,
            "height": null,
            "justify_content": null,
            "justify_items": null,
            "left": null,
            "margin": null,
            "max_height": null,
            "max_width": null,
            "min_height": null,
            "min_width": null,
            "object_fit": null,
            "object_position": null,
            "order": null,
            "overflow": null,
            "overflow_x": null,
            "overflow_y": null,
            "padding": null,
            "right": null,
            "top": null,
            "visibility": null,
            "width": null
          }
        },
        "4047a09295ca46d5807b42642b0a5267": {
          "model_module": "@jupyter-widgets/base",
          "model_module_version": "1.2.0",
          "model_name": "LayoutModel",
          "state": {
            "_model_module": "@jupyter-widgets/base",
            "_model_module_version": "1.2.0",
            "_model_name": "LayoutModel",
            "_view_count": null,
            "_view_module": "@jupyter-widgets/base",
            "_view_module_version": "1.2.0",
            "_view_name": "LayoutView",
            "align_content": null,
            "align_items": null,
            "align_self": null,
            "border": null,
            "bottom": null,
            "display": null,
            "flex": null,
            "flex_flow": null,
            "grid_area": null,
            "grid_auto_columns": null,
            "grid_auto_flow": null,
            "grid_auto_rows": null,
            "grid_column": null,
            "grid_gap": null,
            "grid_row": null,
            "grid_template_areas": null,
            "grid_template_columns": null,
            "grid_template_rows": null,
            "height": null,
            "justify_content": null,
            "justify_items": null,
            "left": null,
            "margin": null,
            "max_height": null,
            "max_width": null,
            "min_height": null,
            "min_width": null,
            "object_fit": null,
            "object_position": null,
            "order": null,
            "overflow": null,
            "overflow_x": null,
            "overflow_y": null,
            "padding": null,
            "right": null,
            "top": null,
            "visibility": null,
            "width": null
          }
        },
        "4094de9e516b4598b70d0ac0f4285b6d": {
          "model_module": "@jupyter-widgets/controls",
          "model_module_version": "1.5.0",
          "model_name": "ProgressStyleModel",
          "state": {
            "_model_module": "@jupyter-widgets/controls",
            "_model_module_version": "1.5.0",
            "_model_name": "ProgressStyleModel",
            "_view_count": null,
            "_view_module": "@jupyter-widgets/base",
            "_view_module_version": "1.2.0",
            "_view_name": "StyleView",
            "bar_color": null,
            "description_width": ""
          }
        },
        "41ddbf4f8c8046d5b51fed8264f535a4": {
          "model_module": "@jupyter-widgets/controls",
          "model_module_version": "1.5.0",
          "model_name": "DescriptionStyleModel",
          "state": {
            "_model_module": "@jupyter-widgets/controls",
            "_model_module_version": "1.5.0",
            "_model_name": "DescriptionStyleModel",
            "_view_count": null,
            "_view_module": "@jupyter-widgets/base",
            "_view_module_version": "1.2.0",
            "_view_name": "StyleView",
            "description_width": ""
          }
        },
        "42670a4957ae4ad38cc93d9076d85f3e": {
          "model_module": "@jupyter-widgets/controls",
          "model_module_version": "1.5.0",
          "model_name": "HTMLModel",
          "state": {
            "_dom_classes": [],
            "_model_module": "@jupyter-widgets/controls",
            "_model_module_version": "1.5.0",
            "_model_name": "HTMLModel",
            "_view_count": null,
            "_view_module": "@jupyter-widgets/controls",
            "_view_module_version": "1.5.0",
            "_view_name": "HTMLView",
            "description": "",
            "description_tooltip": null,
            "layout": "IPY_MODEL_3ff69a13cf254d96a3fa5767be82e73d",
            "placeholder": "​",
            "style": "IPY_MODEL_6891584e543748db8dc17ce7be5dc5c1",
            "value": " 41880/369718 [2:03:03&lt;16:00:02,  5.69it/s]"
          }
        },
        "4295b9b0b5f74359b34998ec4a354330": {
          "model_module": "@jupyter-widgets/base",
          "model_module_version": "1.2.0",
          "model_name": "LayoutModel",
          "state": {
            "_model_module": "@jupyter-widgets/base",
            "_model_module_version": "1.2.0",
            "_model_name": "LayoutModel",
            "_view_count": null,
            "_view_module": "@jupyter-widgets/base",
            "_view_module_version": "1.2.0",
            "_view_name": "LayoutView",
            "align_content": null,
            "align_items": null,
            "align_self": null,
            "border": null,
            "bottom": null,
            "display": null,
            "flex": null,
            "flex_flow": null,
            "grid_area": null,
            "grid_auto_columns": null,
            "grid_auto_flow": null,
            "grid_auto_rows": null,
            "grid_column": null,
            "grid_gap": null,
            "grid_row": null,
            "grid_template_areas": null,
            "grid_template_columns": null,
            "grid_template_rows": null,
            "height": null,
            "justify_content": null,
            "justify_items": null,
            "left": null,
            "margin": null,
            "max_height": null,
            "max_width": null,
            "min_height": null,
            "min_width": null,
            "object_fit": null,
            "object_position": null,
            "order": null,
            "overflow": null,
            "overflow_x": null,
            "overflow_y": null,
            "padding": null,
            "right": null,
            "top": null,
            "visibility": null,
            "width": null
          }
        },
        "45163e3552cd4e3b8b322573f349bc50": {
          "model_module": "@jupyter-widgets/controls",
          "model_module_version": "1.5.0",
          "model_name": "DescriptionStyleModel",
          "state": {
            "_model_module": "@jupyter-widgets/controls",
            "_model_module_version": "1.5.0",
            "_model_name": "DescriptionStyleModel",
            "_view_count": null,
            "_view_module": "@jupyter-widgets/base",
            "_view_module_version": "1.2.0",
            "_view_name": "StyleView",
            "description_width": ""
          }
        },
        "479691ec7926436da0e3a8b7f8d98ac5": {
          "model_module": "@jupyter-widgets/controls",
          "model_module_version": "1.5.0",
          "model_name": "ProgressStyleModel",
          "state": {
            "_model_module": "@jupyter-widgets/controls",
            "_model_module_version": "1.5.0",
            "_model_name": "ProgressStyleModel",
            "_view_count": null,
            "_view_module": "@jupyter-widgets/base",
            "_view_module_version": "1.2.0",
            "_view_name": "StyleView",
            "bar_color": null,
            "description_width": ""
          }
        },
        "4b196c0a7e2f4deabea0761ead11ddf6": {
          "model_module": "@jupyter-widgets/base",
          "model_module_version": "1.2.0",
          "model_name": "LayoutModel",
          "state": {
            "_model_module": "@jupyter-widgets/base",
            "_model_module_version": "1.2.0",
            "_model_name": "LayoutModel",
            "_view_count": null,
            "_view_module": "@jupyter-widgets/base",
            "_view_module_version": "1.2.0",
            "_view_name": "LayoutView",
            "align_content": null,
            "align_items": null,
            "align_self": null,
            "border": null,
            "bottom": null,
            "display": null,
            "flex": null,
            "flex_flow": null,
            "grid_area": null,
            "grid_auto_columns": null,
            "grid_auto_flow": null,
            "grid_auto_rows": null,
            "grid_column": null,
            "grid_gap": null,
            "grid_row": null,
            "grid_template_areas": null,
            "grid_template_columns": null,
            "grid_template_rows": null,
            "height": null,
            "justify_content": null,
            "justify_items": null,
            "left": null,
            "margin": null,
            "max_height": null,
            "max_width": null,
            "min_height": null,
            "min_width": null,
            "object_fit": null,
            "object_position": null,
            "order": null,
            "overflow": null,
            "overflow_x": null,
            "overflow_y": null,
            "padding": null,
            "right": null,
            "top": null,
            "visibility": null,
            "width": null
          }
        },
        "4b95fdddf8c04bb3a0bc4a3eb35e8a25": {
          "model_module": "@jupyter-widgets/base",
          "model_module_version": "1.2.0",
          "model_name": "LayoutModel",
          "state": {
            "_model_module": "@jupyter-widgets/base",
            "_model_module_version": "1.2.0",
            "_model_name": "LayoutModel",
            "_view_count": null,
            "_view_module": "@jupyter-widgets/base",
            "_view_module_version": "1.2.0",
            "_view_name": "LayoutView",
            "align_content": null,
            "align_items": null,
            "align_self": null,
            "border": null,
            "bottom": null,
            "display": null,
            "flex": null,
            "flex_flow": null,
            "grid_area": null,
            "grid_auto_columns": null,
            "grid_auto_flow": null,
            "grid_auto_rows": null,
            "grid_column": null,
            "grid_gap": null,
            "grid_row": null,
            "grid_template_areas": null,
            "grid_template_columns": null,
            "grid_template_rows": null,
            "height": null,
            "justify_content": null,
            "justify_items": null,
            "left": null,
            "margin": null,
            "max_height": null,
            "max_width": null,
            "min_height": null,
            "min_width": null,
            "object_fit": null,
            "object_position": null,
            "order": null,
            "overflow": null,
            "overflow_x": null,
            "overflow_y": null,
            "padding": null,
            "right": null,
            "top": null,
            "visibility": null,
            "width": null
          }
        },
        "52d3bfdc6c9e48be8e215d44a7de8a90": {
          "model_module": "@jupyter-widgets/controls",
          "model_module_version": "1.5.0",
          "model_name": "ProgressStyleModel",
          "state": {
            "_model_module": "@jupyter-widgets/controls",
            "_model_module_version": "1.5.0",
            "_model_name": "ProgressStyleModel",
            "_view_count": null,
            "_view_module": "@jupyter-widgets/base",
            "_view_module_version": "1.2.0",
            "_view_name": "StyleView",
            "bar_color": null,
            "description_width": ""
          }
        },
        "56d76c6dabd84aa1adc7db5f22d03e41": {
          "model_module": "@jupyter-widgets/controls",
          "model_module_version": "1.5.0",
          "model_name": "HTMLModel",
          "state": {
            "_dom_classes": [],
            "_model_module": "@jupyter-widgets/controls",
            "_model_module_version": "1.5.0",
            "_model_name": "HTMLModel",
            "_view_count": null,
            "_view_module": "@jupyter-widgets/controls",
            "_view_module_version": "1.5.0",
            "_view_name": "HTMLView",
            "description": "",
            "description_tooltip": null,
            "layout": "IPY_MODEL_c58c932570b64929bce827e5eb64402e",
            "placeholder": "​",
            "style": "IPY_MODEL_131ad472eea0443c900a1371e7674398",
            "value": "100%"
          }
        },
        "68518afc617c4c4081abb1529df7e68d": {
          "model_module": "@jupyter-widgets/base",
          "model_module_version": "1.2.0",
          "model_name": "LayoutModel",
          "state": {
            "_model_module": "@jupyter-widgets/base",
            "_model_module_version": "1.2.0",
            "_model_name": "LayoutModel",
            "_view_count": null,
            "_view_module": "@jupyter-widgets/base",
            "_view_module_version": "1.2.0",
            "_view_name": "LayoutView",
            "align_content": null,
            "align_items": null,
            "align_self": null,
            "border": null,
            "bottom": null,
            "display": null,
            "flex": null,
            "flex_flow": null,
            "grid_area": null,
            "grid_auto_columns": null,
            "grid_auto_flow": null,
            "grid_auto_rows": null,
            "grid_column": null,
            "grid_gap": null,
            "grid_row": null,
            "grid_template_areas": null,
            "grid_template_columns": null,
            "grid_template_rows": null,
            "height": null,
            "justify_content": null,
            "justify_items": null,
            "left": null,
            "margin": null,
            "max_height": null,
            "max_width": null,
            "min_height": null,
            "min_width": null,
            "object_fit": null,
            "object_position": null,
            "order": null,
            "overflow": null,
            "overflow_x": null,
            "overflow_y": null,
            "padding": null,
            "right": null,
            "top": null,
            "visibility": null,
            "width": null
          }
        },
        "6891584e543748db8dc17ce7be5dc5c1": {
          "model_module": "@jupyter-widgets/controls",
          "model_module_version": "1.5.0",
          "model_name": "DescriptionStyleModel",
          "state": {
            "_model_module": "@jupyter-widgets/controls",
            "_model_module_version": "1.5.0",
            "_model_name": "DescriptionStyleModel",
            "_view_count": null,
            "_view_module": "@jupyter-widgets/base",
            "_view_module_version": "1.2.0",
            "_view_name": "StyleView",
            "description_width": ""
          }
        },
        "690f9a34fbb64ad483fd0a4f1af3513e": {
          "model_module": "@jupyter-widgets/base",
          "model_module_version": "1.2.0",
          "model_name": "LayoutModel",
          "state": {
            "_model_module": "@jupyter-widgets/base",
            "_model_module_version": "1.2.0",
            "_model_name": "LayoutModel",
            "_view_count": null,
            "_view_module": "@jupyter-widgets/base",
            "_view_module_version": "1.2.0",
            "_view_name": "LayoutView",
            "align_content": null,
            "align_items": null,
            "align_self": null,
            "border": null,
            "bottom": null,
            "display": null,
            "flex": null,
            "flex_flow": null,
            "grid_area": null,
            "grid_auto_columns": null,
            "grid_auto_flow": null,
            "grid_auto_rows": null,
            "grid_column": null,
            "grid_gap": null,
            "grid_row": null,
            "grid_template_areas": null,
            "grid_template_columns": null,
            "grid_template_rows": null,
            "height": null,
            "justify_content": null,
            "justify_items": null,
            "left": null,
            "margin": null,
            "max_height": null,
            "max_width": null,
            "min_height": null,
            "min_width": null,
            "object_fit": null,
            "object_position": null,
            "order": null,
            "overflow": null,
            "overflow_x": null,
            "overflow_y": null,
            "padding": null,
            "right": null,
            "top": null,
            "visibility": null,
            "width": null
          }
        },
        "6b204590e3844b54b1f405f7d79b0f65": {
          "model_module": "@jupyter-widgets/controls",
          "model_module_version": "1.5.0",
          "model_name": "DescriptionStyleModel",
          "state": {
            "_model_module": "@jupyter-widgets/controls",
            "_model_module_version": "1.5.0",
            "_model_name": "DescriptionStyleModel",
            "_view_count": null,
            "_view_module": "@jupyter-widgets/base",
            "_view_module_version": "1.2.0",
            "_view_name": "StyleView",
            "description_width": ""
          }
        },
        "6f3b2e7fc4aa4ddba98279aad4c8ea12": {
          "model_module": "@jupyter-widgets/controls",
          "model_module_version": "1.5.0",
          "model_name": "DescriptionStyleModel",
          "state": {
            "_model_module": "@jupyter-widgets/controls",
            "_model_module_version": "1.5.0",
            "_model_name": "DescriptionStyleModel",
            "_view_count": null,
            "_view_module": "@jupyter-widgets/base",
            "_view_module_version": "1.2.0",
            "_view_name": "StyleView",
            "description_width": ""
          }
        },
        "6fe43eb8efc749deae67b59417d8b8f5": {
          "model_module": "@jupyter-widgets/controls",
          "model_module_version": "1.5.0",
          "model_name": "HBoxModel",
          "state": {
            "_dom_classes": [],
            "_model_module": "@jupyter-widgets/controls",
            "_model_module_version": "1.5.0",
            "_model_name": "HBoxModel",
            "_view_count": null,
            "_view_module": "@jupyter-widgets/controls",
            "_view_module_version": "1.5.0",
            "_view_name": "HBoxView",
            "box_style": "",
            "children": [
              "IPY_MODEL_56d76c6dabd84aa1adc7db5f22d03e41",
              "IPY_MODEL_f9ad3ae607f949ea9ff107c283aed8ed",
              "IPY_MODEL_0c3a2760fcdd4655a1565992b8158613"
            ],
            "layout": "IPY_MODEL_2af64e5ce1e44575b7128de5df65ebe4"
          }
        },
        "7678d12f4fb54862a88be3d166fc13f1": {
          "model_module": "@jupyter-widgets/base",
          "model_module_version": "1.2.0",
          "model_name": "LayoutModel",
          "state": {
            "_model_module": "@jupyter-widgets/base",
            "_model_module_version": "1.2.0",
            "_model_name": "LayoutModel",
            "_view_count": null,
            "_view_module": "@jupyter-widgets/base",
            "_view_module_version": "1.2.0",
            "_view_name": "LayoutView",
            "align_content": null,
            "align_items": null,
            "align_self": null,
            "border": null,
            "bottom": null,
            "display": null,
            "flex": null,
            "flex_flow": null,
            "grid_area": null,
            "grid_auto_columns": null,
            "grid_auto_flow": null,
            "grid_auto_rows": null,
            "grid_column": null,
            "grid_gap": null,
            "grid_row": null,
            "grid_template_areas": null,
            "grid_template_columns": null,
            "grid_template_rows": null,
            "height": null,
            "justify_content": null,
            "justify_items": null,
            "left": null,
            "margin": null,
            "max_height": null,
            "max_width": null,
            "min_height": null,
            "min_width": null,
            "object_fit": null,
            "object_position": null,
            "order": null,
            "overflow": null,
            "overflow_x": null,
            "overflow_y": null,
            "padding": null,
            "right": null,
            "top": null,
            "visibility": null,
            "width": null
          }
        },
        "77688f2728f74aa78526a75546a8bd66": {
          "model_module": "@jupyter-widgets/base",
          "model_module_version": "1.2.0",
          "model_name": "LayoutModel",
          "state": {
            "_model_module": "@jupyter-widgets/base",
            "_model_module_version": "1.2.0",
            "_model_name": "LayoutModel",
            "_view_count": null,
            "_view_module": "@jupyter-widgets/base",
            "_view_module_version": "1.2.0",
            "_view_name": "LayoutView",
            "align_content": null,
            "align_items": null,
            "align_self": null,
            "border": null,
            "bottom": null,
            "display": null,
            "flex": null,
            "flex_flow": null,
            "grid_area": null,
            "grid_auto_columns": null,
            "grid_auto_flow": null,
            "grid_auto_rows": null,
            "grid_column": null,
            "grid_gap": null,
            "grid_row": null,
            "grid_template_areas": null,
            "grid_template_columns": null,
            "grid_template_rows": null,
            "height": null,
            "justify_content": null,
            "justify_items": null,
            "left": null,
            "margin": null,
            "max_height": null,
            "max_width": null,
            "min_height": null,
            "min_width": null,
            "object_fit": null,
            "object_position": null,
            "order": null,
            "overflow": null,
            "overflow_x": null,
            "overflow_y": null,
            "padding": null,
            "right": null,
            "top": null,
            "visibility": null,
            "width": null
          }
        },
        "782072b0ffb343b2b50d850f0e295ca1": {
          "model_module": "@jupyter-widgets/controls",
          "model_module_version": "1.5.0",
          "model_name": "HTMLModel",
          "state": {
            "_dom_classes": [],
            "_model_module": "@jupyter-widgets/controls",
            "_model_module_version": "1.5.0",
            "_model_name": "HTMLModel",
            "_view_count": null,
            "_view_module": "@jupyter-widgets/controls",
            "_view_module_version": "1.5.0",
            "_view_name": "HTMLView",
            "description": "",
            "description_tooltip": null,
            "layout": "IPY_MODEL_7678d12f4fb54862a88be3d166fc13f1",
            "placeholder": "​",
            "style": "IPY_MODEL_01b07f4f6cd448a3b671154b698255a4",
            "value": " 232k/232k [00:00&lt;00:00, 819kB/s]"
          }
        },
        "7982c5a92ef14c27a3c2e91c084c73c3": {
          "model_module": "@jupyter-widgets/controls",
          "model_module_version": "1.5.0",
          "model_name": "HBoxModel",
          "state": {
            "_dom_classes": [],
            "_model_module": "@jupyter-widgets/controls",
            "_model_module_version": "1.5.0",
            "_model_name": "HBoxModel",
            "_view_count": null,
            "_view_module": "@jupyter-widgets/controls",
            "_view_module_version": "1.5.0",
            "_view_name": "HBoxView",
            "box_style": "",
            "children": [
              "IPY_MODEL_35016596ecbc4fd8b27140e438cef894",
              "IPY_MODEL_fc0e29aaa69343ceb27567be88979ed2",
              "IPY_MODEL_299907ea7b5d4d078fe71c29f36c5524"
            ],
            "layout": "IPY_MODEL_873d9b00e3234aba9bb822cb41e6ad8e"
          }
        },
        "79e886601b8c4287a23aad05c045742e": {
          "model_module": "@jupyter-widgets/controls",
          "model_module_version": "1.5.0",
          "model_name": "HTMLModel",
          "state": {
            "_dom_classes": [],
            "_model_module": "@jupyter-widgets/controls",
            "_model_module_version": "1.5.0",
            "_model_name": "HTMLModel",
            "_view_count": null,
            "_view_module": "@jupyter-widgets/controls",
            "_view_module_version": "1.5.0",
            "_view_name": "HTMLView",
            "description": "",
            "description_tooltip": null,
            "layout": "IPY_MODEL_eeef0ac01a4d42839270152dd85c84f5",
            "placeholder": "​",
            "style": "IPY_MODEL_6b204590e3844b54b1f405f7d79b0f65",
            "value": " 11%"
          }
        },
        "7cbf4b07bf8b41e19fba653180871723": {
          "model_module": "@jupyter-widgets/controls",
          "model_module_version": "1.5.0",
          "model_name": "DescriptionStyleModel",
          "state": {
            "_model_module": "@jupyter-widgets/controls",
            "_model_module_version": "1.5.0",
            "_model_name": "DescriptionStyleModel",
            "_view_count": null,
            "_view_module": "@jupyter-widgets/base",
            "_view_module_version": "1.2.0",
            "_view_name": "StyleView",
            "description_width": ""
          }
        },
        "7e44c8c151c6447fa7d0632364a2a72e": {
          "model_module": "@jupyter-widgets/controls",
          "model_module_version": "1.5.0",
          "model_name": "ProgressStyleModel",
          "state": {
            "_model_module": "@jupyter-widgets/controls",
            "_model_module_version": "1.5.0",
            "_model_name": "ProgressStyleModel",
            "_view_count": null,
            "_view_module": "@jupyter-widgets/base",
            "_view_module_version": "1.2.0",
            "_view_name": "StyleView",
            "bar_color": null,
            "description_width": ""
          }
        },
        "8375c493577c49f0888670fd37a8694f": {
          "model_module": "@jupyter-widgets/controls",
          "model_module_version": "1.5.0",
          "model_name": "HTMLModel",
          "state": {
            "_dom_classes": [],
            "_model_module": "@jupyter-widgets/controls",
            "_model_module_version": "1.5.0",
            "_model_name": "HTMLModel",
            "_view_count": null,
            "_view_module": "@jupyter-widgets/controls",
            "_view_module_version": "1.5.0",
            "_view_name": "HTMLView",
            "description": "",
            "description_tooltip": null,
            "layout": "IPY_MODEL_4b196c0a7e2f4deabea0761ead11ddf6",
            "placeholder": "​",
            "style": "IPY_MODEL_2cf3ec46de31438db99e6d3988e7ef76",
            "value": "100%"
          }
        },
        "83d5f1de19524738880b8b324342703e": {
          "model_module": "@jupyter-widgets/controls",
          "model_module_version": "1.5.0",
          "model_name": "HBoxModel",
          "state": {
            "_dom_classes": [],
            "_model_module": "@jupyter-widgets/controls",
            "_model_module_version": "1.5.0",
            "_model_name": "HBoxModel",
            "_view_count": null,
            "_view_module": "@jupyter-widgets/controls",
            "_view_module_version": "1.5.0",
            "_view_name": "HBoxView",
            "box_style": "",
            "children": [
              "IPY_MODEL_f026b03cda8d44a082035f54c836a733",
              "IPY_MODEL_1978891bb41c4e0c895c74601e4fbce4",
              "IPY_MODEL_782072b0ffb343b2b50d850f0e295ca1"
            ],
            "layout": "IPY_MODEL_f2376456e5ca4950a9c85aac3b184e10"
          }
        },
        "873d9b00e3234aba9bb822cb41e6ad8e": {
          "model_module": "@jupyter-widgets/base",
          "model_module_version": "1.2.0",
          "model_name": "LayoutModel",
          "state": {
            "_model_module": "@jupyter-widgets/base",
            "_model_module_version": "1.2.0",
            "_model_name": "LayoutModel",
            "_view_count": null,
            "_view_module": "@jupyter-widgets/base",
            "_view_module_version": "1.2.0",
            "_view_name": "LayoutView",
            "align_content": null,
            "align_items": null,
            "align_self": null,
            "border": null,
            "bottom": null,
            "display": null,
            "flex": null,
            "flex_flow": null,
            "grid_area": null,
            "grid_auto_columns": null,
            "grid_auto_flow": null,
            "grid_auto_rows": null,
            "grid_column": null,
            "grid_gap": null,
            "grid_row": null,
            "grid_template_areas": null,
            "grid_template_columns": null,
            "grid_template_rows": null,
            "height": null,
            "justify_content": null,
            "justify_items": null,
            "left": null,
            "margin": null,
            "max_height": null,
            "max_width": null,
            "min_height": null,
            "min_width": null,
            "object_fit": null,
            "object_position": null,
            "order": null,
            "overflow": null,
            "overflow_x": null,
            "overflow_y": null,
            "padding": null,
            "right": null,
            "top": null,
            "visibility": null,
            "width": null
          }
        },
        "8c8a73e943ed4b7191726c5b8b1e173a": {
          "model_module": "@jupyter-widgets/base",
          "model_module_version": "1.2.0",
          "model_name": "LayoutModel",
          "state": {
            "_model_module": "@jupyter-widgets/base",
            "_model_module_version": "1.2.0",
            "_model_name": "LayoutModel",
            "_view_count": null,
            "_view_module": "@jupyter-widgets/base",
            "_view_module_version": "1.2.0",
            "_view_name": "LayoutView",
            "align_content": null,
            "align_items": null,
            "align_self": null,
            "border": null,
            "bottom": null,
            "display": null,
            "flex": null,
            "flex_flow": null,
            "grid_area": null,
            "grid_auto_columns": null,
            "grid_auto_flow": null,
            "grid_auto_rows": null,
            "grid_column": null,
            "grid_gap": null,
            "grid_row": null,
            "grid_template_areas": null,
            "grid_template_columns": null,
            "grid_template_rows": null,
            "height": null,
            "justify_content": null,
            "justify_items": null,
            "left": null,
            "margin": null,
            "max_height": null,
            "max_width": null,
            "min_height": null,
            "min_width": null,
            "object_fit": null,
            "object_position": null,
            "order": null,
            "overflow": null,
            "overflow_x": null,
            "overflow_y": null,
            "padding": null,
            "right": null,
            "top": null,
            "visibility": null,
            "width": null
          }
        },
        "8f6d53168d6a41418f6a7568d2c09d7c": {
          "model_module": "@jupyter-widgets/base",
          "model_module_version": "1.2.0",
          "model_name": "LayoutModel",
          "state": {
            "_model_module": "@jupyter-widgets/base",
            "_model_module_version": "1.2.0",
            "_model_name": "LayoutModel",
            "_view_count": null,
            "_view_module": "@jupyter-widgets/base",
            "_view_module_version": "1.2.0",
            "_view_name": "LayoutView",
            "align_content": null,
            "align_items": null,
            "align_self": null,
            "border": null,
            "bottom": null,
            "display": null,
            "flex": null,
            "flex_flow": null,
            "grid_area": null,
            "grid_auto_columns": null,
            "grid_auto_flow": null,
            "grid_auto_rows": null,
            "grid_column": null,
            "grid_gap": null,
            "grid_row": null,
            "grid_template_areas": null,
            "grid_template_columns": null,
            "grid_template_rows": null,
            "height": null,
            "justify_content": null,
            "justify_items": null,
            "left": null,
            "margin": null,
            "max_height": null,
            "max_width": null,
            "min_height": null,
            "min_width": null,
            "object_fit": null,
            "object_position": null,
            "order": null,
            "overflow": null,
            "overflow_x": null,
            "overflow_y": null,
            "padding": null,
            "right": null,
            "top": null,
            "visibility": null,
            "width": null
          }
        },
        "97a3e97803f64adeb09d183d43d36389": {
          "model_module": "@jupyter-widgets/controls",
          "model_module_version": "1.5.0",
          "model_name": "HBoxModel",
          "state": {
            "_dom_classes": [],
            "_model_module": "@jupyter-widgets/controls",
            "_model_module_version": "1.5.0",
            "_model_name": "HBoxModel",
            "_view_count": null,
            "_view_module": "@jupyter-widgets/controls",
            "_view_module_version": "1.5.0",
            "_view_name": "HBoxView",
            "box_style": "",
            "children": [
              "IPY_MODEL_001e32f39f6349809cdcd082e0de3c72",
              "IPY_MODEL_993b328c14e443329b5b51681bc58320",
              "IPY_MODEL_2bbbda77522b4e78afaca9d7e44b7045"
            ],
            "layout": "IPY_MODEL_a02190d34c9f41a09d112a600a9af2fa"
          }
        },
        "993b328c14e443329b5b51681bc58320": {
          "model_module": "@jupyter-widgets/controls",
          "model_module_version": "1.5.0",
          "model_name": "FloatProgressModel",
          "state": {
            "_dom_classes": [],
            "_model_module": "@jupyter-widgets/controls",
            "_model_module_version": "1.5.0",
            "_model_name": "FloatProgressModel",
            "_view_count": null,
            "_view_module": "@jupyter-widgets/controls",
            "_view_module_version": "1.5.0",
            "_view_name": "ProgressView",
            "bar_style": "success",
            "description": "",
            "description_tooltip": null,
            "layout": "IPY_MODEL_ada7a908725d4820899fdc44a5ca86f3",
            "max": 3956,
            "min": 0,
            "orientation": "horizontal",
            "style": "IPY_MODEL_ccdc9f8b4d6549afb00d3a91fc561c24",
            "value": 3956
          }
        },
        "a00d31e755774dbd8910157eb00e5f7b": {
          "model_module": "@jupyter-widgets/controls",
          "model_module_version": "1.5.0",
          "model_name": "HTMLModel",
          "state": {
            "_dom_classes": [],
            "_model_module": "@jupyter-widgets/controls",
            "_model_module_version": "1.5.0",
            "_model_name": "HTMLModel",
            "_view_count": null,
            "_view_module": "@jupyter-widgets/controls",
            "_view_module_version": "1.5.0",
            "_view_name": "HTMLView",
            "description": "",
            "description_tooltip": null,
            "layout": "IPY_MODEL_4047a09295ca46d5807b42642b0a5267",
            "placeholder": "​",
            "style": "IPY_MODEL_378f42571b7b47be807cde7a9cb83d2b",
            "value": " 38461/38461 [2:41:39&lt;00:00,  3.97it/s]"
          }
        },
        "a02190d34c9f41a09d112a600a9af2fa": {
          "model_module": "@jupyter-widgets/base",
          "model_module_version": "1.2.0",
          "model_name": "LayoutModel",
          "state": {
            "_model_module": "@jupyter-widgets/base",
            "_model_module_version": "1.2.0",
            "_model_name": "LayoutModel",
            "_view_count": null,
            "_view_module": "@jupyter-widgets/base",
            "_view_module_version": "1.2.0",
            "_view_name": "LayoutView",
            "align_content": null,
            "align_items": null,
            "align_self": null,
            "border": null,
            "bottom": null,
            "display": null,
            "flex": null,
            "flex_flow": null,
            "grid_area": null,
            "grid_auto_columns": null,
            "grid_auto_flow": null,
            "grid_auto_rows": null,
            "grid_column": null,
            "grid_gap": null,
            "grid_row": null,
            "grid_template_areas": null,
            "grid_template_columns": null,
            "grid_template_rows": null,
            "height": null,
            "justify_content": null,
            "justify_items": null,
            "left": null,
            "margin": null,
            "max_height": null,
            "max_width": null,
            "min_height": null,
            "min_width": null,
            "object_fit": null,
            "object_position": null,
            "order": null,
            "overflow": null,
            "overflow_x": null,
            "overflow_y": null,
            "padding": null,
            "right": null,
            "top": null,
            "visibility": null,
            "width": null
          }
        },
        "a1749a66ce4d4800927241d1f0563ed4": {
          "model_module": "@jupyter-widgets/base",
          "model_module_version": "1.2.0",
          "model_name": "LayoutModel",
          "state": {
            "_model_module": "@jupyter-widgets/base",
            "_model_module_version": "1.2.0",
            "_model_name": "LayoutModel",
            "_view_count": null,
            "_view_module": "@jupyter-widgets/base",
            "_view_module_version": "1.2.0",
            "_view_name": "LayoutView",
            "align_content": null,
            "align_items": null,
            "align_self": null,
            "border": null,
            "bottom": null,
            "display": null,
            "flex": null,
            "flex_flow": null,
            "grid_area": null,
            "grid_auto_columns": null,
            "grid_auto_flow": null,
            "grid_auto_rows": null,
            "grid_column": null,
            "grid_gap": null,
            "grid_row": null,
            "grid_template_areas": null,
            "grid_template_columns": null,
            "grid_template_rows": null,
            "height": null,
            "justify_content": null,
            "justify_items": null,
            "left": null,
            "margin": null,
            "max_height": null,
            "max_width": null,
            "min_height": null,
            "min_width": null,
            "object_fit": null,
            "object_position": null,
            "order": null,
            "overflow": null,
            "overflow_x": null,
            "overflow_y": null,
            "padding": null,
            "right": null,
            "top": null,
            "visibility": null,
            "width": null
          }
        },
        "a8610c1fcda746858e3eafaad775055c": {
          "model_module": "@jupyter-widgets/controls",
          "model_module_version": "1.5.0",
          "model_name": "HBoxModel",
          "state": {
            "_dom_classes": [],
            "_model_module": "@jupyter-widgets/controls",
            "_model_module_version": "1.5.0",
            "_model_name": "HBoxModel",
            "_view_count": null,
            "_view_module": "@jupyter-widgets/controls",
            "_view_module_version": "1.5.0",
            "_view_name": "HBoxView",
            "box_style": "",
            "children": [
              "IPY_MODEL_2d2f91a380624742af8c6820ef0358e0",
              "IPY_MODEL_1def12a914a9409f88076965bb87c4a0",
              "IPY_MODEL_b170767164914f85ac9b36603110873d"
            ],
            "layout": "IPY_MODEL_77688f2728f74aa78526a75546a8bd66"
          }
        },
        "a9a9dc9070714190aebf0d9b4e42e84b": {
          "model_module": "@jupyter-widgets/controls",
          "model_module_version": "1.5.0",
          "model_name": "DescriptionStyleModel",
          "state": {
            "_model_module": "@jupyter-widgets/controls",
            "_model_module_version": "1.5.0",
            "_model_name": "DescriptionStyleModel",
            "_view_count": null,
            "_view_module": "@jupyter-widgets/base",
            "_view_module_version": "1.2.0",
            "_view_name": "StyleView",
            "description_width": ""
          }
        },
        "ad43c4e866744c4b8a93fdd3dbd7c8a8": {
          "model_module": "@jupyter-widgets/controls",
          "model_module_version": "1.5.0",
          "model_name": "DescriptionStyleModel",
          "state": {
            "_model_module": "@jupyter-widgets/controls",
            "_model_module_version": "1.5.0",
            "_model_name": "DescriptionStyleModel",
            "_view_count": null,
            "_view_module": "@jupyter-widgets/base",
            "_view_module_version": "1.2.0",
            "_view_name": "StyleView",
            "description_width": ""
          }
        },
        "ada7a908725d4820899fdc44a5ca86f3": {
          "model_module": "@jupyter-widgets/base",
          "model_module_version": "1.2.0",
          "model_name": "LayoutModel",
          "state": {
            "_model_module": "@jupyter-widgets/base",
            "_model_module_version": "1.2.0",
            "_model_name": "LayoutModel",
            "_view_count": null,
            "_view_module": "@jupyter-widgets/base",
            "_view_module_version": "1.2.0",
            "_view_name": "LayoutView",
            "align_content": null,
            "align_items": null,
            "align_self": null,
            "border": null,
            "bottom": null,
            "display": null,
            "flex": null,
            "flex_flow": null,
            "grid_area": null,
            "grid_auto_columns": null,
            "grid_auto_flow": null,
            "grid_auto_rows": null,
            "grid_column": null,
            "grid_gap": null,
            "grid_row": null,
            "grid_template_areas": null,
            "grid_template_columns": null,
            "grid_template_rows": null,
            "height": null,
            "justify_content": null,
            "justify_items": null,
            "left": null,
            "margin": null,
            "max_height": null,
            "max_width": null,
            "min_height": null,
            "min_width": null,
            "object_fit": null,
            "object_position": null,
            "order": null,
            "overflow": null,
            "overflow_x": null,
            "overflow_y": null,
            "padding": null,
            "right": null,
            "top": null,
            "visibility": null,
            "width": null
          }
        },
        "b170767164914f85ac9b36603110873d": {
          "model_module": "@jupyter-widgets/controls",
          "model_module_version": "1.5.0",
          "model_name": "HTMLModel",
          "state": {
            "_dom_classes": [],
            "_model_module": "@jupyter-widgets/controls",
            "_model_module_version": "1.5.0",
            "_model_name": "HTMLModel",
            "_view_count": null,
            "_view_module": "@jupyter-widgets/controls",
            "_view_module_version": "1.5.0",
            "_view_name": "HTMLView",
            "description": "",
            "description_tooltip": null,
            "layout": "IPY_MODEL_390a76bb59ef49788c84187f6047c1c3",
            "placeholder": "​",
            "style": "IPY_MODEL_e3a0a5f1fa6e4a3fadbf92d336bc719d",
            "value": " 12835/12835 [40:18&lt;00:00,  5.31it/s]"
          }
        },
        "b2fd2fdd2c884f32afc53df2d82c514e": {
          "model_module": "@jupyter-widgets/controls",
          "model_module_version": "1.5.0",
          "model_name": "HBoxModel",
          "state": {
            "_dom_classes": [],
            "_model_module": "@jupyter-widgets/controls",
            "_model_module_version": "1.5.0",
            "_model_name": "HBoxModel",
            "_view_count": null,
            "_view_module": "@jupyter-widgets/controls",
            "_view_module_version": "1.5.0",
            "_view_name": "HBoxView",
            "box_style": "",
            "children": [
              "IPY_MODEL_79e886601b8c4287a23aad05c045742e",
              "IPY_MODEL_25e95d4ad6424e238224fc7301c545ec",
              "IPY_MODEL_42670a4957ae4ad38cc93d9076d85f3e"
            ],
            "layout": "IPY_MODEL_1e870fe3fe4e48b9918465a4dcf87be2"
          }
        },
        "b5f3eda2ecaf46e9ac55abbc2bbc14fe": {
          "model_module": "@jupyter-widgets/base",
          "model_module_version": "1.2.0",
          "model_name": "LayoutModel",
          "state": {
            "_model_module": "@jupyter-widgets/base",
            "_model_module_version": "1.2.0",
            "_model_name": "LayoutModel",
            "_view_count": null,
            "_view_module": "@jupyter-widgets/base",
            "_view_module_version": "1.2.0",
            "_view_name": "LayoutView",
            "align_content": null,
            "align_items": null,
            "align_self": null,
            "border": null,
            "bottom": null,
            "display": null,
            "flex": null,
            "flex_flow": null,
            "grid_area": null,
            "grid_auto_columns": null,
            "grid_auto_flow": null,
            "grid_auto_rows": null,
            "grid_column": null,
            "grid_gap": null,
            "grid_row": null,
            "grid_template_areas": null,
            "grid_template_columns": null,
            "grid_template_rows": null,
            "height": null,
            "justify_content": null,
            "justify_items": null,
            "left": null,
            "margin": null,
            "max_height": null,
            "max_width": null,
            "min_height": null,
            "min_width": null,
            "object_fit": null,
            "object_position": null,
            "order": null,
            "overflow": null,
            "overflow_x": null,
            "overflow_y": null,
            "padding": null,
            "right": null,
            "top": null,
            "visibility": null,
            "width": null
          }
        },
        "bea58d7d8a8e4272bc51b1ea87342dc4": {
          "model_module": "@jupyter-widgets/controls",
          "model_module_version": "1.5.0",
          "model_name": "FloatProgressModel",
          "state": {
            "_dom_classes": [],
            "_model_module": "@jupyter-widgets/controls",
            "_model_module_version": "1.5.0",
            "_model_name": "FloatProgressModel",
            "_view_count": null,
            "_view_module": "@jupyter-widgets/controls",
            "_view_module_version": "1.5.0",
            "_view_name": "ProgressView",
            "bar_style": "success",
            "description": "",
            "description_tooltip": null,
            "layout": "IPY_MODEL_11f1e03ebcc14cb994542f84d477ebb3",
            "max": 38461,
            "min": 0,
            "orientation": "horizontal",
            "style": "IPY_MODEL_d1db361a945140989b411e83cde02315",
            "value": 38461
          }
        },
        "c2a8e44bba374532a37f9c69f523cf22": {
          "model_module": "@jupyter-widgets/controls",
          "model_module_version": "1.5.0",
          "model_name": "HTMLModel",
          "state": {
            "_dom_classes": [],
            "_model_module": "@jupyter-widgets/controls",
            "_model_module_version": "1.5.0",
            "_model_name": "HTMLModel",
            "_view_count": null,
            "_view_module": "@jupyter-widgets/controls",
            "_view_module_version": "1.5.0",
            "_view_name": "HTMLView",
            "description": "",
            "description_tooltip": null,
            "layout": "IPY_MODEL_4295b9b0b5f74359b34998ec4a354330",
            "placeholder": "​",
            "style": "IPY_MODEL_6f3b2e7fc4aa4ddba98279aad4c8ea12",
            "value": " 9852/9852 [00:17&lt;00:00, 552.01it/s]"
          }
        },
        "c58c932570b64929bce827e5eb64402e": {
          "model_module": "@jupyter-widgets/base",
          "model_module_version": "1.2.0",
          "model_name": "LayoutModel",
          "state": {
            "_model_module": "@jupyter-widgets/base",
            "_model_module_version": "1.2.0",
            "_model_name": "LayoutModel",
            "_view_count": null,
            "_view_module": "@jupyter-widgets/base",
            "_view_module_version": "1.2.0",
            "_view_name": "LayoutView",
            "align_content": null,
            "align_items": null,
            "align_self": null,
            "border": null,
            "bottom": null,
            "display": null,
            "flex": null,
            "flex_flow": null,
            "grid_area": null,
            "grid_auto_columns": null,
            "grid_auto_flow": null,
            "grid_auto_rows": null,
            "grid_column": null,
            "grid_gap": null,
            "grid_row": null,
            "grid_template_areas": null,
            "grid_template_columns": null,
            "grid_template_rows": null,
            "height": null,
            "justify_content": null,
            "justify_items": null,
            "left": null,
            "margin": null,
            "max_height": null,
            "max_width": null,
            "min_height": null,
            "min_width": null,
            "object_fit": null,
            "object_position": null,
            "order": null,
            "overflow": null,
            "overflow_x": null,
            "overflow_y": null,
            "padding": null,
            "right": null,
            "top": null,
            "visibility": null,
            "width": null
          }
        },
        "c9f1d9a84b0f4743bc1ebc7fb66d3b8b": {
          "model_module": "@jupyter-widgets/controls",
          "model_module_version": "1.5.0",
          "model_name": "ProgressStyleModel",
          "state": {
            "_model_module": "@jupyter-widgets/controls",
            "_model_module_version": "1.5.0",
            "_model_name": "ProgressStyleModel",
            "_view_count": null,
            "_view_module": "@jupyter-widgets/base",
            "_view_module_version": "1.2.0",
            "_view_name": "StyleView",
            "bar_color": null,
            "description_width": ""
          }
        },
        "ccdc9f8b4d6549afb00d3a91fc561c24": {
          "model_module": "@jupyter-widgets/controls",
          "model_module_version": "1.5.0",
          "model_name": "ProgressStyleModel",
          "state": {
            "_model_module": "@jupyter-widgets/controls",
            "_model_module_version": "1.5.0",
            "_model_name": "ProgressStyleModel",
            "_view_count": null,
            "_view_module": "@jupyter-widgets/base",
            "_view_module_version": "1.2.0",
            "_view_name": "StyleView",
            "bar_color": null,
            "description_width": ""
          }
        },
        "cce91debbb87418995bdfa8d943d99f0": {
          "model_module": "@jupyter-widgets/base",
          "model_module_version": "1.2.0",
          "model_name": "LayoutModel",
          "state": {
            "_model_module": "@jupyter-widgets/base",
            "_model_module_version": "1.2.0",
            "_model_name": "LayoutModel",
            "_view_count": null,
            "_view_module": "@jupyter-widgets/base",
            "_view_module_version": "1.2.0",
            "_view_name": "LayoutView",
            "align_content": null,
            "align_items": null,
            "align_self": null,
            "border": null,
            "bottom": null,
            "display": null,
            "flex": null,
            "flex_flow": null,
            "grid_area": null,
            "grid_auto_columns": null,
            "grid_auto_flow": null,
            "grid_auto_rows": null,
            "grid_column": null,
            "grid_gap": null,
            "grid_row": null,
            "grid_template_areas": null,
            "grid_template_columns": null,
            "grid_template_rows": null,
            "height": null,
            "justify_content": null,
            "justify_items": null,
            "left": null,
            "margin": null,
            "max_height": null,
            "max_width": null,
            "min_height": null,
            "min_width": null,
            "object_fit": null,
            "object_position": null,
            "order": null,
            "overflow": null,
            "overflow_x": null,
            "overflow_y": null,
            "padding": null,
            "right": null,
            "top": null,
            "visibility": null,
            "width": null
          }
        },
        "d0c58aeff6ad4c4f91460646c2d260b5": {
          "model_module": "@jupyter-widgets/base",
          "model_module_version": "1.2.0",
          "model_name": "LayoutModel",
          "state": {
            "_model_module": "@jupyter-widgets/base",
            "_model_module_version": "1.2.0",
            "_model_name": "LayoutModel",
            "_view_count": null,
            "_view_module": "@jupyter-widgets/base",
            "_view_module_version": "1.2.0",
            "_view_name": "LayoutView",
            "align_content": null,
            "align_items": null,
            "align_self": null,
            "border": null,
            "bottom": null,
            "display": null,
            "flex": null,
            "flex_flow": null,
            "grid_area": null,
            "grid_auto_columns": null,
            "grid_auto_flow": null,
            "grid_auto_rows": null,
            "grid_column": null,
            "grid_gap": null,
            "grid_row": null,
            "grid_template_areas": null,
            "grid_template_columns": null,
            "grid_template_rows": null,
            "height": null,
            "justify_content": null,
            "justify_items": null,
            "left": null,
            "margin": null,
            "max_height": null,
            "max_width": null,
            "min_height": null,
            "min_width": null,
            "object_fit": null,
            "object_position": null,
            "order": null,
            "overflow": null,
            "overflow_x": null,
            "overflow_y": null,
            "padding": null,
            "right": null,
            "top": null,
            "visibility": null,
            "width": null
          }
        },
        "d1db361a945140989b411e83cde02315": {
          "model_module": "@jupyter-widgets/controls",
          "model_module_version": "1.5.0",
          "model_name": "ProgressStyleModel",
          "state": {
            "_model_module": "@jupyter-widgets/controls",
            "_model_module_version": "1.5.0",
            "_model_name": "ProgressStyleModel",
            "_view_count": null,
            "_view_module": "@jupyter-widgets/base",
            "_view_module_version": "1.2.0",
            "_view_name": "StyleView",
            "bar_color": null,
            "description_width": ""
          }
        },
        "d3a1b44212734d9ba87720e92191c312": {
          "model_module": "@jupyter-widgets/controls",
          "model_module_version": "1.5.0",
          "model_name": "DescriptionStyleModel",
          "state": {
            "_model_module": "@jupyter-widgets/controls",
            "_model_module_version": "1.5.0",
            "_model_name": "DescriptionStyleModel",
            "_view_count": null,
            "_view_module": "@jupyter-widgets/base",
            "_view_module_version": "1.2.0",
            "_view_name": "StyleView",
            "description_width": ""
          }
        },
        "d659d45184ac4d75b238bae9b1259d3f": {
          "model_module": "@jupyter-widgets/controls",
          "model_module_version": "1.5.0",
          "model_name": "HTMLModel",
          "state": {
            "_dom_classes": [],
            "_model_module": "@jupyter-widgets/controls",
            "_model_module_version": "1.5.0",
            "_model_name": "HTMLModel",
            "_view_count": null,
            "_view_module": "@jupyter-widgets/controls",
            "_view_module_version": "1.5.0",
            "_view_name": "HTMLView",
            "description": "",
            "description_tooltip": null,
            "layout": "IPY_MODEL_fa8c197179c14d6782ac92180b0dbb8e",
            "placeholder": "​",
            "style": "IPY_MODEL_e5bfaa76612649e29d54c74749d85e70",
            "value": "100%"
          }
        },
        "d79e99795f5d4ae18834a58b38e03a77": {
          "model_module": "@jupyter-widgets/base",
          "model_module_version": "1.2.0",
          "model_name": "LayoutModel",
          "state": {
            "_model_module": "@jupyter-widgets/base",
            "_model_module_version": "1.2.0",
            "_model_name": "LayoutModel",
            "_view_count": null,
            "_view_module": "@jupyter-widgets/base",
            "_view_module_version": "1.2.0",
            "_view_name": "LayoutView",
            "align_content": null,
            "align_items": null,
            "align_self": null,
            "border": null,
            "bottom": null,
            "display": null,
            "flex": null,
            "flex_flow": null,
            "grid_area": null,
            "grid_auto_columns": null,
            "grid_auto_flow": null,
            "grid_auto_rows": null,
            "grid_column": null,
            "grid_gap": null,
            "grid_row": null,
            "grid_template_areas": null,
            "grid_template_columns": null,
            "grid_template_rows": null,
            "height": null,
            "justify_content": null,
            "justify_items": null,
            "left": null,
            "margin": null,
            "max_height": null,
            "max_width": null,
            "min_height": null,
            "min_width": null,
            "object_fit": null,
            "object_position": null,
            "order": null,
            "overflow": null,
            "overflow_x": null,
            "overflow_y": null,
            "padding": null,
            "right": null,
            "top": null,
            "visibility": null,
            "width": null
          }
        },
        "d7f9191794ba405bb6715c881f974be2": {
          "model_module": "@jupyter-widgets/base",
          "model_module_version": "1.2.0",
          "model_name": "LayoutModel",
          "state": {
            "_model_module": "@jupyter-widgets/base",
            "_model_module_version": "1.2.0",
            "_model_name": "LayoutModel",
            "_view_count": null,
            "_view_module": "@jupyter-widgets/base",
            "_view_module_version": "1.2.0",
            "_view_name": "LayoutView",
            "align_content": null,
            "align_items": null,
            "align_self": null,
            "border": null,
            "bottom": null,
            "display": null,
            "flex": null,
            "flex_flow": null,
            "grid_area": null,
            "grid_auto_columns": null,
            "grid_auto_flow": null,
            "grid_auto_rows": null,
            "grid_column": null,
            "grid_gap": null,
            "grid_row": null,
            "grid_template_areas": null,
            "grid_template_columns": null,
            "grid_template_rows": null,
            "height": null,
            "justify_content": null,
            "justify_items": null,
            "left": null,
            "margin": null,
            "max_height": null,
            "max_width": null,
            "min_height": null,
            "min_width": null,
            "object_fit": null,
            "object_position": null,
            "order": null,
            "overflow": null,
            "overflow_x": null,
            "overflow_y": null,
            "padding": null,
            "right": null,
            "top": null,
            "visibility": null,
            "width": null
          }
        },
        "dab2758399d64eaab41f9df1cb5972bd": {
          "model_module": "@jupyter-widgets/controls",
          "model_module_version": "1.5.0",
          "model_name": "DescriptionStyleModel",
          "state": {
            "_model_module": "@jupyter-widgets/controls",
            "_model_module_version": "1.5.0",
            "_model_name": "DescriptionStyleModel",
            "_view_count": null,
            "_view_module": "@jupyter-widgets/base",
            "_view_module_version": "1.2.0",
            "_view_name": "StyleView",
            "description_width": ""
          }
        },
        "e3a0a5f1fa6e4a3fadbf92d336bc719d": {
          "model_module": "@jupyter-widgets/controls",
          "model_module_version": "1.5.0",
          "model_name": "DescriptionStyleModel",
          "state": {
            "_model_module": "@jupyter-widgets/controls",
            "_model_module_version": "1.5.0",
            "_model_name": "DescriptionStyleModel",
            "_view_count": null,
            "_view_module": "@jupyter-widgets/base",
            "_view_module_version": "1.2.0",
            "_view_name": "StyleView",
            "description_width": ""
          }
        },
        "e5bfaa76612649e29d54c74749d85e70": {
          "model_module": "@jupyter-widgets/controls",
          "model_module_version": "1.5.0",
          "model_name": "DescriptionStyleModel",
          "state": {
            "_model_module": "@jupyter-widgets/controls",
            "_model_module_version": "1.5.0",
            "_model_name": "DescriptionStyleModel",
            "_view_count": null,
            "_view_module": "@jupyter-widgets/base",
            "_view_module_version": "1.2.0",
            "_view_name": "StyleView",
            "description_width": ""
          }
        },
        "e7d38052fe494c219d598dfeefe2156f": {
          "model_module": "@jupyter-widgets/controls",
          "model_module_version": "1.5.0",
          "model_name": "HBoxModel",
          "state": {
            "_dom_classes": [],
            "_model_module": "@jupyter-widgets/controls",
            "_model_module_version": "1.5.0",
            "_model_name": "HBoxModel",
            "_view_count": null,
            "_view_module": "@jupyter-widgets/controls",
            "_view_module_version": "1.5.0",
            "_view_name": "HBoxView",
            "box_style": "",
            "children": [
              "IPY_MODEL_8375c493577c49f0888670fd37a8694f",
              "IPY_MODEL_bea58d7d8a8e4272bc51b1ea87342dc4",
              "IPY_MODEL_a00d31e755774dbd8910157eb00e5f7b"
            ],
            "layout": "IPY_MODEL_2c7aae901f5049c88201c15a8bb70e81"
          }
        },
        "eeef0ac01a4d42839270152dd85c84f5": {
          "model_module": "@jupyter-widgets/base",
          "model_module_version": "1.2.0",
          "model_name": "LayoutModel",
          "state": {
            "_model_module": "@jupyter-widgets/base",
            "_model_module_version": "1.2.0",
            "_model_name": "LayoutModel",
            "_view_count": null,
            "_view_module": "@jupyter-widgets/base",
            "_view_module_version": "1.2.0",
            "_view_name": "LayoutView",
            "align_content": null,
            "align_items": null,
            "align_self": null,
            "border": null,
            "bottom": null,
            "display": null,
            "flex": null,
            "flex_flow": null,
            "grid_area": null,
            "grid_auto_columns": null,
            "grid_auto_flow": null,
            "grid_auto_rows": null,
            "grid_column": null,
            "grid_gap": null,
            "grid_row": null,
            "grid_template_areas": null,
            "grid_template_columns": null,
            "grid_template_rows": null,
            "height": null,
            "justify_content": null,
            "justify_items": null,
            "left": null,
            "margin": null,
            "max_height": null,
            "max_width": null,
            "min_height": null,
            "min_width": null,
            "object_fit": null,
            "object_position": null,
            "order": null,
            "overflow": null,
            "overflow_x": null,
            "overflow_y": null,
            "padding": null,
            "right": null,
            "top": null,
            "visibility": null,
            "width": null
          }
        },
        "f026b03cda8d44a082035f54c836a733": {
          "model_module": "@jupyter-widgets/controls",
          "model_module_version": "1.5.0",
          "model_name": "HTMLModel",
          "state": {
            "_dom_classes": [],
            "_model_module": "@jupyter-widgets/controls",
            "_model_module_version": "1.5.0",
            "_model_name": "HTMLModel",
            "_view_count": null,
            "_view_module": "@jupyter-widgets/controls",
            "_view_module_version": "1.5.0",
            "_view_name": "HTMLView",
            "description": "",
            "description_tooltip": null,
            "layout": "IPY_MODEL_690f9a34fbb64ad483fd0a4f1af3513e",
            "placeholder": "​",
            "style": "IPY_MODEL_d3a1b44212734d9ba87720e92191c312",
            "value": "Downloading: 100%"
          }
        },
        "f2376456e5ca4950a9c85aac3b184e10": {
          "model_module": "@jupyter-widgets/base",
          "model_module_version": "1.2.0",
          "model_name": "LayoutModel",
          "state": {
            "_model_module": "@jupyter-widgets/base",
            "_model_module_version": "1.2.0",
            "_model_name": "LayoutModel",
            "_view_count": null,
            "_view_module": "@jupyter-widgets/base",
            "_view_module_version": "1.2.0",
            "_view_name": "LayoutView",
            "align_content": null,
            "align_items": null,
            "align_self": null,
            "border": null,
            "bottom": null,
            "display": null,
            "flex": null,
            "flex_flow": null,
            "grid_area": null,
            "grid_auto_columns": null,
            "grid_auto_flow": null,
            "grid_auto_rows": null,
            "grid_column": null,
            "grid_gap": null,
            "grid_row": null,
            "grid_template_areas": null,
            "grid_template_columns": null,
            "grid_template_rows": null,
            "height": null,
            "justify_content": null,
            "justify_items": null,
            "left": null,
            "margin": null,
            "max_height": null,
            "max_width": null,
            "min_height": null,
            "min_width": null,
            "object_fit": null,
            "object_position": null,
            "order": null,
            "overflow": null,
            "overflow_x": null,
            "overflow_y": null,
            "padding": null,
            "right": null,
            "top": null,
            "visibility": null,
            "width": null
          }
        },
        "f6f4f3d029f44b2da6dbfe2873cbfe97": {
          "model_module": "@jupyter-widgets/controls",
          "model_module_version": "1.5.0",
          "model_name": "HBoxModel",
          "state": {
            "_dom_classes": [],
            "_model_module": "@jupyter-widgets/controls",
            "_model_module_version": "1.5.0",
            "_model_name": "HBoxModel",
            "_view_count": null,
            "_view_module": "@jupyter-widgets/controls",
            "_view_module_version": "1.5.0",
            "_view_name": "HBoxView",
            "box_style": "",
            "children": [
              "IPY_MODEL_d659d45184ac4d75b238bae9b1259d3f",
              "IPY_MODEL_07128ab681ce4623a913cd4f4c725303",
              "IPY_MODEL_2ccefff2aa6b4b968f5da5cff83e7a42"
            ],
            "layout": "IPY_MODEL_68518afc617c4c4081abb1529df7e68d"
          }
        },
        "f9ad3ae607f949ea9ff107c283aed8ed": {
          "model_module": "@jupyter-widgets/controls",
          "model_module_version": "1.5.0",
          "model_name": "FloatProgressModel",
          "state": {
            "_dom_classes": [],
            "_model_module": "@jupyter-widgets/controls",
            "_model_module_version": "1.5.0",
            "_model_name": "FloatProgressModel",
            "_view_count": null,
            "_view_module": "@jupyter-widgets/controls",
            "_view_module_version": "1.5.0",
            "_view_name": "ProgressView",
            "bar_style": "success",
            "description": "",
            "description_tooltip": null,
            "layout": "IPY_MODEL_36c0a21a46b243d4ac8af1aabc1e9c79",
            "max": 15598,
            "min": 0,
            "orientation": "horizontal",
            "style": "IPY_MODEL_7e44c8c151c6447fa7d0632364a2a72e",
            "value": 15598
          }
        },
        "fa8c197179c14d6782ac92180b0dbb8e": {
          "model_module": "@jupyter-widgets/base",
          "model_module_version": "1.2.0",
          "model_name": "LayoutModel",
          "state": {
            "_model_module": "@jupyter-widgets/base",
            "_model_module_version": "1.2.0",
            "_model_name": "LayoutModel",
            "_view_count": null,
            "_view_module": "@jupyter-widgets/base",
            "_view_module_version": "1.2.0",
            "_view_name": "LayoutView",
            "align_content": null,
            "align_items": null,
            "align_self": null,
            "border": null,
            "bottom": null,
            "display": null,
            "flex": null,
            "flex_flow": null,
            "grid_area": null,
            "grid_auto_columns": null,
            "grid_auto_flow": null,
            "grid_auto_rows": null,
            "grid_column": null,
            "grid_gap": null,
            "grid_row": null,
            "grid_template_areas": null,
            "grid_template_columns": null,
            "grid_template_rows": null,
            "height": null,
            "justify_content": null,
            "justify_items": null,
            "left": null,
            "margin": null,
            "max_height": null,
            "max_width": null,
            "min_height": null,
            "min_width": null,
            "object_fit": null,
            "object_position": null,
            "order": null,
            "overflow": null,
            "overflow_x": null,
            "overflow_y": null,
            "padding": null,
            "right": null,
            "top": null,
            "visibility": null,
            "width": null
          }
        },
        "fc0e29aaa69343ceb27567be88979ed2": {
          "model_module": "@jupyter-widgets/controls",
          "model_module_version": "1.5.0",
          "model_name": "FloatProgressModel",
          "state": {
            "_dom_classes": [],
            "_model_module": "@jupyter-widgets/controls",
            "_model_module_version": "1.5.0",
            "_model_name": "FloatProgressModel",
            "_view_count": null,
            "_view_module": "@jupyter-widgets/controls",
            "_view_module_version": "1.5.0",
            "_view_name": "ProgressView",
            "bar_style": "success",
            "description": "",
            "description_tooltip": null,
            "layout": "IPY_MODEL_8c8a73e943ed4b7191726c5b8b1e173a",
            "max": 44236,
            "min": 0,
            "orientation": "horizontal",
            "style": "IPY_MODEL_2acb969c41c84a209b0194f9eaf57ac1",
            "value": 44236
          }
        },
        "fe85484b95604f2291543aec427a3eac": {
          "model_module": "@jupyter-widgets/base",
          "model_module_version": "1.2.0",
          "model_name": "LayoutModel",
          "state": {
            "_model_module": "@jupyter-widgets/base",
            "_model_module_version": "1.2.0",
            "_model_name": "LayoutModel",
            "_view_count": null,
            "_view_module": "@jupyter-widgets/base",
            "_view_module_version": "1.2.0",
            "_view_name": "LayoutView",
            "align_content": null,
            "align_items": null,
            "align_self": null,
            "border": null,
            "bottom": null,
            "display": null,
            "flex": null,
            "flex_flow": null,
            "grid_area": null,
            "grid_auto_columns": null,
            "grid_auto_flow": null,
            "grid_auto_rows": null,
            "grid_column": null,
            "grid_gap": null,
            "grid_row": null,
            "grid_template_areas": null,
            "grid_template_columns": null,
            "grid_template_rows": null,
            "height": null,
            "justify_content": null,
            "justify_items": null,
            "left": null,
            "margin": null,
            "max_height": null,
            "max_width": null,
            "min_height": null,
            "min_width": null,
            "object_fit": null,
            "object_position": null,
            "order": null,
            "overflow": null,
            "overflow_x": null,
            "overflow_y": null,
            "padding": null,
            "right": null,
            "top": null,
            "visibility": null,
            "width": null
          }
        },
        "ff2232e03db44ed0ad0bf0f2e630f335": {
          "model_module": "@jupyter-widgets/controls",
          "model_module_version": "1.5.0",
          "model_name": "HBoxModel",
          "state": {
            "_dom_classes": [],
            "_model_module": "@jupyter-widgets/controls",
            "_model_module_version": "1.5.0",
            "_model_name": "HBoxModel",
            "_view_count": null,
            "_view_module": "@jupyter-widgets/controls",
            "_view_module_version": "1.5.0",
            "_view_name": "HBoxView",
            "box_style": "",
            "children": [
              "IPY_MODEL_082f645b31bc40d0a3dcf67b61059fb0",
              "IPY_MODEL_208d968a213e4e829cec9a2a0e469ee6",
              "IPY_MODEL_c2a8e44bba374532a37f9c69f523cf22"
            ],
            "layout": "IPY_MODEL_fe85484b95604f2291543aec427a3eac"
          }
        }
      }
    }
  },
  "nbformat": 4,
  "nbformat_minor": 0
}
