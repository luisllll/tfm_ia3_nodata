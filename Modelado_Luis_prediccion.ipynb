{
  "cells": [
    {
      "cell_type": "markdown",
      "metadata": {
        "id": "lHecaO_7JG6L"
      },
      "source": [
        "\n",
        "## Import necessary libraries"
      ]
    },
    {
      "cell_type": "code",
      "execution_count": 1,
      "metadata": {},
      "outputs": [
        {
          "name": "stdout",
          "output_type": "stream",
          "text": [
            "Device: cuda\n"
          ]
        }
      ],
      "source": [
        "import torch\n",
        "\n",
        "# Verifica si CUDA (GPU) está disponible\n",
        "device = torch.device(\"cuda\" if torch.cuda.is_available() else \"cpu\")\n",
        "print(\"Device:\", device)"
      ]
    },
    {
      "cell_type": "code",
      "execution_count": 2,
      "metadata": {
        "colab": {
          "base_uri": "https://localhost:8080/"
        },
        "id": "pYiY1suXzjKg",
        "outputId": "8568bd49-c8ab-4d9c-8733-c046c54963ef"
      },
      "outputs": [
        {
          "name": "stderr",
          "output_type": "stream",
          "text": [
            "C:\\Users\\luisl\\AppData\\Local\\Temp\\ipykernel_10892\\269888456.py:15: DeprecationWarning: \n",
            "Pyarrow will become a required dependency of pandas in the next major release of pandas (pandas 3.0),\n",
            "(to allow more performant data types, such as the Arrow string type, and better interoperability with other libraries)\n",
            "but was not found to be installed on your system.\n",
            "If this would cause problems for you,\n",
            "please provide us feedback at https://github.com/pandas-dev/pandas/issues/54466\n",
            "        \n",
            "  import pandas as pd\n",
            "[nltk_data] Downloading package stopwords to\n",
            "[nltk_data]     C:\\Users\\luisl\\AppData\\Roaming\\nltk_data...\n",
            "[nltk_data]   Package stopwords is already up-to-date!\n",
            "[nltk_data] Downloading package punkt to\n",
            "[nltk_data]     C:\\Users\\luisl\\AppData\\Roaming\\nltk_data...\n",
            "[nltk_data]   Package punkt is already up-to-date!\n",
            "[nltk_data] Downloading package wordnet to\n",
            "[nltk_data]     C:\\Users\\luisl\\AppData\\Roaming\\nltk_data...\n",
            "[nltk_data]   Package wordnet is already up-to-date!\n"
          ]
        }
      ],
      "source": [
        "# Python libraries\n",
        "import datetime as dt\n",
        "import re\n",
        "import pickle\n",
        "from tqdm.notebook import tqdm\n",
        "import os\n",
        "import sys\n",
        "import time\n",
        "import logging\n",
        "import random\n",
        "from collections import defaultdict, Counter\n",
        "\n",
        "# Data Science modules\n",
        "import numpy as np\n",
        "import pandas as pd\n",
        "import matplotlib.pyplot as plt\n",
        "import seaborn as sns; sns.set()\n",
        "plt.style.use('ggplot')\n",
        "\n",
        "\n",
        "# Import nltk modules and download dataset\n",
        "import nltk\n",
        "from nltk.corpus import stopwords\n",
        "from nltk.util import ngrams\n",
        "from nltk.tokenize import word_tokenize, sent_tokenize\n",
        "\n",
        "nltk.download('stopwords')\n",
        "nltk.download('punkt')\n",
        "nltk.download('wordnet')\n",
        "\n",
        "stop = set(stopwords.words('english'))\n",
        "\n",
        "# Import Pytorch modules\n",
        "import torch\n",
        "from torch import nn, optim\n",
        "import torch.nn.functional as F\n",
        "from torch.utils.data import (DataLoader, RandomSampler, SequentialSampler, TensorDataset)\n",
        "from torch.autograd import Variable\n",
        "from torch.optim import Adam, AdamW"
      ]
    },
    {
      "cell_type": "code",
      "execution_count": 29,
      "metadata": {
        "id": "_iyKXjSnTl8f"
      },
      "outputs": [],
      "source": [
        "import pandas as pd\n",
        "import numpy as np\n",
        "import matplotlib.pyplot as plt\n",
        "import seaborn as sns\n",
        "\n",
        "import scipy\n",
        "import nltk\n",
        "from nltk.sentiment import SentimentIntensityAnalyzer\n",
        "from tqdm.notebook import tqdm\n",
        "from sklearn.metrics import accuracy_score, classification_report, confusion_matrix, roc_auc_score\n",
        "import torch\n",
        "from transformers import pipeline, AutoTokenizer, AutoModelForSequenceClassification, BertTokenizer, BertForSequenceClassification\n",
        "import warnings\n",
        "warnings.filterwarnings(\"ignore\")"
      ]
    },
    {
      "cell_type": "markdown",
      "metadata": {},
      "source": [
        "## cargar texto resumido "
      ]
    },
    {
      "cell_type": "code",
      "execution_count": 2,
      "metadata": {},
      "outputs": [
        {
          "name": "stdout",
          "output_type": "stream",
          "text": [
            "¡DataFrame cargado del archivo pickle exitosamente!\n"
          ]
        },
        {
          "name": "stderr",
          "output_type": "stream",
          "text": [
            "C:\\Users\\luisl\\AppData\\Local\\Temp\\ipykernel_17068\\3960296817.py:9: DeprecationWarning: \n",
            "Pyarrow will become a required dependency of pandas in the next major release of pandas (pandas 3.0),\n",
            "(to allow more performant data types, such as the Arrow string type, and better interoperability with other libraries)\n",
            "but was not found to be installed on your system.\n",
            "If this would cause problems for you,\n",
            "please provide us feedback at https://github.com/pandas-dev/pandas/issues/54466\n",
            "        \n",
            "  loaded_df = pickle.load(pickle_file)\n"
          ]
        }
      ],
      "source": [
        "import pickle\n",
        "\n",
        "# Define the path to the pickle file (same as before)\n",
        "ruta_pickle = 'C:/Users/luisl/OneDrive/Escritorio/TFM_IA3/tfm_ia3_nodata/data/preprocessed/text_resumido_v2.pkl'\n",
        "\n",
        "# Open the file in binary read mode\n",
        "with open(ruta_pickle, 'rb') as pickle_file:\n",
        "  # Use pickle.load to deserialize the data and create a new DataFrame\n",
        "  loaded_df = pickle.load(pickle_file)\n",
        "\n",
        "print(\"¡DataFrame cargado del archivo pickle exitosamente!\")"
      ]
    },
    {
      "cell_type": "code",
      "execution_count": 3,
      "metadata": {},
      "outputs": [
        {
          "data": {
            "text/html": [
              "<div>\n",
              "<style scoped>\n",
              "    .dataframe tbody tr th:only-of-type {\n",
              "        vertical-align: middle;\n",
              "    }\n",
              "\n",
              "    .dataframe tbody tr th {\n",
              "        vertical-align: top;\n",
              "    }\n",
              "\n",
              "    .dataframe thead th {\n",
              "        text-align: right;\n",
              "    }\n",
              "</style>\n",
              "<table border=\"1\" class=\"dataframe\">\n",
              "  <thead>\n",
              "    <tr style=\"text-align: right;\">\n",
              "      <th></th>\n",
              "      <th>type</th>\n",
              "      <th>date</th>\n",
              "      <th>title</th>\n",
              "      <th>speaker</th>\n",
              "      <th>word_count</th>\n",
              "      <th>decision</th>\n",
              "      <th>rate</th>\n",
              "      <th>next_meeting</th>\n",
              "      <th>next_decision</th>\n",
              "      <th>next_rate</th>\n",
              "      <th>text</th>\n",
              "      <th>summary</th>\n",
              "    </tr>\n",
              "  </thead>\n",
              "  <tbody>\n",
              "    <tr>\n",
              "      <th>13691</th>\n",
              "      <td>speech</td>\n",
              "      <td>2023-10-02</td>\n",
              "      <td>Monetary Policy and Financial Stability</td>\n",
              "      <td>Vice Chair for Supervision Michael S. Barr</td>\n",
              "      <td>3267</td>\n",
              "      <td>&lt;NA&gt;</td>\n",
              "      <td>NaN</td>\n",
              "      <td>2023-11-01</td>\n",
              "      <td>0</td>\n",
              "      <td>5.25</td>\n",
              "      <td>Thank you for the opportunity to speak to you....</td>\n",
              "      <td>I am squarely focused on our dual mandate to p...</td>\n",
              "    </tr>\n",
              "    <tr>\n",
              "      <th>13692</th>\n",
              "      <td>speech</td>\n",
              "      <td>2023-10-02</td>\n",
              "      <td>Brief Remarks on the Economy and Bank Regulation</td>\n",
              "      <td>Governor Michelle W. Bowman</td>\n",
              "      <td>1996</td>\n",
              "      <td>&lt;NA&gt;</td>\n",
              "      <td>NaN</td>\n",
              "      <td>2023-11-01</td>\n",
              "      <td>0</td>\n",
              "      <td>5.25</td>\n",
              "      <td>Thank you for the invitation to join you today...</td>\n",
              "      <td>Fed Chair Janet Yellen speaks to community ban...</td>\n",
              "    </tr>\n",
              "    <tr>\n",
              "      <th>13693</th>\n",
              "      <td>speech</td>\n",
              "      <td>2023-10-04</td>\n",
              "      <td>The Role of Research, Data, and Analysis in Ba...</td>\n",
              "      <td>Governor Michelle W. Bowman</td>\n",
              "      <td>3757</td>\n",
              "      <td>&lt;NA&gt;</td>\n",
              "      <td>NaN</td>\n",
              "      <td>2023-11-01</td>\n",
              "      <td>0</td>\n",
              "      <td>5.25</td>\n",
              "      <td>It's a pleasure to be back in St. Louis for th...</td>\n",
              "      <td>The annual Community Banking Research Conferen...</td>\n",
              "    </tr>\n",
              "    <tr>\n",
              "      <th>13694</th>\n",
              "      <td>speech</td>\n",
              "      <td>2023-10-07</td>\n",
              "      <td>Brief Remarks on the Economy and Insights from...</td>\n",
              "      <td>Governor Michelle W. Bowman</td>\n",
              "      <td>2248</td>\n",
              "      <td>&lt;NA&gt;</td>\n",
              "      <td>NaN</td>\n",
              "      <td>2023-11-01</td>\n",
              "      <td>0</td>\n",
              "      <td>5.25</td>\n",
              "      <td>It is a pleasure to be with you here today.1 A...</td>\n",
              "      <td>\"I would like to share some thoughts about tha...</td>\n",
              "    </tr>\n",
              "    <tr>\n",
              "      <th>13695</th>\n",
              "      <td>speech</td>\n",
              "      <td>2023-10-09</td>\n",
              "      <td>Capital Supports Lending</td>\n",
              "      <td>Vice Chair for Supervision Michael S. Barr</td>\n",
              "      <td>1755</td>\n",
              "      <td>&lt;NA&gt;</td>\n",
              "      <td>NaN</td>\n",
              "      <td>2023-11-01</td>\n",
              "      <td>0</td>\n",
              "      <td>5.25</td>\n",
              "      <td>Thank you for the opportunity to join you toda...</td>\n",
              "      <td>Federal Reserve Chairman Janet Yellen speaks o...</td>\n",
              "    </tr>\n",
              "  </tbody>\n",
              "</table>\n",
              "</div>"
            ],
            "text/plain": [
              "         type       date                                              title  \\\n",
              "13691  speech 2023-10-02            Monetary Policy and Financial Stability   \n",
              "13692  speech 2023-10-02   Brief Remarks on the Economy and Bank Regulation   \n",
              "13693  speech 2023-10-04  The Role of Research, Data, and Analysis in Ba...   \n",
              "13694  speech 2023-10-07  Brief Remarks on the Economy and Insights from...   \n",
              "13695  speech 2023-10-09                           Capital Supports Lending   \n",
              "\n",
              "                                          speaker  word_count  decision  rate  \\\n",
              "13691  Vice Chair for Supervision Michael S. Barr        3267      <NA>   NaN   \n",
              "13692                 Governor Michelle W. Bowman        1996      <NA>   NaN   \n",
              "13693                 Governor Michelle W. Bowman        3757      <NA>   NaN   \n",
              "13694                 Governor Michelle W. Bowman        2248      <NA>   NaN   \n",
              "13695  Vice Chair for Supervision Michael S. Barr        1755      <NA>   NaN   \n",
              "\n",
              "      next_meeting next_decision  next_rate  \\\n",
              "13691   2023-11-01             0       5.25   \n",
              "13692   2023-11-01             0       5.25   \n",
              "13693   2023-11-01             0       5.25   \n",
              "13694   2023-11-01             0       5.25   \n",
              "13695   2023-11-01             0       5.25   \n",
              "\n",
              "                                                    text  \\\n",
              "13691  Thank you for the opportunity to speak to you....   \n",
              "13692  Thank you for the invitation to join you today...   \n",
              "13693  It's a pleasure to be back in St. Louis for th...   \n",
              "13694  It is a pleasure to be with you here today.1 A...   \n",
              "13695  Thank you for the opportunity to join you toda...   \n",
              "\n",
              "                                                 summary  \n",
              "13691  I am squarely focused on our dual mandate to p...  \n",
              "13692  Fed Chair Janet Yellen speaks to community ban...  \n",
              "13693  The annual Community Banking Research Conferen...  \n",
              "13694  \"I would like to share some thoughts about tha...  \n",
              "13695  Federal Reserve Chairman Janet Yellen speaks o...  "
            ]
          },
          "execution_count": 3,
          "metadata": {},
          "output_type": "execute_result"
        }
      ],
      "source": [
        "loaded_df.head()"
      ]
    },
    {
      "cell_type": "code",
      "execution_count": null,
      "metadata": {},
      "outputs": [],
      "source": []
    },
    {
      "cell_type": "code",
      "execution_count": 14,
      "metadata": {},
      "outputs": [],
      "source": [
        "train_data = train_df.to_dict(orient='records')\n",
        "val_data = test_df.to_dict(orient='records')\n",
        "data = data.to_dict(orient='records')\n",
        "\n"
      ]
    },
    {
      "cell_type": "code",
      "execution_count": 15,
      "metadata": {},
      "outputs": [
        {
          "data": {
            "text/plain": [
              "[{'text': 'U.S. budget ran a deficit equal to about 3-1/2 percent of gross domestic product in fiscal 2004. Federal debt held by the public as a percentof GDP has risen noticeably since it bottomed out in 2001. Reinstating a structure like the one provided by the Budget Enforcement Act would signal commitment to fiscal restraint.',\n",
              "  'label': 2},\n",
              " {'text': 'Over 17 percent of subprime adjustable-rate mortgages were in serious delinquency at the end of September, a rate over three times higher than that in mid-2005. Serious delinquencies also increased among near-prime and prime mortgages, although these delinquencies remain much lower than among subprime mortgages. Lenders initiated foreclosure proceedings for an average of 320,000 loans per quarter in the first half of this year.',\n",
              "  'label': 0},\n",
              " {'text': 'The Dodd-Frank Act addresses key gaps in the framework for supervising and regulating systemically important financial institutions. It also addresses the market perception that such firms are too big to fail. The Federal Reserve has been working closely with the other member agencies of the Council to put this designation framework in place.',\n",
              "  'label': 0},\n",
              " {'text': 'The Federal Reserve has taken an active role in alerting the banking industry and the public about the illicit activities of individuals trying to peddle nonexistent financial instruments. In late 1993, Federal Reserve staff was alerted by domestic and foreign banking organizations that their names were being used for apparently unlawful purposes. Some \"prime bank\" schemes appeared to be targeted to individuals and companies who needed loans.',\n",
              "  'label': 1},\n",
              " {'text': 'ILCs are state-chartered banks that have virtually all of the powers and privileges of other insured commercial banks. ILCs operate under a special exception to the federal Bank Holding Company Act. This special exception allows any type of firm, including a commercial firm or foreign bank, to acquire and operate an ILC chartered in one of a handful of states.',\n",
              "  'label': 0},\n",
              " {'text': 'Federal Reserve Chair Janet Yellen testifies on behalf of the Board of Governors of the Federal Reserve System on Basel II and H.R. 2043. Yellen: Basel I has served the U.S. well, by facilitating an international capital standard that contributes to competitive equity between our banks.',\n",
              "  'label': 0},\n",
              " {'text': 'The Federal Reserve Board believes that modernization of the Act is essential. The reauthorization of the Commodity Futures Trading Commission (CFTC) offers the best opportunity to make the necessary changes. If this opportunity is lost, the Board is concerned that market participants will abandon hope for regulatory reform in the United States.',\n",
              "  'label': 2},\n",
              " {'text': 'More than 1.5 million foreclosures were started during 2007, up 53 percent from the previous year. As of January 2008, about 24 percent of subprime adjustable-rate mortgages were 90 days or more delinquent. When struggling homeowners cannot put themselves on a sustainable financial footing, neighborhoods also suffer.',\n",
              "  'label': 0},\n",
              " {'text': 'The annual Community Banking Research Conference takes place in St. Louis. The conference provides an excellent opportunity for policymakers to reflect on the impact of current U.S. bank regulatory policies on the financial system. The banking system faced significant challenges this year, triggered by the failures of three large banks in early spring.',\n",
              "  'label': 1},\n",
              " {'text': 'After the attacks, economic activity recovered somewhat from depressed levels that immediately followed the attacks. The recovery has been uneven. The shock of the tragedies at the World Trade Center and the Pentagon has reshaped those assessments of risk. Markets across our economy will adjust to the altered perceptions of risk that we now confront.',\n",
              "  'label': 0},\n",
              " {'text': 'Federal Reserve Chairman Janet Yellen testifies before the Senate Banking Committee. Yellen: \"We believe we had no choice if we are to pursue our responsibility for protecting financial stability\" Yellen says AIG is one of the largest insurance companies in the world. AIG\\'s Financial Products unit exploited a gap in the supervisory framework for insurance companies, he says.',\n",
              "  'label': 0},\n",
              " {'text': 'New technologies, policies, and financial innovations have contributed to the development of a robust and highly competitive consumer finance marketplace. The magnitude of mortgage delinquencies and foreclosures in recent months has underscored the importance of consumer understanding of financial products. Financial education is an important tool for helping consumers to manage their personal finances.',\n",
              "  'label': 0},\n",
              " {'text': 'I look forward to working with you in the years ahead to build a framework to enable the American people to enjoy the fruits of a sound and efficient financial system. Congress took a major step last year in passing legislation that will help the citizens of the United States realize the benefits of the rapid evolution of technology in the delivery of financial services.',\n",
              "  'label': 2},\n",
              " {'text': 'Chairman Shelby, Senator Sarbanes, and members of the Committee, thank you for the opportunity to testify on issues related to regulatory relief. The Federal Reserve strongly supports this and other efforts to review the federal banking laws periodically to determine whether they may be streamlined. Chairman Greenspan highlighted three proposals that the Board has supported for many years.',\n",
              "  'label': 2},\n",
              " {'text': 'The Federal Reserve hosts the 5th annual conference on \"Nontraditional Data, Machine Learning, and Natural Language Processing in Macroeconomics\" The conference has evolved into an international partnership between academics, central banks, statistical agencies, and international organizations. The emergence of nontraditional, high-frequency data was integral to better understanding the real-time effects of the COVID-19 pandemic.',\n",
              "  'label': 1},\n",
              " {'text': \"Federal Reserve Board is working to enhance protections for credit card users. Chairman Bernanke: As consumers have relied more on credit cards, card plans have become more complex. Growing complexity has increased the risk that consumers will not understand or notice key terms that affect a plan's cost, he says.\",\n",
              "  'label': 0},\n",
              " {'text': 'Small businesses employ more than half of the private work force in the U.S. Small businesses are a source of new ideas and products, he says. The flow of labor and capital from less productive to more productive uses is the cornerstone of a dynamic and healthy economy.',\n",
              "  'label': 0},\n",
              " {'text': \"Sen. Saxby Chambliss: Retirement, generally, is a relatively new phenomenon in human history. With fewer workers relative to dependents, each worker's output will have to support a greater number of people, he says. This inevitable drop in the growth rate of per capita GDP relative to the growth of productivity could be cushioned by an increase in labor force participation, he writes.\",\n",
              "  'label': 2},\n",
              " {'text': 'Information technology is changing the way we do business and create value, he says. Real-time information has enabled firms to remove large swaths of inventory safety stocks, he writes. Information access in real-time has fostered marked reductions in delivery lead-times on all sorts of goods.',\n",
              "  'label': 2},\n",
              " {'text': 'Federal Reserve Chairman Jerome Powell speaks at Aspen Institute event. Powell: Consumers are better positioned to benefit from economic growth when they have access to financial products and services that responsibly meet their needs. He highlights activities in which the Federal Reserve participates to promote financial inclusion and concludes with ideas for future work and collaboration.',\n",
              "  'label': 1},\n",
              " {'text': 'The past decade has been extraordinary for the U.S. economy and monetary policy. The surge in spending had lifted the growth of the stocks of consumer durable goods and business capitalequipment to rates that could not be continued. As the economyslowed, equity prices fell, especially in the high-tech sector, resulting in significant losses for some investors.',\n",
              "  'label': 0},\n",
              " {'text': \"The Fed is celebrating the 100th anniversary of the Division of Research and Statistics. The division produces the Tealbook, which contains the staff's forecast for the U.S. economy. It is also the source for some of the most important data on the economy and the financial system.\",\n",
              "  'label': 1},\n",
              " {'text': 'Since late last summer, financial markets in the United States and in a number of other industrialized countries have been under considerable strain. As investors lost confidence in their ability to value complex financial products, they became increasingly unwilling to hold such instruments. More-expensive and less-available credit seems likely to impose a measure of restraint on economic growth.',\n",
              "  'label': 0},\n",
              " {'text': 'The GLB Act already requires that banks send any U.S. securities trades for a trust or fiduciary account to a registered broker-dealer for execution. See 15 U.s.C. ï¿½ 78c(a)(4)(C).',\n",
              "  'label': 0},\n",
              " {'text': 'New technologies and financial products have challenged the ability of inward-looking and protectionist economies to maintain effective barriers. Net private capital inflows into emerging markets roughly quadrupled between 1990 and the onset of the Asian crisis. Excess cash found its way in too many instances into ill conceived and unwisely financed real estate ventures.',\n",
              "  'label': 2},\n",
              " {'text': 'The Federal Reserve has a strong interest in the smooth functioning and resiliency of this market. The triparty repo market is now smaller than its peak and in general funds higher-quality collateral. The Federal Reserve continues to be fully engaged on a number of fronts to promote measures that will further mitigate these risks.',\n",
              "  'label': 0},\n",
              " {'text': 'Fed Chair Janet Yellen: \"It is a pleasure to join you to take part in today\\'s conversations\" She says the pandemic experience abruptly changed the lives of most Americans and their families. \"It has altered many long-standing economic patterns that policymakers have relied on to interpret economic developments\"',\n",
              "  'label': 1},\n",
              " {'text': 'Federal Reserve Chairman Ben Bernanke: \"Terrorism of September 11 will, doubtless, have significant effects on the U.S. economy over the short term\" He says the shock of 9/11 has the potential to result in a pronounced disengagement from future commitments. But he says the foundations of our free society remain sound, and I am confident that we will recover and prosper.',\n",
              "  'label': 0},\n",
              " {'text': 'Mr. Chairman, I am pleased to appear on behalf of the Federal Reserve Board to discuss issues regarding recent bank failures. Recent experience has shown that small pockets of lax standards, excesses or fraud, even within smaller organizations, can cause noticeable losses to the insurance fund. Today, I will discuss current strategies to minimize the frequency and costs of these unusual cases.',\n",
              "  'label': 2},\n",
              " {'text': 'Bernanke: It is a pleasure to be here to honor the legacy of Bennett McCallum by discussing his work on monetary policy. Ben was an influential researcher who focused on a number of topics that are key to monetary policy, he says. Bernanke: Since I became a member of the Federal Open Market Committee, the same issues have been at the forefront of my work.',\n",
              "  'label': 1},\n",
              " {'text': 'The Federal Reserve hosts the 5th annual conference on \"Nontraditional Data, Machine Learning, and Natural Language Processing in Macroeconomics\" The conference has evolved into an international partnership between academics, central banks, statistical agencies, and international organizations. The emergence of nontraditional, high-frequency data was integral to better understanding the real-time effects of the COVID-19 pandemic.',\n",
              "  'label': 1},\n",
              " {'text': 'I am pleased to be here today to discuss the evolution of our equity markets and the appropriate role for policymakers in this period of rapid change. Publicly traded equities are a significant source of capital for firms, and equity markets are a key part of the process of allocating capital among competing uses in our economy. It is vital that our public policies foster equity markets that remain efficient, innovative, and competitive.',\n",
              "  'label': 2},\n",
              " {'text': 'Federal Reserve Chairman Janet Yellen speaks on Indigenous Peoples\\' Day. Yellen: Financial system must be able to weather unexpected stress and serve its customers and communities. She says most banks would not be subject to the Fed\\'s \"endgame\" proposal on bank capital. Yanke: The bulk of the proposed changes have been a decade in the making.',\n",
              "  'label': 1},\n",
              " {'text': \"Five years ago, monetary policymakers faced a much different set of challenges than those we face today. Then, inflation had consistently been running slightly below the Committee's 2 percent inflation target. The U.S. was also experiencing one of the longest economic expansions in its history, with consistent labor market gains for all segments of the workforce. The Federal Reserve responded forcefully to the financial market turmoil.\",\n",
              "  'label': 1},\n",
              " {'text': 'H.R. 1701 would require cost disclosures for rent-to-own transactions. Rental-purchase transactions involve short-term, renewable rentals of personal property. Bill would prohibit confession-of-judgment clauses that prevent consumers from defending legal action. Currently, there is no federal regulation of rental-p purchase transactions.',\n",
              "  'label': 0},\n",
              " {'text': 'The Board of Governors of the Federal Reserve System administers the Truth in Lending Act (TILA) TILA is the primary federal law governing disclosures for consumer credit, including credit card accounts. TILA has distinct rules for two categories of consumer credit: open-end (revolving) credit plans and closed-end transactions, such as auto loans and home-purchase loans.',\n",
              "  'label': 2},\n",
              " {'text': 'The Federal Reserve is working to put final Dodd-Frank Act rules in place and to negotiate and implement international reforms. These include enhanced capital requirements for systemically important banks, liquidity requirements, resolution mechanisms, and margining requirements for over-the-counter derivatives. The Federal Reserve continues to work cooperatively with other supervisors to ensure that prudential supervision is conducted in a manner that supports these important reforms.',\n",
              "  'label': 0},\n",
              " {'text': \"Scobie: It has been one year and seven months since the Federal Reserve began raising interest rates to rein in inflation. Economic activity and the labor market have been strong, he says. But he says things are looking a little too good to be true, so it makes him think that something's gotta give.\",\n",
              "  'label': 1},\n",
              " {'text': 'Economic growth has continued at a moderate pace so far this year, authors say. But the job market remains weak overall, they say. Severe fiscal and financial strains in Europe have also restrained U.S. growth. Authors: But since last summer, financial conditions in the euro area have improved.',\n",
              "  'label': 2},\n",
              " {'text': 'U.S. economy has done well, on net, by most measures over the past year. Real GDP has grown by 3.7 percent over that period, the unemployment rate has fallen to 5.1 percent. But the growth of productivity, though respectable, is far less than the extraordinary pace of 5-1/2 percent during 2003.',\n",
              "  'label': 2},\n",
              " {'text': 'I am squarely focused on our dual mandate to promote maximum employment and stable prices for the American people. Price stability is crucial to achieving a sustained period of strong labor market conditions that benefit all. I strongly agree with what Chair Powell has said about where we are in the tightening cycle. My baseline projection is for real GDP growth to moderate to somewhat below its potential rate.',\n",
              "  'label': 1},\n",
              " {'text': 'President Obama: Financial literacy is a source of better decisionmaking by consumers. Informed financial decisionmaking is also vital for the healthy functioning of financial markets, he says. Obama: Regulators have an important role in helping to ensure that financial service companies provide necessary information to their customers.',\n",
              "  'label': 2},\n",
              " {'text': \"The enhanced integration of China into the world trading system is having a notable effect on Asia's trade with the rest of the world and on trade within Asia. A revaluation of the RMB would have limited consequences for overall U.S. imports as well as for exports that compete with Chinese products in third markets.\",\n",
              "  'label': 2},\n",
              " {'text': \"Russia's crisis reflected a significant jump of contagion out of East Asia. The shock drove yields on dollar-denominated debt securities of emerging market economies sharply higher across the globe. Concerns about business profits have driven down stock prices and pushed up rates on the bonds of lower-rated borrowers.\",\n",
              "  'label': 0},\n",
              " {'text': 'U.S. economy has retained considerable vigor, with few signs of imbalances and inflationary tensions that have disrupted past expansions. Consumers appear to have been rather conservative in their spending. The growing economy had beneficial effects on the finances of many states and localities.',\n",
              "  'label': 1},\n",
              " {'text': 'Mr. Chairman, I present the views of the Board of Governors of the Federal Reserve System on deposit insurance reform. The Board believes it is important first to understand the benefits and costs of deposit insurance. Deposit insurance has played a key role in achieving the stability in banking and financial markets that has characterized the past almost seventy years.',\n",
              "  'label': 0},\n",
              " {'text': 'Uncertainty is not directly observable in the same way inflation and economic output are observable. In the past two decades, there has been tremendous growth in research devoted to the subject. In my talk today, I will focus on four broad categories of uncertainty measures. There are advantages and disadvantages to each of these measures.',\n",
              "  'label': 1},\n",
              " {'text': 'Consumer delinquencies on nonmortgage debt have increased in recent periods. Federal Reserve has been monitoring theseconditions and discussing their implications with individual bankingorganizations and industry groups. Given the generally strongfinancial condition of the institutions most affected by these developments and that of the U.S. banking system, we believe that these adverse trends do notcurrently present a material threat.',\n",
              "  'label': 1},\n",
              " {'text': 'The economy appeared to be on a solid growth path through March. The Federal OpenMarket Committee (FOMC) continued the process of a measured removal of monetaryaccommodation. The FOMC raised the federal funds rate at its June meeting to further reducemonetary policy accommodation.',\n",
              "  'label': 2},\n",
              " {'text': 'U.S. inflation has come down over the past year but remains well above our 2 percent target. The labor market remains tight, although improvements in labor supply and a gradual easing in demand continue to move it into better balance. If it becomes appropriate to tighten policy further, we will not hesitate to do so.',\n",
              "  'label': 1},\n",
              " {'text': 'Ex-R&S Vice Chair: Much has changed at R&S, but those values remain. The challenge is to make sure we are acquiring the right \"alternative\" data, he says. The other challenge is that making decisions under uncertainty is not a new characteristic of monetary policy.',\n",
              "  'label': 1},\n",
              " {'text': 'Lending to banks and other financial institutions virtually shut down. Longer-term credit became much more costly as credit spreads for bonds jumped and interest rates rose. The Federal Reserve has worked with other agencies to put in place the new Hope for Homeowners (H4H) program, and I serve on the Oversight Board.',\n",
              "  'label': 0},\n",
              " {'text': \"The Board supports the Working Group's recommendations for amendments to the U.S. Bankruptcy Code to support financial contract netting. The Board also supports the working group's recommendation that the very largest hedge funds be required to publicly disclose information about their financial activities. OTC derivatives have come to play an extremely important role in our financial system and in our economy. The board supports modernizing the Commodity Exchange Act (CEA)\",\n",
              "  'label': 2},\n",
              " {'text': 'Sen. Rand Paul: Social security, Medicare programs are unsustainable in the long run. Paul: We need to increase the total amount of goods and services produced by our economy. He says the most important fiscal measure we can take is to foster continued improvements in productivity. Paul says the idea that we should stop borrowing from the social security trust fund to finance other outlays has gained traction.',\n",
              "  'label': 2},\n",
              " {'text': \"Clinton Administration's final budget projections show more surpluses for next decade. Key factor driving upward revisions is growth of labor productivity since mid-1990s, he says. He says the experience of the past five to seven years has been without recent precedent. Obama: Government should eschew political decisions to insulate itself from private investment.\",\n",
              "  'label': 0},\n",
              " {'text': 'I am grateful for the opportunity to serve the nation in thiscapacity for another term. Nineteen-ninety-six has been a good year for the American economy. By allindications, spending and production were robust in the first half of this year. About 1.4 million workers have beenadded to nonfarm payrolls in first six months of the year.',\n",
              "  'label': 1},\n",
              " {'text': 'Proposed Check Clearing for the 21st Century Act would make check processing more efficient. Bill would allow banks to truncate original checks and process information electronically. Act would also reduce the risk that checks may be lost or delayed in transit in bad weather. Board commends Representatives Ferguson and Ford for introducing this bill.',\n",
              "  'label': 0},\n",
              " {'text': 'The past decade has been extraordinary for the U.S. economy and monetary policy, authors say. But the adjustment has occurred much faster than most businesses anticipated, they say. As the economy slowed, equity prices fell, especially in the high-tech sector, they write. The prospects for sustaining strong advances in productivity in the years ahead remain favorable.',\n",
              "  'label': 0},\n",
              " {'text': 'Federal Reserve Chair Janet Yellen attends hearing on Basel II in the U.S. Yellen: The current rules simply cannot keep up with the complex business of the global banking organizations. She says the dispersion among the banks in their estimates of the key parameters that would be used to calculate Basle II capital requirements was much wider than expected.Yellen: There is good reason to delay the NPR and related guidance.',\n",
              "  'label': 2},\n",
              " {'text': 'Rep. Adam Schiff: The recent financial crisis was unprecedented in its scope and severity. Congress and U.S. regulators have made substantial progress since the crisis in improving the process for resolving systemic financial firms, Schiff says. Congress paved the way for the United States to be a leader in shaping the development of international policy for effective resolution regimes, he says.',\n",
              "  'label': 2},\n",
              " {'text': 'Federal Reserve Chairman Ben Bernanke: Financial markets remain under considerable stress. He says the near-term economic outlook has weakened relative to projections. Bernanke says the U.S. economy is going through a very difficult period. But among the great strengths of our economy is its ability to adapt, he says.',\n",
              "  'label': 0},\n",
              " {'text': 'The performance of the U.S. economy over the past    year has been quite favorable. Low inflation last year was both a symptom and a cause of the good economy. Federal Open Market Committee (FOMC) believes it is crucial to keep inflation contained in the near term.',\n",
              "  'label': 2},\n",
              " {'text': 'The Federal Reserve has moved to support demand, Chairman Ben Bernanke says. Bernanke: Despite the recent economic slowdown, the past decade has been extraordinary for the U.S. He says the economy was growing at an unsustainable pace, drawing on an already diminished pool of available workers.',\n",
              "  'label': 0},\n",
              " {'text': \"The Board commends the Committee for its continued focus and work on this important issue. The Board has been, and will continue to be, a strong and active supporter of Congress' regulatory relief efforts. Unnecessary regulatory burdens hinder the ability of large and small banking organizations to meet the needs of their customers.\",\n",
              "  'label': 2},\n",
              " {'text': 'The Federal Reserve supervises more than 5,000 bank holding companies and 825 state-chartered banks. As of July 21, the Federal Reserve assumed responsibility for the supervision of more than 430 savings and loan holding companies. Most are small community banking organizations focused on traditional banking activities.',\n",
              "  'label': 0},\n",
              " {'text': \"Federal Reserve Chairman Alan Greenspan testifies before a congressional committee. He says the committee is looking at the role of the Federal Reserve in the payments system. The committee's work focuses on retail payments, such as checks and ACH transfers. Greenspan: A growing number of retail payments are made by electronic transfers.\",\n",
              "  'label': 1},\n",
              " {'text': 'U.S. economy has expanded at a brisk pace, perhaps near that of the prior three years. Federal Open Market Committee raised its intended federal funds rate 1/4 percentage point, to 5 percent. If productivity fails to continue to accelerate and demand growth persists, the economy could overheat.',\n",
              "  'label': 2},\n",
              " {'text': 'The Community Reinvestment Act requires banks to help meet the credit needs of the communities in which they do business. The updated rule defines \"Native Land Area\" and eligible activities in those areas. Under the new rule, certain investment and community development activities in these areas are given special consideration.',\n",
              "  'label': 1},\n",
              " {'text': \"The Board is aware of the current and growing regulatory burden that is imposed on this nation\\x92s banking organizations. The Board recently agreed to support several additional regulatory relief proposals. These amendments would improve efficiency in the financial sector, assist small banks and small businesses, and enhance the Federal Reserve's toolkit.\",\n",
              "  'label': 2},\n",
              " {'text': 'Subprime mortgages are loans intended for borrowers who are perceived to have higher than typical credit risk. As the overall mortgage market has grown, many new lenders and distribution channels have developed. In some cases, abusive or fraudulent lending practices resulted in homeowners taking on mortgage obligations they could not afford.',\n",
              "  'label': 0},\n",
              " {'text': 'I am honored to have been nominated by President Bush to be the Vice Chairman of the Board of Governors of the Federal Reserve System. I have enjoyed a long and productive relationship with the Banking Committee and its staff over the years. As a governor and, if you confirm me, as Vice Chairman, I look forward to continuing to be a part of the shared pursuit of that goal.',\n",
              "  'label': 2},\n",
              " {'text': \"The Board of Governors appreciates this opportunity to comment on issues concerning debit cards that can be used without security codes. Users of these cards have some consumer protections related to liability, issuance, and disclosure. A bill introduced by Representatives Schumer and Gonzalez would further limit a consumer's potential liability for the unauthorized use of debit cards.\",\n",
              "  'label': 1},\n",
              " {'text': 'The Board of Governors of the Federal Reserve System (Board) engages on global insurance regulatory and supervisory issues. It is in our national interest to engage in the international insurance standards-development process so that it produces standards that protect the U.S. market. An international standard could limit regulatory arbitrage and help provide a level playing field for internationally active insurance groups.',\n",
              "  'label': 0},\n",
              " {'text': 'Mr. Chairman, thank you for the opportunity to appear before the Committee on International Relations. Money laundering and terrorist financing can, if not properly controlled, pose significant threats to our financial system and nation. The Federal Reserve and other bank supervisory agencies work to ensure that banking organizations have the appropriate anti-money laundering (AML) compliance programs in place.',\n",
              "  'label': 2},\n",
              " {'text': 'Since 1986, tax code has drifted back to be overly complicated and burdened by higher marginal rates. Changes since the 1986 act have been largely incremental without the appropriate all-encompassing context that broad reform brings to the table. Public views about the fairness of proposed changes to the tax code will surely play a significant role in the current debate.',\n",
              "  'label': 2},\n",
              " {'text': 'The Dialogue was initiated by the Treasury Department in 2002. Its purpose has been to foster a better mutual understanding of U.S. and EU regulatory approaches. The Federal Reserve has a strong interest in the regulatory environments in which banking firms operate outside the United States. The Dialogue provides a forum for information exchange between U. S. regulators and the European Union.',\n",
              "  'label': 2},\n",
              " {'text': 'The Board of Governors supports the approach to financial modernization embodied in H.R. 10. The bill would reform the Glass-Steagall prohibitions to permit the affiliation of banks and securities firms. The Board opposes one aspect of the bill, the authorization for so-called operating subsidiaries of banks to engage in some financial activities.',\n",
              "  'label': 1},\n",
              " {'text': 'Inflation data have been encouraging, but inflation remains too high. The economy has been resilient, and inflation has been subsiding. I believe that core PCE prices will moderate further as the labor market comes into better balance. I am particularly attentive to upside risks to inflation, such as those associated with the economy and labor market remaining too strong.',\n",
              "  'label': 1},\n",
              " {'text': \"On October 15, I provided the Committee with a more extensive statement about the nature of OTC credit derivatives markets. I will briefly review the key conclusions of that statement and then discuss the Federal Reserve's recent actions to strengthen market infrastructure. The most important potential change in the infrastructure for credit derivatives is the creation of one or more central counterparties (CCPs) for CDS.\",\n",
              "  'label': 0},\n",
              " {'text': '\"I would like to share some thoughts about that and, should changes to the bank regulatory framework be necessary, how we can support thoughtful and considered changes,\" he says. \"Inflation continues to be too high, and I expect it will likely be appropriate for the Committee to raise rates further and hold them at a restrictive level\"',\n",
              "  'label': 1},\n",
              " {'text': \"The Federal Reserve is committed to promoting sustainable homeownership through responsible mortgage lending. The Board's goal has been to craft clear rules that deter abuses while preserving responsible lenders' ability to meet the needs of traditionally underserved borrowers and communities. In addition to rules that protect consumers from unfair or abusive lending and mortgage servicing practices, the Board adopted rules governing mortgage advertisements.\",\n",
              "  'label': 0},\n",
              " {'text': 'The Federal Reserve Board has supported financial modernization for many years. The Board believes that future banking organizations will require substantial changes in the supervisory process for the entire organization. Just how much modification may be needed will depend on the kinds of reforms the Congress adopts. The objectives of bank in crisis are to contain financial losses and prevent a contagious loss of confidence.',\n",
              "  'label': 2},\n",
              " {'text': \"President Gayle Lemmon is a graduate of Spelman College, Class of 1986. Lemmon: The Fed's dual mandate goals of maximum employment and price stability are essential aspects of a healthy economy. She says the economy is returning to a better balance between the demand for and supply of workers.lemmon: High inflation imposes a significant hardship on all households, especially for those least able to meet the higher costs of essentials.\",\n",
              "  'label': 1},\n",
              " {'text': \"Federal Reserve issues, distributes, processes, and accounts for currency and coin. Federal Reserve notes account for about 95 percent of the $564 billion of currency in circulation. The Federal Reserve's role in coin operations is more limited than its role in currency. The Mint determines the annual coin production and monitors Federal Reserve coin inventories weekly.\",\n",
              "  'label': 2},\n",
              " {'text': '\"Time is running out for us to modernize our regulation of financial markets before we lose them,\" he says. OTC derivatives have come to play an exceptionally important role in our financial system and in our economy. The greatest legal uncertainty affecting existing OTC transactions is in the area of securities-based contracts, he adds.',\n",
              "  'label': 2},\n",
              " {'text': \"Last March, several large U.S. banks faced acute liquidity pressures when uninsured depositors judged that the banks would be insolvent if they needed to liquidate their securities portfolios. The banks' poor interest rate and liquidity risk management triggered a crisis of confidence in their uninsured deposits, resulting in liquidity crises.\",\n",
              "  'label': 1},\n",
              " {'text': 'The Federal Reserve Board supports expanded financial activities for banking organizations and enhanced opportunities for nonbank financial institutions to enter banking. But, as we proceed down the path of reform, reforms must be tested against certain standards. The Board believes that the changes we adopt should be consistent with the safety and soundness of the banking system.',\n",
              "  'label': 2},\n",
              " {'text': 'Federal Reserve Chairman Janet Yellen speaks at the World Economic Forum in Morocco. Yellen: The recent macroeconomic experience has presented both monetary policy and financial stability challenges for central banks. She says the banking sector is expected to experience higher funding costs and some deposit outflows as a result of tighter monetary policy.',\n",
              "  'label': 1},\n",
              " {'text': \"Sumitomo's copper trading losses may be as large as $1.8 billion. Sumitomo is not regulated by the Federal Reserve or any other banking supervisory or regulatory agency in this country or abroad. U.S. banks have long been involved in financing commodity activities through their agriculture lending programs.\",\n",
              "  'label': 1},\n",
              " {'text': 'The Federal Reserve and other banking agencies have long encouraged institutions to maintain strong loan loss allowances. In its role as a securities regulator, the SEC focuses primarily on the transparency of financial statements and reported earnings to investors. The agencies intend to issue parallel guidance in this important area in the next year.',\n",
              "  'label': 2},\n",
              " {'text': 'U.S. economy appears to have grown briskly, authors say. Growth in nonfarm payroll employment picked up in November and December, they say. Authors: Most private-sector forecasters estimate GDP grew between 4 and 5 percent in first quarter. They say prospects for maintaining economic growth at a solid pace appear good.',\n",
              "  'label': 2},\n",
              " {'text': 'Economic activity hit a soft patch in late spring, authors say. Consumer spending and housing starts bounced back in July, they say. Despite the rise in oil prices through mid-August, inflation and inflation have eased. But the outlook is uncertain about the long-term effects of oil price spikes.',\n",
              "  'label': 2},\n",
              " {'text': \"I am honored that the President has nominated me to serve a full term as a member of the Board. Chairman Sarbanes, Senator Gramm, and members of the Committee, I am pleased to appear before you today as President Bush's nominee to serve on the Board of Governors of the Federal Reserve System.\",\n",
              "  'label': 0},\n",
              " {'text': 'The Board of Governors supports the proposal in the bill to allow the payment of interest on the balances that depository institutions maintain in their accounts at Federal Reserve Banks. Paying interest on vault cash is not authorized in the proposed legislation. If the bill becomes law, the Federal Reserve would likely pay an interest rate close to the rate on other risk-free money market instruments.',\n",
              "  'label': 2},\n",
              " {'text': \"The Federal Reserve has responded forcefully to the financial and economic crisis since its emergence in the summer of 2007. The first set of tools is closely tied to the central bank's traditional role of providing short-term liquidity to sound financial institutions. The second set of policy tools involve the provision of liquidity directly to borrowers and investors in key credit markets.\",\n",
              "  'label': 0},\n",
              " {'text': 'Federal Reserve Board, Treasury seek public comment on real estate brokerage. Chairman: The legal framework established by the Gramm-Leach-Bliley Act is the basis for the proposal. Act allows bank holding companies to engage in a broad range of financial activities, he says. Congress considered, but did not enact, a provision that would have allowed more general mixing of banking and commerce.',\n",
              "  'label': 0},\n",
              " {'text': 'Central bank digital currency (CBDC) is a new, digital form of central bank money widely available to the general public. I have yet to see a compelling argument that a U.S. CBDC could solve any of these problems more effectively or efficiently than alternatives, he says. The introduction of a CBDC may pose significant risks and tradeoffs for the financial system.',\n",
              "  'label': 1},\n",
              " {'text': 'After peaking at 7.1 percent in June 2022, 12-month headline PCE inflation is estimated at 3.5 percent through September. Shorter-term measures of core inflation over the most recent three and six months are now running below 3 percent. A sustainable return to our 2 percent inflation goal is likely to require a period of below-trend growth and some further softening in labor market conditions.',\n",
              "  'label': 1},\n",
              " {'text': 'The Federal Reserve\\'s mission is to \"foster the stability, integrity and efficiency of the nation\\'s financial and payment systems\" Congress established a highly decentralized Federal Reserve System with a complex governance structure. Leadership and direction are vested in the Board of Governors, but only about 1,700 staff work for the Board in Washington.',\n",
              "  'label': 1},\n",
              " {'text': 'The U.S. economy is undergoing a severe contraction. Employment has fallen steeply since last autumn, and the unemployment rate has moved up to 7.6 percent. The sharp contraction in economic activity appears to have continued into the first quarter of 2009. The principal cause of the economic slowdown was the collapse of the global credit boom.',\n",
              "  'label': 0},\n",
              " {'text': 'The economy achieved these gains despite some significant obstacles. The Gulf Coast region suffered through severe hurricanes that inflicted a terrible loss of life. The civilian unemployment rate is expected to finish both 2006 and 2007 at a level between 4-3/4 percent and 5 percent. Inflation, as measured by the price index for personal consumption expenditures excluding food and energy, is predicted to be about 2 percent this year.',\n",
              "  'label': 2},\n",
              " {'text': 'The Federal Reserve plays multiple roles in the payments system, including as a supervisor of banks and financial market utilities. The research done by experts is vital in helping us understand what works well and what can be done to improve it. It is hard to speak about payments innovation without mentioning the increased experimentation with new payments technologies.',\n",
              "  'label': 1},\n",
              " {'text': 'Growth of information-sharing technology has raised important public policy issues, authors say. They say there is a long-recognized value in permitting individuals to maintain a zone of privacy. But the value must be weighed against the benefits of economic efficiency, they say. Authors: The Supreme Court has flatly characterized documents relating to a customer\\'s account as \"the business records of a bank\"',\n",
              "  'label': 2},\n",
              " {'text': 'Financial markets in the U.S. and some other industrialized countries have been under severe stress for more than a year. The turmoil is the aftermath of a credit boom characterized by underpricing of risk, excessive leverage, and an increasing reliance on complex financial instruments. The Treasury and the Federal Reserve have taken a range of actions to ameliorate these problems.',\n",
              "  'label': 0},\n",
              " {'text': 'The role that hedge funds are playing in capital markets cannot be quantified with any precision. A fundamental problem is that the definition of a hedge fund is imprecise, and distinctions between hedge funds and other types of funds are increasingly arbitrary. The only quantitative information that the SEC currently collects is total assets under management.',\n",
              "  'label': 2},\n",
              " {'text': 'The Act does not spell out which gambling activities are lawful and which are unlawful. The Act does, however, exclude certain intrastate and intratribal wagers from the definition of \"unlawful Internet gambling\" The Act directs the Agencies to designate payment systems that could be used to facilitate restricted transactions. More than 200 organizations and consumers submitted comments on the proposal.',\n",
              "  'label': 0},\n",
              " {'text': 'The global economy has experienced a period of extraordinary turbulence. The Federal Reserve responded forcefully to the significant deterioration in financial market conditions. The measures taken since September by the Federal Reserve, other U.S. government entities and foreign governments have helped improve conditions in some financial markets. Nevertheless, significant stresses persist in many markets.',\n",
              "  'label': 0},\n",
              " {'text': 'The Federal Reserve Board has a long-standing interest in the quality of financial reporting. The Federal Reserve relies on off-site monitoring, on-site supervision, and other regulatory requirements. The Fed has developed considerable familiarity with financial instruments, both derivative and non-derivative.',\n",
              "  'label': 1},\n",
              " {'text': 'TILA and RESPA serve quite different purposes and contain distinct disclosure requirements. TILA requires standardized disclosures about credit terms and costs. RESPA is both a disclosure law and one that indirectly regulates prices. Congressional efforts to simplify the disclosure schemes have been discussed and debated for several years.',\n",
              "  'label': 1},\n",
              " {'text': 'I want to express my gratitude to President Bush for his confidence in me and to you, Mr. Chairman and members of the committee, for expeditiously holding this hearing on my renomination for a fifth term. I look forward to working with you in advancing our shared goal of strengthening the firm foundation upon which the American people have built a prosperous economy and a sound and efficient financial system.',\n",
              "  'label': 2},\n",
              " {'text': 'The Board has proposed to eliminate a majority of restrictions on bank holding companies. The purpose of firewalls is to insulate a bank and its customers from the potential hazards of combining commercial and investment banking. One important protection is the placement of securities activities in a separate subsidiary of the bank holding company.',\n",
              "  'label': 2},\n",
              " {'text': \"The economy performed reasonably well over the first half of 2019. But inflation has been running below the Federal Open Market Committee's symmetric 2 percent objective. Crosscurrents, such as trade tensions and concerns about global growth, have been weighing on economic activity. Our baseline outlook is for economic growth to remain solid, labor markets to stay strong, and inflation to move back up.\",\n",
              "  'label': 0},\n",
              " {'text': 'Congressman: \"The economy as a whole is functioning amazingly well\" He asks three questions: Why is the economy performing so well, and why do we have so little inflation? Why is it so important to keep the economy growing at its highest sustainable rate? What policies are most likely to keep economic performance high and sustained?',\n",
              "  'label': 1},\n",
              " {'text': \"Federal Reserve Chairman Ben Bernanke says the U.S. economy has been quite favorable. He says the Fed's objective is to foster the conditions most likely to produce that outcome. Bernanke: The best available evidence suggests that we are overcompensating the average social security recipient for increases in cost of living.\",\n",
              "  'label': 2},\n",
              " {'text': 'The Federal Reserve Board continues to support legislative proposals to authorize the payment of interest on demand deposits and balances held at Reserve Banks. The Board also supports obtaining increased flexibility in setting reserve requirements. The Federal Open Market Committee (FOMC) formulates monetary policy by setting a target for the overnight federal funds rate.',\n",
              "  'label': 0},\n",
              " {'text': 'A stable financial system provides households, communities, and businesses with the financing they need to invest, grow, and participate in a well-functioning economy. In my view, our financial system is substantially more resilient than it was in the mid-2000s. But we cannot be complacent, and I see some important risks.',\n",
              "  'label': 1},\n",
              " {'text': 'Federal Reserve Chairman Ben Bernanke meets with members of Congress. Bernanke: Some members of the committee have reservations about the conduct of monetary policy. He says the best way to insure the durability of this expansion is not to allow the economy to overheat and produce the inevitable rise in inflation.',\n",
              "  'label': 1},\n",
              " {'text': 'Proposed changes would increase the quantity and quality of capital held by banks. Savings and loan holding companies would, for the first time, be subject to consolidated capital requirements. Proposed changes reflect international Basel III agreements reached by the Basel Committee on Banking Supervision. The Federal Reserve believes the benefits of the proposed changes outweigh the costs.',\n",
              "  'label': 0},\n",
              " {'text': 'The Federal Reserve considers the maintenance of strong and stable financial markets as an integral part of our responsibility. Basel II and the amended Basel I represent substantial revisions to the regulatory risk-based capital rules applied to U.S. banking institutions, from the very largest to the smallest. The largest institutions have moved away from the traditional banking strategy of holding assets on the balance sheet.',\n",
              "  'label': 2},\n",
              " {'text': 'Board has long history of concerns about possible confusion between insured deposit instruments and uninsured investment products sold on bank premises. Board has worked to minimize customer confusion through a number of supervisory and educational initiatives. There were $3.1 trillion of mutual funds outstanding as of April 1996, up by about 50 percent from 1994.',\n",
              "  'label': 1},\n",
              " {'text': \"The Federal Reserve has supervisory authority over state member banks, bank holding companies, savings and loan holding companies and subsidiaries of these holding companies. The vast majority of the Federal Reserve's supervisory actions address unsafe and unsound banking practices. Over the past ten years, the Fed has taken nearly 1,000 formal, public enforcement actions.\",\n",
              "  'label': 0},\n",
              " {'text': 'Fed Chair Janet Yellen speaks to community bankers from Mississippi and Tennessee. Yellen: Inflation continues to be too high, and I expect it will likely be appropriate for the Committee to raise rates further. She says she is willing to support raising the federal funds rate at a future meeting if progress on inflation has stalled.',\n",
              "  'label': 1},\n",
              " {'text': \"The Federal Reserve Board has a broad interest in the integrity and efficiency of U.S. financial markets. The Board strongly endorses the Congress's efforts to carefully reexamine the existing regulatory framework for derivatives. The key elements of the CEA were put in place in the 1920s and 1930s to regulate the trading on exchanges of grain futures.\",\n",
              "  'label': 1},\n",
              " {'text': 'Small businesses are critical to the health of the U.S. economy, Fed chairman says. He says financial market turmoil appears to have affected access to credit by small businesses. Some large financial institutions have reported substantial losses and asset write-downs, he says. Fed chairman: Market stresses are likely to continue to weigh on lending activity in the near future.',\n",
              "  'label': 0},\n",
              " {'text': 'President Bush\\'s nominee to lead the Federal Reserve System testifies before the Senate Banking Committee. nominee: \"I will work to the utmost of my abilities to fulfill the important responsibilities of this office\" \"I assure this Committee that, if I am confirmed, I will be strictly independent of all political influences,\" nominee says.',\n",
              "  'label': 2},\n",
              " {'text': 'The Board commends the Committee for holding this hearing and for considering the important public policy issues raised by these investments. I intend to focus my testimony on the recent sovereign wealth fund investments in U.S. financial institutions and their financial implications. Sovereign wealth funds were originally set up to help stabilize revenues from the sale of a commodity, such as oil.',\n",
              "  'label': 0},\n",
              " {'text': 'Basel I, the current capital regime adopted in 1988, must be replaced for the largest, most complex banks. The art of risk management has evolved at the largest banks, and the banking system has become increasingly concentrated. The proposal is entering its final stage of public comment and review.',\n",
              "  'label': 0},\n",
              " {'text': \"I am the director of the Federal Reserve Board's Division of Consumer and Community Affairs. I would like to provide some background information that might be useful to the subcommittee. The Truth in Lending Act is the primary federal law that governs credit cards. In 2000, credit card banks reported net earnings before taxes of about 3.14 percent of outstanding balances.\",\n",
              "  'label': 0},\n",
              " {'text': 'Fannie and Freddie played a critical role in promoting mortgage securitization. Private investors have granted them a market subsidy in the form of lower borrowing rates. Systemic risks are difficult to address through the normal course of financial institution regulation alone. From now on, limiting the potential for risk will require significant regulation of the GSEs.',\n",
              "  'label': 2},\n",
              " {'text': 'Bush, CBO projects growing on-budget surpluses under current policy over the next decade. Key factor driving upward revisions in budget picture has been growth of labor productivity. At zero or near-zero federal debt, U.S. should accumulate large quantities of private assets.',\n",
              "  'label': 0},\n",
              " {'text': \"The Federal Reserve places a high priority on participating in the government's efforts designed to attack the laundering of proceeds of illegal activities through our nations's financial institutions. The Federal Reserve has been actively engaged in these efforts by, among other things, redesigning the Bank Secrecy Act examination process and developing anti-money laundering guidance.\",\n",
              "  'label': 2},\n",
              " {'text': 'Chairman Oxley: The Board strongly supports the efforts of Congress to review periodically the federal banking laws. He says Congress can ensure that regulatory relief is consistent with the framework it has established to maintain the safety and soundness of banking organizations. H.R. 1224 would allow the Federal Reserve to pay depository institutions interest on their required reserve balances.',\n",
              "  'label': 2},\n",
              " {'text': \"The economic expansion is well into its 11th year, and it is the longest on record. Job gains averaged 200,000 per month in the second half of last year. Inflation ran below the FOMC's symmetric 2 percent objective throughout 2019. Some of the uncertainties around trade have diminished recently, but risks remain.\",\n",
              "  'label': 0},\n",
              " {'text': 'This month marks five years of my service as a member of the Board of Governors of the Federal Reserve System. I have drawn heavily upon my experience as a former state bank commissioner and a banker in my responsibilities. This perspective informs my views about evolving bank regulations and the real-world impact that changes can have.',\n",
              "  'label': 1},\n",
              " {'text': 'New technologies are inducing major shifts in the underlying structure of the U.S. economy. The Federal Reserve has been pressed to update its understanding of how the newer forces are developing. A prolonged period of price stability does help to foster economic prosperity. But such a benign economic environment can induce investors to take on more risk.',\n",
              "  'label': 2},\n",
              " {'text': \"The Federal Reserve's anti-money laundering program is multifaceted. It involves work in bank supervision, applications, enforcement, investigations, training, coordination with the law enforcement and intelligence communities, and rule writing. The Federal Reserve has long shared Congress's view that financial institutions and their employees are on the frontline of the effort to combat illicit financial activity.\",\n",
              "  'label': 2},\n",
              " {'text': \"The Federal Reserve conducts an annual stress test of large banks. The test is one of the primary tools to assess and to help ensure banks' resilience. But the current stress test uses a single scenario that is focused on a credit-driven recession. The failures of three large banks last spring showed that acute banking strains emerge even without a recession.\",\n",
              "  'label': 1},\n",
              " {'text': 'Mr. Chairman and members of the Committee, I am pleased to be here this morning to discuss the condition of the U.S. banking system. In my presentation today, I would like to raise just a few issues. First, many of the traditional quantitative and qualitative indicators suggest that bank asset quality is deteriorating. Second, we are fortunate that our banking system entered this period of weak economic performance in a strong position.',\n",
              "  'label': 0},\n",
              " {'text': 'In recent months, in response to very tight supplies, prices of natural gas have increased sharply. Working gas in storage is currently at very low levels relative to its seasonal norm. The U.S. market for natural gas is mainly regional, with relatively longer term contracts.',\n",
              "  'label': 0}]"
            ]
          },
          "execution_count": 15,
          "metadata": {},
          "output_type": "execute_result"
        }
      ],
      "source": [
        "train_data"
      ]
    },
    {
      "cell_type": "markdown",
      "metadata": {},
      "source": [
        "fine tuning del primer modelo"
      ]
    },
    {
      "cell_type": "code",
      "execution_count": 17,
      "metadata": {},
      "outputs": [
        {
          "data": {
            "application/vnd.jupyter.widget-view+json": {
              "model_id": "538e83bc7f6a4c2c8261ba8b70ff24b3",
              "version_major": 2,
              "version_minor": 0
            },
            "text/plain": [
              "  0%|          | 0/9 [00:00<?, ?it/s]"
            ]
          },
          "metadata": {},
          "output_type": "display_data"
        },
        {
          "name": "stderr",
          "output_type": "stream",
          "text": [
            "Asking to truncate to max_length but no maximum length is provided and the model has no predefined maximum length. Default to no truncation.\n",
            "C:\\Users\\luisl\\AppData\\Local\\Temp\\ipykernel_10892\\3498061804.py:25: UserWarning: To copy construct from a tensor, it is recommended to use sourceTensor.clone().detach() or sourceTensor.clone().detach().requires_grad_(True), rather than torch.tensor(sourceTensor).\n",
            "  labels = torch.tensor(data[\"label\"]).to(device)\n"
          ]
        },
        {
          "name": "stdout",
          "output_type": "stream",
          "text": [
            "Epoch 1 - Train Loss: 1.2998, Train Accuracy: 0.3182\n",
            "Validation Loss: 1.1954, Validation Accuracy: 0.3611\n",
            "Saving best model with validation accuracy: 0.3611\n"
          ]
        },
        {
          "data": {
            "application/vnd.jupyter.widget-view+json": {
              "model_id": "5fca55a5eb964f18a2a0b2106efcd358",
              "version_major": 2,
              "version_minor": 0
            },
            "text/plain": [
              "  0%|          | 0/9 [00:00<?, ?it/s]"
            ]
          },
          "metadata": {},
          "output_type": "display_data"
        },
        {
          "name": "stdout",
          "output_type": "stream",
          "text": [
            "Epoch 2 - Train Loss: 1.0544, Train Accuracy: 0.4116\n",
            "Validation Loss: 1.1263, Validation Accuracy: 0.3403\n"
          ]
        },
        {
          "data": {
            "application/vnd.jupyter.widget-view+json": {
              "model_id": "d1178b2ac37848cd808f7294056023ce",
              "version_major": 2,
              "version_minor": 0
            },
            "text/plain": [
              "  0%|          | 0/9 [00:00<?, ?it/s]"
            ]
          },
          "metadata": {},
          "output_type": "display_data"
        },
        {
          "name": "stdout",
          "output_type": "stream",
          "text": [
            "Epoch 3 - Train Loss: 0.9866, Train Accuracy: 0.5082\n",
            "Validation Loss: 1.1177, Validation Accuracy: 0.3194\n",
            "Early stopping triggered after 2 epochs without improvement\n"
          ]
        },
        {
          "data": {
            "application/vnd.jupyter.widget-view+json": {
              "model_id": "265ece218fb140829338aa8f4c8cb703",
              "version_major": 2,
              "version_minor": 0
            },
            "text/plain": [
              "  0%|          | 0/5 [00:00<?, ?it/s]"
            ]
          },
          "metadata": {},
          "output_type": "display_data"
        },
        {
          "name": "stdout",
          "output_type": "stream",
          "text": [
            "Epoch 1 - Train Loss: 1.0183, Train Accuracy: 0.4795\n",
            "Validation Loss: 1.1479, Validation Accuracy: 0.3542\n"
          ]
        },
        {
          "data": {
            "application/vnd.jupyter.widget-view+json": {
              "model_id": "95d3241d6ce54d1f801f4532dda70d4b",
              "version_major": 2,
              "version_minor": 0
            },
            "text/plain": [
              "  0%|          | 0/5 [00:00<?, ?it/s]"
            ]
          },
          "metadata": {},
          "output_type": "display_data"
        },
        {
          "name": "stdout",
          "output_type": "stream",
          "text": [
            "Epoch 2 - Train Loss: 0.8780, Train Accuracy: 0.5835\n",
            "Validation Loss: 1.1945, Validation Accuracy: 0.3073\n",
            "Early stopping triggered after 2 epochs without improvement\n"
          ]
        },
        {
          "data": {
            "application/vnd.jupyter.widget-view+json": {
              "model_id": "31bf93b1b5084825baf083ff16bbdf45",
              "version_major": 2,
              "version_minor": 0
            },
            "text/plain": [
              "  0%|          | 0/3 [00:00<?, ?it/s]"
            ]
          },
          "metadata": {},
          "output_type": "display_data"
        },
        {
          "name": "stdout",
          "output_type": "stream",
          "text": [
            "Epoch 1 - Train Loss: 0.8252, Train Accuracy: 0.5777\n",
            "Validation Loss: 1.4669, Validation Accuracy: 0.3714\n",
            "Saving best model with validation accuracy: 0.3714\n"
          ]
        },
        {
          "data": {
            "application/vnd.jupyter.widget-view+json": {
              "model_id": "835f22d173c54148a51985ab212b5063",
              "version_major": 2,
              "version_minor": 0
            },
            "text/plain": [
              "  0%|          | 0/3 [00:00<?, ?it/s]"
            ]
          },
          "metadata": {},
          "output_type": "display_data"
        },
        {
          "name": "stdout",
          "output_type": "stream",
          "text": [
            "Epoch 2 - Train Loss: 0.7774, Train Accuracy: 0.6487\n",
            "Validation Loss: 1.4161, Validation Accuracy: 0.3429\n"
          ]
        },
        {
          "data": {
            "application/vnd.jupyter.widget-view+json": {
              "model_id": "b3bbf50b84744de986936b0e44e288e5",
              "version_major": 2,
              "version_minor": 0
            },
            "text/plain": [
              "  0%|          | 0/3 [00:00<?, ?it/s]"
            ]
          },
          "metadata": {},
          "output_type": "display_data"
        },
        {
          "name": "stdout",
          "output_type": "stream",
          "text": [
            "Epoch 3 - Train Loss: 0.7959, Train Accuracy: 0.6004\n",
            "Validation Loss: 1.4265, Validation Accuracy: 0.3429\n",
            "Early stopping triggered after 2 epochs without improvement\n"
          ]
        },
        {
          "data": {
            "application/vnd.jupyter.widget-view+json": {
              "model_id": "257549dae29543d99bfe790938e776a1",
              "version_major": 2,
              "version_minor": 0
            },
            "text/plain": [
              "  0%|          | 0/9 [00:00<?, ?it/s]"
            ]
          },
          "metadata": {},
          "output_type": "display_data"
        },
        {
          "name": "stdout",
          "output_type": "stream",
          "text": [
            "Epoch 1 - Train Loss: 0.7439, Train Accuracy: 0.6338\n",
            "Validation Loss: 1.2619, Validation Accuracy: 0.4236\n",
            "Saving best model with validation accuracy: 0.4236\n"
          ]
        },
        {
          "data": {
            "application/vnd.jupyter.widget-view+json": {
              "model_id": "ec8e7dab7d8d4ef0bb1d7267798a9cc4",
              "version_major": 2,
              "version_minor": 0
            },
            "text/plain": [
              "  0%|          | 0/9 [00:00<?, ?it/s]"
            ]
          },
          "metadata": {},
          "output_type": "display_data"
        },
        {
          "name": "stdout",
          "output_type": "stream",
          "text": [
            "Epoch 2 - Train Loss: 0.5429, Train Accuracy: 0.7816\n",
            "Validation Loss: 1.5707, Validation Accuracy: 0.3819\n"
          ]
        },
        {
          "data": {
            "application/vnd.jupyter.widget-view+json": {
              "model_id": "2126ac10801f4f608131f31bdb1349bf",
              "version_major": 2,
              "version_minor": 0
            },
            "text/plain": [
              "  0%|          | 0/9 [00:00<?, ?it/s]"
            ]
          },
          "metadata": {},
          "output_type": "display_data"
        },
        {
          "name": "stdout",
          "output_type": "stream",
          "text": [
            "Epoch 3 - Train Loss: 0.3568, Train Accuracy: 0.8788\n",
            "Validation Loss: 1.7058, Validation Accuracy: 0.4653\n",
            "Saving best model with validation accuracy: 0.4653\n"
          ]
        },
        {
          "data": {
            "application/vnd.jupyter.widget-view+json": {
              "model_id": "daa9c2a0776b40239e07c0a6d86b6f5f",
              "version_major": 2,
              "version_minor": 0
            },
            "text/plain": [
              "  0%|          | 0/5 [00:00<?, ?it/s]"
            ]
          },
          "metadata": {},
          "output_type": "display_data"
        },
        {
          "name": "stdout",
          "output_type": "stream",
          "text": [
            "Epoch 1 - Train Loss: 0.3057, Train Accuracy: 0.9006\n",
            "Validation Loss: 1.7992, Validation Accuracy: 0.4010\n"
          ]
        },
        {
          "data": {
            "application/vnd.jupyter.widget-view+json": {
              "model_id": "4ea5413768964405ba65f52f1c925491",
              "version_major": 2,
              "version_minor": 0
            },
            "text/plain": [
              "  0%|          | 0/5 [00:00<?, ?it/s]"
            ]
          },
          "metadata": {},
          "output_type": "display_data"
        },
        {
          "name": "stdout",
          "output_type": "stream",
          "text": [
            "Epoch 2 - Train Loss: 0.1838, Train Accuracy: 0.9318\n",
            "Validation Loss: 2.0913, Validation Accuracy: 0.2188\n",
            "Early stopping triggered after 2 epochs without improvement\n"
          ]
        },
        {
          "data": {
            "application/vnd.jupyter.widget-view+json": {
              "model_id": "9886a85f56d0434bb17070a2138fdf7c",
              "version_major": 2,
              "version_minor": 0
            },
            "text/plain": [
              "  0%|          | 0/3 [00:00<?, ?it/s]"
            ]
          },
          "metadata": {},
          "output_type": "display_data"
        },
        {
          "name": "stdout",
          "output_type": "stream",
          "text": [
            "Epoch 1 - Train Loss: 0.2506, Train Accuracy: 0.8916\n",
            "Validation Loss: 2.0562, Validation Accuracy: 0.4286\n"
          ]
        },
        {
          "data": {
            "application/vnd.jupyter.widget-view+json": {
              "model_id": "da080a8f107141fdb9122c46f208c39d",
              "version_major": 2,
              "version_minor": 0
            },
            "text/plain": [
              "  0%|          | 0/3 [00:00<?, ?it/s]"
            ]
          },
          "metadata": {},
          "output_type": "display_data"
        },
        {
          "name": "stdout",
          "output_type": "stream",
          "text": [
            "Epoch 2 - Train Loss: 0.2268, Train Accuracy: 0.8925\n",
            "Validation Loss: 2.3756, Validation Accuracy: 0.4286\n",
            "Early stopping triggered after 2 epochs without improvement\n"
          ]
        },
        {
          "data": {
            "application/vnd.jupyter.widget-view+json": {
              "model_id": "35d9964fb2d74b0a8b0700602c09041d",
              "version_major": 2,
              "version_minor": 0
            },
            "text/plain": [
              "  0%|          | 0/9 [00:00<?, ?it/s]"
            ]
          },
          "metadata": {},
          "output_type": "display_data"
        },
        {
          "name": "stdout",
          "output_type": "stream",
          "text": [
            "Epoch 1 - Train Loss: 0.5932, Train Accuracy: 0.7538\n",
            "Validation Loss: 2.5770, Validation Accuracy: 0.3611\n"
          ]
        },
        {
          "data": {
            "application/vnd.jupyter.widget-view+json": {
              "model_id": "dd650de1a37d45a3bd678d4f2a76a970",
              "version_major": 2,
              "version_minor": 0
            },
            "text/plain": [
              "  0%|          | 0/9 [00:00<?, ?it/s]"
            ]
          },
          "metadata": {},
          "output_type": "display_data"
        },
        {
          "name": "stdout",
          "output_type": "stream",
          "text": [
            "Epoch 2 - Train Loss: 0.6072, Train Accuracy: 0.7790\n",
            "Validation Loss: 1.7931, Validation Accuracy: 0.3333\n",
            "Early stopping triggered after 2 epochs without improvement\n"
          ]
        },
        {
          "data": {
            "application/vnd.jupyter.widget-view+json": {
              "model_id": "afbb7e36de8b46958ad937e4a46f10de",
              "version_major": 2,
              "version_minor": 0
            },
            "text/plain": [
              "  0%|          | 0/5 [00:00<?, ?it/s]"
            ]
          },
          "metadata": {},
          "output_type": "display_data"
        },
        {
          "name": "stdout",
          "output_type": "stream",
          "text": [
            "Epoch 1 - Train Loss: 0.5341, Train Accuracy: 0.8193\n",
            "Validation Loss: 2.6057, Validation Accuracy: 0.2500\n"
          ]
        },
        {
          "data": {
            "application/vnd.jupyter.widget-view+json": {
              "model_id": "b404e5b6e0924cd796441a551e75ec3d",
              "version_major": 2,
              "version_minor": 0
            },
            "text/plain": [
              "  0%|          | 0/5 [00:00<?, ?it/s]"
            ]
          },
          "metadata": {},
          "output_type": "display_data"
        },
        {
          "name": "stdout",
          "output_type": "stream",
          "text": [
            "Epoch 2 - Train Loss: 0.2867, Train Accuracy: 0.9256\n",
            "Validation Loss: 2.3297, Validation Accuracy: 0.2500\n",
            "Early stopping triggered after 2 epochs without improvement\n"
          ]
        },
        {
          "data": {
            "application/vnd.jupyter.widget-view+json": {
              "model_id": "1b9a069273a143a789614a7b4a578a85",
              "version_major": 2,
              "version_minor": 0
            },
            "text/plain": [
              "  0%|          | 0/3 [00:00<?, ?it/s]"
            ]
          },
          "metadata": {},
          "output_type": "display_data"
        },
        {
          "name": "stdout",
          "output_type": "stream",
          "text": [
            "Epoch 1 - Train Loss: 0.3259, Train Accuracy: 0.8613\n",
            "Validation Loss: 1.9431, Validation Accuracy: 0.5143\n",
            "Saving best model with validation accuracy: 0.5143\n"
          ]
        },
        {
          "data": {
            "application/vnd.jupyter.widget-view+json": {
              "model_id": "daffa0cd126841d68a3ffad75049040b",
              "version_major": 2,
              "version_minor": 0
            },
            "text/plain": [
              "  0%|          | 0/3 [00:00<?, ?it/s]"
            ]
          },
          "metadata": {},
          "output_type": "display_data"
        },
        {
          "name": "stdout",
          "output_type": "stream",
          "text": [
            "Epoch 2 - Train Loss: 0.1099, Train Accuracy: 0.9489\n",
            "Validation Loss: 1.9582, Validation Accuracy: 0.5143\n"
          ]
        },
        {
          "data": {
            "application/vnd.jupyter.widget-view+json": {
              "model_id": "9826ea294a1f4d1ca32efd117b58b175",
              "version_major": 2,
              "version_minor": 0
            },
            "text/plain": [
              "  0%|          | 0/3 [00:00<?, ?it/s]"
            ]
          },
          "metadata": {},
          "output_type": "display_data"
        },
        {
          "name": "stdout",
          "output_type": "stream",
          "text": [
            "Epoch 3 - Train Loss: 0.0620, Train Accuracy: 0.9844\n",
            "Validation Loss: 2.0828, Validation Accuracy: 0.5429\n",
            "Saving best model with validation accuracy: 0.5429\n"
          ]
        }
      ],
      "source": [
        "import torch\n",
        "import numpy as np\n",
        "from transformers import AutoTokenizer, AutoModelForSequenceClassification\n",
        "from tqdm import tqdm\n",
        "from torch.optim import AdamW\n",
        "from torch.utils.data import DataLoader\n",
        "import os\n",
        "\n",
        "# Define labels\n",
        "labels = ['negative', 'neutral', 'positive']\n",
        "\n",
        "# Load pre-trained model and tokenizer\n",
        "tokenizer = AutoTokenizer.from_pretrained('cardiffnlp/twitter-roberta-base-sentiment')\n",
        "model_roberta = AutoModelForSequenceClassification.from_pretrained('cardiffnlp/twitter-roberta-base-sentiment')\n",
        "\n",
        "# Move model to GPU if available\n",
        "device = torch.device(\"cuda\" if torch.cuda.is_available() else \"cpu\")\n",
        "model_roberta.to(device)\n",
        "\n",
        "# Function to preprocess data (replace with your data loading logic)\n",
        "def preprocess_data(data):\n",
        "  # Tokenize text and convert labels to tensors\n",
        "  input_ids = tokenizer(data[\"text\"], return_tensors=\"pt\", padding=True, truncation=True).input_ids.to(device)\n",
        "  attention_mask = tokenizer(data[\"text\"], return_tensors=\"pt\", padding=True, truncation=True).attention_mask.to(device)\n",
        "  labels = torch.tensor(data[\"label\"]).to(device)\n",
        "  return input_ids, attention_mask, labels\n",
        "\n",
        "from transformers import AutoModelForSequenceClassification\n",
        "import torch\n",
        "from tqdm.auto import tqdm\n",
        "import numpy as pd\n",
        "from torch.utils.data import DataLoader\n",
        "\n",
        "# Define training and validation functions\n",
        "def train(model, optimizer, train_data, epoch, writer):\n",
        "  model.train()\n",
        "  losses = []\n",
        "  accuracies = []\n",
        "  for data in tqdm(train_data):\n",
        "    input_ids, attention_mask, labels = preprocess_data(data)\n",
        "    optimizer.zero_grad()\n",
        "    outputs = model(input_ids=input_ids, attention_mask=attention_mask)\n",
        "    logits = outputs.logits\n",
        "    loss = torch.nn.functional.cross_entropy(logits, labels)\n",
        "    loss.backward()\n",
        "    optimizer.step()\n",
        "    losses.append(loss.item())\n",
        "    # Calculate accuracy\n",
        "    predictions = torch.argmax(logits, dim=1)\n",
        "    correct = (predictions == labels).sum().item()\n",
        "    accuracy = correct / len(labels)\n",
        "    accuracies.append(accuracy)\n",
        "  avg_loss = np.mean(losses)\n",
        "  avg_accuracy = np.mean(accuracies)\n",
        "  writer.add_scalar(\"Train/Loss\", avg_loss, epoch)\n",
        "  writer.add_scalar(\"Train/Accuracy\", avg_accuracy, epoch)\n",
        "  print(f\"Epoch {epoch+1} - Train Loss: {avg_loss:.4f}, Train Accuracy: {avg_accuracy:.4f}\")\n",
        "  return avg_loss, avg_accuracy\n",
        "\n",
        "def validate(model, val_data, writer, epoch):\n",
        "  model.eval()\n",
        "  losses = []\n",
        "  accuracies = []\n",
        "  with torch.no_grad():\n",
        "    for data in val_data:\n",
        "      input_ids, attention_mask, labels = preprocess_data(data)\n",
        "      outputs = model(input_ids=input_ids, attention_mask=attention_mask)\n",
        "      logits = outputs.logits\n",
        "      loss = torch.nn.functional.cross_entropy(logits, labels)\n",
        "      losses.append(loss.item())\n",
        "      # Calculate accuracy\n",
        "      predictions = torch.argmax(logits, dim=1)\n",
        "      correct = (predictions == labels).sum().item()\n",
        "      accuracy = correct / len(labels)\n",
        "      accuracies.append(accuracy)\n",
        "  avg_loss = np.mean(losses)\n",
        "  avg_accuracy = np.mean(accuracies)\n",
        "  writer.add_scalar(\"Val/Loss\", avg_loss, epoch)\n",
        "  writer.add_scalar(\"Val/Accuracy\", avg_accuracy, epoch)\n",
        "  print(f\"Validation Loss: {avg_loss:.4f}, Validation Accuracy: {avg_accuracy:.4f}\")\n",
        "  return avg_loss, avg_accuracy\n",
        "\n",
        "# Hyperparameter tuning (experiment with different learning rates and batch sizes)\n",
        "learning_rates = [1e-5, 2e-5, 5e-5]\n",
        "batch_sizes = [16, 32, 64]\n",
        "\n",
        "# Load your training and validation data (replace with your data)\n",
        "train_data = train_data  # Load your training data here\n",
        "val_data = val_data  # Load your validation data here\n",
        "\n",
        "# Train-validation loop with hyperparameter search\n",
        "best_val_accuracy = 0\n",
        "for lr in learning_rates:\n",
        "  for batch_size in batch_sizes:\n",
        "    # Define optimizer and data loaders\n",
        "    optimizer = AdamW(model_roberta.parameters(), lr=lr)\n",
        "    train_loader = DataLoader(train_data, batch_size=batch_size, shuffle=True)\n",
        "    val_loader = DataLoader(val_data, batch_size=batch_size)\n",
        "\n",
        "    # Early stopping variables\n",
        "    epochs = 3  # Set the number of epochs\n",
        "    patience = 2  # Number of epochs to wait for improvement\n",
        "    no_improvement = 0\n",
        "\n",
        "    # TensorBoard for visualization (optional)\n",
        "    from torch.utils.tensorboard import SummaryWriter\n",
        "    writer = SummaryWriter(f\"runs/roberta_sentiment_{lr}_{batch_size}\")\n",
        "\n",
        "    for epoch in range(epochs):\n",
        "      train_loss, train_acc = train(model_roberta, optimizer, train_loader, epoch, writer)\n",
        "      val_loss, val_acc = validate(model_roberta, val_loader, writer, epoch)\n",
        "\n",
        "      # Define a variable for the desired save directory\n",
        "      save_directory = \"C:\\\\Users\\\\luisl\\\\OneDrive\\\\Escritorio\\\\TFM_IA3\\\\tfm_ia3_nodata\\\\models\"  # Ensure double backslashes for Windows paths\n",
        "\n",
        "      # Early stopping with model saving\n",
        "      if val_acc > best_val_accuracy:\n",
        "          best_val_accuracy = val_acc\n",
        "          no_improvement = 0\n",
        "          # Save the best model in the specified directory\n",
        "          torch.save(model_roberta.state_dict(), os.path.join(save_directory, f\"best_model_{lr}_{batch_size}_V2.pt\"))\n",
        "          print(f\"Saving best model with validation accuracy: {val_acc:.4f}\")\n",
        "      else:\n",
        "          no_improvement += 1\n",
        "          if no_improvement >= patience:\n",
        "              print(f\"Early stopping triggered after {no_improvement} epochs without improvement\")\n",
        "              break  # Exit the inner loop for this hyperparameter combination"
      ]
    },
    {
      "cell_type": "markdown",
      "metadata": {},
      "source": [
        "carga del primer modelo reentrenado"
      ]
    },
    {
      "cell_type": "code",
      "execution_count": 16,
      "metadata": {},
      "outputs": [
        {
          "name": "stderr",
          "output_type": "stream",
          "text": [
            "Asking to truncate to max_length but no maximum length is provided and the model has no predefined maximum length. Default to no truncation.\n"
          ]
        },
        {
          "name": "stdout",
          "output_type": "stream",
          "text": [
            "Predicted sentiment for 'The stock market is booming!': positive\n"
          ]
        }
      ],
      "source": [
        "import torch\n",
        "from transformers import AutoTokenizer, AutoModelForSequenceClassification\n",
        "\n",
        "# Define labels\n",
        "labels = ['negative', 'neutral', 'positive']\n",
        "\n",
        "# Load tokenizer\n",
        "tokenizer = AutoTokenizer.from_pretrained('cardiffnlp/twitter-roberta-base-sentiment')\n",
        "\n",
        "# Define the path to the saved model (assuming the model is saved in a folder)\n",
        "model_path = \"C:/Users/luisl/OneDrive/Escritorio/TFM_IA3/tfm_ia3_nodata/models/best_model_5e-05_64_V2.pt\"  # Replace with your actual path\n",
        "\n",
        "# Function to preprocess text\n",
        "def preprocess_text(text, tokenizer):\n",
        "    inputs = tokenizer(text, return_tensors=\"pt\", padding=True, truncation=True)\n",
        "    input_ids = inputs.input_ids.to(torch.device(\"cuda\" if torch.cuda.is_available() else \"cpu\"))\n",
        "    attention_mask = inputs.attention_mask.to(torch.device(\"cuda\" if torch.cuda.is_available() else \"cpu\"))\n",
        "    return input_ids, attention_mask\n",
        "\n",
        "# Load the model\n",
        "model_finbert = AutoModelForSequenceClassification.from_pretrained(\"cardiffnlp/twitter-roberta-base-sentiment\")\n",
        "model_finbert.load_state_dict(torch.load(model_path))\n",
        "model_finbert.to(torch.device(\"cuda\" if torch.cuda.is_available() else \"cpu\"))  # Move to GPU if available\n",
        "\n",
        "with torch.no_grad():\n",
        "    model_finbert.eval()\n",
        "\n",
        "    # Example usage\n",
        "    text = \"The stock market is booming!\"\n",
        "    input_ids, attention_mask = preprocess_text(text, tokenizer)\n",
        "\n",
        "    # Get predictions\n",
        "    outputs = model_finbert(input_ids=input_ids, attention_mask=attention_mask)\n",
        "    logits = outputs.logits\n",
        "    predicted_label = torch.argmax(logits, dim=1).item()\n",
        "\n",
        "    # Get the predicted sentiment\n",
        "    predicted_sentiment = labels[predicted_label]\n",
        "\n",
        "    print(f\"Predicted sentiment for '{text}': {predicted_sentiment}\")"
      ]
    },
    {
      "cell_type": "markdown",
      "metadata": {
        "id": "3Ro9gXJxU5ok"
      },
      "source": [
        "twitter-roberta-base-sentiment Model¶\n"
      ]
    },
    {
      "cell_type": "code",
      "execution_count": 17,
      "metadata": {},
      "outputs": [
        {
          "name": "stderr",
          "output_type": "stream",
          "text": [
            "Procesando predicciones: 100%|██████████| 174/174 [00:05<00:00, 32.92it/s]\n"
          ]
        }
      ],
      "source": [
        "import torch\n",
        "import numpy as np\n",
        "import scipy.special\n",
        "from transformers import AutoTokenizer, AutoModelForSequenceClassification\n",
        "from tqdm import tqdm\n",
        "\n",
        "# Cargar el tokenizer y el modelo\n",
        "tokenizer = AutoTokenizer.from_pretrained('cardiffnlp/twitter-roberta-base-sentiment')\n",
        "model_roberta = AutoModelForSequenceClassification.from_pretrained(\"cardiffnlp/twitter-roberta-base-sentiment\")\n",
        "model_roberta.load_state_dict(torch.load(model_path))\n",
        "model_roberta.to(torch.device(\"cuda\" if torch.cuda.is_available() else \"cpu\"))\n",
        "\n",
        "# Mover el modelo a la GPU si está disponible\n",
        "device = torch.device(\"cuda\" if torch.cuda.is_available() else \"cpu\")\n",
        "model_roberta.to(device)\n",
        "\n",
        "tokenizer_kwargs = {\"padding\": True, \"truncation\": True, \"max_length\": 512}\n",
        "labels = ['negative', 'neutral', 'positive']\n",
        "\n",
        "# Asumiendo que X_submuestra es tu lista de textos a analizar\n",
        "preds_roberta = []\n",
        "preds_proba_roberta = []\n",
        "\n",
        "for x in tqdm(X_submuestra, desc=\"Procesando predicciones\"):\n",
        "    with torch.no_grad():\n",
        "        # Tokenizar y mover el texto completo a la GPU\n",
        "        input_sequence = tokenizer(x, return_tensors=\"pt\", **tokenizer_kwargs).to(device)\n",
        "        # Obtener las logits del modelo\n",
        "        logits = model_roberta(**input_sequence).logits\n",
        "        # Aplicar softmax en la GPU\n",
        "        scores = torch.softmax(logits, dim=1).cpu().numpy().squeeze()\n",
        "    \n",
        "    sentimiento_general = labels[np.argmax(scores)]\n",
        "    probabilidad_general = np.max(scores)\n",
        "    \n",
        "    preds_roberta.append(sentimiento_general)\n",
        "    preds_proba_roberta.append(probabilidad_general)\n"
      ]
    },
    {
      "cell_type": "code",
      "execution_count": 18,
      "metadata": {
        "id": "HHV0Y3DbVHoe"
      },
      "outputs": [
        {
          "data": {
            "text/html": [
              "<div>\n",
              "<style scoped>\n",
              "    .dataframe tbody tr th:only-of-type {\n",
              "        vertical-align: middle;\n",
              "    }\n",
              "\n",
              "    .dataframe tbody tr th {\n",
              "        vertical-align: top;\n",
              "    }\n",
              "\n",
              "    .dataframe thead th {\n",
              "        text-align: right;\n",
              "    }\n",
              "</style>\n",
              "<table border=\"1\" class=\"dataframe\">\n",
              "  <thead>\n",
              "    <tr style=\"text-align: right;\">\n",
              "      <th></th>\n",
              "      <th>type</th>\n",
              "      <th>date</th>\n",
              "      <th>title</th>\n",
              "      <th>speaker</th>\n",
              "      <th>word_count</th>\n",
              "      <th>decision</th>\n",
              "      <th>rate</th>\n",
              "      <th>next_meeting</th>\n",
              "      <th>next_decision</th>\n",
              "      <th>next_rate</th>\n",
              "      <th>text</th>\n",
              "      <th>summary</th>\n",
              "      <th>predicted_roberta</th>\n",
              "    </tr>\n",
              "  </thead>\n",
              "  <tbody>\n",
              "    <tr>\n",
              "      <th>22</th>\n",
              "      <td>speech</td>\n",
              "      <td>2023-11-08</td>\n",
              "      <td>Opening Remarks</td>\n",
              "      <td>Chair Jerome H. Powell</td>\n",
              "      <td>760</td>\n",
              "      <td>&lt;NA&gt;</td>\n",
              "      <td>NaN</td>\n",
              "      <td>2023-12-13</td>\n",
              "      <td>0</td>\n",
              "      <td>5.25</td>\n",
              "      <td>Thank you, Stacey, for the chance to be part o...</td>\n",
              "      <td>The Fed is celebrating the 100th anniversary o...</td>\n",
              "      <td>neutral</td>\n",
              "    </tr>\n",
              "    <tr>\n",
              "      <th>125</th>\n",
              "      <td>testimony</td>\n",
              "      <td>2005-07-20</td>\n",
              "      <td>Federal Reserve Board's semiannual Monetary Po...</td>\n",
              "      <td>Alan Greenspan</td>\n",
              "      <td>3253</td>\n",
              "      <td>&lt;NA&gt;</td>\n",
              "      <td>NaN</td>\n",
              "      <td>2005-08-09</td>\n",
              "      <td>1</td>\n",
              "      <td>3.50</td>\n",
              "      <td>In mid-February,when I presented our last repo...</td>\n",
              "      <td>The economy appeared to be on a solid growth p...</td>\n",
              "      <td>positive</td>\n",
              "    </tr>\n",
              "    <tr>\n",
              "      <th>164</th>\n",
              "      <td>testimony</td>\n",
              "      <td>2012-05-17</td>\n",
              "      <td>Settlement practices</td>\n",
              "      <td>Scott G. Alvarez, General Counsel</td>\n",
              "      <td>1774</td>\n",
              "      <td>&lt;NA&gt;</td>\n",
              "      <td>NaN</td>\n",
              "      <td>2012-06-20</td>\n",
              "      <td>-1</td>\n",
              "      <td>0.00</td>\n",
              "      <td>Introduction       Chairman Bachus, Ranking Me...</td>\n",
              "      <td>The Federal Reserve has supervisory authority ...</td>\n",
              "      <td>negative</td>\n",
              "    </tr>\n",
              "    <tr>\n",
              "      <th>9</th>\n",
              "      <td>speech</td>\n",
              "      <td>2023-10-18</td>\n",
              "      <td>The Evolution of the Federal Reserveâs Emplo...</td>\n",
              "      <td>Governor Lisa D. Cook</td>\n",
              "      <td>1592</td>\n",
              "      <td>&lt;NA&gt;</td>\n",
              "      <td>NaN</td>\n",
              "      <td>2023-11-01</td>\n",
              "      <td>0</td>\n",
              "      <td>5.25</td>\n",
              "      <td>Thank you. I am rarely at a loss for words, as...</td>\n",
              "      <td>Federal Reserve Chair Janet Yellen is given th...</td>\n",
              "      <td>neutral</td>\n",
              "    </tr>\n",
              "    <tr>\n",
              "      <th>46</th>\n",
              "      <td>testimony</td>\n",
              "      <td>1997-02-13</td>\n",
              "      <td>Modernization of the financial system</td>\n",
              "      <td>Alan Greenspan</td>\n",
              "      <td>4100</td>\n",
              "      <td>&lt;NA&gt;</td>\n",
              "      <td>NaN</td>\n",
              "      <td>1997-03-25</td>\n",
              "      <td>1</td>\n",
              "      <td>5.50</td>\n",
              "      <td>Madam Chairwoman, members of the Subcommittee ...</td>\n",
              "      <td>The Federal Reserve Board supports expanded fi...</td>\n",
              "      <td>positive</td>\n",
              "    </tr>\n",
              "    <tr>\n",
              "      <th>...</th>\n",
              "      <td>...</td>\n",
              "      <td>...</td>\n",
              "      <td>...</td>\n",
              "      <td>...</td>\n",
              "      <td>...</td>\n",
              "      <td>...</td>\n",
              "      <td>...</td>\n",
              "      <td>...</td>\n",
              "      <td>...</td>\n",
              "      <td>...</td>\n",
              "      <td>...</td>\n",
              "      <td>...</td>\n",
              "      <td>...</td>\n",
              "    </tr>\n",
              "    <tr>\n",
              "      <th>12</th>\n",
              "      <td>speech</td>\n",
              "      <td>2023-10-19</td>\n",
              "      <td>Opening Remarks</td>\n",
              "      <td>Vice Chair Philip N. Jefferson</td>\n",
              "      <td>710</td>\n",
              "      <td>&lt;NA&gt;</td>\n",
              "      <td>NaN</td>\n",
              "      <td>2023-11-01</td>\n",
              "      <td>0</td>\n",
              "      <td>5.25</td>\n",
              "      <td>Our guests include academics from a number of ...</td>\n",
              "      <td>The U.S. Treasury market remains the largest a...</td>\n",
              "      <td>neutral</td>\n",
              "    </tr>\n",
              "    <tr>\n",
              "      <th>51</th>\n",
              "      <td>testimony</td>\n",
              "      <td>1997-03-20</td>\n",
              "      <td>Performance of the U.S. economy</td>\n",
              "      <td>Alan Greenspan</td>\n",
              "      <td>2142</td>\n",
              "      <td>&lt;NA&gt;</td>\n",
              "      <td>NaN</td>\n",
              "      <td>1997-03-25</td>\n",
              "      <td>1</td>\n",
              "      <td>5.50</td>\n",
              "      <td>Mr. Chairman and members of the Committee, I a...</td>\n",
              "      <td>Mr. Chairman, I would like to highlight some o...</td>\n",
              "      <td>neutral</td>\n",
              "    </tr>\n",
              "    <tr>\n",
              "      <th>43</th>\n",
              "      <td>testimony</td>\n",
              "      <td>1996-09-18</td>\n",
              "      <td>Implications of trading losses by Sumitomo Corp.</td>\n",
              "      <td>Governor Susan M. Phillips</td>\n",
              "      <td>1283</td>\n",
              "      <td>&lt;NA&gt;</td>\n",
              "      <td>NaN</td>\n",
              "      <td>1996-09-24</td>\n",
              "      <td>0</td>\n",
              "      <td>5.25</td>\n",
              "      <td>Thank you for the opportunity to discuss the r...</td>\n",
              "      <td>Sumitomo's copper trading losses may be as lar...</td>\n",
              "      <td>neutral</td>\n",
              "    </tr>\n",
              "    <tr>\n",
              "      <th>14</th>\n",
              "      <td>speech</td>\n",
              "      <td>2023-10-19</td>\n",
              "      <td>Multiple Scenarios in Stress Testing</td>\n",
              "      <td>Vice Chair for Supervision Michael S. Barr</td>\n",
              "      <td>2378</td>\n",
              "      <td>&lt;NA&gt;</td>\n",
              "      <td>NaN</td>\n",
              "      <td>2023-11-01</td>\n",
              "      <td>0</td>\n",
              "      <td>5.25</td>\n",
              "      <td>The stress test as we know it today grew out o...</td>\n",
              "      <td>The Federal Reserve conducts an annual stress ...</td>\n",
              "      <td>neutral</td>\n",
              "    </tr>\n",
              "    <tr>\n",
              "      <th>29</th>\n",
              "      <td>speech</td>\n",
              "      <td>2023-11-16</td>\n",
              "      <td>The 2023 U.S. Treasury Market Conference</td>\n",
              "      <td>Vice Chair for Supervision Michael S. Barr</td>\n",
              "      <td>2176</td>\n",
              "      <td>&lt;NA&gt;</td>\n",
              "      <td>NaN</td>\n",
              "      <td>2023-12-13</td>\n",
              "      <td>0</td>\n",
              "      <td>5.25</td>\n",
              "      <td>The flash rally in the Treasury market in Octo...</td>\n",
              "      <td>The flash rally in the Treasury market in Octo...</td>\n",
              "      <td>neutral</td>\n",
              "    </tr>\n",
              "  </tbody>\n",
              "</table>\n",
              "<p>174 rows × 13 columns</p>\n",
              "</div>"
            ],
            "text/plain": [
              "          type       date                                              title  \\\n",
              "22      speech 2023-11-08                                    Opening Remarks   \n",
              "125  testimony 2005-07-20  Federal Reserve Board's semiannual Monetary Po...   \n",
              "164  testimony 2012-05-17                               Settlement practices   \n",
              "9       speech 2023-10-18  The Evolution of the Federal Reserveâs Emplo...   \n",
              "46   testimony 1997-02-13              Modernization of the financial system   \n",
              "..         ...        ...                                                ...   \n",
              "12      speech 2023-10-19                                    Opening Remarks   \n",
              "51   testimony 1997-03-20                    Performance of the U.S. economy   \n",
              "43   testimony 1996-09-18   Implications of trading losses by Sumitomo Corp.   \n",
              "14      speech 2023-10-19               Multiple Scenarios in Stress Testing   \n",
              "29      speech 2023-11-16           The 2023 U.S. Treasury Market Conference   \n",
              "\n",
              "                                        speaker  word_count  decision  rate  \\\n",
              "22                       Chair Jerome H. Powell         760      <NA>   NaN   \n",
              "125                              Alan Greenspan        3253      <NA>   NaN   \n",
              "164           Scott G. Alvarez, General Counsel        1774      <NA>   NaN   \n",
              "9                         Governor Lisa D. Cook        1592      <NA>   NaN   \n",
              "46                               Alan Greenspan        4100      <NA>   NaN   \n",
              "..                                          ...         ...       ...   ...   \n",
              "12               Vice Chair Philip N. Jefferson         710      <NA>   NaN   \n",
              "51                               Alan Greenspan        2142      <NA>   NaN   \n",
              "43                   Governor Susan M. Phillips        1283      <NA>   NaN   \n",
              "14   Vice Chair for Supervision Michael S. Barr        2378      <NA>   NaN   \n",
              "29   Vice Chair for Supervision Michael S. Barr        2176      <NA>   NaN   \n",
              "\n",
              "    next_meeting next_decision  next_rate  \\\n",
              "22    2023-12-13             0       5.25   \n",
              "125   2005-08-09             1       3.50   \n",
              "164   2012-06-20            -1       0.00   \n",
              "9     2023-11-01             0       5.25   \n",
              "46    1997-03-25             1       5.50   \n",
              "..           ...           ...        ...   \n",
              "12    2023-11-01             0       5.25   \n",
              "51    1997-03-25             1       5.50   \n",
              "43    1996-09-24             0       5.25   \n",
              "14    2023-11-01             0       5.25   \n",
              "29    2023-12-13             0       5.25   \n",
              "\n",
              "                                                  text  \\\n",
              "22   Thank you, Stacey, for the chance to be part o...   \n",
              "125  In mid-February,when I presented our last repo...   \n",
              "164  Introduction       Chairman Bachus, Ranking Me...   \n",
              "9    Thank you. I am rarely at a loss for words, as...   \n",
              "46   Madam Chairwoman, members of the Subcommittee ...   \n",
              "..                                                 ...   \n",
              "12   Our guests include academics from a number of ...   \n",
              "51   Mr. Chairman and members of the Committee, I a...   \n",
              "43   Thank you for the opportunity to discuss the r...   \n",
              "14   The stress test as we know it today grew out o...   \n",
              "29   The flash rally in the Treasury market in Octo...   \n",
              "\n",
              "                                               summary predicted_roberta  \n",
              "22   The Fed is celebrating the 100th anniversary o...           neutral  \n",
              "125  The economy appeared to be on a solid growth p...          positive  \n",
              "164  The Federal Reserve has supervisory authority ...          negative  \n",
              "9    Federal Reserve Chair Janet Yellen is given th...           neutral  \n",
              "46   The Federal Reserve Board supports expanded fi...          positive  \n",
              "..                                                 ...               ...  \n",
              "12   The U.S. Treasury market remains the largest a...           neutral  \n",
              "51   Mr. Chairman, I would like to highlight some o...           neutral  \n",
              "43   Sumitomo's copper trading losses may be as lar...           neutral  \n",
              "14   The Federal Reserve conducts an annual stress ...           neutral  \n",
              "29   The flash rally in the Treasury market in Octo...           neutral  \n",
              "\n",
              "[174 rows x 13 columns]"
            ]
          },
          "execution_count": 18,
          "metadata": {},
          "output_type": "execute_result"
        }
      ],
      "source": [
        "submuestra_df['predicted_roberta'] = preds_roberta; submuestra_df"
      ]
    },
    {
      "cell_type": "markdown",
      "metadata": {
        "id": "30xEr5eEWSMU"
      },
      "source": [
        "yiyanghkust/finbert-tone Model"
      ]
    },
    {
      "cell_type": "code",
      "execution_count": 18,
      "metadata": {},
      "outputs": [
        {
          "data": {
            "application/vnd.jupyter.widget-view+json": {
              "model_id": "d7e219e6b9a14c779d509ff113edc655",
              "version_major": 2,
              "version_minor": 0
            },
            "text/plain": [
              "  0%|          | 0/9 [00:00<?, ?it/s]"
            ]
          },
          "metadata": {},
          "output_type": "display_data"
        },
        {
          "name": "stderr",
          "output_type": "stream",
          "text": [
            "Asking to truncate to max_length but no maximum length is provided and the model has no predefined maximum length. Default to no truncation.\n",
            "C:\\Users\\luisl\\AppData\\Local\\Temp\\ipykernel_10892\\2321675807.py:24: UserWarning: To copy construct from a tensor, it is recommended to use sourceTensor.clone().detach() or sourceTensor.clone().detach().requires_grad_(True), rather than torch.tensor(sourceTensor).\n",
            "  labels = torch.tensor(data[\"label\"]).to(device)\n"
          ]
        },
        {
          "name": "stdout",
          "output_type": "stream",
          "text": [
            "Epoch 1 - Train Loss: 4.5154, Train Accuracy: 0.3081\n",
            "Validation Loss: 2.7183, Validation Accuracy: 0.4514\n",
            "Saving best model with validation accuracy: 0.4514\n"
          ]
        },
        {
          "data": {
            "application/vnd.jupyter.widget-view+json": {
              "model_id": "c653563340fe47faa1289cd0f9462ad6",
              "version_major": 2,
              "version_minor": 0
            },
            "text/plain": [
              "  0%|          | 0/9 [00:00<?, ?it/s]"
            ]
          },
          "metadata": {},
          "output_type": "display_data"
        },
        {
          "name": "stdout",
          "output_type": "stream",
          "text": [
            "Epoch 2 - Train Loss: 1.9676, Train Accuracy: 0.3876\n",
            "Validation Loss: 1.8457, Validation Accuracy: 0.3611\n"
          ]
        },
        {
          "data": {
            "application/vnd.jupyter.widget-view+json": {
              "model_id": "ced415b4502f4d49bb0552171da5ddbe",
              "version_major": 2,
              "version_minor": 0
            },
            "text/plain": [
              "  0%|          | 0/9 [00:00<?, ?it/s]"
            ]
          },
          "metadata": {},
          "output_type": "display_data"
        },
        {
          "name": "stdout",
          "output_type": "stream",
          "text": [
            "Epoch 3 - Train Loss: 1.1586, Train Accuracy: 0.4710\n",
            "Validation Loss: 1.6918, Validation Accuracy: 0.3611\n",
            "Early stopping triggered after 2 epochs without improvement\n"
          ]
        },
        {
          "data": {
            "application/vnd.jupyter.widget-view+json": {
              "model_id": "b7dcf20f3cec4a499d4311c6773e0352",
              "version_major": 2,
              "version_minor": 0
            },
            "text/plain": [
              "  0%|          | 0/5 [00:00<?, ?it/s]"
            ]
          },
          "metadata": {},
          "output_type": "display_data"
        },
        {
          "name": "stdout",
          "output_type": "stream",
          "text": [
            "Epoch 1 - Train Loss: 0.8629, Train Accuracy: 0.6080\n",
            "Validation Loss: 1.4716, Validation Accuracy: 0.3698\n"
          ]
        },
        {
          "data": {
            "application/vnd.jupyter.widget-view+json": {
              "model_id": "5be4bf9fc185408fa13c98d2246edfdc",
              "version_major": 2,
              "version_minor": 0
            },
            "text/plain": [
              "  0%|          | 0/5 [00:00<?, ?it/s]"
            ]
          },
          "metadata": {},
          "output_type": "display_data"
        },
        {
          "name": "stdout",
          "output_type": "stream",
          "text": [
            "Epoch 2 - Train Loss: 0.5716, Train Accuracy: 0.7875\n",
            "Validation Loss: 1.8021, Validation Accuracy: 0.4010\n",
            "Early stopping triggered after 2 epochs without improvement\n"
          ]
        },
        {
          "data": {
            "application/vnd.jupyter.widget-view+json": {
              "model_id": "d65fbe36cc11461197c4a1db691275d5",
              "version_major": 2,
              "version_minor": 0
            },
            "text/plain": [
              "  0%|          | 0/3 [00:00<?, ?it/s]"
            ]
          },
          "metadata": {},
          "output_type": "display_data"
        },
        {
          "name": "stdout",
          "output_type": "stream",
          "text": [
            "Epoch 1 - Train Loss: 0.5837, Train Accuracy: 0.7633\n",
            "Validation Loss: 1.2877, Validation Accuracy: 0.4857\n",
            "Saving best model with validation accuracy: 0.4857\n"
          ]
        },
        {
          "data": {
            "application/vnd.jupyter.widget-view+json": {
              "model_id": "8b071947c4004e5487c9d6e21e523eea",
              "version_major": 2,
              "version_minor": 0
            },
            "text/plain": [
              "  0%|          | 0/3 [00:00<?, ?it/s]"
            ]
          },
          "metadata": {},
          "output_type": "display_data"
        },
        {
          "name": "stdout",
          "output_type": "stream",
          "text": [
            "Epoch 2 - Train Loss: 0.4663, Train Accuracy: 0.8655\n",
            "Validation Loss: 1.3221, Validation Accuracy: 0.4571\n"
          ]
        },
        {
          "data": {
            "application/vnd.jupyter.widget-view+json": {
              "model_id": "d05e7892fb66446ca440d2783bf09a77",
              "version_major": 2,
              "version_minor": 0
            },
            "text/plain": [
              "  0%|          | 0/3 [00:00<?, ?it/s]"
            ]
          },
          "metadata": {},
          "output_type": "display_data"
        },
        {
          "name": "stdout",
          "output_type": "stream",
          "text": [
            "Epoch 3 - Train Loss: 0.3071, Train Accuracy: 0.8906\n",
            "Validation Loss: 1.4701, Validation Accuracy: 0.4571\n",
            "Early stopping triggered after 2 epochs without improvement\n"
          ]
        },
        {
          "data": {
            "application/vnd.jupyter.widget-view+json": {
              "model_id": "252dbde72b5e40689415c4088f657907",
              "version_major": 2,
              "version_minor": 0
            },
            "text/plain": [
              "  0%|          | 0/9 [00:00<?, ?it/s]"
            ]
          },
          "metadata": {},
          "output_type": "display_data"
        },
        {
          "name": "stdout",
          "output_type": "stream",
          "text": [
            "Epoch 1 - Train Loss: 0.4223, Train Accuracy: 0.8163\n",
            "Validation Loss: 1.8895, Validation Accuracy: 0.4444\n"
          ]
        },
        {
          "data": {
            "application/vnd.jupyter.widget-view+json": {
              "model_id": "130bbaaabb8a470caa4abe9320422dcb",
              "version_major": 2,
              "version_minor": 0
            },
            "text/plain": [
              "  0%|          | 0/9 [00:00<?, ?it/s]"
            ]
          },
          "metadata": {},
          "output_type": "display_data"
        },
        {
          "name": "stdout",
          "output_type": "stream",
          "text": [
            "Epoch 2 - Train Loss: 0.1664, Train Accuracy: 0.9514\n",
            "Validation Loss: 2.2473, Validation Accuracy: 0.4236\n",
            "Early stopping triggered after 2 epochs without improvement\n"
          ]
        },
        {
          "data": {
            "application/vnd.jupyter.widget-view+json": {
              "model_id": "07125f0f1ed44711b1e51c6fea1d3c41",
              "version_major": 2,
              "version_minor": 0
            },
            "text/plain": [
              "  0%|          | 0/5 [00:00<?, ?it/s]"
            ]
          },
          "metadata": {},
          "output_type": "display_data"
        },
        {
          "name": "stdout",
          "output_type": "stream",
          "text": [
            "Epoch 1 - Train Loss: 0.1079, Train Accuracy: 0.9443\n",
            "Validation Loss: 2.6508, Validation Accuracy: 0.2500\n"
          ]
        },
        {
          "data": {
            "application/vnd.jupyter.widget-view+json": {
              "model_id": "1d9d179958ed4c93b30caa7d0ec4e5f8",
              "version_major": 2,
              "version_minor": 0
            },
            "text/plain": [
              "  0%|          | 0/5 [00:00<?, ?it/s]"
            ]
          },
          "metadata": {},
          "output_type": "display_data"
        },
        {
          "name": "stdout",
          "output_type": "stream",
          "text": [
            "Epoch 2 - Train Loss: 0.0334, Train Accuracy: 1.0000\n",
            "Validation Loss: 2.6622, Validation Accuracy: 0.4167\n",
            "Early stopping triggered after 2 epochs without improvement\n"
          ]
        },
        {
          "data": {
            "application/vnd.jupyter.widget-view+json": {
              "model_id": "41fc7d12aedd42d5950f06cc0fac574a",
              "version_major": 2,
              "version_minor": 0
            },
            "text/plain": [
              "  0%|          | 0/3 [00:00<?, ?it/s]"
            ]
          },
          "metadata": {},
          "output_type": "display_data"
        },
        {
          "name": "stdout",
          "output_type": "stream",
          "text": [
            "Epoch 1 - Train Loss: 0.0443, Train Accuracy: 0.9948\n",
            "Validation Loss: 2.3211, Validation Accuracy: 0.5714\n",
            "Saving best model with validation accuracy: 0.5714\n"
          ]
        },
        {
          "data": {
            "application/vnd.jupyter.widget-view+json": {
              "model_id": "f440b9eb2ce54347947461de8e1ab217",
              "version_major": 2,
              "version_minor": 0
            },
            "text/plain": [
              "  0%|          | 0/3 [00:00<?, ?it/s]"
            ]
          },
          "metadata": {},
          "output_type": "display_data"
        },
        {
          "name": "stdout",
          "output_type": "stream",
          "text": [
            "Epoch 2 - Train Loss: 0.0190, Train Accuracy: 0.9948\n",
            "Validation Loss: 2.2351, Validation Accuracy: 0.5143\n"
          ]
        },
        {
          "data": {
            "application/vnd.jupyter.widget-view+json": {
              "model_id": "96f754c16e7c465d854164a35f2ea199",
              "version_major": 2,
              "version_minor": 0
            },
            "text/plain": [
              "  0%|          | 0/3 [00:00<?, ?it/s]"
            ]
          },
          "metadata": {},
          "output_type": "display_data"
        },
        {
          "name": "stdout",
          "output_type": "stream",
          "text": [
            "Epoch 3 - Train Loss: 0.0202, Train Accuracy: 0.9948\n",
            "Validation Loss: 2.3643, Validation Accuracy: 0.4857\n",
            "Early stopping triggered after 2 epochs without improvement\n"
          ]
        },
        {
          "data": {
            "application/vnd.jupyter.widget-view+json": {
              "model_id": "0c25e679424848ec954fe217bff97d22",
              "version_major": 2,
              "version_minor": 0
            },
            "text/plain": [
              "  0%|          | 0/9 [00:00<?, ?it/s]"
            ]
          },
          "metadata": {},
          "output_type": "display_data"
        },
        {
          "name": "stdout",
          "output_type": "stream",
          "text": [
            "Epoch 1 - Train Loss: 0.0815, Train Accuracy: 0.9653\n",
            "Validation Loss: 4.1260, Validation Accuracy: 0.3819\n"
          ]
        },
        {
          "data": {
            "application/vnd.jupyter.widget-view+json": {
              "model_id": "b92b5258803b4ea3ba1075a29a1ae0dc",
              "version_major": 2,
              "version_minor": 0
            },
            "text/plain": [
              "  0%|          | 0/9 [00:00<?, ?it/s]"
            ]
          },
          "metadata": {},
          "output_type": "display_data"
        },
        {
          "name": "stdout",
          "output_type": "stream",
          "text": [
            "Epoch 2 - Train Loss: 0.2756, Train Accuracy: 0.9274\n",
            "Validation Loss: 3.3455, Validation Accuracy: 0.2917\n",
            "Early stopping triggered after 2 epochs without improvement\n"
          ]
        },
        {
          "data": {
            "application/vnd.jupyter.widget-view+json": {
              "model_id": "74a093a7cf94491c985206ebd715278b",
              "version_major": 2,
              "version_minor": 0
            },
            "text/plain": [
              "  0%|          | 0/5 [00:00<?, ?it/s]"
            ]
          },
          "metadata": {},
          "output_type": "display_data"
        },
        {
          "name": "stdout",
          "output_type": "stream",
          "text": [
            "Epoch 1 - Train Loss: 0.0124, Train Accuracy: 1.0000\n",
            "Validation Loss: 4.9242, Validation Accuracy: 0.2500\n"
          ]
        },
        {
          "data": {
            "application/vnd.jupyter.widget-view+json": {
              "model_id": "12412f854f374796812c165a5e39761e",
              "version_major": 2,
              "version_minor": 0
            },
            "text/plain": [
              "  0%|          | 0/5 [00:00<?, ?it/s]"
            ]
          },
          "metadata": {},
          "output_type": "display_data"
        },
        {
          "name": "stdout",
          "output_type": "stream",
          "text": [
            "Epoch 2 - Train Loss: 0.0566, Train Accuracy: 0.9750\n",
            "Validation Loss: 5.6513, Validation Accuracy: 0.4479\n",
            "Early stopping triggered after 2 epochs without improvement\n"
          ]
        },
        {
          "data": {
            "application/vnd.jupyter.widget-view+json": {
              "model_id": "7afa2deea3394d8ea1fd9c50eb649ebb",
              "version_major": 2,
              "version_minor": 0
            },
            "text/plain": [
              "  0%|          | 0/3 [00:00<?, ?it/s]"
            ]
          },
          "metadata": {},
          "output_type": "display_data"
        },
        {
          "name": "stdout",
          "output_type": "stream",
          "text": [
            "Epoch 1 - Train Loss: 0.0016, Train Accuracy: 1.0000\n",
            "Validation Loss: 4.8915, Validation Accuracy: 0.4286\n"
          ]
        },
        {
          "data": {
            "application/vnd.jupyter.widget-view+json": {
              "model_id": "99bdaffc646843b49f5ffa62add37556",
              "version_major": 2,
              "version_minor": 0
            },
            "text/plain": [
              "  0%|          | 0/3 [00:00<?, ?it/s]"
            ]
          },
          "metadata": {},
          "output_type": "display_data"
        },
        {
          "name": "stdout",
          "output_type": "stream",
          "text": [
            "Epoch 2 - Train Loss: 0.0195, Train Accuracy: 0.9948\n",
            "Validation Loss: 3.5892, Validation Accuracy: 0.5429\n",
            "Early stopping triggered after 2 epochs without improvement\n"
          ]
        }
      ],
      "source": [
        "import torch\n",
        "import numpy as np\n",
        "from transformers import AutoTokenizer, AutoModelForSequenceClassification\n",
        "from tqdm import tqdm\n",
        "from torch.optim import AdamW\n",
        "from torch.utils.data import DataLoader\n",
        "\n",
        "# Define labels\n",
        "labels = ['negative', 'neutral', 'positive']\n",
        "\n",
        "# Load pre-trained model and tokenizer\n",
        "tokenizer = AutoTokenizer.from_pretrained('yiyanghkust/finbert-tone')\n",
        "model_roberta = AutoModelForSequenceClassification.from_pretrained('yiyanghkust/finbert-tone')\n",
        "\n",
        "# Move model to GPU if available\n",
        "device = torch.device(\"cuda\" if torch.cuda.is_available() else \"cpu\")\n",
        "model_roberta.to(device)\n",
        "\n",
        "# Function to preprocess data (replace with your data loading logic)\n",
        "def preprocess_data(data):\n",
        "  # Tokenize text and convert labels to tensors\n",
        "  input_ids = tokenizer(data[\"text\"], return_tensors=\"pt\", padding=True, truncation=True).input_ids.to(device)\n",
        "  attention_mask = tokenizer(data[\"text\"], return_tensors=\"pt\", padding=True, truncation=True).attention_mask.to(device)\n",
        "  labels = torch.tensor(data[\"label\"]).to(device)\n",
        "  return input_ids, attention_mask, labels\n",
        "\n",
        "from transformers import AutoModelForSequenceClassification\n",
        "import torch\n",
        "from tqdm.auto import tqdm\n",
        "import numpy as pd\n",
        "from torch.utils.data import DataLoader\n",
        "\n",
        "# Define training and validation functions\n",
        "def train(model, optimizer, train_data, epoch, writer):\n",
        "  model.train()\n",
        "  losses = []\n",
        "  accuracies = []\n",
        "  for data in tqdm(train_data):\n",
        "    input_ids, attention_mask, labels = preprocess_data(data)\n",
        "    optimizer.zero_grad()\n",
        "    outputs = model(input_ids=input_ids, attention_mask=attention_mask)\n",
        "    logits = outputs.logits\n",
        "    loss = torch.nn.functional.cross_entropy(logits, labels)\n",
        "    loss.backward()\n",
        "    optimizer.step()\n",
        "    losses.append(loss.item())\n",
        "    # Calculate accuracy\n",
        "    predictions = torch.argmax(logits, dim=1)\n",
        "    correct = (predictions == labels).sum().item()\n",
        "    accuracy = correct / len(labels)\n",
        "    accuracies.append(accuracy)\n",
        "  avg_loss = np.mean(losses)\n",
        "  avg_accuracy = np.mean(accuracies)\n",
        "  writer.add_scalar(\"Train/Loss\", avg_loss, epoch)\n",
        "  writer.add_scalar(\"Train/Accuracy\", avg_accuracy, epoch)\n",
        "  print(f\"Epoch {epoch+1} - Train Loss: {avg_loss:.4f}, Train Accuracy: {avg_accuracy:.4f}\")\n",
        "  return avg_loss, avg_accuracy\n",
        "\n",
        "def validate(model, val_data, writer, epoch):\n",
        "  model.eval()\n",
        "  losses = []\n",
        "  accuracies = []\n",
        "  with torch.no_grad():\n",
        "    for data in val_data:\n",
        "      input_ids, attention_mask, labels = preprocess_data(data)\n",
        "      outputs = model(input_ids=input_ids, attention_mask=attention_mask)\n",
        "      logits = outputs.logits\n",
        "      loss = torch.nn.functional.cross_entropy(logits, labels)\n",
        "      losses.append(loss.item())\n",
        "      # Calculate accuracy\n",
        "      predictions = torch.argmax(logits, dim=1)\n",
        "      correct = (predictions == labels).sum().item()\n",
        "      accuracy = correct / len(labels)\n",
        "      accuracies.append(accuracy)\n",
        "  avg_loss = np.mean(losses)\n",
        "  avg_accuracy = np.mean(accuracies)\n",
        "  writer.add_scalar(\"Val/Loss\", avg_loss, epoch)\n",
        "  writer.add_scalar(\"Val/Accuracy\", avg_accuracy, epoch)\n",
        "  print(f\"Validation Loss: {avg_loss:.4f}, Validation Accuracy: {avg_accuracy:.4f}\")\n",
        "  return avg_loss, avg_accuracy\n",
        "\n",
        "# Hyperparameter tuning (experiment with different learning rates and batch sizes)\n",
        "learning_rates = [1e-5, 2e-5, 5e-5]\n",
        "batch_sizes = [16, 32, 64]\n",
        "\n",
        "# Load your training and validation data (replace with your data)\n",
        "train_data = train_data  # Load your training data here\n",
        "val_data = val_data  # Load your validation data here\n",
        "\n",
        "# Train-validation loop with hyperparameter search\n",
        "best_val_accuracy = 0\n",
        "for lr in learning_rates:\n",
        "  for batch_size in batch_sizes:\n",
        "    # Define optimizer and data loaders\n",
        "    optimizer = AdamW(model_roberta.parameters(), lr=lr)\n",
        "    train_loader = DataLoader(train_data, batch_size=batch_size, shuffle=True)\n",
        "    val_loader = DataLoader(val_data, batch_size=batch_size)\n",
        "\n",
        "    # Early stopping variables\n",
        "    epochs = 3  # Set the number of epochs\n",
        "    patience = 2  # Number of epochs to wait for improvement\n",
        "    no_improvement = 0\n",
        "\n",
        "    # TensorBoard for visualization (optional)\n",
        "    from torch.utils.tensorboard import SummaryWriter\n",
        "    writer = SummaryWriter(f\"runs/roberta_sentiment_{lr}_{batch_size}\")\n",
        "\n",
        "    for epoch in range(epochs):\n",
        "      train_loss, train_acc = train(model_roberta, optimizer, train_loader, epoch, writer)\n",
        "      val_loss, val_acc = validate(model_roberta, val_loader, writer, epoch)\n",
        "\n",
        "      # Define a variable for the desired save directory\n",
        "      save_directory = \"C:\\\\Users\\\\luisl\\\\OneDrive\\\\Escritorio\\\\TFM_IA3\\\\tfm_ia3_nodata\\\\models\"  # Ensure double backslashes for Windows paths\n",
        "\n",
        "      # Early stopping with model saving\n",
        "      if val_acc > best_val_accuracy:\n",
        "          best_val_accuracy = val_acc\n",
        "          no_improvement = 0\n",
        "          # Save the best model in the specified directory\n",
        "          torch.save(model_roberta.state_dict(), os.path.join(save_directory, f\"best_model_2_{lr}_{batch_size}_V2.pt\"))\n",
        "          print(f\"Saving best model with validation accuracy: {val_acc:.4f}\")\n",
        "      else:\n",
        "          no_improvement += 1\n",
        "          if no_improvement >= patience:\n",
        "              print(f\"Early stopping triggered after {no_improvement} epochs without improvement\")\n",
        "              break  # Exit the inner loop for this hyperparameter combination"
      ]
    },
    {
      "cell_type": "markdown",
      "metadata": {},
      "source": [
        "carga de segundo modelo reentrenado"
      ]
    },
    {
      "cell_type": "code",
      "execution_count": 19,
      "metadata": {},
      "outputs": [
        {
          "name": "stderr",
          "output_type": "stream",
          "text": [
            "Asking to truncate to max_length but no maximum length is provided and the model has no predefined maximum length. Default to no truncation.\n"
          ]
        },
        {
          "name": "stdout",
          "output_type": "stream",
          "text": [
            "Predicted sentiment for 'The stock market is doing great!': neutral\n"
          ]
        }
      ],
      "source": [
        "import torch\n",
        "from transformers import AutoTokenizer, AutoModelForSequenceClassification\n",
        "\n",
        "# Define labels\n",
        "labels = ['negative', 'neutral', 'positive']\n",
        "\n",
        "# Load tokenizer\n",
        "tokenizer = AutoTokenizer.from_pretrained('yiyanghkust/finbert-tone')\n",
        "\n",
        "# Define the path to the saved model (assuming the model is saved in a folder)\n",
        "model_path = \"C:/Users/luisl/OneDrive/Escritorio/TFM_IA3/tfm_ia3_nodata/models/best_model_2_2e-05_64_V2.pt\"  # Replace with your actual path\n",
        "\n",
        "# Function to preprocess text\n",
        "def preprocess_text(text, tokenizer):\n",
        "    inputs = tokenizer(text, return_tensors=\"pt\", padding=True, truncation=True)\n",
        "    input_ids = inputs.input_ids.to(torch.device(\"cuda\" if torch.cuda.is_available() else \"cpu\"))\n",
        "    attention_mask = inputs.attention_mask.to(torch.device(\"cuda\" if torch.cuda.is_available() else \"cpu\"))\n",
        "    return input_ids, attention_mask\n",
        "\n",
        "# Load the model\n",
        "model_finbert = AutoModelForSequenceClassification.from_pretrained(\"yiyanghkust/finbert-tone\")\n",
        "model_finbert.load_state_dict(torch.load(model_path))\n",
        "model_finbert.to(torch.device(\"cuda\" if torch.cuda.is_available() else \"cpu\"))  # Move to GPU if available\n",
        "\n",
        "with torch.no_grad():\n",
        "    model_finbert.eval()\n",
        "\n",
        "    # Example usage\n",
        "    text = \"The stock market is doing great!\"\n",
        "    input_ids, attention_mask = preprocess_text(text, tokenizer)\n",
        "\n",
        "    # Get predictions\n",
        "    outputs = model_finbert(input_ids=input_ids, attention_mask=attention_mask)\n",
        "    logits = outputs.logits\n",
        "    predicted_label = torch.argmax(logits, dim=1).item()\n",
        "\n",
        "    # Get the predicted sentiment\n",
        "    predicted_sentiment = labels[predicted_label]\n",
        "\n",
        "    print(f\"Predicted sentiment for '{text}': {predicted_sentiment}\")"
      ]
    },
    {
      "cell_type": "code",
      "execution_count": 20,
      "metadata": {
        "id": "gRxUnjEZWR3H"
      },
      "outputs": [
        {
          "data": {
            "application/vnd.jupyter.widget-view+json": {
              "model_id": "e37ed96eb210407bbff607342e3243e1",
              "version_major": 2,
              "version_minor": 0
            },
            "text/plain": [
              "Analizando sentimientos:   0%|          | 0/174 [00:00<?, ?it/s]"
            ]
          },
          "metadata": {},
          "output_type": "display_data"
        },
        {
          "name": "stderr",
          "output_type": "stream",
          "text": [
            "c:\\Users\\luisl\\anaconda3\\envs\\tfm_modelado\\lib\\site-packages\\transformers\\pipelines\\base.py:1123: UserWarning: You seem to be using the pipelines sequentially on GPU. In order to maximize efficiency please use a dataset\n",
            "  warnings.warn(\n"
          ]
        }
      ],
      "source": [
        "import torch\n",
        "from transformers import BertTokenizer, BertForSequenceClassification, pipeline\n",
        "import pandas as pd\n",
        "from tqdm.auto import tqdm\n",
        "\n",
        "# Inicialización del modelo y tokenizer\n",
        "tokenizer = BertTokenizer.from_pretrained('yiyanghkust/finbert-tone')\n",
        "finbert = AutoModelForSequenceClassification.from_pretrained(\"yiyanghkust/finbert-tone\")\n",
        "finbert.load_state_dict(torch.load(model_path))\n",
        "finbert.to(torch.device(\"cuda\" if torch.cuda.is_available() else \"cpu\"))  # Move to GPU if available\n",
        "\n",
        "# Mover el modelo a la GPU si está disponible\n",
        "device = torch.device(\"cuda\" if torch.cuda.is_available() else \"cpu\")\n",
        "finbert.to(device)\n",
        "\n",
        "nlp = pipeline(\"sentiment-analysis\", model=finbert, tokenizer=tokenizer, device=0 if torch.cuda.is_available() else -1)\n",
        "\n",
        "# Asumiendo que submuestra_df es tu DataFrame y tiene una columna 'text'\n",
        "predicted_finbert_tone = []\n",
        "\n",
        "for text in tqdm(submuestra_df['summary'], desc=\"Analizando sentimientos\"):\n",
        "    with torch.no_grad():\n",
        "        # Tokenizar y mover el texto completo a la GPU\n",
        "        result = nlp(text)[0]\n",
        "    \n",
        "    sentimiento_final = result['label'].lower()\n",
        "    predicted_finbert_tone.append(sentimiento_final)\n",
        "\n",
        "# Añadir los resultados al DataFrame\n",
        "submuestra_df['predicted_finbertTone'] = predicted_finbert_tone\n"
      ]
    },
    {
      "cell_type": "markdown",
      "metadata": {},
      "source": [
        "ProsusAI/finbert Model\n"
      ]
    },
    {
      "cell_type": "code",
      "execution_count": 19,
      "metadata": {},
      "outputs": [
        {
          "data": {
            "application/vnd.jupyter.widget-view+json": {
              "model_id": "4eee13eb8f8746978906632a1d9c4660",
              "version_major": 2,
              "version_minor": 0
            },
            "text/plain": [
              "  0%|          | 0/9 [00:00<?, ?it/s]"
            ]
          },
          "metadata": {},
          "output_type": "display_data"
        },
        {
          "name": "stderr",
          "output_type": "stream",
          "text": [
            "C:\\Users\\luisl\\AppData\\Local\\Temp\\ipykernel_10892\\2258492466.py:24: UserWarning: To copy construct from a tensor, it is recommended to use sourceTensor.clone().detach() or sourceTensor.clone().detach().requires_grad_(True), rather than torch.tensor(sourceTensor).\n",
            "  labels = torch.tensor(data[\"label\"]).to(device)\n"
          ]
        },
        {
          "name": "stdout",
          "output_type": "stream",
          "text": [
            "Epoch 1 - Train Loss: 1.8500, Train Accuracy: 0.3251\n",
            "Validation Loss: 1.8939, Validation Accuracy: 0.2292\n",
            "Saving best model with validation accuracy: 0.2292\n"
          ]
        },
        {
          "data": {
            "application/vnd.jupyter.widget-view+json": {
              "model_id": "ba7253c72fba4f0e893c4344096e6fb5",
              "version_major": 2,
              "version_minor": 0
            },
            "text/plain": [
              "  0%|          | 0/9 [00:00<?, ?it/s]"
            ]
          },
          "metadata": {},
          "output_type": "display_data"
        },
        {
          "name": "stdout",
          "output_type": "stream",
          "text": [
            "Epoch 2 - Train Loss: 1.2742, Train Accuracy: 0.4362\n",
            "Validation Loss: 1.4914, Validation Accuracy: 0.1250\n"
          ]
        },
        {
          "data": {
            "application/vnd.jupyter.widget-view+json": {
              "model_id": "91f1e7daa402486f9a9b2d934a7f2fb9",
              "version_major": 2,
              "version_minor": 0
            },
            "text/plain": [
              "  0%|          | 0/9 [00:00<?, ?it/s]"
            ]
          },
          "metadata": {},
          "output_type": "display_data"
        },
        {
          "name": "stdout",
          "output_type": "stream",
          "text": [
            "Epoch 3 - Train Loss: 0.9991, Train Accuracy: 0.4874\n",
            "Validation Loss: 1.3259, Validation Accuracy: 0.2778\n",
            "Saving best model with validation accuracy: 0.2778\n"
          ]
        },
        {
          "data": {
            "application/vnd.jupyter.widget-view+json": {
              "model_id": "a9314c6c671d446580cb55a1ffd29b59",
              "version_major": 2,
              "version_minor": 0
            },
            "text/plain": [
              "  0%|          | 0/5 [00:00<?, ?it/s]"
            ]
          },
          "metadata": {},
          "output_type": "display_data"
        },
        {
          "name": "stdout",
          "output_type": "stream",
          "text": [
            "Epoch 1 - Train Loss: 0.9333, Train Accuracy: 0.5466\n",
            "Validation Loss: 1.3144, Validation Accuracy: 0.2604\n"
          ]
        },
        {
          "data": {
            "application/vnd.jupyter.widget-view+json": {
              "model_id": "5d143ac1fa2d4a08a6d52adfcfacba73",
              "version_major": 2,
              "version_minor": 0
            },
            "text/plain": [
              "  0%|          | 0/5 [00:00<?, ?it/s]"
            ]
          },
          "metadata": {},
          "output_type": "display_data"
        },
        {
          "name": "stdout",
          "output_type": "stream",
          "text": [
            "Epoch 2 - Train Loss: 0.8064, Train Accuracy: 0.6767\n",
            "Validation Loss: 1.3467, Validation Accuracy: 0.1094\n",
            "Early stopping triggered after 2 epochs without improvement\n"
          ]
        },
        {
          "data": {
            "application/vnd.jupyter.widget-view+json": {
              "model_id": "05eb025178ac4038a56be760c0ebc129",
              "version_major": 2,
              "version_minor": 0
            },
            "text/plain": [
              "  0%|          | 0/3 [00:00<?, ?it/s]"
            ]
          },
          "metadata": {},
          "output_type": "display_data"
        },
        {
          "name": "stdout",
          "output_type": "stream",
          "text": [
            "Epoch 1 - Train Loss: 0.7256, Train Accuracy: 0.6870\n",
            "Validation Loss: 1.4861, Validation Accuracy: 0.2286\n"
          ]
        },
        {
          "data": {
            "application/vnd.jupyter.widget-view+json": {
              "model_id": "45dac6aae8d1461bb9a1c9c8275cd596",
              "version_major": 2,
              "version_minor": 0
            },
            "text/plain": [
              "  0%|          | 0/3 [00:00<?, ?it/s]"
            ]
          },
          "metadata": {},
          "output_type": "display_data"
        },
        {
          "name": "stdout",
          "output_type": "stream",
          "text": [
            "Epoch 2 - Train Loss: 0.5820, Train Accuracy: 0.7727\n",
            "Validation Loss: 1.6398, Validation Accuracy: 0.2857\n",
            "Saving best model with validation accuracy: 0.2857\n"
          ]
        },
        {
          "data": {
            "application/vnd.jupyter.widget-view+json": {
              "model_id": "b93c3253c6a54f5088050da2a03d9d15",
              "version_major": 2,
              "version_minor": 0
            },
            "text/plain": [
              "  0%|          | 0/3 [00:00<?, ?it/s]"
            ]
          },
          "metadata": {},
          "output_type": "display_data"
        },
        {
          "name": "stdout",
          "output_type": "stream",
          "text": [
            "Epoch 3 - Train Loss: 0.4969, Train Accuracy: 0.8187\n",
            "Validation Loss: 1.6377, Validation Accuracy: 0.2286\n"
          ]
        },
        {
          "data": {
            "application/vnd.jupyter.widget-view+json": {
              "model_id": "dd2afbfbc2724fc0933bd23cbb893587",
              "version_major": 2,
              "version_minor": 0
            },
            "text/plain": [
              "  0%|          | 0/9 [00:00<?, ?it/s]"
            ]
          },
          "metadata": {},
          "output_type": "display_data"
        },
        {
          "name": "stdout",
          "output_type": "stream",
          "text": [
            "Epoch 1 - Train Loss: 0.4400, Train Accuracy: 0.8024\n",
            "Validation Loss: 1.8574, Validation Accuracy: 0.1875\n"
          ]
        },
        {
          "data": {
            "application/vnd.jupyter.widget-view+json": {
              "model_id": "5e4defc2566c45599075b98f11b7e187",
              "version_major": 2,
              "version_minor": 0
            },
            "text/plain": [
              "  0%|          | 0/9 [00:00<?, ?it/s]"
            ]
          },
          "metadata": {},
          "output_type": "display_data"
        },
        {
          "name": "stdout",
          "output_type": "stream",
          "text": [
            "Epoch 2 - Train Loss: 0.2080, Train Accuracy: 0.9653\n",
            "Validation Loss: 2.1001, Validation Accuracy: 0.1458\n",
            "Early stopping triggered after 2 epochs without improvement\n"
          ]
        },
        {
          "data": {
            "application/vnd.jupyter.widget-view+json": {
              "model_id": "7d8986a1a67f442fa10e3e488c5864e7",
              "version_major": 2,
              "version_minor": 0
            },
            "text/plain": [
              "  0%|          | 0/5 [00:00<?, ?it/s]"
            ]
          },
          "metadata": {},
          "output_type": "display_data"
        },
        {
          "name": "stdout",
          "output_type": "stream",
          "text": [
            "Epoch 1 - Train Loss: 0.1438, Train Accuracy: 0.9574\n",
            "Validation Loss: 2.3367, Validation Accuracy: 0.0938\n"
          ]
        },
        {
          "data": {
            "application/vnd.jupyter.widget-view+json": {
              "model_id": "1eb3c79723964ad083ccf5c7ddb52ac8",
              "version_major": 2,
              "version_minor": 0
            },
            "text/plain": [
              "  0%|          | 0/5 [00:00<?, ?it/s]"
            ]
          },
          "metadata": {},
          "output_type": "display_data"
        },
        {
          "name": "stdout",
          "output_type": "stream",
          "text": [
            "Epoch 2 - Train Loss: 0.0830, Train Accuracy: 1.0000\n",
            "Validation Loss: 2.5008, Validation Accuracy: 0.1562\n",
            "Early stopping triggered after 2 epochs without improvement\n"
          ]
        },
        {
          "data": {
            "application/vnd.jupyter.widget-view+json": {
              "model_id": "e1be40997bc84080b0b89e9a24acbc52",
              "version_major": 2,
              "version_minor": 0
            },
            "text/plain": [
              "  0%|          | 0/3 [00:00<?, ?it/s]"
            ]
          },
          "metadata": {},
          "output_type": "display_data"
        },
        {
          "name": "stdout",
          "output_type": "stream",
          "text": [
            "Epoch 1 - Train Loss: 0.1084, Train Accuracy: 0.9740\n",
            "Validation Loss: 2.2263, Validation Accuracy: 0.2571\n"
          ]
        },
        {
          "data": {
            "application/vnd.jupyter.widget-view+json": {
              "model_id": "bf7600d9419543e7a6039a67cb2f3b61",
              "version_major": 2,
              "version_minor": 0
            },
            "text/plain": [
              "  0%|          | 0/3 [00:00<?, ?it/s]"
            ]
          },
          "metadata": {},
          "output_type": "display_data"
        },
        {
          "name": "stdout",
          "output_type": "stream",
          "text": [
            "Epoch 2 - Train Loss: 0.1146, Train Accuracy: 0.9844\n",
            "Validation Loss: 2.2230, Validation Accuracy: 0.2571\n",
            "Early stopping triggered after 2 epochs without improvement\n"
          ]
        },
        {
          "data": {
            "application/vnd.jupyter.widget-view+json": {
              "model_id": "7e18a1346ad24970a8cfbc705c7eba9d",
              "version_major": 2,
              "version_minor": 0
            },
            "text/plain": [
              "  0%|          | 0/9 [00:00<?, ?it/s]"
            ]
          },
          "metadata": {},
          "output_type": "display_data"
        },
        {
          "name": "stdout",
          "output_type": "stream",
          "text": [
            "Epoch 1 - Train Loss: 0.1176, Train Accuracy: 0.9583\n",
            "Validation Loss: 3.0867, Validation Accuracy: 0.2778\n"
          ]
        },
        {
          "data": {
            "application/vnd.jupyter.widget-view+json": {
              "model_id": "33f1a7838e824cd495cad3d2b88440c8",
              "version_major": 2,
              "version_minor": 0
            },
            "text/plain": [
              "  0%|          | 0/9 [00:00<?, ?it/s]"
            ]
          },
          "metadata": {},
          "output_type": "display_data"
        },
        {
          "name": "stdout",
          "output_type": "stream",
          "text": [
            "Epoch 2 - Train Loss: 0.1589, Train Accuracy: 0.9514\n",
            "Validation Loss: 2.6387, Validation Accuracy: 0.3403\n",
            "Saving best model with validation accuracy: 0.3403\n"
          ]
        },
        {
          "data": {
            "application/vnd.jupyter.widget-view+json": {
              "model_id": "9b36d53100b846bcbca4c7aa25f5bf96",
              "version_major": 2,
              "version_minor": 0
            },
            "text/plain": [
              "  0%|          | 0/9 [00:00<?, ?it/s]"
            ]
          },
          "metadata": {},
          "output_type": "display_data"
        },
        {
          "name": "stdout",
          "output_type": "stream",
          "text": [
            "Epoch 3 - Train Loss: 0.0444, Train Accuracy: 0.9830\n",
            "Validation Loss: 3.0590, Validation Accuracy: 0.1875\n"
          ]
        },
        {
          "data": {
            "application/vnd.jupyter.widget-view+json": {
              "model_id": "73a7d9553e90415f830aa3404ef597ea",
              "version_major": 2,
              "version_minor": 0
            },
            "text/plain": [
              "  0%|          | 0/5 [00:00<?, ?it/s]"
            ]
          },
          "metadata": {},
          "output_type": "display_data"
        },
        {
          "name": "stdout",
          "output_type": "stream",
          "text": [
            "Epoch 1 - Train Loss: 0.0504, Train Accuracy: 0.9938\n",
            "Validation Loss: 3.3749, Validation Accuracy: 0.1875\n"
          ]
        },
        {
          "data": {
            "application/vnd.jupyter.widget-view+json": {
              "model_id": "d7d771fc2c904e4790520a8729efe52b",
              "version_major": 2,
              "version_minor": 0
            },
            "text/plain": [
              "  0%|          | 0/5 [00:00<?, ?it/s]"
            ]
          },
          "metadata": {},
          "output_type": "display_data"
        },
        {
          "name": "stdout",
          "output_type": "stream",
          "text": [
            "Epoch 2 - Train Loss: 0.0199, Train Accuracy: 1.0000\n",
            "Validation Loss: 3.7699, Validation Accuracy: 0.1562\n",
            "Early stopping triggered after 2 epochs without improvement\n"
          ]
        },
        {
          "data": {
            "application/vnd.jupyter.widget-view+json": {
              "model_id": "97178ad2cffb4b8d923fbf8fe99759d7",
              "version_major": 2,
              "version_minor": 0
            },
            "text/plain": [
              "  0%|          | 0/3 [00:00<?, ?it/s]"
            ]
          },
          "metadata": {},
          "output_type": "display_data"
        },
        {
          "name": "stdout",
          "output_type": "stream",
          "text": [
            "Epoch 1 - Train Loss: 0.1669, Train Accuracy: 0.9427\n",
            "Validation Loss: 2.7645, Validation Accuracy: 0.4857\n",
            "Saving best model with validation accuracy: 0.4857\n"
          ]
        },
        {
          "data": {
            "application/vnd.jupyter.widget-view+json": {
              "model_id": "c5fc1dd1957a4cb989862e1447e99c55",
              "version_major": 2,
              "version_minor": 0
            },
            "text/plain": [
              "  0%|          | 0/3 [00:00<?, ?it/s]"
            ]
          },
          "metadata": {},
          "output_type": "display_data"
        },
        {
          "name": "stdout",
          "output_type": "stream",
          "text": [
            "Epoch 2 - Train Loss: 0.2284, Train Accuracy: 0.9271\n",
            "Validation Loss: 2.7838, Validation Accuracy: 0.4000\n"
          ]
        },
        {
          "data": {
            "application/vnd.jupyter.widget-view+json": {
              "model_id": "b5949e4f3c034af4a39b008c2677a8b4",
              "version_major": 2,
              "version_minor": 0
            },
            "text/plain": [
              "  0%|          | 0/3 [00:00<?, ?it/s]"
            ]
          },
          "metadata": {},
          "output_type": "display_data"
        },
        {
          "name": "stdout",
          "output_type": "stream",
          "text": [
            "Epoch 3 - Train Loss: 0.0077, Train Accuracy: 1.0000\n",
            "Validation Loss: 2.6771, Validation Accuracy: 0.3714\n",
            "Early stopping triggered after 2 epochs without improvement\n"
          ]
        }
      ],
      "source": [
        "import torch\n",
        "import numpy as np\n",
        "from transformers import AutoTokenizer, AutoModelForSequenceClassification\n",
        "from tqdm import tqdm\n",
        "from torch.optim import AdamW\n",
        "from torch.utils.data import DataLoader\n",
        "\n",
        "# Define labels\n",
        "labels = ['negative', 'neutral', 'positive']\n",
        "\n",
        "# Load pre-trained model and tokenizer\n",
        "tokenizer = AutoTokenizer.from_pretrained(\"ProsusAI/finbert\")\n",
        "model_roberta = AutoModelForSequenceClassification.from_pretrained(\"ProsusAI/finbert\")\n",
        "\n",
        "# Move model to GPU if available\n",
        "device = torch.device(\"cuda\" if torch.cuda.is_available() else \"cpu\")\n",
        "model_roberta.to(device)\n",
        "\n",
        "# Function to preprocess data (replace with your data loading logic)\n",
        "def preprocess_data(data):\n",
        "  # Tokenize text and convert labels to tensors\n",
        "  input_ids = tokenizer(data[\"text\"], return_tensors=\"pt\", padding=True, truncation=True).input_ids.to(device)\n",
        "  attention_mask = tokenizer(data[\"text\"], return_tensors=\"pt\", padding=True, truncation=True).attention_mask.to(device)\n",
        "  labels = torch.tensor(data[\"label\"]).to(device)\n",
        "  return input_ids, attention_mask, labels\n",
        "\n",
        "from transformers import AutoModelForSequenceClassification\n",
        "import torch\n",
        "from tqdm.auto import tqdm\n",
        "import numpy as pd\n",
        "from torch.utils.data import DataLoader\n",
        "\n",
        "# Define training and validation functions\n",
        "def train(model, optimizer, train_data, epoch, writer):\n",
        "  model.train()\n",
        "  losses = []\n",
        "  accuracies = []\n",
        "  for data in tqdm(train_data):\n",
        "    input_ids, attention_mask, labels = preprocess_data(data)\n",
        "    optimizer.zero_grad()\n",
        "    outputs = model(input_ids=input_ids, attention_mask=attention_mask)\n",
        "    logits = outputs.logits\n",
        "    loss = torch.nn.functional.cross_entropy(logits, labels)\n",
        "    loss.backward()\n",
        "    optimizer.step()\n",
        "    losses.append(loss.item())\n",
        "    # Calculate accuracy\n",
        "    predictions = torch.argmax(logits, dim=1)\n",
        "    correct = (predictions == labels).sum().item()\n",
        "    accuracy = correct / len(labels)\n",
        "    accuracies.append(accuracy)\n",
        "  avg_loss = np.mean(losses)\n",
        "  avg_accuracy = np.mean(accuracies)\n",
        "  writer.add_scalar(\"Train/Loss\", avg_loss, epoch)\n",
        "  writer.add_scalar(\"Train/Accuracy\", avg_accuracy, epoch)\n",
        "  print(f\"Epoch {epoch+1} - Train Loss: {avg_loss:.4f}, Train Accuracy: {avg_accuracy:.4f}\")\n",
        "  return avg_loss, avg_accuracy\n",
        "\n",
        "def validate(model, val_data, writer, epoch):\n",
        "  model.eval()\n",
        "  losses = []\n",
        "  accuracies = []\n",
        "  with torch.no_grad():\n",
        "    for data in val_data:\n",
        "      input_ids, attention_mask, labels = preprocess_data(data)\n",
        "      outputs = model(input_ids=input_ids, attention_mask=attention_mask)\n",
        "      logits = outputs.logits\n",
        "      loss = torch.nn.functional.cross_entropy(logits, labels)\n",
        "      losses.append(loss.item())\n",
        "      # Calculate accuracy\n",
        "      predictions = torch.argmax(logits, dim=1)\n",
        "      correct = (predictions == labels).sum().item()\n",
        "      accuracy = correct / len(labels)\n",
        "      accuracies.append(accuracy)\n",
        "  avg_loss = np.mean(losses)\n",
        "  avg_accuracy = np.mean(accuracies)\n",
        "  writer.add_scalar(\"Val/Loss\", avg_loss, epoch)\n",
        "  writer.add_scalar(\"Val/Accuracy\", avg_accuracy, epoch)\n",
        "  print(f\"Validation Loss: {avg_loss:.4f}, Validation Accuracy: {avg_accuracy:.4f}\")\n",
        "  return avg_loss, avg_accuracy\n",
        "\n",
        "# Hyperparameter tuning (experiment with different learning rates and batch sizes)\n",
        "learning_rates = [1e-5, 2e-5, 5e-5]\n",
        "batch_sizes = [16, 32, 64]\n",
        "\n",
        "# Load your training and validation data (replace with your data)\n",
        "train_data = train_data  # Load your training data here\n",
        "val_data = val_data  # Load your validation data here\n",
        "\n",
        "# Train-validation loop with hyperparameter search\n",
        "best_val_accuracy = 0\n",
        "for lr in learning_rates:\n",
        "  for batch_size in batch_sizes:\n",
        "    # Define optimizer and data loaders\n",
        "    optimizer = AdamW(model_roberta.parameters(), lr=lr)\n",
        "    train_loader = DataLoader(train_data, batch_size=batch_size, shuffle=True)\n",
        "    val_loader = DataLoader(val_data, batch_size=batch_size)\n",
        "\n",
        "    # Early stopping variables\n",
        "    epochs = 3  # Set the number of epochs\n",
        "    patience = 2  # Number of epochs to wait for improvement\n",
        "    no_improvement = 0\n",
        "\n",
        "    # TensorBoard for visualization (optional)\n",
        "    from torch.utils.tensorboard import SummaryWriter\n",
        "    writer = SummaryWriter(f\"runs/roberta_sentiment_{lr}_{batch_size}\")\n",
        "\n",
        "    for epoch in range(epochs):\n",
        "      train_loss, train_acc = train(model_roberta, optimizer, train_loader, epoch, writer)\n",
        "      val_loss, val_acc = validate(model_roberta, val_loader, writer, epoch)\n",
        "\n",
        "      # Define a variable for the desired save directory\n",
        "      save_directory = \"C:\\\\Users\\\\luisl\\\\OneDrive\\\\Escritorio\\\\TFM_IA3\\\\tfm_ia3_nodata\\\\models\"  # Ensure double backslashes for Windows paths\n",
        "\n",
        "      # Early stopping with model saving\n",
        "      if val_acc > best_val_accuracy:\n",
        "          best_val_accuracy = val_acc\n",
        "          no_improvement = 0\n",
        "          # Save the best model in the specified directory\n",
        "          torch.save(model_roberta.state_dict(), os.path.join(save_directory, f\"best_model_3_{lr}_{batch_size}_V2.pt\"))\n",
        "          print(f\"Saving best model with validation accuracy: {val_acc:.4f}\")\n",
        "      else:\n",
        "          no_improvement += 1\n",
        "          if no_improvement >= patience:\n",
        "              print(f\"Early stopping triggered after {no_improvement} epochs without improvement\")\n",
        "              break  # Exit the inner loop for this hyperparameter combination"
      ]
    },
    {
      "cell_type": "markdown",
      "metadata": {},
      "source": [
        "cargar tercer modelo reentrenado"
      ]
    },
    {
      "cell_type": "code",
      "execution_count": 21,
      "metadata": {},
      "outputs": [
        {
          "name": "stdout",
          "output_type": "stream",
          "text": [
            "Predicted sentiment for 'The stock market is doing great!': negative\n"
          ]
        }
      ],
      "source": [
        "import torch\n",
        "from transformers import AutoTokenizer, AutoModelForSequenceClassification\n",
        "\n",
        "# Define labels\n",
        "labels = ['negative', 'neutral', 'positive']\n",
        "\n",
        "# Load tokenizer\n",
        "tokenizer = AutoTokenizer.from_pretrained('ProsusAI/finbert')\n",
        "\n",
        "# Define the path to the saved model (assuming the model is saved in a folder)\n",
        "model_path = \"C:/Users/luisl/OneDrive/Escritorio/TFM_IA3/tfm_ia3_nodata/models/best_model_3_5e-05_64_V2.pt\"  # Replace with your actual path\n",
        "\n",
        "# Function to preprocess text\n",
        "def preprocess_text(text, tokenizer):\n",
        "    inputs = tokenizer(text, return_tensors=\"pt\", padding=True, truncation=True)\n",
        "    input_ids = inputs.input_ids.to(torch.device(\"cuda\" if torch.cuda.is_available() else \"cpu\"))\n",
        "    attention_mask = inputs.attention_mask.to(torch.device(\"cuda\" if torch.cuda.is_available() else \"cpu\"))\n",
        "    return input_ids, attention_mask\n",
        "\n",
        "# Load the model\n",
        "model_finbert = AutoModelForSequenceClassification.from_pretrained(\"ProsusAI/finbert\")\n",
        "model_finbert.load_state_dict(torch.load(model_path))\n",
        "model_finbert.to(torch.device(\"cuda\" if torch.cuda.is_available() else \"cpu\"))  # Move to GPU if available\n",
        "\n",
        "with torch.no_grad():\n",
        "    model_finbert.eval()\n",
        "\n",
        "    # Example usage\n",
        "    text = \"The stock market is doing great!\"\n",
        "    input_ids, attention_mask = preprocess_text(text, tokenizer)\n",
        "\n",
        "    # Get predictions\n",
        "    outputs = model_finbert(input_ids=input_ids, attention_mask=attention_mask)\n",
        "    logits = outputs.logits\n",
        "    predicted_label = torch.argmax(logits, dim=1).item()\n",
        "\n",
        "    # Get the predicted sentiment\n",
        "    predicted_sentiment = labels[predicted_label]\n",
        "\n",
        "    print(f\"Predicted sentiment for '{text}': {predicted_sentiment}\")\n"
      ]
    },
    {
      "cell_type": "code",
      "execution_count": 22,
      "metadata": {},
      "outputs": [
        {
          "data": {
            "application/vnd.jupyter.widget-view+json": {
              "model_id": "ae46e9d54207446382f02cf1732b6828",
              "version_major": 2,
              "version_minor": 0
            },
            "text/plain": [
              "Procesando predicciones FinBERT:   0%|          | 0/174 [00:00<?, ?it/s]"
            ]
          },
          "metadata": {},
          "output_type": "display_data"
        }
      ],
      "source": [
        "from transformers import AutoTokenizer, AutoModelForSequenceClassification\n",
        "import torch\n",
        "from tqdm.auto import tqdm\n",
        "import numpy as np\n",
        "\n",
        "# Inicialización del tokenizer y el modelo\n",
        "tokenizer = AutoTokenizer.from_pretrained(\"ProsusAI/finbert\")\n",
        "model_finbert = AutoModelForSequenceClassification.from_pretrained(\"ProsusAI/finbert\")\n",
        "model_finbert.load_state_dict(torch.load(model_path))\n",
        "model_finbert.to(torch.device(\"cuda\" if torch.cuda.is_available() else \"cpu\"))  # Move to GPU if available\n",
        "\n",
        "# Mover el modelo a la GPU si está disponible\n",
        "device = torch.device(\"cuda\" if torch.cuda.is_available() else \"cpu\")\n",
        "model_finbert.to(device)\n",
        "\n",
        "preds = []\n",
        "preds_proba = []\n",
        "tokenizer_kwargs = {\"padding\": True, \"truncation\": True, \"max_length\": 512}\n",
        "\n",
        "for x in tqdm(X_submuestra, desc=\"Procesando predicciones FinBERT\"):\n",
        "    with torch.no_grad():\n",
        "        # Tokenizar y mover el texto completo a la GPU\n",
        "        input_sequence = tokenizer(x, return_tensors=\"pt\", **tokenizer_kwargs).to(device)\n",
        "        logits = model_finbert(**input_sequence).logits\n",
        "        scores = torch.softmax(logits, dim=1).cpu().numpy().squeeze()\n",
        "        scores_dict = {\n",
        "            label: score\n",
        "            for label, score in zip(model_finbert.config.id2label.values(), scores)\n",
        "        }\n",
        "        sentimiento = max(scores_dict, key=scores_dict.get)\n",
        "        probabilidad = max(scores_dict.values())\n",
        "    \n",
        "    preds.append(sentimiento)\n",
        "    preds_proba.append(probabilidad)\n",
        "\n"
      ]
    },
    {
      "cell_type": "code",
      "execution_count": 23,
      "metadata": {},
      "outputs": [],
      "source": [
        "submuestra_df['predicted_finbert'] =preds"
      ]
    },
    {
      "cell_type": "markdown",
      "metadata": {},
      "source": [
        "hacer la columna sentiment en el dataset de entrenamiento teniendo en cuenta las agregaciones de key y cambiar de 1 a positive etc"
      ]
    },
    {
      "cell_type": "code",
      "execution_count": 24,
      "metadata": {},
      "outputs": [],
      "source": [
        "\n",
        "y = submuestra_df['next_decision'].to_list()\n",
        "y = [ 'neutral' if value == 0 else 'positive' if value == 1 else 'negative' for value in y ]\n"
      ]
    },
    {
      "cell_type": "code",
      "execution_count": 25,
      "metadata": {},
      "outputs": [
        {
          "data": {
            "text/html": [
              "<div>\n",
              "<style scoped>\n",
              "    .dataframe tbody tr th:only-of-type {\n",
              "        vertical-align: middle;\n",
              "    }\n",
              "\n",
              "    .dataframe tbody tr th {\n",
              "        vertical-align: top;\n",
              "    }\n",
              "\n",
              "    .dataframe thead th {\n",
              "        text-align: right;\n",
              "    }\n",
              "</style>\n",
              "<table border=\"1\" class=\"dataframe\">\n",
              "  <thead>\n",
              "    <tr style=\"text-align: right;\">\n",
              "      <th></th>\n",
              "      <th>type</th>\n",
              "      <th>date</th>\n",
              "      <th>title</th>\n",
              "      <th>speaker</th>\n",
              "      <th>word_count</th>\n",
              "      <th>decision</th>\n",
              "      <th>rate</th>\n",
              "      <th>next_meeting</th>\n",
              "      <th>next_decision</th>\n",
              "      <th>next_rate</th>\n",
              "      <th>text</th>\n",
              "      <th>summary</th>\n",
              "      <th>predicted_roberta</th>\n",
              "      <th>predicted_finbertTone</th>\n",
              "      <th>predicted_finbert</th>\n",
              "    </tr>\n",
              "  </thead>\n",
              "  <tbody>\n",
              "    <tr>\n",
              "      <th>12</th>\n",
              "      <td>speech</td>\n",
              "      <td>2023-10-19</td>\n",
              "      <td>Opening Remarks</td>\n",
              "      <td>Vice Chair Philip N. Jefferson</td>\n",
              "      <td>710</td>\n",
              "      <td>&lt;NA&gt;</td>\n",
              "      <td>NaN</td>\n",
              "      <td>2023-11-01</td>\n",
              "      <td>0</td>\n",
              "      <td>5.25</td>\n",
              "      <td>Our guests include academics from a number of ...</td>\n",
              "      <td>The U.S. Treasury market remains the largest a...</td>\n",
              "      <td>neutral</td>\n",
              "      <td>neutral</td>\n",
              "      <td>positive</td>\n",
              "    </tr>\n",
              "    <tr>\n",
              "      <th>51</th>\n",
              "      <td>testimony</td>\n",
              "      <td>1997-03-20</td>\n",
              "      <td>Performance of the U.S. economy</td>\n",
              "      <td>Alan Greenspan</td>\n",
              "      <td>2142</td>\n",
              "      <td>&lt;NA&gt;</td>\n",
              "      <td>NaN</td>\n",
              "      <td>1997-03-25</td>\n",
              "      <td>1</td>\n",
              "      <td>5.50</td>\n",
              "      <td>Mr. Chairman and members of the Committee, I a...</td>\n",
              "      <td>Mr. Chairman, I would like to highlight some o...</td>\n",
              "      <td>neutral</td>\n",
              "      <td>positive</td>\n",
              "      <td>positive</td>\n",
              "    </tr>\n",
              "    <tr>\n",
              "      <th>43</th>\n",
              "      <td>testimony</td>\n",
              "      <td>1996-09-18</td>\n",
              "      <td>Implications of trading losses by Sumitomo Corp.</td>\n",
              "      <td>Governor Susan M. Phillips</td>\n",
              "      <td>1283</td>\n",
              "      <td>&lt;NA&gt;</td>\n",
              "      <td>NaN</td>\n",
              "      <td>1996-09-24</td>\n",
              "      <td>0</td>\n",
              "      <td>5.25</td>\n",
              "      <td>Thank you for the opportunity to discuss the r...</td>\n",
              "      <td>Sumitomo's copper trading losses may be as lar...</td>\n",
              "      <td>neutral</td>\n",
              "      <td>positive</td>\n",
              "      <td>negative</td>\n",
              "    </tr>\n",
              "    <tr>\n",
              "      <th>14</th>\n",
              "      <td>speech</td>\n",
              "      <td>2023-10-19</td>\n",
              "      <td>Multiple Scenarios in Stress Testing</td>\n",
              "      <td>Vice Chair for Supervision Michael S. Barr</td>\n",
              "      <td>2378</td>\n",
              "      <td>&lt;NA&gt;</td>\n",
              "      <td>NaN</td>\n",
              "      <td>2023-11-01</td>\n",
              "      <td>0</td>\n",
              "      <td>5.25</td>\n",
              "      <td>The stress test as we know it today grew out o...</td>\n",
              "      <td>The Federal Reserve conducts an annual stress ...</td>\n",
              "      <td>neutral</td>\n",
              "      <td>positive</td>\n",
              "      <td>negative</td>\n",
              "    </tr>\n",
              "    <tr>\n",
              "      <th>29</th>\n",
              "      <td>speech</td>\n",
              "      <td>2023-11-16</td>\n",
              "      <td>The 2023 U.S. Treasury Market Conference</td>\n",
              "      <td>Vice Chair for Supervision Michael S. Barr</td>\n",
              "      <td>2176</td>\n",
              "      <td>&lt;NA&gt;</td>\n",
              "      <td>NaN</td>\n",
              "      <td>2023-12-13</td>\n",
              "      <td>0</td>\n",
              "      <td>5.25</td>\n",
              "      <td>The flash rally in the Treasury market in Octo...</td>\n",
              "      <td>The flash rally in the Treasury market in Octo...</td>\n",
              "      <td>neutral</td>\n",
              "      <td>neutral</td>\n",
              "      <td>positive</td>\n",
              "    </tr>\n",
              "  </tbody>\n",
              "</table>\n",
              "</div>"
            ],
            "text/plain": [
              "         type       date                                             title  \\\n",
              "12     speech 2023-10-19                                   Opening Remarks   \n",
              "51  testimony 1997-03-20                   Performance of the U.S. economy   \n",
              "43  testimony 1996-09-18  Implications of trading losses by Sumitomo Corp.   \n",
              "14     speech 2023-10-19              Multiple Scenarios in Stress Testing   \n",
              "29     speech 2023-11-16          The 2023 U.S. Treasury Market Conference   \n",
              "\n",
              "                                       speaker  word_count  decision  rate  \\\n",
              "12              Vice Chair Philip N. Jefferson         710      <NA>   NaN   \n",
              "51                              Alan Greenspan        2142      <NA>   NaN   \n",
              "43                  Governor Susan M. Phillips        1283      <NA>   NaN   \n",
              "14  Vice Chair for Supervision Michael S. Barr        2378      <NA>   NaN   \n",
              "29  Vice Chair for Supervision Michael S. Barr        2176      <NA>   NaN   \n",
              "\n",
              "   next_meeting next_decision  next_rate  \\\n",
              "12   2023-11-01             0       5.25   \n",
              "51   1997-03-25             1       5.50   \n",
              "43   1996-09-24             0       5.25   \n",
              "14   2023-11-01             0       5.25   \n",
              "29   2023-12-13             0       5.25   \n",
              "\n",
              "                                                 text  \\\n",
              "12  Our guests include academics from a number of ...   \n",
              "51  Mr. Chairman and members of the Committee, I a...   \n",
              "43  Thank you for the opportunity to discuss the r...   \n",
              "14  The stress test as we know it today grew out o...   \n",
              "29  The flash rally in the Treasury market in Octo...   \n",
              "\n",
              "                                              summary predicted_roberta  \\\n",
              "12  The U.S. Treasury market remains the largest a...           neutral   \n",
              "51  Mr. Chairman, I would like to highlight some o...           neutral   \n",
              "43  Sumitomo's copper trading losses may be as lar...           neutral   \n",
              "14  The Federal Reserve conducts an annual stress ...           neutral   \n",
              "29  The flash rally in the Treasury market in Octo...           neutral   \n",
              "\n",
              "   predicted_finbertTone predicted_finbert  \n",
              "12               neutral          positive  \n",
              "51              positive          positive  \n",
              "43              positive          negative  \n",
              "14              positive          negative  \n",
              "29               neutral          positive  "
            ]
          },
          "execution_count": 25,
          "metadata": {},
          "output_type": "execute_result"
        }
      ],
      "source": [
        "submuestra_df.tail()"
      ]
    },
    {
      "cell_type": "code",
      "execution_count": 26,
      "metadata": {},
      "outputs": [
        {
          "data": {
            "text/plain": [
              "'Thank you for the opportunity to speak to you. I would like to talk with you today about the intersection of my two roles at the Federal Reserve as the Vice Chair for Supervision at the Federal Reserve Board and as a member of the Federal Open Market Committee (FOMC).1 In particular, I\\'ll focus on the interaction of monetary policy and financial stability policy. I am squarely focused on our dual mandate to promote maximum employment and stable prices for the American people. I strongly agree with the point that Chair Powell has made often, which is that without price stability, the economy does not work for anyone. Price stability is crucial to achieving a sustained period of strong labor market conditions that benefit all. I joined the FOMC last year at a time when the headline CPI inflation was peaking at about 9 percent, and we had begun our policy response. There has been a lot of progress since tightening the stance of policy began last year. In August, the 12-month change in CPI inflation was about 3-3/4 percent. The Committee has raised the federal funds rate 5-1/4 percentage points while also reducing the Fed\\'s securities holdings by about $1 trillion. Our strong measures have ensured that inflation expectations remain well anchored. While inflation has been moderating, incoming data on economic activity have shown considerably more resilience than I had expected. We are being helped by improvements in supply. I now see a higher probability than I did previously of the U.S. economy achieving a return to price stability without the degree of job losses that have typically accompanied significant monetary policy tightening cycles. However, the historical record cautions that this outcome could be quite difficult to achieve. Of course, the labor market is tight and the data show that employment continued to expand through August, but incoming data also suggest we are making progress on bringing labor demand and supply back into better balance. Job growth has moderated while labor force participation has continued to improve. Immigration has increased, and job vacancies have moved down toward a more normal level. My baseline projection is for real GDP growth to moderate to somewhat below its potential rate over the next year as restrictive monetary policy and tighter financial conditions restrain economic activity, and I expect this below-trend growth will be associated with some further softening in the labor market. As we watch how conditions evolve, I remain highly attuned to risks to achieving both components of our mandate. There is a robust debate about the lags of monetary policy transmission; how long it takes for past tightening to come into full effect. While these lags are difficult to estimate, I expect that the full effects of past tightening are yet to come in the months ahead. I strongly agree with what Chair Powell has said about where we are in the tightening cycle. Given how far we have come, we are now at a point where we can proceed carefully as we determine the extent of monetary policy restriction that is needed. In my view, the most important question at this point is not whether an additional rate increase is needed this year or not, but rather how long we will need to hold rates at a sufficiently restrictive level to achieve our goals. I expect it will take some time. I will continue to evaluate a range of incoming data as I make my assessments at upcoming meetings. As a part of this, I continue to track the cost and availability of credit to the economy, as I will discuss later in these remarks. Monetary Policy and Financial StabilityNow let me turn to my focus today, which is the interaction of monetary policy and financial stability. Monetary policy affects the cost and quantity of credit in the economy, usually in a broad-based and gradual fashion. Financial instability, however, can affect the cost and quantity of credit in an acute and abrupt fashion. Both forces have an effect on economic activity, as the flow of credit to businesses and households is crucial for spending, hiring, and production, underpinning economic growth. Financial stability was a key motivation for the creation of the Federal Reserve System in 1913.2 Although the term \"financial stability\" wasn\\'t in the vernacular at the time, the Fed was established in part to provide \"an elastic currency\"â\\x80\\x94a major concern in an era when periodic strains in the banking sector resulted in currency hoarding and widespread bank runs and failures, causing severe harm to our economy. For much of our subsequent history, however, the Federal Reserve tended to consider financial stability and monetary policy separately.3 That perspective changed considerably in the years after the Global Financial Crisis, which had many implications for how we think about financial stability and the role of the Federal Reserve. The Dodd-Frank Act was pivotal in reducing financial-sector vulnerabilities that contributed to the crisis, as were attendant reforms to capital and liquidity rules that strengthened the resiliency of the banking system. Financial Stability Considerations in a Low-Rate Environment After the Global Financial Crisis, the Federal Reserve kept interest rates low for years to revive a badly damaged economy. Researchers, market participants, and policymakers took note of the potential for very low interest rates to encourage investors to \"reach for yield\"â\\x80\\x94that is, to take increased risk in pursuing higher returns on their investments. This behavior can include taking on increased interest rate, credit, and liquidity risk. In some ways, investor reach for yield is an indication that monetary policy is helping stimulate economic activity. Lowering borrowing costs increases the expected return on any investment that is financed. This means that lower rates result in more investments or projects getting the green light. As a result, more people get jobs as economic activity increases. But in that environment of record low interest rates, and with the ravages of the financial crisis a fresh memory, people rightly wondered whether the incentive to reach for yield would drive excessive risk-taking, leading to a buildup in vulnerabilities that could ultimately threaten the stability of the financial system and the economy. Were those risks so considerable that financial stability concerns should be taken into consideration in making monetary policy decisions?4 At the same time, some risks were moving outside the banking system, leading some to worry that measures to build resilience at banks would miss these risks. Indeed, as then-Governor Jeremy Stein famously pointed out, monetary policy \"gets in all the cracks\" and therefore could push back against excessive risk-taking, not only in banks, but across the financial system.5 Despite these concerns, financial stability risks were contained until the pandemic. Financial Stability Consideration of Moving from Low Rates to Rising Rates The pandemic resulted in an unprecedented mismatch between demand and supply, both here and abroad, and these forces were the initial impetus for high inflation. The shift from an environment of generally low and slowly adjusting rates to the rapid and near-simultaneous tightening of monetary policy around the world that began last year set the stage for additional stresses in the financial system. For example, in the United Kingdom, an initial jump in the yields on longer-maturity government bonds was amplified by distress at liability-driven investment funds. These funds had become popular with many pension funds during the low-rate period and faced a liquidity squeeze, as they had to rapidly post collateral to cover derivatives losses. This led to widespread disruptions in the gilt market last fall, requiring the Bank of England to undertake a temporary and targeted program of purchases of long-dated government bonds.6 Here in the United States, starting in 2022, the FOMC began a period of rapid and substantial increases in the federal funds target range to combat inflation that was much too high. While most banks were well positioned to handle rate increases, higher interest rates had a severe effect on the balance sheets of banks that had not managed their interest rate risk appropriately. This mismanagement came into acute focus when Silicon Valley Bank (SVB) announced it had realized a large loss from the sale of securities that had declined in value and that it intended to raise capital to fill that hole. Uninsured depositors abruptly ran on the bankâ\\x80\\x94with actual and planned flight totaling roughly 85 percent of its deposits within 24 hoursâ\\x80\\x94and it failed instantly. SVB\\'s failure caused widespread contagion that led quickly to the failure of Signature Bank and eventually to the failure of First Republic Bank, and it posed acute stress on other banks. The stress only abated after invocation of the systemic risk exception that permitted the Federal Deposit Insurance Corporation to protect all depositors (including uninsured depositors) of the failed banks and the creation of the Bank Term Funding Program (BTFP) using the Fed\\'s emergency lending authorities. The BTFP allowed banks to get access to Fed liquidity based on the par value of their high-quality securities at fixed rates for up to a year. This response helped calm conditions in the banking sector. Deposit flows returned to normal, and the prospect of a widespread and acute bank credit contraction receded. Such a contraction could well have harmed the economy and even triggered a recession. Indeed, one recent study looked at data for 46 countries over 150 years and found that episodes of bank stress are frequently followed by significant drops in bank lending and economic activity that persist for many years.7 Despite the effectiveness of our response to the March stress events, the question again arose whether monetary policy goals were in conflict with financial stability. Given these historical experiences, I think it is particularly important that we watch closely how both monetary policy and the effects of the March banking stress are affecting bank behavior and the provision of credit to the economy. Recent data are consistent with pressures on banks easing relative to March. Nevertheless, although deposit volatility has abated, some banks have had to turn to higher-cost funding sources to make up for lost deposits. And core loan growth appears to be relatively stagnant in banks of all sizes. While low loan growth can be explained in part by weaker demand for loans in response to higher costs of credit, it is also driven in part by banks tightening their standards, as they reported they were doing in the past several releases of the Senior Loan Officer Opinion Survey on Bank Lending Practices.8 As we continue to track developments, we are also continuing to learn from this episode. As I have discussed in other remarks, as well as in congressional testimony, we are using lessons learned from the March episode to consider how we can both enhance our supervision and adjust our regulations as appropriate to address risks at the institutions over which we have supervisory and regulatory authority. A stable financial system is a necessary condition for sustainably achieving the FOMC\\'s monetary policy goals of maximum employment and stable prices. It is critical that banks have enough capital to remain resilient to those stresses. The safety and soundness of the banking sector is paramount in achieving both our monetary policy and financial stability goals. Everyone in America depends on a safe and stable financial system that channels credit to businesses so they can grow and hire workers, and to households so they can deal with the ups and downs in the economy and invest in the future. Of course, major portions of the financial sector are not subject to federal prudential regulation. As I noted in a speech on bank capital earlier this year, we also need to worry about how risk outside the banking sector can threaten financial stability, as stress in broader financial markets is often transmitted to the banking system.9 So we need to take a broad view of financial stability. Perspectives from the Literature and the Policy Debate Recent experience lines up with academic research. I see three basic findings.10 First, when financial intermediaries, such as banks, play the important role of channeling funds from savers to borrowers, they frequently do so through various forms of maturity and credit transformation. This transformation results in the creation of risk on their balance sheets. Issuing short-term, liquid liabilities (including uninsured deposits) to fund longer-term, less liquid assets is one example of maturity transformation. These assets, such as loans, can have a credit risk component as well. These types of activities are key aspects of how the financial system supports the economy. But they can also lead to a buildup of financial vulnerabilities. And, of course, banks also engage in trading activities with their own set of exposures to market risk, a concern for regulation and supervision. While there is some agreement among researchers about how monetary policy can affect the accumulation of financial vulnerabilities, there is more debate about whether monetary policy decisionmaking should be affected by concerns about financial stability. One view is that there is often a discernable tradeoff between the objectives of monetary policy and financial stability, and that monetary policy decisions should consider the consequences for the stability of the financial system.11 Another view is that there should be a strict separation of monetary policy and financial stability policy. According to this perspective, these goals are often complementary, particularly over the longer run, and even in cases when they do clash, the conflicts are short lived and better dealt with through specific and separate sets of tools. For example, Ben Bernanke, Don Kohn, and Lars Svensson, among others, have argued that the likely costs of using monetary policy to address financial stability risks outweigh the benefits.12 My view is somewhere in the middle of these two perspectives. Let me explain what I mean. Monetary policy is a blunt tool, affecting every individual, investor, and business. In contrast, financial stability threats can emerge from discrete parts of the financial system. Correctly calibrating monetary policy to target a financial vulnerability specific to one part of the financial system is likely not possible. Moreover, a monetary policy response, even to a broad-based search for yield, might require an increase in rates so large that it causes broad-based economic harm.13 In addition, if a segment of the financial system comes under stress but does not affect broader credit conditions, easing funding costs to the entire economy through monetary policy may not be appropriate. Targeted supervisory and regulatory action is often more effective. If financial stress is so large that it causes a macroeconomic downturn, then monetary policy and financial stability policy are well aligned, and the objective function can be clearly defined as restoring economic growth. Therefore, monetary policymakers are generally best served by focusing squarely on their macroeconomic objectives. That said, policymakers need to be cognizant of what is happening in the financial system and of any accumulation of financial stability risks, as these risks can be a threat to achieving the dual mandate. As the first line of defense, where we have authority, supervision and regulation are best positioned to address vulnerabilities in the financial system as they emerge. If these tools are properly deployed, these actions may be sufficient. But sometimes they won\\'t be. Turning back to the SVB example, the bank failed because of a textbook case of mismanagement, particularly of interest rate and liquidity risk.14 The result was that the firm\\'s collapse created financial stability risks that required emergency intervention. Monetary policy cannot be indifferent to financial stability risks. When financial stability events materialize, they can significantly affect both the price and quantity of credit to the economy. At that point, financial stability problems become a monetary policy concern, as they can adversely affect the flow of credit to households and businesses as well as depress economic activity. As I mentioned earlier, in its deliberations about monetary policy, the FOMC considers how credit conditions are affecting the economy. We receive regular briefings on financial stability risks, briefings that I find hugely valuable. But we also need to be conscious of the inherent limits in our ability to foresee how the financial system will respond to shocks given its complexity and evolving nature. Our ability to address financial stability risks has been greatly improved by the reforms of the Dodd-Frank Act and enhanced bank capital and liquidity requirements. But we can expect that the economy remains vulnerable to unanticipated shocks that affect both financial stability and economic growth. While continuing to bolster the resilience of the financial sector where we have authority to do so, we must also continue to monitor how emerging financial-sector risks may threaten the broader economy. Concluding Thoughts on Federal Reserve Liquidity Provision I would like to wrap up my thoughts today by discussing one of the Federal Reserve\\'s oldest tools of both monetary policy and financial stability: the discount window. I will again harken back to our founding and note that providing backstop liquidity to banks is one of the original purposes of the Federal Reserve System.15 Today, the discount window plays an important role. Currently, the primary credit rate, which is the rate available to banks in generally sound financial condition, is set at the top of the target range for the federal funds rate. In this way, this tool, as well as the standing repo facility, which also has a rate currently set at the top of the target range, can help keep the federal funds rate within the target range established by the FOMC if pressures arise in short-term funding markets.16 For the discount window to support rate control, however, banks need to be willing and prepared to use it when other means of supporting their funding and liquidityâ\\x80\\x94such as tapping the federal funds marketâ\\x80\\x94are more expensive. I have been working to ensure that eligible institutions know that supervisors expect them to be ready and willing to use the discount window. We recently published a joint-agency message on the importance of readiness to tap contingency funding sources, including the discount window.17 Readiness to use the discount window is also crucial when it comes to financial stability. When the system is hit with a shock that results in widespread stress, funding markets are often unable to effectively distribute liquidity. In these cases, the discount window can be particularly important both to the institutions that need liquidity and to the Federal Reserve\\'s efforts to stop dysfunction from spreading and restore stability, but, again, only if banks do the work ahead of time and are ready and able to use it. As we saw in March, many banks found that having more than one option at the ready to monetize assets was important. Other sources of funds to banks, even the Federal Home Loan Banks, are dependent on private-sector financial market functioning to provide liquidity to their customers. When the market isn\\'t working, such sources of funding and liquidity come under strain.18 In conclusion, monetary policy needs to be cognizant of the risks that financial stress can lead to abrupt changes in the price and quantity of credit, and thus can cause significant harm to the real economy. At the same time, focusing monetary policy decisions on macroeconomic objectives and using other tools for financial stability is likely the most prudent path. Even as we address the lessons from past financial stress, the Federal Reserve must be vigilant about potential risks to financial stability that may lie ahead. Financial institutions need to have an array of both public and private contingent funding sources immediately available to weather a variety of conditions.'"
            ]
          },
          "execution_count": 26,
          "metadata": {},
          "output_type": "execute_result"
        }
      ],
      "source": [
        "submuestra_df['text'][0]"
      ]
    },
    {
      "cell_type": "markdown",
      "metadata": {
        "id": "vWVLyYeRWklM"
      },
      "source": [
        "## Model evaluation"
      ]
    },
    {
      "cell_type": "code",
      "execution_count": 27,
      "metadata": {
        "id": "Yu7olktNWoK3"
      },
      "outputs": [],
      "source": [
        "def evaluate_model_accuracy(model_name, y_pred):\n",
        "    accuracy = accuracy_score(y, y_pred)\n",
        "    print(f'Model: {model_name} - Accuracy-Score: {accuracy:.4f}')"
      ]
    },
    {
      "cell_type": "code",
      "execution_count": 30,
      "metadata": {
        "id": "RzJkRYlOWp_B"
      },
      "outputs": [
        {
          "name": "stdout",
          "output_type": "stream",
          "text": [
            "Model: ProsusAI/finbert - Accuracy-Score: 0.0977\n",
            "Model: cardiffnlp/twitter-roberta-base-sentiment - Accuracy-Score: 0.8908\n",
            "Model: yiyanghkust/finbert-tone - Accuracy-Score: 0.0517\n"
          ]
        }
      ],
      "source": [
        "evaluate_model_accuracy('ProsusAI/finbert', preds)\n",
        "evaluate_model_accuracy('cardiffnlp/twitter-roberta-base-sentiment', preds_roberta)\n",
        "evaluate_model_accuracy('yiyanghkust/finbert-tone', submuestra_df.predicted_finbertTone)"
      ]
    },
    {
      "cell_type": "code",
      "execution_count": 31,
      "metadata": {
        "id": "2I0vireUWve4"
      },
      "outputs": [
        {
          "name": "stdout",
          "output_type": "stream",
          "text": [
            "              precision    recall  f1-score   support\n",
            "\n",
            "    negative       0.02      0.02      0.02        58\n",
            "     neutral       0.02      0.02      0.02        58\n",
            "    positive       0.20      0.26      0.23        58\n",
            "\n",
            "    accuracy                           0.10       174\n",
            "   macro avg       0.08      0.10      0.09       174\n",
            "weighted avg       0.08      0.10      0.09       174\n",
            "\n",
            "              precision    recall  f1-score   support\n",
            "\n",
            "    negative       0.98      0.86      0.92        58\n",
            "     neutral       0.80      0.95      0.87        58\n",
            "    positive       0.93      0.86      0.89        58\n",
            "\n",
            "    accuracy                           0.89       174\n",
            "   macro avg       0.90      0.89      0.89       174\n",
            "weighted avg       0.90      0.89      0.89       174\n",
            "\n",
            "              precision    recall  f1-score   support\n",
            "\n",
            "    negative       0.03      0.03      0.03        58\n",
            "     neutral       0.08      0.09      0.08        58\n",
            "    positive       0.04      0.03      0.04        58\n",
            "\n",
            "    accuracy                           0.05       174\n",
            "   macro avg       0.05      0.05      0.05       174\n",
            "weighted avg       0.05      0.05      0.05       174\n",
            "\n"
          ]
        }
      ],
      "source": [
        "print(classification_report(y,preds))\n",
        "print(classification_report(y,preds_roberta))\n",
        "print(classification_report(y,submuestra_df.predicted_finbertTone))"
      ]
    },
    {
      "cell_type": "code",
      "execution_count": null,
      "metadata": {},
      "outputs": [],
      "source": []
    },
    {
      "cell_type": "code",
      "execution_count": 32,
      "metadata": {
        "id": "NRg07ZAqWxmk"
      },
      "outputs": [
        {
          "data": {
            "image/png": "[encoded data removed]",
            "text/plain": [
              "<Figure size 1000x700 with 2 Axes>"
            ]
          },
          "metadata": {},
          "output_type": "display_data"
        }
      ],
      "source": [
        "cm = confusion_matrix(y, preds_roberta)\n",
        "\n",
        "plt.figure(figsize=(10, 7))\n",
        "sns.heatmap(cm, annot=True, fmt='g')\n",
        "plt.title('Confusion Matrix')\n",
        "plt.xlabel('Predicted labels')\n",
        "plt.ylabel('True labels')\n",
        "plt.show()"
      ]
    },
    {
      "cell_type": "code",
      "execution_count": 33,
      "metadata": {},
      "outputs": [
        {
          "data": {
            "image/png": "[encoded data removed]",
            "text/plain": [
              "<Figure size 1000x700 with 2 Axes>"
            ]
          },
          "metadata": {},
          "output_type": "display_data"
        }
      ],
      "source": [
        "cm = confusion_matrix(y, preds)\n",
        "\n",
        "plt.figure(figsize=(10, 7))\n",
        "sns.heatmap(cm, annot=True, fmt='g')\n",
        "plt.title('Confusion Matrix')\n",
        "plt.xlabel('Predicted labels')\n",
        "plt.ylabel('True labels')\n",
        "plt.show()"
      ]
    },
    {
      "cell_type": "code",
      "execution_count": 34,
      "metadata": {},
      "outputs": [
        {
          "data": {
            "image/png": "[encoded data removed]",
            "text/plain": [
              "<Figure size 1000x700 with 2 Axes>"
            ]
          },
          "metadata": {},
          "output_type": "display_data"
        }
      ],
      "source": [
        "cm = confusion_matrix(y, submuestra_df.predicted_finbertTone)\n",
        "\n",
        "plt.figure(figsize=(10, 7))\n",
        "sns.heatmap(cm, annot=True, fmt='g')\n",
        "plt.title('Confusion Matrix')\n",
        "plt.xlabel('Predicted labels')\n",
        "plt.ylabel('True labels')\n",
        "plt.show()"
      ]
    }
  ],
  "metadata": {
    "accelerator": "GPU",
    "colab": {
      "provenance": []
    },
    "kernelspec": {
      "display_name": "Python 3",
      "language": "python",
      "name": "python3"
    },
    "language_info": {
      "codemirror_mode": {
        "name": "ipython",
        "version": 3
      },
      "file_extension": ".py",
      "mimetype": "text/x-python",
      "name": "python",
      "nbconvert_exporter": "python",
      "pygments_lexer": "ipython3",
      "version": "3.10.11"
    },
    "widgets": {
      "application/vnd.jupyter.widget-state+json": {
        "001e32f39f6349809cdcd082e0de3c72": {
          "model_module": "@jupyter-widgets/controls",
          "model_module_version": "1.5.0",
          "model_name": "HTMLModel",
          "state": {
            "_dom_classes": [],
            "_model_module": "@jupyter-widgets/controls",
            "_model_module_version": "1.5.0",
            "_model_name": "HTMLModel",
            "_view_count": null,
            "_view_module": "@jupyter-widgets/controls",
            "_view_module_version": "1.5.0",
            "_view_name": "HTMLView",
            "description": "",
            "description_tooltip": null,
            "layout": "IPY_MODEL_cce91debbb87418995bdfa8d943d99f0",
            "placeholder": "​",
            "style": "IPY_MODEL_dab2758399d64eaab41f9df1cb5972bd",
            "value": "100%"
          }
        },
        "01b07f4f6cd448a3b671154b698255a4": {
          "model_module": "@jupyter-widgets/controls",
          "model_module_version": "1.5.0",
          "model_name": "DescriptionStyleModel",
          "state": {
            "_model_module": "@jupyter-widgets/controls",
            "_model_module_version": "1.5.0",
            "_model_name": "DescriptionStyleModel",
            "_view_count": null,
            "_view_module": "@jupyter-widgets/base",
            "_view_module_version": "1.2.0",
            "_view_name": "StyleView",
            "description_width": ""
          }
        },
        "04d6c00bd1604ab7bfd75786e80cf732": {
          "model_module": "@jupyter-widgets/controls",
          "model_module_version": "1.5.0",
          "model_name": "ProgressStyleModel",
          "state": {
            "_model_module": "@jupyter-widgets/controls",
            "_model_module_version": "1.5.0",
            "_model_name": "ProgressStyleModel",
            "_view_count": null,
            "_view_module": "@jupyter-widgets/base",
            "_view_module_version": "1.2.0",
            "_view_name": "StyleView",
            "bar_color": null,
            "description_width": ""
          }
        },
        "07128ab681ce4623a913cd4f4c725303": {
          "model_module": "@jupyter-widgets/controls",
          "model_module_version": "1.5.0",
          "model_name": "FloatProgressModel",
          "state": {
            "_dom_classes": [],
            "_model_module": "@jupyter-widgets/controls",
            "_model_module_version": "1.5.0",
            "_model_name": "FloatProgressModel",
            "_view_count": null,
            "_view_module": "@jupyter-widgets/controls",
            "_view_module_version": "1.5.0",
            "_view_name": "ProgressView",
            "bar_style": "success",
            "description": "",
            "description_tooltip": null,
            "layout": "IPY_MODEL_25114fd15eb04827865bf9c71aa6ac4a",
            "max": 4597,
            "min": 0,
            "orientation": "horizontal",
            "style": "IPY_MODEL_52d3bfdc6c9e48be8e215d44a7de8a90",
            "value": 4597
          }
        },
        "082f645b31bc40d0a3dcf67b61059fb0": {
          "model_module": "@jupyter-widgets/controls",
          "model_module_version": "1.5.0",
          "model_name": "HTMLModel",
          "state": {
            "_dom_classes": [],
            "_model_module": "@jupyter-widgets/controls",
            "_model_module_version": "1.5.0",
            "_model_name": "HTMLModel",
            "_view_count": null,
            "_view_module": "@jupyter-widgets/controls",
            "_view_module_version": "1.5.0",
            "_view_name": "HTMLView",
            "description": "",
            "description_tooltip": null,
            "layout": "IPY_MODEL_b5f3eda2ecaf46e9ac55abbc2bbc14fe",
            "placeholder": "​",
            "style": "IPY_MODEL_7cbf4b07bf8b41e19fba653180871723",
            "value": "100%"
          }
        },
        "08c7350eba0b48ba8cb74fe78a0f6645": {
          "model_module": "@jupyter-widgets/base",
          "model_module_version": "1.2.0",
          "model_name": "LayoutModel",
          "state": {
            "_model_module": "@jupyter-widgets/base",
            "_model_module_version": "1.2.0",
            "_model_name": "LayoutModel",
            "_view_count": null,
            "_view_module": "@jupyter-widgets/base",
            "_view_module_version": "1.2.0",
            "_view_name": "LayoutView",
            "align_content": null,
            "align_items": null,
            "align_self": null,
            "border": null,
            "bottom": null,
            "display": null,
            "flex": null,
            "flex_flow": null,
            "grid_area": null,
            "grid_auto_columns": null,
            "grid_auto_flow": null,
            "grid_auto_rows": null,
            "grid_column": null,
            "grid_gap": null,
            "grid_row": null,
            "grid_template_areas": null,
            "grid_template_columns": null,
            "grid_template_rows": null,
            "height": null,
            "justify_content": null,
            "justify_items": null,
            "left": null,
            "margin": null,
            "max_height": null,
            "max_width": null,
            "min_height": null,
            "min_width": null,
            "object_fit": null,
            "object_position": null,
            "order": null,
            "overflow": null,
            "overflow_x": null,
            "overflow_y": null,
            "padding": null,
            "right": null,
            "top": null,
            "visibility": null,
            "width": null
          }
        },
        "0c3a2760fcdd4655a1565992b8158613": {
          "model_module": "@jupyter-widgets/controls",
          "model_module_version": "1.5.0",
          "model_name": "HTMLModel",
          "state": {
            "_dom_classes": [],
            "_model_module": "@jupyter-widgets/controls",
            "_model_module_version": "1.5.0",
            "_model_name": "HTMLModel",
            "_view_count": null,
            "_view_module": "@jupyter-widgets/controls",
            "_view_module_version": "1.5.0",
            "_view_name": "HTMLView",
            "description": "",
            "description_tooltip": null,
            "layout": "IPY_MODEL_8f6d53168d6a41418f6a7568d2c09d7c",
            "placeholder": "​",
            "style": "IPY_MODEL_2d2a2191a97b41daba7555a529dacda3",
            "value": " 15598/15598 [45:43&lt;00:00,  5.68it/s]"
          }
        },
        "0e4ff8c74082429ab44559bdc85657ab": {
          "model_module": "@jupyter-widgets/controls",
          "model_module_version": "1.5.0",
          "model_name": "DescriptionStyleModel",
          "state": {
            "_model_module": "@jupyter-widgets/controls",
            "_model_module_version": "1.5.0",
            "_model_name": "DescriptionStyleModel",
            "_view_count": null,
            "_view_module": "@jupyter-widgets/base",
            "_view_module_version": "1.2.0",
            "_view_name": "StyleView",
            "description_width": ""
          }
        },
        "11f1e03ebcc14cb994542f84d477ebb3": {
          "model_module": "@jupyter-widgets/base",
          "model_module_version": "1.2.0",
          "model_name": "LayoutModel",
          "state": {
            "_model_module": "@jupyter-widgets/base",
            "_model_module_version": "1.2.0",
            "_model_name": "LayoutModel",
            "_view_count": null,
            "_view_module": "@jupyter-widgets/base",
            "_view_module_version": "1.2.0",
            "_view_name": "LayoutView",
            "align_content": null,
            "align_items": null,
            "align_self": null,
            "border": null,
            "bottom": null,
            "display": null,
            "flex": null,
            "flex_flow": null,
            "grid_area": null,
            "grid_auto_columns": null,
            "grid_auto_flow": null,
            "grid_auto_rows": null,
            "grid_column": null,
            "grid_gap": null,
            "grid_row": null,
            "grid_template_areas": null,
            "grid_template_columns": null,
            "grid_template_rows": null,
            "height": null,
            "justify_content": null,
            "justify_items": null,
            "left": null,
            "margin": null,
            "max_height": null,
            "max_width": null,
            "min_height": null,
            "min_width": null,
            "object_fit": null,
            "object_position": null,
            "order": null,
            "overflow": null,
            "overflow_x": null,
            "overflow_y": null,
            "padding": null,
            "right": null,
            "top": null,
            "visibility": null,
            "width": null
          }
        },
        "131ad472eea0443c900a1371e7674398": {
          "model_module": "@jupyter-widgets/controls",
          "model_module_version": "1.5.0",
          "model_name": "DescriptionStyleModel",
          "state": {
            "_model_module": "@jupyter-widgets/controls",
            "_model_module_version": "1.5.0",
            "_model_name": "DescriptionStyleModel",
            "_view_count": null,
            "_view_module": "@jupyter-widgets/base",
            "_view_module_version": "1.2.0",
            "_view_name": "StyleView",
            "description_width": ""
          }
        },
        "1978891bb41c4e0c895c74601e4fbce4": {
          "model_module": "@jupyter-widgets/controls",
          "model_module_version": "1.5.0",
          "model_name": "FloatProgressModel",
          "state": {
            "_dom_classes": [],
            "_model_module": "@jupyter-widgets/controls",
            "_model_module_version": "1.5.0",
            "_model_name": "FloatProgressModel",
            "_view_count": null,
            "_view_module": "@jupyter-widgets/controls",
            "_view_module_version": "1.5.0",
            "_view_name": "ProgressView",
            "bar_style": "success",
            "description": "",
            "description_tooltip": null,
            "layout": "IPY_MODEL_2224d9302e35462baa4aa73afa5c8067",
            "max": 231508,
            "min": 0,
            "orientation": "horizontal",
            "style": "IPY_MODEL_04d6c00bd1604ab7bfd75786e80cf732",
            "value": 231508
          }
        },
        "1def12a914a9409f88076965bb87c4a0": {
          "model_module": "@jupyter-widgets/controls",
          "model_module_version": "1.5.0",
          "model_name": "FloatProgressModel",
          "state": {
            "_dom_classes": [],
            "_model_module": "@jupyter-widgets/controls",
            "_model_module_version": "1.5.0",
            "_model_name": "FloatProgressModel",
            "_view_count": null,
            "_view_module": "@jupyter-widgets/controls",
            "_view_module_version": "1.5.0",
            "_view_name": "ProgressView",
            "bar_style": "success",
            "description": "",
            "description_tooltip": null,
            "layout": "IPY_MODEL_a1749a66ce4d4800927241d1f0563ed4",
            "max": 12835,
            "min": 0,
            "orientation": "horizontal",
            "style": "IPY_MODEL_479691ec7926436da0e3a8b7f8d98ac5",
            "value": 12835
          }
        },
        "1e870fe3fe4e48b9918465a4dcf87be2": {
          "model_module": "@jupyter-widgets/base",
          "model_module_version": "1.2.0",
          "model_name": "LayoutModel",
          "state": {
            "_model_module": "@jupyter-widgets/base",
            "_model_module_version": "1.2.0",
            "_model_name": "LayoutModel",
            "_view_count": null,
            "_view_module": "@jupyter-widgets/base",
            "_view_module_version": "1.2.0",
            "_view_name": "LayoutView",
            "align_content": null,
            "align_items": null,
            "align_self": null,
            "border": null,
            "bottom": null,
            "display": null,
            "flex": null,
            "flex_flow": null,
            "grid_area": null,
            "grid_auto_columns": null,
            "grid_auto_flow": null,
            "grid_auto_rows": null,
            "grid_column": null,
            "grid_gap": null,
            "grid_row": null,
            "grid_template_areas": null,
            "grid_template_columns": null,
            "grid_template_rows": null,
            "height": null,
            "justify_content": null,
            "justify_items": null,
            "left": null,
            "margin": null,
            "max_height": null,
            "max_width": null,
            "min_height": null,
            "min_width": null,
            "object_fit": null,
            "object_position": null,
            "order": null,
            "overflow": null,
            "overflow_x": null,
            "overflow_y": null,
            "padding": null,
            "right": null,
            "top": null,
            "visibility": null,
            "width": null
          }
        },
        "208d968a213e4e829cec9a2a0e469ee6": {
          "model_module": "@jupyter-widgets/controls",
          "model_module_version": "1.5.0",
          "model_name": "FloatProgressModel",
          "state": {
            "_dom_classes": [],
            "_model_module": "@jupyter-widgets/controls",
            "_model_module_version": "1.5.0",
            "_model_name": "FloatProgressModel",
            "_view_count": null,
            "_view_module": "@jupyter-widgets/controls",
            "_view_module_version": "1.5.0",
            "_view_name": "ProgressView",
            "bar_style": "success",
            "description": "",
            "description_tooltip": null,
            "layout": "IPY_MODEL_3c9e21a611e24375a68a0c60a337e2ab",
            "max": 9852,
            "min": 0,
            "orientation": "horizontal",
            "style": "IPY_MODEL_4094de9e516b4598b70d0ac0f4285b6d",
            "value": 9852
          }
        },
        "2224d9302e35462baa4aa73afa5c8067": {
          "model_module": "@jupyter-widgets/base",
          "model_module_version": "1.2.0",
          "model_name": "LayoutModel",
          "state": {
            "_model_module": "@jupyter-widgets/base",
            "_model_module_version": "1.2.0",
            "_model_name": "LayoutModel",
            "_view_count": null,
            "_view_module": "@jupyter-widgets/base",
            "_view_module_version": "1.2.0",
            "_view_name": "LayoutView",
            "align_content": null,
            "align_items": null,
            "align_self": null,
            "border": null,
            "bottom": null,
            "display": null,
            "flex": null,
            "flex_flow": null,
            "grid_area": null,
            "grid_auto_columns": null,
            "grid_auto_flow": null,
            "grid_auto_rows": null,
            "grid_column": null,
            "grid_gap": null,
            "grid_row": null,
            "grid_template_areas": null,
            "grid_template_columns": null,
            "grid_template_rows": null,
            "height": null,
            "justify_content": null,
            "justify_items": null,
            "left": null,
            "margin": null,
            "max_height": null,
            "max_width": null,
            "min_height": null,
            "min_width": null,
            "object_fit": null,
            "object_position": null,
            "order": null,
            "overflow": null,
            "overflow_x": null,
            "overflow_y": null,
            "padding": null,
            "right": null,
            "top": null,
            "visibility": null,
            "width": null
          }
        },
        "25114fd15eb04827865bf9c71aa6ac4a": {
          "model_module": "@jupyter-widgets/base",
          "model_module_version": "1.2.0",
          "model_name": "LayoutModel",
          "state": {
            "_model_module": "@jupyter-widgets/base",
            "_model_module_version": "1.2.0",
            "_model_name": "LayoutModel",
            "_view_count": null,
            "_view_module": "@jupyter-widgets/base",
            "_view_module_version": "1.2.0",
            "_view_name": "LayoutView",
            "align_content": null,
            "align_items": null,
            "align_self": null,
            "border": null,
            "bottom": null,
            "display": null,
            "flex": null,
            "flex_flow": null,
            "grid_area": null,
            "grid_auto_columns": null,
            "grid_auto_flow": null,
            "grid_auto_rows": null,
            "grid_column": null,
            "grid_gap": null,
            "grid_row": null,
            "grid_template_areas": null,
            "grid_template_columns": null,
            "grid_template_rows": null,
            "height": null,
            "justify_content": null,
            "justify_items": null,
            "left": null,
            "margin": null,
            "max_height": null,
            "max_width": null,
            "min_height": null,
            "min_width": null,
            "object_fit": null,
            "object_position": null,
            "order": null,
            "overflow": null,
            "overflow_x": null,
            "overflow_y": null,
            "padding": null,
            "right": null,
            "top": null,
            "visibility": null,
            "width": null
          }
        },
        "2525339dd7d34bf782e63f38fb30f973": {
          "model_module": "@jupyter-widgets/base",
          "model_module_version": "1.2.0",
          "model_name": "LayoutModel",
          "state": {
            "_model_module": "@jupyter-widgets/base",
            "_model_module_version": "1.2.0",
            "_model_name": "LayoutModel",
            "_view_count": null,
            "_view_module": "@jupyter-widgets/base",
            "_view_module_version": "1.2.0",
            "_view_name": "LayoutView",
            "align_content": null,
            "align_items": null,
            "align_self": null,
            "border": null,
            "bottom": null,
            "display": null,
            "flex": null,
            "flex_flow": null,
            "grid_area": null,
            "grid_auto_columns": null,
            "grid_auto_flow": null,
            "grid_auto_rows": null,
            "grid_column": null,
            "grid_gap": null,
            "grid_row": null,
            "grid_template_areas": null,
            "grid_template_columns": null,
            "grid_template_rows": null,
            "height": null,
            "justify_content": null,
            "justify_items": null,
            "left": null,
            "margin": null,
            "max_height": null,
            "max_width": null,
            "min_height": null,
            "min_width": null,
            "object_fit": null,
            "object_position": null,
            "order": null,
            "overflow": null,
            "overflow_x": null,
            "overflow_y": null,
            "padding": null,
            "right": null,
            "top": null,
            "visibility": null,
            "width": null
          }
        },
        "25e95d4ad6424e238224fc7301c545ec": {
          "model_module": "@jupyter-widgets/controls",
          "model_module_version": "1.5.0",
          "model_name": "FloatProgressModel",
          "state": {
            "_dom_classes": [],
            "_model_module": "@jupyter-widgets/controls",
            "_model_module_version": "1.5.0",
            "_model_name": "FloatProgressModel",
            "_view_count": null,
            "_view_module": "@jupyter-widgets/controls",
            "_view_module_version": "1.5.0",
            "_view_name": "ProgressView",
            "bar_style": "",
            "description": "",
            "description_tooltip": null,
            "layout": "IPY_MODEL_4b95fdddf8c04bb3a0bc4a3eb35e8a25",
            "max": 369718,
            "min": 0,
            "orientation": "horizontal",
            "style": "IPY_MODEL_c9f1d9a84b0f4743bc1ebc7fb66d3b8b",
            "value": 41880
          }
        },
        "299907ea7b5d4d078fe71c29f36c5524": {
          "model_module": "@jupyter-widgets/controls",
          "model_module_version": "1.5.0",
          "model_name": "HTMLModel",
          "state": {
            "_dom_classes": [],
            "_model_module": "@jupyter-widgets/controls",
            "_model_module_version": "1.5.0",
            "_model_name": "HTMLModel",
            "_view_count": null,
            "_view_module": "@jupyter-widgets/controls",
            "_view_module_version": "1.5.0",
            "_view_name": "HTMLView",
            "description": "",
            "description_tooltip": null,
            "layout": "IPY_MODEL_d79e99795f5d4ae18834a58b38e03a77",
            "placeholder": "​",
            "style": "IPY_MODEL_41ddbf4f8c8046d5b51fed8264f535a4",
            "value": " 44236/44236 [3:03:01&lt;00:00,  4.03it/s]"
          }
        },
        "2acb969c41c84a209b0194f9eaf57ac1": {
          "model_module": "@jupyter-widgets/controls",
          "model_module_version": "1.5.0",
          "model_name": "ProgressStyleModel",
          "state": {
            "_model_module": "@jupyter-widgets/controls",
            "_model_module_version": "1.5.0",
            "_model_name": "ProgressStyleModel",
            "_view_count": null,
            "_view_module": "@jupyter-widgets/base",
            "_view_module_version": "1.2.0",
            "_view_name": "StyleView",
            "bar_color": null,
            "description_width": ""
          }
        },
        "2af64e5ce1e44575b7128de5df65ebe4": {
          "model_module": "@jupyter-widgets/base",
          "model_module_version": "1.2.0",
          "model_name": "LayoutModel",
          "state": {
            "_model_module": "@jupyter-widgets/base",
            "_model_module_version": "1.2.0",
            "_model_name": "LayoutModel",
            "_view_count": null,
            "_view_module": "@jupyter-widgets/base",
            "_view_module_version": "1.2.0",
            "_view_name": "LayoutView",
            "align_content": null,
            "align_items": null,
            "align_self": null,
            "border": null,
            "bottom": null,
            "display": null,
            "flex": null,
            "flex_flow": null,
            "grid_area": null,
            "grid_auto_columns": null,
            "grid_auto_flow": null,
            "grid_auto_rows": null,
            "grid_column": null,
            "grid_gap": null,
            "grid_row": null,
            "grid_template_areas": null,
            "grid_template_columns": null,
            "grid_template_rows": null,
            "height": null,
            "justify_content": null,
            "justify_items": null,
            "left": null,
            "margin": null,
            "max_height": null,
            "max_width": null,
            "min_height": null,
            "min_width": null,
            "object_fit": null,
            "object_position": null,
            "order": null,
            "overflow": null,
            "overflow_x": null,
            "overflow_y": null,
            "padding": null,
            "right": null,
            "top": null,
            "visibility": null,
            "width": null
          }
        },
        "2bbbda77522b4e78afaca9d7e44b7045": {
          "model_module": "@jupyter-widgets/controls",
          "model_module_version": "1.5.0",
          "model_name": "HTMLModel",
          "state": {
            "_dom_classes": [],
            "_model_module": "@jupyter-widgets/controls",
            "_model_module_version": "1.5.0",
            "_model_name": "HTMLModel",
            "_view_count": null,
            "_view_module": "@jupyter-widgets/controls",
            "_view_module_version": "1.5.0",
            "_view_name": "HTMLView",
            "description": "",
            "description_tooltip": null,
            "layout": "IPY_MODEL_d7f9191794ba405bb6715c881f974be2",
            "placeholder": "​",
            "style": "IPY_MODEL_45163e3552cd4e3b8b322573f349bc50",
            "value": " 3956/3956 [12:50&lt;00:00,  5.13it/s]"
          }
        },
        "2c7aae901f5049c88201c15a8bb70e81": {
          "model_module": "@jupyter-widgets/base",
          "model_module_version": "1.2.0",
          "model_name": "LayoutModel",
          "state": {
            "_model_module": "@jupyter-widgets/base",
            "_model_module_version": "1.2.0",
            "_model_name": "LayoutModel",
            "_view_count": null,
            "_view_module": "@jupyter-widgets/base",
            "_view_module_version": "1.2.0",
            "_view_name": "LayoutView",
            "align_content": null,
            "align_items": null,
            "align_self": null,
            "border": null,
            "bottom": null,
            "display": null,
            "flex": null,
            "flex_flow": null,
            "grid_area": null,
            "grid_auto_columns": null,
            "grid_auto_flow": null,
            "grid_auto_rows": null,
            "grid_column": null,
            "grid_gap": null,
            "grid_row": null,
            "grid_template_areas": null,
            "grid_template_columns": null,
            "grid_template_rows": null,
            "height": null,
            "justify_content": null,
            "justify_items": null,
            "left": null,
            "margin": null,
            "max_height": null,
            "max_width": null,
            "min_height": null,
            "min_width": null,
            "object_fit": null,
            "object_position": null,
            "order": null,
            "overflow": null,
            "overflow_x": null,
            "overflow_y": null,
            "padding": null,
            "right": null,
            "top": null,
            "visibility": null,
            "width": null
          }
        },
        "2ccefff2aa6b4b968f5da5cff83e7a42": {
          "model_module": "@jupyter-widgets/controls",
          "model_module_version": "1.5.0",
          "model_name": "HTMLModel",
          "state": {
            "_dom_classes": [],
            "_model_module": "@jupyter-widgets/controls",
            "_model_module_version": "1.5.0",
            "_model_name": "HTMLModel",
            "_view_count": null,
            "_view_module": "@jupyter-widgets/controls",
            "_view_module_version": "1.5.0",
            "_view_name": "HTMLView",
            "description": "",
            "description_tooltip": null,
            "layout": "IPY_MODEL_2525339dd7d34bf782e63f38fb30f973",
            "placeholder": "​",
            "style": "IPY_MODEL_0e4ff8c74082429ab44559bdc85657ab",
            "value": " 4597/4597 [01:11&lt;00:00, 64.51it/s]"
          }
        },
        "2cf3ec46de31438db99e6d3988e7ef76": {
          "model_module": "@jupyter-widgets/controls",
          "model_module_version": "1.5.0",
          "model_name": "DescriptionStyleModel",
          "state": {
            "_model_module": "@jupyter-widgets/controls",
            "_model_module_version": "1.5.0",
            "_model_name": "DescriptionStyleModel",
            "_view_count": null,
            "_view_module": "@jupyter-widgets/base",
            "_view_module_version": "1.2.0",
            "_view_name": "StyleView",
            "description_width": ""
          }
        },
        "2d2a2191a97b41daba7555a529dacda3": {
          "model_module": "@jupyter-widgets/controls",
          "model_module_version": "1.5.0",
          "model_name": "DescriptionStyleModel",
          "state": {
            "_model_module": "@jupyter-widgets/controls",
            "_model_module_version": "1.5.0",
            "_model_name": "DescriptionStyleModel",
            "_view_count": null,
            "_view_module": "@jupyter-widgets/base",
            "_view_module_version": "1.2.0",
            "_view_name": "StyleView",
            "description_width": ""
          }
        },
        "2d2f91a380624742af8c6820ef0358e0": {
          "model_module": "@jupyter-widgets/controls",
          "model_module_version": "1.5.0",
          "model_name": "HTMLModel",
          "state": {
            "_dom_classes": [],
            "_model_module": "@jupyter-widgets/controls",
            "_model_module_version": "1.5.0",
            "_model_name": "HTMLModel",
            "_view_count": null,
            "_view_module": "@jupyter-widgets/controls",
            "_view_module_version": "1.5.0",
            "_view_name": "HTMLView",
            "description": "",
            "description_tooltip": null,
            "layout": "IPY_MODEL_08c7350eba0b48ba8cb74fe78a0f6645",
            "placeholder": "​",
            "style": "IPY_MODEL_ad43c4e866744c4b8a93fdd3dbd7c8a8",
            "value": "100%"
          }
        },
        "35016596ecbc4fd8b27140e438cef894": {
          "model_module": "@jupyter-widgets/controls",
          "model_module_version": "1.5.0",
          "model_name": "HTMLModel",
          "state": {
            "_dom_classes": [],
            "_model_module": "@jupyter-widgets/controls",
            "_model_module_version": "1.5.0",
            "_model_name": "HTMLModel",
            "_view_count": null,
            "_view_module": "@jupyter-widgets/controls",
            "_view_module_version": "1.5.0",
            "_view_name": "HTMLView",
            "description": "",
            "description_tooltip": null,
            "layout": "IPY_MODEL_d0c58aeff6ad4c4f91460646c2d260b5",
            "placeholder": "​",
            "style": "IPY_MODEL_a9a9dc9070714190aebf0d9b4e42e84b",
            "value": "100%"
          }
        },
        "36c0a21a46b243d4ac8af1aabc1e9c79": {
          "model_module": "@jupyter-widgets/base",
          "model_module_version": "1.2.0",
          "model_name": "LayoutModel",
          "state": {
            "_model_module": "@jupyter-widgets/base",
            "_model_module_version": "1.2.0",
            "_model_name": "LayoutModel",
            "_view_count": null,
            "_view_module": "@jupyter-widgets/base",
            "_view_module_version": "1.2.0",
            "_view_name": "LayoutView",
            "align_content": null,
            "align_items": null,
            "align_self": null,
            "border": null,
            "bottom": null,
            "display": null,
            "flex": null,
            "flex_flow": null,
            "grid_area": null,
            "grid_auto_columns": null,
            "grid_auto_flow": null,
            "grid_auto_rows": null,
            "grid_column": null,
            "grid_gap": null,
            "grid_row": null,
            "grid_template_areas": null,
            "grid_template_columns": null,
            "grid_template_rows": null,
            "height": null,
            "justify_content": null,
            "justify_items": null,
            "left": null,
            "margin": null,
            "max_height": null,
            "max_width": null,
            "min_height": null,
            "min_width": null,
            "object_fit": null,
            "object_position": null,
            "order": null,
            "overflow": null,
            "overflow_x": null,
            "overflow_y": null,
            "padding": null,
            "right": null,
            "top": null,
            "visibility": null,
            "width": null
          }
        },
        "378f42571b7b47be807cde7a9cb83d2b": {
          "model_module": "@jupyter-widgets/controls",
          "model_module_version": "1.5.0",
          "model_name": "DescriptionStyleModel",
          "state": {
            "_model_module": "@jupyter-widgets/controls",
            "_model_module_version": "1.5.0",
            "_model_name": "DescriptionStyleModel",
            "_view_count": null,
            "_view_module": "@jupyter-widgets/base",
            "_view_module_version": "1.2.0",
            "_view_name": "StyleView",
            "description_width": ""
          }
        },
        "390a76bb59ef49788c84187f6047c1c3": {
          "model_module": "@jupyter-widgets/base",
          "model_module_version": "1.2.0",
          "model_name": "LayoutModel",
          "state": {
            "_model_module": "@jupyter-widgets/base",
            "_model_module_version": "1.2.0",
            "_model_name": "LayoutModel",
            "_view_count": null,
            "_view_module": "@jupyter-widgets/base",
            "_view_module_version": "1.2.0",
            "_view_name": "LayoutView",
            "align_content": null,
            "align_items": null,
            "align_self": null,
            "border": null,
            "bottom": null,
            "display": null,
            "flex": null,
            "flex_flow": null,
            "grid_area": null,
            "grid_auto_columns": null,
            "grid_auto_flow": null,
            "grid_auto_rows": null,
            "grid_column": null,
            "grid_gap": null,
            "grid_row": null,
            "grid_template_areas": null,
            "grid_template_columns": null,
            "grid_template_rows": null,
            "height": null,
            "justify_content": null,
            "justify_items": null,
            "left": null,
            "margin": null,
            "max_height": null,
            "max_width": null,
            "min_height": null,
            "min_width": null,
            "object_fit": null,
            "object_position": null,
            "order": null,
            "overflow": null,
            "overflow_x": null,
            "overflow_y": null,
            "padding": null,
            "right": null,
            "top": null,
            "visibility": null,
            "width": null
          }
        },
        "3c9e21a611e24375a68a0c60a337e2ab": {
          "model_module": "@jupyter-widgets/base",
          "model_module_version": "1.2.0",
          "model_name": "LayoutModel",
          "state": {
            "_model_module": "@jupyter-widgets/base",
            "_model_module_version": "1.2.0",
            "_model_name": "LayoutModel",
            "_view_count": null,
            "_view_module": "@jupyter-widgets/base",
            "_view_module_version": "1.2.0",
            "_view_name": "LayoutView",
            "align_content": null,
            "align_items": null,
            "align_self": null,
            "border": null,
            "bottom": null,
            "display": null,
            "flex": null,
            "flex_flow": null,
            "grid_area": null,
            "grid_auto_columns": null,
            "grid_auto_flow": null,
            "grid_auto_rows": null,
            "grid_column": null,
            "grid_gap": null,
            "grid_row": null,
            "grid_template_areas": null,
            "grid_template_columns": null,
            "grid_template_rows": null,
            "height": null,
            "justify_content": null,
            "justify_items": null,
            "left": null,
            "margin": null,
            "max_height": null,
            "max_width": null,
            "min_height": null,
            "min_width": null,
            "object_fit": null,
            "object_position": null,
            "order": null,
            "overflow": null,
            "overflow_x": null,
            "overflow_y": null,
            "padding": null,
            "right": null,
            "top": null,
            "visibility": null,
            "width": null
          }
        },
        "3ff69a13cf254d96a3fa5767be82e73d": {
          "model_module": "@jupyter-widgets/base",
          "model_module_version": "1.2.0",
          "model_name": "LayoutModel",
          "state": {
            "_model_module": "@jupyter-widgets/base",
            "_model_module_version": "1.2.0",
            "_model_name": "LayoutModel",
            "_view_count": null,
            "_view_module": "@jupyter-widgets/base",
            "_view_module_version": "1.2.0",
            "_view_name": "LayoutView",
            "align_content": null,
            "align_items": null,
            "align_self": null,
            "border": null,
            "bottom": null,
            "display": null,
            "flex": null,
            "flex_flow": null,
            "grid_area": null,
            "grid_auto_columns": null,
            "grid_auto_flow": null,
            "grid_auto_rows": null,
            "grid_column": null,
            "grid_gap": null,
            "grid_row": null,
            "grid_template_areas": null,
            "grid_template_columns": null,
            "grid_template_rows": null,
            "height": null,
            "justify_content": null,
            "justify_items": null,
            "left": null,
            "margin": null,
            "max_height": null,
            "max_width": null,
            "min_height": null,
            "min_width": null,
            "object_fit": null,
            "object_position": null,
            "order": null,
            "overflow": null,
            "overflow_x": null,
            "overflow_y": null,
            "padding": null,
            "right": null,
            "top": null,
            "visibility": null,
            "width": null
          }
        },
        "4047a09295ca46d5807b42642b0a5267": {
          "model_module": "@jupyter-widgets/base",
          "model_module_version": "1.2.0",
          "model_name": "LayoutModel",
          "state": {
            "_model_module": "@jupyter-widgets/base",
            "_model_module_version": "1.2.0",
            "_model_name": "LayoutModel",
            "_view_count": null,
            "_view_module": "@jupyter-widgets/base",
            "_view_module_version": "1.2.0",
            "_view_name": "LayoutView",
            "align_content": null,
            "align_items": null,
            "align_self": null,
            "border": null,
            "bottom": null,
            "display": null,
            "flex": null,
            "flex_flow": null,
            "grid_area": null,
            "grid_auto_columns": null,
            "grid_auto_flow": null,
            "grid_auto_rows": null,
            "grid_column": null,
            "grid_gap": null,
            "grid_row": null,
            "grid_template_areas": null,
            "grid_template_columns": null,
            "grid_template_rows": null,
            "height": null,
            "justify_content": null,
            "justify_items": null,
            "left": null,
            "margin": null,
            "max_height": null,
            "max_width": null,
            "min_height": null,
            "min_width": null,
            "object_fit": null,
            "object_position": null,
            "order": null,
            "overflow": null,
            "overflow_x": null,
            "overflow_y": null,
            "padding": null,
            "right": null,
            "top": null,
            "visibility": null,
            "width": null
          }
        },
        "4094de9e516b4598b70d0ac0f4285b6d": {
          "model_module": "@jupyter-widgets/controls",
          "model_module_version": "1.5.0",
          "model_name": "ProgressStyleModel",
          "state": {
            "_model_module": "@jupyter-widgets/controls",
            "_model_module_version": "1.5.0",
            "_model_name": "ProgressStyleModel",
            "_view_count": null,
            "_view_module": "@jupyter-widgets/base",
            "_view_module_version": "1.2.0",
            "_view_name": "StyleView",
            "bar_color": null,
            "description_width": ""
          }
        },
        "41ddbf4f8c8046d5b51fed8264f535a4": {
          "model_module": "@jupyter-widgets/controls",
          "model_module_version": "1.5.0",
          "model_name": "DescriptionStyleModel",
          "state": {
            "_model_module": "@jupyter-widgets/controls",
            "_model_module_version": "1.5.0",
            "_model_name": "DescriptionStyleModel",
            "_view_count": null,
            "_view_module": "@jupyter-widgets/base",
            "_view_module_version": "1.2.0",
            "_view_name": "StyleView",
            "description_width": ""
          }
        },
        "42670a4957ae4ad38cc93d9076d85f3e": {
          "model_module": "@jupyter-widgets/controls",
          "model_module_version": "1.5.0",
          "model_name": "HTMLModel",
          "state": {
            "_dom_classes": [],
            "_model_module": "@jupyter-widgets/controls",
            "_model_module_version": "1.5.0",
            "_model_name": "HTMLModel",
            "_view_count": null,
            "_view_module": "@jupyter-widgets/controls",
            "_view_module_version": "1.5.0",
            "_view_name": "HTMLView",
            "description": "",
            "description_tooltip": null,
            "layout": "IPY_MODEL_3ff69a13cf254d96a3fa5767be82e73d",
            "placeholder": "​",
            "style": "IPY_MODEL_6891584e543748db8dc17ce7be5dc5c1",
            "value": " 41880/369718 [2:03:03&lt;16:00:02,  5.69it/s]"
          }
        },
        "4295b9b0b5f74359b34998ec4a354330": {
          "model_module": "@jupyter-widgets/base",
          "model_module_version": "1.2.0",
          "model_name": "LayoutModel",
          "state": {
            "_model_module": "@jupyter-widgets/base",
            "_model_module_version": "1.2.0",
            "_model_name": "LayoutModel",
            "_view_count": null,
            "_view_module": "@jupyter-widgets/base",
            "_view_module_version": "1.2.0",
            "_view_name": "LayoutView",
            "align_content": null,
            "align_items": null,
            "align_self": null,
            "border": null,
            "bottom": null,
            "display": null,
            "flex": null,
            "flex_flow": null,
            "grid_area": null,
            "grid_auto_columns": null,
            "grid_auto_flow": null,
            "grid_auto_rows": null,
            "grid_column": null,
            "grid_gap": null,
            "grid_row": null,
            "grid_template_areas": null,
            "grid_template_columns": null,
            "grid_template_rows": null,
            "height": null,
            "justify_content": null,
            "justify_items": null,
            "left": null,
            "margin": null,
            "max_height": null,
            "max_width": null,
            "min_height": null,
            "min_width": null,
            "object_fit": null,
            "object_position": null,
            "order": null,
            "overflow": null,
            "overflow_x": null,
            "overflow_y": null,
            "padding": null,
            "right": null,
            "top": null,
            "visibility": null,
            "width": null
          }
        },
        "45163e3552cd4e3b8b322573f349bc50": {
          "model_module": "@jupyter-widgets/controls",
          "model_module_version": "1.5.0",
          "model_name": "DescriptionStyleModel",
          "state": {
            "_model_module": "@jupyter-widgets/controls",
            "_model_module_version": "1.5.0",
            "_model_name": "DescriptionStyleModel",
            "_view_count": null,
            "_view_module": "@jupyter-widgets/base",
            "_view_module_version": "1.2.0",
            "_view_name": "StyleView",
            "description_width": ""
          }
        },
        "479691ec7926436da0e3a8b7f8d98ac5": {
          "model_module": "@jupyter-widgets/controls",
          "model_module_version": "1.5.0",
          "model_name": "ProgressStyleModel",
          "state": {
            "_model_module": "@jupyter-widgets/controls",
            "_model_module_version": "1.5.0",
            "_model_name": "ProgressStyleModel",
            "_view_count": null,
            "_view_module": "@jupyter-widgets/base",
            "_view_module_version": "1.2.0",
            "_view_name": "StyleView",
            "bar_color": null,
            "description_width": ""
          }
        },
        "4b196c0a7e2f4deabea0761ead11ddf6": {
          "model_module": "@jupyter-widgets/base",
          "model_module_version": "1.2.0",
          "model_name": "LayoutModel",
          "state": {
            "_model_module": "@jupyter-widgets/base",
            "_model_module_version": "1.2.0",
            "_model_name": "LayoutModel",
            "_view_count": null,
            "_view_module": "@jupyter-widgets/base",
            "_view_module_version": "1.2.0",
            "_view_name": "LayoutView",
            "align_content": null,
            "align_items": null,
            "align_self": null,
            "border": null,
            "bottom": null,
            "display": null,
            "flex": null,
            "flex_flow": null,
            "grid_area": null,
            "grid_auto_columns": null,
            "grid_auto_flow": null,
            "grid_auto_rows": null,
            "grid_column": null,
            "grid_gap": null,
            "grid_row": null,
            "grid_template_areas": null,
            "grid_template_columns": null,
            "grid_template_rows": null,
            "height": null,
            "justify_content": null,
            "justify_items": null,
            "left": null,
            "margin": null,
            "max_height": null,
            "max_width": null,
            "min_height": null,
            "min_width": null,
            "object_fit": null,
            "object_position": null,
            "order": null,
            "overflow": null,
            "overflow_x": null,
            "overflow_y": null,
            "padding": null,
            "right": null,
            "top": null,
            "visibility": null,
            "width": null
          }
        },
        "4b95fdddf8c04bb3a0bc4a3eb35e8a25": {
          "model_module": "@jupyter-widgets/base",
          "model_module_version": "1.2.0",
          "model_name": "LayoutModel",
          "state": {
            "_model_module": "@jupyter-widgets/base",
            "_model_module_version": "1.2.0",
            "_model_name": "LayoutModel",
            "_view_count": null,
            "_view_module": "@jupyter-widgets/base",
            "_view_module_version": "1.2.0",
            "_view_name": "LayoutView",
            "align_content": null,
            "align_items": null,
            "align_self": null,
            "border": null,
            "bottom": null,
            "display": null,
            "flex": null,
            "flex_flow": null,
            "grid_area": null,
            "grid_auto_columns": null,
            "grid_auto_flow": null,
            "grid_auto_rows": null,
            "grid_column": null,
            "grid_gap": null,
            "grid_row": null,
            "grid_template_areas": null,
            "grid_template_columns": null,
            "grid_template_rows": null,
            "height": null,
            "justify_content": null,
            "justify_items": null,
            "left": null,
            "margin": null,
            "max_height": null,
            "max_width": null,
            "min_height": null,
            "min_width": null,
            "object_fit": null,
            "object_position": null,
            "order": null,
            "overflow": null,
            "overflow_x": null,
            "overflow_y": null,
            "padding": null,
            "right": null,
            "top": null,
            "visibility": null,
            "width": null
          }
        },
        "52d3bfdc6c9e48be8e215d44a7de8a90": {
          "model_module": "@jupyter-widgets/controls",
          "model_module_version": "1.5.0",
          "model_name": "ProgressStyleModel",
          "state": {
            "_model_module": "@jupyter-widgets/controls",
            "_model_module_version": "1.5.0",
            "_model_name": "ProgressStyleModel",
            "_view_count": null,
            "_view_module": "@jupyter-widgets/base",
            "_view_module_version": "1.2.0",
            "_view_name": "StyleView",
            "bar_color": null,
            "description_width": ""
          }
        },
        "56d76c6dabd84aa1adc7db5f22d03e41": {
          "model_module": "@jupyter-widgets/controls",
          "model_module_version": "1.5.0",
          "model_name": "HTMLModel",
          "state": {
            "_dom_classes": [],
            "_model_module": "@jupyter-widgets/controls",
            "_model_module_version": "1.5.0",
            "_model_name": "HTMLModel",
            "_view_count": null,
            "_view_module": "@jupyter-widgets/controls",
            "_view_module_version": "1.5.0",
            "_view_name": "HTMLView",
            "description": "",
            "description_tooltip": null,
            "layout": "IPY_MODEL_c58c932570b64929bce827e5eb64402e",
            "placeholder": "​",
            "style": "IPY_MODEL_131ad472eea0443c900a1371e7674398",
            "value": "100%"
          }
        },
        "68518afc617c4c4081abb1529df7e68d": {
          "model_module": "@jupyter-widgets/base",
          "model_module_version": "1.2.0",
          "model_name": "LayoutModel",
          "state": {
            "_model_module": "@jupyter-widgets/base",
            "_model_module_version": "1.2.0",
            "_model_name": "LayoutModel",
            "_view_count": null,
            "_view_module": "@jupyter-widgets/base",
            "_view_module_version": "1.2.0",
            "_view_name": "LayoutView",
            "align_content": null,
            "align_items": null,
            "align_self": null,
            "border": null,
            "bottom": null,
            "display": null,
            "flex": null,
            "flex_flow": null,
            "grid_area": null,
            "grid_auto_columns": null,
            "grid_auto_flow": null,
            "grid_auto_rows": null,
            "grid_column": null,
            "grid_gap": null,
            "grid_row": null,
            "grid_template_areas": null,
            "grid_template_columns": null,
            "grid_template_rows": null,
            "height": null,
            "justify_content": null,
            "justify_items": null,
            "left": null,
            "margin": null,
            "max_height": null,
            "max_width": null,
            "min_height": null,
            "min_width": null,
            "object_fit": null,
            "object_position": null,
            "order": null,
            "overflow": null,
            "overflow_x": null,
            "overflow_y": null,
            "padding": null,
            "right": null,
            "top": null,
            "visibility": null,
            "width": null
          }
        },
        "6891584e543748db8dc17ce7be5dc5c1": {
          "model_module": "@jupyter-widgets/controls",
          "model_module_version": "1.5.0",
          "model_name": "DescriptionStyleModel",
          "state": {
            "_model_module": "@jupyter-widgets/controls",
            "_model_module_version": "1.5.0",
            "_model_name": "DescriptionStyleModel",
            "_view_count": null,
            "_view_module": "@jupyter-widgets/base",
            "_view_module_version": "1.2.0",
            "_view_name": "StyleView",
            "description_width": ""
          }
        },
        "690f9a34fbb64ad483fd0a4f1af3513e": {
          "model_module": "@jupyter-widgets/base",
          "model_module_version": "1.2.0",
          "model_name": "LayoutModel",
          "state": {
            "_model_module": "@jupyter-widgets/base",
            "_model_module_version": "1.2.0",
            "_model_name": "LayoutModel",
            "_view_count": null,
            "_view_module": "@jupyter-widgets/base",
            "_view_module_version": "1.2.0",
            "_view_name": "LayoutView",
            "align_content": null,
            "align_items": null,
            "align_self": null,
            "border": null,
            "bottom": null,
            "display": null,
            "flex": null,
            "flex_flow": null,
            "grid_area": null,
            "grid_auto_columns": null,
            "grid_auto_flow": null,
            "grid_auto_rows": null,
            "grid_column": null,
            "grid_gap": null,
            "grid_row": null,
            "grid_template_areas": null,
            "grid_template_columns": null,
            "grid_template_rows": null,
            "height": null,
            "justify_content": null,
            "justify_items": null,
            "left": null,
            "margin": null,
            "max_height": null,
            "max_width": null,
            "min_height": null,
            "min_width": null,
            "object_fit": null,
            "object_position": null,
            "order": null,
            "overflow": null,
            "overflow_x": null,
            "overflow_y": null,
            "padding": null,
            "right": null,
            "top": null,
            "visibility": null,
            "width": null
          }
        },
        "6b204590e3844b54b1f405f7d79b0f65": {
          "model_module": "@jupyter-widgets/controls",
          "model_module_version": "1.5.0",
          "model_name": "DescriptionStyleModel",
          "state": {
            "_model_module": "@jupyter-widgets/controls",
            "_model_module_version": "1.5.0",
            "_model_name": "DescriptionStyleModel",
            "_view_count": null,
            "_view_module": "@jupyter-widgets/base",
            "_view_module_version": "1.2.0",
            "_view_name": "StyleView",
            "description_width": ""
          }
        },
        "6f3b2e7fc4aa4ddba98279aad4c8ea12": {
          "model_module": "@jupyter-widgets/controls",
          "model_module_version": "1.5.0",
          "model_name": "DescriptionStyleModel",
          "state": {
            "_model_module": "@jupyter-widgets/controls",
            "_model_module_version": "1.5.0",
            "_model_name": "DescriptionStyleModel",
            "_view_count": null,
            "_view_module": "@jupyter-widgets/base",
            "_view_module_version": "1.2.0",
            "_view_name": "StyleView",
            "description_width": ""
          }
        },
        "6fe43eb8efc749deae67b59417d8b8f5": {
          "model_module": "@jupyter-widgets/controls",
          "model_module_version": "1.5.0",
          "model_name": "HBoxModel",
          "state": {
            "_dom_classes": [],
            "_model_module": "@jupyter-widgets/controls",
            "_model_module_version": "1.5.0",
            "_model_name": "HBoxModel",
            "_view_count": null,
            "_view_module": "@jupyter-widgets/controls",
            "_view_module_version": "1.5.0",
            "_view_name": "HBoxView",
            "box_style": "",
            "children": [
              "IPY_MODEL_56d76c6dabd84aa1adc7db5f22d03e41",
              "IPY_MODEL_f9ad3ae607f949ea9ff107c283aed8ed",
              "IPY_MODEL_0c3a2760fcdd4655a1565992b8158613"
            ],
            "layout": "IPY_MODEL_2af64e5ce1e44575b7128de5df65ebe4"
          }
        },
        "7678d12f4fb54862a88be3d166fc13f1": {
          "model_module": "@jupyter-widgets/base",
          "model_module_version": "1.2.0",
          "model_name": "LayoutModel",
          "state": {
            "_model_module": "@jupyter-widgets/base",
            "_model_module_version": "1.2.0",
            "_model_name": "LayoutModel",
            "_view_count": null,
            "_view_module": "@jupyter-widgets/base",
            "_view_module_version": "1.2.0",
            "_view_name": "LayoutView",
            "align_content": null,
            "align_items": null,
            "align_self": null,
            "border": null,
            "bottom": null,
            "display": null,
            "flex": null,
            "flex_flow": null,
            "grid_area": null,
            "grid_auto_columns": null,
            "grid_auto_flow": null,
            "grid_auto_rows": null,
            "grid_column": null,
            "grid_gap": null,
            "grid_row": null,
            "grid_template_areas": null,
            "grid_template_columns": null,
            "grid_template_rows": null,
            "height": null,
            "justify_content": null,
            "justify_items": null,
            "left": null,
            "margin": null,
            "max_height": null,
            "max_width": null,
            "min_height": null,
            "min_width": null,
            "object_fit": null,
            "object_position": null,
            "order": null,
            "overflow": null,
            "overflow_x": null,
            "overflow_y": null,
            "padding": null,
            "right": null,
            "top": null,
            "visibility": null,
            "width": null
          }
        },
        "77688f2728f74aa78526a75546a8bd66": {
          "model_module": "@jupyter-widgets/base",
          "model_module_version": "1.2.0",
          "model_name": "LayoutModel",
          "state": {
            "_model_module": "@jupyter-widgets/base",
            "_model_module_version": "1.2.0",
            "_model_name": "LayoutModel",
            "_view_count": null,
            "_view_module": "@jupyter-widgets/base",
            "_view_module_version": "1.2.0",
            "_view_name": "LayoutView",
            "align_content": null,
            "align_items": null,
            "align_self": null,
            "border": null,
            "bottom": null,
            "display": null,
            "flex": null,
            "flex_flow": null,
            "grid_area": null,
            "grid_auto_columns": null,
            "grid_auto_flow": null,
            "grid_auto_rows": null,
            "grid_column": null,
            "grid_gap": null,
            "grid_row": null,
            "grid_template_areas": null,
            "grid_template_columns": null,
            "grid_template_rows": null,
            "height": null,
            "justify_content": null,
            "justify_items": null,
            "left": null,
            "margin": null,
            "max_height": null,
            "max_width": null,
            "min_height": null,
            "min_width": null,
            "object_fit": null,
            "object_position": null,
            "order": null,
            "overflow": null,
            "overflow_x": null,
            "overflow_y": null,
            "padding": null,
            "right": null,
            "top": null,
            "visibility": null,
            "width": null
          }
        },
        "782072b0ffb343b2b50d850f0e295ca1": {
          "model_module": "@jupyter-widgets/controls",
          "model_module_version": "1.5.0",
          "model_name": "HTMLModel",
          "state": {
            "_dom_classes": [],
            "_model_module": "@jupyter-widgets/controls",
            "_model_module_version": "1.5.0",
            "_model_name": "HTMLModel",
            "_view_count": null,
            "_view_module": "@jupyter-widgets/controls",
            "_view_module_version": "1.5.0",
            "_view_name": "HTMLView",
            "description": "",
            "description_tooltip": null,
            "layout": "IPY_MODEL_7678d12f4fb54862a88be3d166fc13f1",
            "placeholder": "​",
            "style": "IPY_MODEL_01b07f4f6cd448a3b671154b698255a4",
            "value": " 232k/232k [00:00&lt;00:00, 819kB/s]"
          }
        },
        "7982c5a92ef14c27a3c2e91c084c73c3": {
          "model_module": "@jupyter-widgets/controls",
          "model_module_version": "1.5.0",
          "model_name": "HBoxModel",
          "state": {
            "_dom_classes": [],
            "_model_module": "@jupyter-widgets/controls",
            "_model_module_version": "1.5.0",
            "_model_name": "HBoxModel",
            "_view_count": null,
            "_view_module": "@jupyter-widgets/controls",
            "_view_module_version": "1.5.0",
            "_view_name": "HBoxView",
            "box_style": "",
            "children": [
              "IPY_MODEL_35016596ecbc4fd8b27140e438cef894",
              "IPY_MODEL_fc0e29aaa69343ceb27567be88979ed2",
              "IPY_MODEL_299907ea7b5d4d078fe71c29f36c5524"
            ],
            "layout": "IPY_MODEL_873d9b00e3234aba9bb822cb41e6ad8e"
          }
        },
        "79e886601b8c4287a23aad05c045742e": {
          "model_module": "@jupyter-widgets/controls",
          "model_module_version": "1.5.0",
          "model_name": "HTMLModel",
          "state": {
            "_dom_classes": [],
            "_model_module": "@jupyter-widgets/controls",
            "_model_module_version": "1.5.0",
            "_model_name": "HTMLModel",
            "_view_count": null,
            "_view_module": "@jupyter-widgets/controls",
            "_view_module_version": "1.5.0",
            "_view_name": "HTMLView",
            "description": "",
            "description_tooltip": null,
            "layout": "IPY_MODEL_eeef0ac01a4d42839270152dd85c84f5",
            "placeholder": "​",
            "style": "IPY_MODEL_6b204590e3844b54b1f405f7d79b0f65",
            "value": " 11%"
          }
        },
        "7cbf4b07bf8b41e19fba653180871723": {
          "model_module": "@jupyter-widgets/controls",
          "model_module_version": "1.5.0",
          "model_name": "DescriptionStyleModel",
          "state": {
            "_model_module": "@jupyter-widgets/controls",
            "_model_module_version": "1.5.0",
            "_model_name": "DescriptionStyleModel",
            "_view_count": null,
            "_view_module": "@jupyter-widgets/base",
            "_view_module_version": "1.2.0",
            "_view_name": "StyleView",
            "description_width": ""
          }
        },
        "7e44c8c151c6447fa7d0632364a2a72e": {
          "model_module": "@jupyter-widgets/controls",
          "model_module_version": "1.5.0",
          "model_name": "ProgressStyleModel",
          "state": {
            "_model_module": "@jupyter-widgets/controls",
            "_model_module_version": "1.5.0",
            "_model_name": "ProgressStyleModel",
            "_view_count": null,
            "_view_module": "@jupyter-widgets/base",
            "_view_module_version": "1.2.0",
            "_view_name": "StyleView",
            "bar_color": null,
            "description_width": ""
          }
        },
        "8375c493577c49f0888670fd37a8694f": {
          "model_module": "@jupyter-widgets/controls",
          "model_module_version": "1.5.0",
          "model_name": "HTMLModel",
          "state": {
            "_dom_classes": [],
            "_model_module": "@jupyter-widgets/controls",
            "_model_module_version": "1.5.0",
            "_model_name": "HTMLModel",
            "_view_count": null,
            "_view_module": "@jupyter-widgets/controls",
            "_view_module_version": "1.5.0",
            "_view_name": "HTMLView",
            "description": "",
            "description_tooltip": null,
            "layout": "IPY_MODEL_4b196c0a7e2f4deabea0761ead11ddf6",
            "placeholder": "​",
            "style": "IPY_MODEL_2cf3ec46de31438db99e6d3988e7ef76",
            "value": "100%"
          }
        },
        "83d5f1de19524738880b8b324342703e": {
          "model_module": "@jupyter-widgets/controls",
          "model_module_version": "1.5.0",
          "model_name": "HBoxModel",
          "state": {
            "_dom_classes": [],
            "_model_module": "@jupyter-widgets/controls",
            "_model_module_version": "1.5.0",
            "_model_name": "HBoxModel",
            "_view_count": null,
            "_view_module": "@jupyter-widgets/controls",
            "_view_module_version": "1.5.0",
            "_view_name": "HBoxView",
            "box_style": "",
            "children": [
              "IPY_MODEL_f026b03cda8d44a082035f54c836a733",
              "IPY_MODEL_1978891bb41c4e0c895c74601e4fbce4",
              "IPY_MODEL_782072b0ffb343b2b50d850f0e295ca1"
            ],
            "layout": "IPY_MODEL_f2376456e5ca4950a9c85aac3b184e10"
          }
        },
        "873d9b00e3234aba9bb822cb41e6ad8e": {
          "model_module": "@jupyter-widgets/base",
          "model_module_version": "1.2.0",
          "model_name": "LayoutModel",
          "state": {
            "_model_module": "@jupyter-widgets/base",
            "_model_module_version": "1.2.0",
            "_model_name": "LayoutModel",
            "_view_count": null,
            "_view_module": "@jupyter-widgets/base",
            "_view_module_version": "1.2.0",
            "_view_name": "LayoutView",
            "align_content": null,
            "align_items": null,
            "align_self": null,
            "border": null,
            "bottom": null,
            "display": null,
            "flex": null,
            "flex_flow": null,
            "grid_area": null,
            "grid_auto_columns": null,
            "grid_auto_flow": null,
            "grid_auto_rows": null,
            "grid_column": null,
            "grid_gap": null,
            "grid_row": null,
            "grid_template_areas": null,
            "grid_template_columns": null,
            "grid_template_rows": null,
            "height": null,
            "justify_content": null,
            "justify_items": null,
            "left": null,
            "margin": null,
            "max_height": null,
            "max_width": null,
            "min_height": null,
            "min_width": null,
            "object_fit": null,
            "object_position": null,
            "order": null,
            "overflow": null,
            "overflow_x": null,
            "overflow_y": null,
            "padding": null,
            "right": null,
            "top": null,
            "visibility": null,
            "width": null
          }
        },
        "8c8a73e943ed4b7191726c5b8b1e173a": {
          "model_module": "@jupyter-widgets/base",
          "model_module_version": "1.2.0",
          "model_name": "LayoutModel",
          "state": {
            "_model_module": "@jupyter-widgets/base",
            "_model_module_version": "1.2.0",
            "_model_name": "LayoutModel",
            "_view_count": null,
            "_view_module": "@jupyter-widgets/base",
            "_view_module_version": "1.2.0",
            "_view_name": "LayoutView",
            "align_content": null,
            "align_items": null,
            "align_self": null,
            "border": null,
            "bottom": null,
            "display": null,
            "flex": null,
            "flex_flow": null,
            "grid_area": null,
            "grid_auto_columns": null,
            "grid_auto_flow": null,
            "grid_auto_rows": null,
            "grid_column": null,
            "grid_gap": null,
            "grid_row": null,
            "grid_template_areas": null,
            "grid_template_columns": null,
            "grid_template_rows": null,
            "height": null,
            "justify_content": null,
            "justify_items": null,
            "left": null,
            "margin": null,
            "max_height": null,
            "max_width": null,
            "min_height": null,
            "min_width": null,
            "object_fit": null,
            "object_position": null,
            "order": null,
            "overflow": null,
            "overflow_x": null,
            "overflow_y": null,
            "padding": null,
            "right": null,
            "top": null,
            "visibility": null,
            "width": null
          }
        },
        "8f6d53168d6a41418f6a7568d2c09d7c": {
          "model_module": "@jupyter-widgets/base",
          "model_module_version": "1.2.0",
          "model_name": "LayoutModel",
          "state": {
            "_model_module": "@jupyter-widgets/base",
            "_model_module_version": "1.2.0",
            "_model_name": "LayoutModel",
            "_view_count": null,
            "_view_module": "@jupyter-widgets/base",
            "_view_module_version": "1.2.0",
            "_view_name": "LayoutView",
            "align_content": null,
            "align_items": null,
            "align_self": null,
            "border": null,
            "bottom": null,
            "display": null,
            "flex": null,
            "flex_flow": null,
            "grid_area": null,
            "grid_auto_columns": null,
            "grid_auto_flow": null,
            "grid_auto_rows": null,
            "grid_column": null,
            "grid_gap": null,
            "grid_row": null,
            "grid_template_areas": null,
            "grid_template_columns": null,
            "grid_template_rows": null,
            "height": null,
            "justify_content": null,
            "justify_items": null,
            "left": null,
            "margin": null,
            "max_height": null,
            "max_width": null,
            "min_height": null,
            "min_width": null,
            "object_fit": null,
            "object_position": null,
            "order": null,
            "overflow": null,
            "overflow_x": null,
            "overflow_y": null,
            "padding": null,
            "right": null,
            "top": null,
            "visibility": null,
            "width": null
          }
        },
        "97a3e97803f64adeb09d183d43d36389": {
          "model_module": "@jupyter-widgets/controls",
          "model_module_version": "1.5.0",
          "model_name": "HBoxModel",
          "state": {
            "_dom_classes": [],
            "_model_module": "@jupyter-widgets/controls",
            "_model_module_version": "1.5.0",
            "_model_name": "HBoxModel",
            "_view_count": null,
            "_view_module": "@jupyter-widgets/controls",
            "_view_module_version": "1.5.0",
            "_view_name": "HBoxView",
            "box_style": "",
            "children": [
              "IPY_MODEL_001e32f39f6349809cdcd082e0de3c72",
              "IPY_MODEL_993b328c14e443329b5b51681bc58320",
              "IPY_MODEL_2bbbda77522b4e78afaca9d7e44b7045"
            ],
            "layout": "IPY_MODEL_a02190d34c9f41a09d112a600a9af2fa"
          }
        },
        "993b328c14e443329b5b51681bc58320": {
          "model_module": "@jupyter-widgets/controls",
          "model_module_version": "1.5.0",
          "model_name": "FloatProgressModel",
          "state": {
            "_dom_classes": [],
            "_model_module": "@jupyter-widgets/controls",
            "_model_module_version": "1.5.0",
            "_model_name": "FloatProgressModel",
            "_view_count": null,
            "_view_module": "@jupyter-widgets/controls",
            "_view_module_version": "1.5.0",
            "_view_name": "ProgressView",
            "bar_style": "success",
            "description": "",
            "description_tooltip": null,
            "layout": "IPY_MODEL_ada7a908725d4820899fdc44a5ca86f3",
            "max": 3956,
            "min": 0,
            "orientation": "horizontal",
            "style": "IPY_MODEL_ccdc9f8b4d6549afb00d3a91fc561c24",
            "value": 3956
          }
        },
        "a00d31e755774dbd8910157eb00e5f7b": {
          "model_module": "@jupyter-widgets/controls",
          "model_module_version": "1.5.0",
          "model_name": "HTMLModel",
          "state": {
            "_dom_classes": [],
            "_model_module": "@jupyter-widgets/controls",
            "_model_module_version": "1.5.0",
            "_model_name": "HTMLModel",
            "_view_count": null,
            "_view_module": "@jupyter-widgets/controls",
            "_view_module_version": "1.5.0",
            "_view_name": "HTMLView",
            "description": "",
            "description_tooltip": null,
            "layout": "IPY_MODEL_4047a09295ca46d5807b42642b0a5267",
            "placeholder": "​",
            "style": "IPY_MODEL_378f42571b7b47be807cde7a9cb83d2b",
            "value": " 38461/38461 [2:41:39&lt;00:00,  3.97it/s]"
          }
        },
        "a02190d34c9f41a09d112a600a9af2fa": {
          "model_module": "@jupyter-widgets/base",
          "model_module_version": "1.2.0",
          "model_name": "LayoutModel",
          "state": {
            "_model_module": "@jupyter-widgets/base",
            "_model_module_version": "1.2.0",
            "_model_name": "LayoutModel",
            "_view_count": null,
            "_view_module": "@jupyter-widgets/base",
            "_view_module_version": "1.2.0",
            "_view_name": "LayoutView",
            "align_content": null,
            "align_items": null,
            "align_self": null,
            "border": null,
            "bottom": null,
            "display": null,
            "flex": null,
            "flex_flow": null,
            "grid_area": null,
            "grid_auto_columns": null,
            "grid_auto_flow": null,
            "grid_auto_rows": null,
            "grid_column": null,
            "grid_gap": null,
            "grid_row": null,
            "grid_template_areas": null,
            "grid_template_columns": null,
            "grid_template_rows": null,
            "height": null,
            "justify_content": null,
            "justify_items": null,
            "left": null,
            "margin": null,
            "max_height": null,
            "max_width": null,
            "min_height": null,
            "min_width": null,
            "object_fit": null,
            "object_position": null,
            "order": null,
            "overflow": null,
            "overflow_x": null,
            "overflow_y": null,
            "padding": null,
            "right": null,
            "top": null,
            "visibility": null,
            "width": null
          }
        },
        "a1749a66ce4d4800927241d1f0563ed4": {
          "model_module": "@jupyter-widgets/base",
          "model_module_version": "1.2.0",
          "model_name": "LayoutModel",
          "state": {
            "_model_module": "@jupyter-widgets/base",
            "_model_module_version": "1.2.0",
            "_model_name": "LayoutModel",
            "_view_count": null,
            "_view_module": "@jupyter-widgets/base",
            "_view_module_version": "1.2.0",
            "_view_name": "LayoutView",
            "align_content": null,
            "align_items": null,
            "align_self": null,
            "border": null,
            "bottom": null,
            "display": null,
            "flex": null,
            "flex_flow": null,
            "grid_area": null,
            "grid_auto_columns": null,
            "grid_auto_flow": null,
            "grid_auto_rows": null,
            "grid_column": null,
            "grid_gap": null,
            "grid_row": null,
            "grid_template_areas": null,
            "grid_template_columns": null,
            "grid_template_rows": null,
            "height": null,
            "justify_content": null,
            "justify_items": null,
            "left": null,
            "margin": null,
            "max_height": null,
            "max_width": null,
            "min_height": null,
            "min_width": null,
            "object_fit": null,
            "object_position": null,
            "order": null,
            "overflow": null,
            "overflow_x": null,
            "overflow_y": null,
            "padding": null,
            "right": null,
            "top": null,
            "visibility": null,
            "width": null
          }
        },
        "a8610c1fcda746858e3eafaad775055c": {
          "model_module": "@jupyter-widgets/controls",
          "model_module_version": "1.5.0",
          "model_name": "HBoxModel",
          "state": {
            "_dom_classes": [],
            "_model_module": "@jupyter-widgets/controls",
            "_model_module_version": "1.5.0",
            "_model_name": "HBoxModel",
            "_view_count": null,
            "_view_module": "@jupyter-widgets/controls",
            "_view_module_version": "1.5.0",
            "_view_name": "HBoxView",
            "box_style": "",
            "children": [
              "IPY_MODEL_2d2f91a380624742af8c6820ef0358e0",
              "IPY_MODEL_1def12a914a9409f88076965bb87c4a0",
              "IPY_MODEL_b170767164914f85ac9b36603110873d"
            ],
            "layout": "IPY_MODEL_77688f2728f74aa78526a75546a8bd66"
          }
        },
        "a9a9dc9070714190aebf0d9b4e42e84b": {
          "model_module": "@jupyter-widgets/controls",
          "model_module_version": "1.5.0",
          "model_name": "DescriptionStyleModel",
          "state": {
            "_model_module": "@jupyter-widgets/controls",
            "_model_module_version": "1.5.0",
            "_model_name": "DescriptionStyleModel",
            "_view_count": null,
            "_view_module": "@jupyter-widgets/base",
            "_view_module_version": "1.2.0",
            "_view_name": "StyleView",
            "description_width": ""
          }
        },
        "ad43c4e866744c4b8a93fdd3dbd7c8a8": {
          "model_module": "@jupyter-widgets/controls",
          "model_module_version": "1.5.0",
          "model_name": "DescriptionStyleModel",
          "state": {
            "_model_module": "@jupyter-widgets/controls",
            "_model_module_version": "1.5.0",
            "_model_name": "DescriptionStyleModel",
            "_view_count": null,
            "_view_module": "@jupyter-widgets/base",
            "_view_module_version": "1.2.0",
            "_view_name": "StyleView",
            "description_width": ""
          }
        },
        "ada7a908725d4820899fdc44a5ca86f3": {
          "model_module": "@jupyter-widgets/base",
          "model_module_version": "1.2.0",
          "model_name": "LayoutModel",
          "state": {
            "_model_module": "@jupyter-widgets/base",
            "_model_module_version": "1.2.0",
            "_model_name": "LayoutModel",
            "_view_count": null,
            "_view_module": "@jupyter-widgets/base",
            "_view_module_version": "1.2.0",
            "_view_name": "LayoutView",
            "align_content": null,
            "align_items": null,
            "align_self": null,
            "border": null,
            "bottom": null,
            "display": null,
            "flex": null,
            "flex_flow": null,
            "grid_area": null,
            "grid_auto_columns": null,
            "grid_auto_flow": null,
            "grid_auto_rows": null,
            "grid_column": null,
            "grid_gap": null,
            "grid_row": null,
            "grid_template_areas": null,
            "grid_template_columns": null,
            "grid_template_rows": null,
            "height": null,
            "justify_content": null,
            "justify_items": null,
            "left": null,
            "margin": null,
            "max_height": null,
            "max_width": null,
            "min_height": null,
            "min_width": null,
            "object_fit": null,
            "object_position": null,
            "order": null,
            "overflow": null,
            "overflow_x": null,
            "overflow_y": null,
            "padding": null,
            "right": null,
            "top": null,
            "visibility": null,
            "width": null
          }
        },
        "b170767164914f85ac9b36603110873d": {
          "model_module": "@jupyter-widgets/controls",
          "model_module_version": "1.5.0",
          "model_name": "HTMLModel",
          "state": {
            "_dom_classes": [],
            "_model_module": "@jupyter-widgets/controls",
            "_model_module_version": "1.5.0",
            "_model_name": "HTMLModel",
            "_view_count": null,
            "_view_module": "@jupyter-widgets/controls",
            "_view_module_version": "1.5.0",
            "_view_name": "HTMLView",
            "description": "",
            "description_tooltip": null,
            "layout": "IPY_MODEL_390a76bb59ef49788c84187f6047c1c3",
            "placeholder": "​",
            "style": "IPY_MODEL_e3a0a5f1fa6e4a3fadbf92d336bc719d",
            "value": " 12835/12835 [40:18&lt;00:00,  5.31it/s]"
          }
        },
        "b2fd2fdd2c884f32afc53df2d82c514e": {
          "model_module": "@jupyter-widgets/controls",
          "model_module_version": "1.5.0",
          "model_name": "HBoxModel",
          "state": {
            "_dom_classes": [],
            "_model_module": "@jupyter-widgets/controls",
            "_model_module_version": "1.5.0",
            "_model_name": "HBoxModel",
            "_view_count": null,
            "_view_module": "@jupyter-widgets/controls",
            "_view_module_version": "1.5.0",
            "_view_name": "HBoxView",
            "box_style": "",
            "children": [
              "IPY_MODEL_79e886601b8c4287a23aad05c045742e",
              "IPY_MODEL_25e95d4ad6424e238224fc7301c545ec",
              "IPY_MODEL_42670a4957ae4ad38cc93d9076d85f3e"
            ],
            "layout": "IPY_MODEL_1e870fe3fe4e48b9918465a4dcf87be2"
          }
        },
        "b5f3eda2ecaf46e9ac55abbc2bbc14fe": {
          "model_module": "@jupyter-widgets/base",
          "model_module_version": "1.2.0",
          "model_name": "LayoutModel",
          "state": {
            "_model_module": "@jupyter-widgets/base",
            "_model_module_version": "1.2.0",
            "_model_name": "LayoutModel",
            "_view_count": null,
            "_view_module": "@jupyter-widgets/base",
            "_view_module_version": "1.2.0",
            "_view_name": "LayoutView",
            "align_content": null,
            "align_items": null,
            "align_self": null,
            "border": null,
            "bottom": null,
            "display": null,
            "flex": null,
            "flex_flow": null,
            "grid_area": null,
            "grid_auto_columns": null,
            "grid_auto_flow": null,
            "grid_auto_rows": null,
            "grid_column": null,
            "grid_gap": null,
            "grid_row": null,
            "grid_template_areas": null,
            "grid_template_columns": null,
            "grid_template_rows": null,
            "height": null,
            "justify_content": null,
            "justify_items": null,
            "left": null,
            "margin": null,
            "max_height": null,
            "max_width": null,
            "min_height": null,
            "min_width": null,
            "object_fit": null,
            "object_position": null,
            "order": null,
            "overflow": null,
            "overflow_x": null,
            "overflow_y": null,
            "padding": null,
            "right": null,
            "top": null,
            "visibility": null,
            "width": null
          }
        },
        "bea58d7d8a8e4272bc51b1ea87342dc4": {
          "model_module": "@jupyter-widgets/controls",
          "model_module_version": "1.5.0",
          "model_name": "FloatProgressModel",
          "state": {
            "_dom_classes": [],
            "_model_module": "@jupyter-widgets/controls",
            "_model_module_version": "1.5.0",
            "_model_name": "FloatProgressModel",
            "_view_count": null,
            "_view_module": "@jupyter-widgets/controls",
            "_view_module_version": "1.5.0",
            "_view_name": "ProgressView",
            "bar_style": "success",
            "description": "",
            "description_tooltip": null,
            "layout": "IPY_MODEL_11f1e03ebcc14cb994542f84d477ebb3",
            "max": 38461,
            "min": 0,
            "orientation": "horizontal",
            "style": "IPY_MODEL_d1db361a945140989b411e83cde02315",
            "value": 38461
          }
        },
        "c2a8e44bba374532a37f9c69f523cf22": {
          "model_module": "@jupyter-widgets/controls",
          "model_module_version": "1.5.0",
          "model_name": "HTMLModel",
          "state": {
            "_dom_classes": [],
            "_model_module": "@jupyter-widgets/controls",
            "_model_module_version": "1.5.0",
            "_model_name": "HTMLModel",
            "_view_count": null,
            "_view_module": "@jupyter-widgets/controls",
            "_view_module_version": "1.5.0",
            "_view_name": "HTMLView",
            "description": "",
            "description_tooltip": null,
            "layout": "IPY_MODEL_4295b9b0b5f74359b34998ec4a354330",
            "placeholder": "​",
            "style": "IPY_MODEL_6f3b2e7fc4aa4ddba98279aad4c8ea12",
            "value": " 9852/9852 [00:17&lt;00:00, 552.01it/s]"
          }
        },
        "c58c932570b64929bce827e5eb64402e": {
          "model_module": "@jupyter-widgets/base",
          "model_module_version": "1.2.0",
          "model_name": "LayoutModel",
          "state": {
            "_model_module": "@jupyter-widgets/base",
            "_model_module_version": "1.2.0",
            "_model_name": "LayoutModel",
            "_view_count": null,
            "_view_module": "@jupyter-widgets/base",
            "_view_module_version": "1.2.0",
            "_view_name": "LayoutView",
            "align_content": null,
            "align_items": null,
            "align_self": null,
            "border": null,
            "bottom": null,
            "display": null,
            "flex": null,
            "flex_flow": null,
            "grid_area": null,
            "grid_auto_columns": null,
            "grid_auto_flow": null,
            "grid_auto_rows": null,
            "grid_column": null,
            "grid_gap": null,
            "grid_row": null,
            "grid_template_areas": null,
            "grid_template_columns": null,
            "grid_template_rows": null,
            "height": null,
            "justify_content": null,
            "justify_items": null,
            "left": null,
            "margin": null,
            "max_height": null,
            "max_width": null,
            "min_height": null,
            "min_width": null,
            "object_fit": null,
            "object_position": null,
            "order": null,
            "overflow": null,
            "overflow_x": null,
            "overflow_y": null,
            "padding": null,
            "right": null,
            "top": null,
            "visibility": null,
            "width": null
          }
        },
        "c9f1d9a84b0f4743bc1ebc7fb66d3b8b": {
          "model_module": "@jupyter-widgets/controls",
          "model_module_version": "1.5.0",
          "model_name": "ProgressStyleModel",
          "state": {
            "_model_module": "@jupyter-widgets/controls",
            "_model_module_version": "1.5.0",
            "_model_name": "ProgressStyleModel",
            "_view_count": null,
            "_view_module": "@jupyter-widgets/base",
            "_view_module_version": "1.2.0",
            "_view_name": "StyleView",
            "bar_color": null,
            "description_width": ""
          }
        },
        "ccdc9f8b4d6549afb00d3a91fc561c24": {
          "model_module": "@jupyter-widgets/controls",
          "model_module_version": "1.5.0",
          "model_name": "ProgressStyleModel",
          "state": {
            "_model_module": "@jupyter-widgets/controls",
            "_model_module_version": "1.5.0",
            "_model_name": "ProgressStyleModel",
            "_view_count": null,
            "_view_module": "@jupyter-widgets/base",
            "_view_module_version": "1.2.0",
            "_view_name": "StyleView",
            "bar_color": null,
            "description_width": ""
          }
        },
        "cce91debbb87418995bdfa8d943d99f0": {
          "model_module": "@jupyter-widgets/base",
          "model_module_version": "1.2.0",
          "model_name": "LayoutModel",
          "state": {
            "_model_module": "@jupyter-widgets/base",
            "_model_module_version": "1.2.0",
            "_model_name": "LayoutModel",
            "_view_count": null,
            "_view_module": "@jupyter-widgets/base",
            "_view_module_version": "1.2.0",
            "_view_name": "LayoutView",
            "align_content": null,
            "align_items": null,
            "align_self": null,
            "border": null,
            "bottom": null,
            "display": null,
            "flex": null,
            "flex_flow": null,
            "grid_area": null,
            "grid_auto_columns": null,
            "grid_auto_flow": null,
            "grid_auto_rows": null,
            "grid_column": null,
            "grid_gap": null,
            "grid_row": null,
            "grid_template_areas": null,
            "grid_template_columns": null,
            "grid_template_rows": null,
            "height": null,
            "justify_content": null,
            "justify_items": null,
            "left": null,
            "margin": null,
            "max_height": null,
            "max_width": null,
            "min_height": null,
            "min_width": null,
            "object_fit": null,
            "object_position": null,
            "order": null,
            "overflow": null,
            "overflow_x": null,
            "overflow_y": null,
            "padding": null,
            "right": null,
            "top": null,
            "visibility": null,
            "width": null
          }
        },
        "d0c58aeff6ad4c4f91460646c2d260b5": {
          "model_module": "@jupyter-widgets/base",
          "model_module_version": "1.2.0",
          "model_name": "LayoutModel",
          "state": {
            "_model_module": "@jupyter-widgets/base",
            "_model_module_version": "1.2.0",
            "_model_name": "LayoutModel",
            "_view_count": null,
            "_view_module": "@jupyter-widgets/base",
            "_view_module_version": "1.2.0",
            "_view_name": "LayoutView",
            "align_content": null,
            "align_items": null,
            "align_self": null,
            "border": null,
            "bottom": null,
            "display": null,
            "flex": null,
            "flex_flow": null,
            "grid_area": null,
            "grid_auto_columns": null,
            "grid_auto_flow": null,
            "grid_auto_rows": null,
            "grid_column": null,
            "grid_gap": null,
            "grid_row": null,
            "grid_template_areas": null,
            "grid_template_columns": null,
            "grid_template_rows": null,
            "height": null,
            "justify_content": null,
            "justify_items": null,
            "left": null,
            "margin": null,
            "max_height": null,
            "max_width": null,
            "min_height": null,
            "min_width": null,
            "object_fit": null,
            "object_position": null,
            "order": null,
            "overflow": null,
            "overflow_x": null,
            "overflow_y": null,
            "padding": null,
            "right": null,
            "top": null,
            "visibility": null,
            "width": null
          }
        },
        "d1db361a945140989b411e83cde02315": {
          "model_module": "@jupyter-widgets/controls",
          "model_module_version": "1.5.0",
          "model_name": "ProgressStyleModel",
          "state": {
            "_model_module": "@jupyter-widgets/controls",
            "_model_module_version": "1.5.0",
            "_model_name": "ProgressStyleModel",
            "_view_count": null,
            "_view_module": "@jupyter-widgets/base",
            "_view_module_version": "1.2.0",
            "_view_name": "StyleView",
            "bar_color": null,
            "description_width": ""
          }
        },
        "d3a1b44212734d9ba87720e92191c312": {
          "model_module": "@jupyter-widgets/controls",
          "model_module_version": "1.5.0",
          "model_name": "DescriptionStyleModel",
          "state": {
            "_model_module": "@jupyter-widgets/controls",
            "_model_module_version": "1.5.0",
            "_model_name": "DescriptionStyleModel",
            "_view_count": null,
            "_view_module": "@jupyter-widgets/base",
            "_view_module_version": "1.2.0",
            "_view_name": "StyleView",
            "description_width": ""
          }
        },
        "d659d45184ac4d75b238bae9b1259d3f": {
          "model_module": "@jupyter-widgets/controls",
          "model_module_version": "1.5.0",
          "model_name": "HTMLModel",
          "state": {
            "_dom_classes": [],
            "_model_module": "@jupyter-widgets/controls",
            "_model_module_version": "1.5.0",
            "_model_name": "HTMLModel",
            "_view_count": null,
            "_view_module": "@jupyter-widgets/controls",
            "_view_module_version": "1.5.0",
            "_view_name": "HTMLView",
            "description": "",
            "description_tooltip": null,
            "layout": "IPY_MODEL_fa8c197179c14d6782ac92180b0dbb8e",
            "placeholder": "​",
            "style": "IPY_MODEL_e5bfaa76612649e29d54c74749d85e70",
            "value": "100%"
          }
        },
        "d79e99795f5d4ae18834a58b38e03a77": {
          "model_module": "@jupyter-widgets/base",
          "model_module_version": "1.2.0",
          "model_name": "LayoutModel",
          "state": {
            "_model_module": "@jupyter-widgets/base",
            "_model_module_version": "1.2.0",
            "_model_name": "LayoutModel",
            "_view_count": null,
            "_view_module": "@jupyter-widgets/base",
            "_view_module_version": "1.2.0",
            "_view_name": "LayoutView",
            "align_content": null,
            "align_items": null,
            "align_self": null,
            "border": null,
            "bottom": null,
            "display": null,
            "flex": null,
            "flex_flow": null,
            "grid_area": null,
            "grid_auto_columns": null,
            "grid_auto_flow": null,
            "grid_auto_rows": null,
            "grid_column": null,
            "grid_gap": null,
            "grid_row": null,
            "grid_template_areas": null,
            "grid_template_columns": null,
            "grid_template_rows": null,
            "height": null,
            "justify_content": null,
            "justify_items": null,
            "left": null,
            "margin": null,
            "max_height": null,
            "max_width": null,
            "min_height": null,
            "min_width": null,
            "object_fit": null,
            "object_position": null,
            "order": null,
            "overflow": null,
            "overflow_x": null,
            "overflow_y": null,
            "padding": null,
            "right": null,
            "top": null,
            "visibility": null,
            "width": null
          }
        },
        "d7f9191794ba405bb6715c881f974be2": {
          "model_module": "@jupyter-widgets/base",
          "model_module_version": "1.2.0",
          "model_name": "LayoutModel",
          "state": {
            "_model_module": "@jupyter-widgets/base",
            "_model_module_version": "1.2.0",
            "_model_name": "LayoutModel",
            "_view_count": null,
            "_view_module": "@jupyter-widgets/base",
            "_view_module_version": "1.2.0",
            "_view_name": "LayoutView",
            "align_content": null,
            "align_items": null,
            "align_self": null,
            "border": null,
            "bottom": null,
            "display": null,
            "flex": null,
            "flex_flow": null,
            "grid_area": null,
            "grid_auto_columns": null,
            "grid_auto_flow": null,
            "grid_auto_rows": null,
            "grid_column": null,
            "grid_gap": null,
            "grid_row": null,
            "grid_template_areas": null,
            "grid_template_columns": null,
            "grid_template_rows": null,
            "height": null,
            "justify_content": null,
            "justify_items": null,
            "left": null,
            "margin": null,
            "max_height": null,
            "max_width": null,
            "min_height": null,
            "min_width": null,
            "object_fit": null,
            "object_position": null,
            "order": null,
            "overflow": null,
            "overflow_x": null,
            "overflow_y": null,
            "padding": null,
            "right": null,
            "top": null,
            "visibility": null,
            "width": null
          }
        },
        "dab2758399d64eaab41f9df1cb5972bd": {
          "model_module": "@jupyter-widgets/controls",
          "model_module_version": "1.5.0",
          "model_name": "DescriptionStyleModel",
          "state": {
            "_model_module": "@jupyter-widgets/controls",
            "_model_module_version": "1.5.0",
            "_model_name": "DescriptionStyleModel",
            "_view_count": null,
            "_view_module": "@jupyter-widgets/base",
            "_view_module_version": "1.2.0",
            "_view_name": "StyleView",
            "description_width": ""
          }
        },
        "e3a0a5f1fa6e4a3fadbf92d336bc719d": {
          "model_module": "@jupyter-widgets/controls",
          "model_module_version": "1.5.0",
          "model_name": "DescriptionStyleModel",
          "state": {
            "_model_module": "@jupyter-widgets/controls",
            "_model_module_version": "1.5.0",
            "_model_name": "DescriptionStyleModel",
            "_view_count": null,
            "_view_module": "@jupyter-widgets/base",
            "_view_module_version": "1.2.0",
            "_view_name": "StyleView",
            "description_width": ""
          }
        },
        "e5bfaa76612649e29d54c74749d85e70": {
          "model_module": "@jupyter-widgets/controls",
          "model_module_version": "1.5.0",
          "model_name": "DescriptionStyleModel",
          "state": {
            "_model_module": "@jupyter-widgets/controls",
            "_model_module_version": "1.5.0",
            "_model_name": "DescriptionStyleModel",
            "_view_count": null,
            "_view_module": "@jupyter-widgets/base",
            "_view_module_version": "1.2.0",
            "_view_name": "StyleView",
            "description_width": ""
          }
        },
        "e7d38052fe494c219d598dfeefe2156f": {
          "model_module": "@jupyter-widgets/controls",
          "model_module_version": "1.5.0",
          "model_name": "HBoxModel",
          "state": {
            "_dom_classes": [],
            "_model_module": "@jupyter-widgets/controls",
            "_model_module_version": "1.5.0",
            "_model_name": "HBoxModel",
            "_view_count": null,
            "_view_module": "@jupyter-widgets/controls",
            "_view_module_version": "1.5.0",
            "_view_name": "HBoxView",
            "box_style": "",
            "children": [
              "IPY_MODEL_8375c493577c49f0888670fd37a8694f",
              "IPY_MODEL_bea58d7d8a8e4272bc51b1ea87342dc4",
              "IPY_MODEL_a00d31e755774dbd8910157eb00e5f7b"
            ],
            "layout": "IPY_MODEL_2c7aae901f5049c88201c15a8bb70e81"
          }
        },
        "eeef0ac01a4d42839270152dd85c84f5": {
          "model_module": "@jupyter-widgets/base",
          "model_module_version": "1.2.0",
          "model_name": "LayoutModel",
          "state": {
            "_model_module": "@jupyter-widgets/base",
            "_model_module_version": "1.2.0",
            "_model_name": "LayoutModel",
            "_view_count": null,
            "_view_module": "@jupyter-widgets/base",
            "_view_module_version": "1.2.0",
            "_view_name": "LayoutView",
            "align_content": null,
            "align_items": null,
            "align_self": null,
            "border": null,
            "bottom": null,
            "display": null,
            "flex": null,
            "flex_flow": null,
            "grid_area": null,
            "grid_auto_columns": null,
            "grid_auto_flow": null,
            "grid_auto_rows": null,
            "grid_column": null,
            "grid_gap": null,
            "grid_row": null,
            "grid_template_areas": null,
            "grid_template_columns": null,
            "grid_template_rows": null,
            "height": null,
            "justify_content": null,
            "justify_items": null,
            "left": null,
            "margin": null,
            "max_height": null,
            "max_width": null,
            "min_height": null,
            "min_width": null,
            "object_fit": null,
            "object_position": null,
            "order": null,
            "overflow": null,
            "overflow_x": null,
            "overflow_y": null,
            "padding": null,
            "right": null,
            "top": null,
            "visibility": null,
            "width": null
          }
        },
        "f026b03cda8d44a082035f54c836a733": {
          "model_module": "@jupyter-widgets/controls",
          "model_module_version": "1.5.0",
          "model_name": "HTMLModel",
          "state": {
            "_dom_classes": [],
            "_model_module": "@jupyter-widgets/controls",
            "_model_module_version": "1.5.0",
            "_model_name": "HTMLModel",
            "_view_count": null,
            "_view_module": "@jupyter-widgets/controls",
            "_view_module_version": "1.5.0",
            "_view_name": "HTMLView",
            "description": "",
            "description_tooltip": null,
            "layout": "IPY_MODEL_690f9a34fbb64ad483fd0a4f1af3513e",
            "placeholder": "​",
            "style": "IPY_MODEL_d3a1b44212734d9ba87720e92191c312",
            "value": "Downloading: 100%"
          }
        },
        "f2376456e5ca4950a9c85aac3b184e10": {
          "model_module": "@jupyter-widgets/base",
          "model_module_version": "1.2.0",
          "model_name": "LayoutModel",
          "state": {
            "_model_module": "@jupyter-widgets/base",
            "_model_module_version": "1.2.0",
            "_model_name": "LayoutModel",
            "_view_count": null,
            "_view_module": "@jupyter-widgets/base",
            "_view_module_version": "1.2.0",
            "_view_name": "LayoutView",
            "align_content": null,
            "align_items": null,
            "align_self": null,
            "border": null,
            "bottom": null,
            "display": null,
            "flex": null,
            "flex_flow": null,
            "grid_area": null,
            "grid_auto_columns": null,
            "grid_auto_flow": null,
            "grid_auto_rows": null,
            "grid_column": null,
            "grid_gap": null,
            "grid_row": null,
            "grid_template_areas": null,
            "grid_template_columns": null,
            "grid_template_rows": null,
            "height": null,
            "justify_content": null,
            "justify_items": null,
            "left": null,
            "margin": null,
            "max_height": null,
            "max_width": null,
            "min_height": null,
            "min_width": null,
            "object_fit": null,
            "object_position": null,
            "order": null,
            "overflow": null,
            "overflow_x": null,
            "overflow_y": null,
            "padding": null,
            "right": null,
            "top": null,
            "visibility": null,
            "width": null
          }
        },
        "f6f4f3d029f44b2da6dbfe2873cbfe97": {
          "model_module": "@jupyter-widgets/controls",
          "model_module_version": "1.5.0",
          "model_name": "HBoxModel",
          "state": {
            "_dom_classes": [],
            "_model_module": "@jupyter-widgets/controls",
            "_model_module_version": "1.5.0",
            "_model_name": "HBoxModel",
            "_view_count": null,
            "_view_module": "@jupyter-widgets/controls",
            "_view_module_version": "1.5.0",
            "_view_name": "HBoxView",
            "box_style": "",
            "children": [
              "IPY_MODEL_d659d45184ac4d75b238bae9b1259d3f",
              "IPY_MODEL_07128ab681ce4623a913cd4f4c725303",
              "IPY_MODEL_2ccefff2aa6b4b968f5da5cff83e7a42"
            ],
            "layout": "IPY_MODEL_68518afc617c4c4081abb1529df7e68d"
          }
        },
        "f9ad3ae607f949ea9ff107c283aed8ed": {
          "model_module": "@jupyter-widgets/controls",
          "model_module_version": "1.5.0",
          "model_name": "FloatProgressModel",
          "state": {
            "_dom_classes": [],
            "_model_module": "@jupyter-widgets/controls",
            "_model_module_version": "1.5.0",
            "_model_name": "FloatProgressModel",
            "_view_count": null,
            "_view_module": "@jupyter-widgets/controls",
            "_view_module_version": "1.5.0",
            "_view_name": "ProgressView",
            "bar_style": "success",
            "description": "",
            "description_tooltip": null,
            "layout": "IPY_MODEL_36c0a21a46b243d4ac8af1aabc1e9c79",
            "max": 15598,
            "min": 0,
            "orientation": "horizontal",
            "style": "IPY_MODEL_7e44c8c151c6447fa7d0632364a2a72e",
            "value": 15598
          }
        },
        "fa8c197179c14d6782ac92180b0dbb8e": {
          "model_module": "@jupyter-widgets/base",
          "model_module_version": "1.2.0",
          "model_name": "LayoutModel",
          "state": {
            "_model_module": "@jupyter-widgets/base",
            "_model_module_version": "1.2.0",
            "_model_name": "LayoutModel",
            "_view_count": null,
            "_view_module": "@jupyter-widgets/base",
            "_view_module_version": "1.2.0",
            "_view_name": "LayoutView",
            "align_content": null,
            "align_items": null,
            "align_self": null,
            "border": null,
            "bottom": null,
            "display": null,
            "flex": null,
            "flex_flow": null,
            "grid_area": null,
            "grid_auto_columns": null,
            "grid_auto_flow": null,
            "grid_auto_rows": null,
            "grid_column": null,
            "grid_gap": null,
            "grid_row": null,
            "grid_template_areas": null,
            "grid_template_columns": null,
            "grid_template_rows": null,
            "height": null,
            "justify_content": null,
            "justify_items": null,
            "left": null,
            "margin": null,
            "max_height": null,
            "max_width": null,
            "min_height": null,
            "min_width": null,
            "object_fit": null,
            "object_position": null,
            "order": null,
            "overflow": null,
            "overflow_x": null,
            "overflow_y": null,
            "padding": null,
            "right": null,
            "top": null,
            "visibility": null,
            "width": null
          }
        },
        "fc0e29aaa69343ceb27567be88979ed2": {
          "model_module": "@jupyter-widgets/controls",
          "model_module_version": "1.5.0",
          "model_name": "FloatProgressModel",
          "state": {
            "_dom_classes": [],
            "_model_module": "@jupyter-widgets/controls",
            "_model_module_version": "1.5.0",
            "_model_name": "FloatProgressModel",
            "_view_count": null,
            "_view_module": "@jupyter-widgets/controls",
            "_view_module_version": "1.5.0",
            "_view_name": "ProgressView",
            "bar_style": "success",
            "description": "",
            "description_tooltip": null,
            "layout": "IPY_MODEL_8c8a73e943ed4b7191726c5b8b1e173a",
            "max": 44236,
            "min": 0,
            "orientation": "horizontal",
            "style": "IPY_MODEL_2acb969c41c84a209b0194f9eaf57ac1",
            "value": 44236
          }
        },
        "fe85484b95604f2291543aec427a3eac": {
          "model_module": "@jupyter-widgets/base",
          "model_module_version": "1.2.0",
          "model_name": "LayoutModel",
          "state": {
            "_model_module": "@jupyter-widgets/base",
            "_model_module_version": "1.2.0",
            "_model_name": "LayoutModel",
            "_view_count": null,
            "_view_module": "@jupyter-widgets/base",
            "_view_module_version": "1.2.0",
            "_view_name": "LayoutView",
            "align_content": null,
            "align_items": null,
            "align_self": null,
            "border": null,
            "bottom": null,
            "display": null,
            "flex": null,
            "flex_flow": null,
            "grid_area": null,
            "grid_auto_columns": null,
            "grid_auto_flow": null,
            "grid_auto_rows": null,
            "grid_column": null,
            "grid_gap": null,
            "grid_row": null,
            "grid_template_areas": null,
            "grid_template_columns": null,
            "grid_template_rows": null,
            "height": null,
            "justify_content": null,
            "justify_items": null,
            "left": null,
            "margin": null,
            "max_height": null,
            "max_width": null,
            "min_height": null,
            "min_width": null,
            "object_fit": null,
            "object_position": null,
            "order": null,
            "overflow": null,
            "overflow_x": null,
            "overflow_y": null,
            "padding": null,
            "right": null,
            "top": null,
            "visibility": null,
            "width": null
          }
        },
        "ff2232e03db44ed0ad0bf0f2e630f335": {
          "model_module": "@jupyter-widgets/controls",
          "model_module_version": "1.5.0",
          "model_name": "HBoxModel",
          "state": {
            "_dom_classes": [],
            "_model_module": "@jupyter-widgets/controls",
            "_model_module_version": "1.5.0",
            "_model_name": "HBoxModel",
            "_view_count": null,
            "_view_module": "@jupyter-widgets/controls",
            "_view_module_version": "1.5.0",
            "_view_name": "HBoxView",
            "box_style": "",
            "children": [
              "IPY_MODEL_082f645b31bc40d0a3dcf67b61059fb0",
              "IPY_MODEL_208d968a213e4e829cec9a2a0e469ee6",
              "IPY_MODEL_c2a8e44bba374532a37f9c69f523cf22"
            ],
            "layout": "IPY_MODEL_fe85484b95604f2291543aec427a3eac"
          }
        }
      }
    }
  },
  "nbformat": 4,
  "nbformat_minor": 0
}
